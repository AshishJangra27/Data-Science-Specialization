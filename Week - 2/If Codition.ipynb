{
 "cells": [
  {
   "cell_type": "markdown",
   "id": "5928c385",
   "metadata": {},
   "source": [
    "## 1. Checking Voting Eligibility"
   ]
  },
  {
   "cell_type": "code",
   "execution_count": 17,
   "id": "59b7d9f2",
   "metadata": {
    "scrolled": true
   },
   "outputs": [
    {
     "name": "stdout",
     "output_type": "stream",
     "text": [
      "You can't vote!\n"
     ]
    }
   ],
   "source": [
    "age = 16\n",
    "\n",
    "if(age >= 18):\n",
    "    print('You can vote!')\n",
    "    \n",
    "if(age < 18):\n",
    "    print(\"You can't vote!\")"
   ]
  },
  {
   "cell_type": "markdown",
   "id": "8515be47",
   "metadata": {},
   "source": [
    "## 2. Odd/Even"
   ]
  },
  {
   "cell_type": "code",
   "execution_count": 32,
   "id": "58027760",
   "metadata": {},
   "outputs": [
    {
     "name": "stdout",
     "output_type": "stream",
     "text": [
      "Even\n"
     ]
    }
   ],
   "source": [
    "num = 20\n",
    "\n",
    "if(num%2 == 0):\n",
    "    print(\"Even\")\n",
    "    \n",
    "if(num%2 == 1):\n",
    "    print(\"ODD\")"
   ]
  },
  {
   "cell_type": "code",
   "execution_count": 42,
   "id": "c31261bc",
   "metadata": {},
   "outputs": [
    {
     "name": "stdout",
     "output_type": "stream",
     "text": [
      "This is a program to find if a number is even or odd\n",
      "Enter a number: 67\n",
      "ODD\n"
     ]
    }
   ],
   "source": [
    "print(\"This is a program to find if a number is even or odd\")\n",
    "\n",
    "num = int(input(\"Enter a number: \"))\n",
    "\n",
    "if(num%2 == 0):\n",
    "    print(\"Even\")\n",
    "    \n",
    "if(num%2 == 1):\n",
    "    print(\"ODD\")"
   ]
  }
 ],
 "metadata": {
  "kernelspec": {
   "display_name": "Python 3 (ipykernel)",
   "language": "python",
   "name": "python3"
  },
  "language_info": {
   "codemirror_mode": {
    "name": "ipython",
    "version": 3
   },
   "file_extension": ".py",
   "mimetype": "text/x-python",
   "name": "python",
   "nbconvert_exporter": "python",
   "pygments_lexer": "ipython3",
   "version": "3.9.7"
  }
 },
 "nbformat": 4,
 "nbformat_minor": 5
}
