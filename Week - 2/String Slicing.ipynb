{
 "cells": [
  {
   "cell_type": "code",
   "execution_count": 1,
   "id": "24940d1a",
   "metadata": {},
   "outputs": [],
   "source": [
    "name = 'Ashish Jangra'"
   ]
  },
  {
   "cell_type": "code",
   "execution_count": 2,
   "id": "5122f4b3",
   "metadata": {},
   "outputs": [
    {
     "data": {
      "text/plain": [
       "'Ashish Jangra'"
      ]
     },
     "execution_count": 2,
     "metadata": {},
     "output_type": "execute_result"
    }
   ],
   "source": [
    "name"
   ]
  },
  {
   "cell_type": "code",
   "execution_count": 13,
   "id": "112ac012",
   "metadata": {},
   "outputs": [
    {
     "data": {
      "text/plain": [
       "'Ashish'"
      ]
     },
     "execution_count": 13,
     "metadata": {},
     "output_type": "execute_result"
    }
   ],
   "source": [
    "name[0:6]"
   ]
  },
  {
   "cell_type": "code",
   "execution_count": 14,
   "id": "d7395ac0",
   "metadata": {},
   "outputs": [
    {
     "data": {
      "text/plain": [
       "'Ashi'"
      ]
     },
     "execution_count": 14,
     "metadata": {},
     "output_type": "execute_result"
    }
   ],
   "source": [
    "name[0:4]"
   ]
  },
  {
   "cell_type": "code",
   "execution_count": 16,
   "id": "4ce85879",
   "metadata": {},
   "outputs": [
    {
     "data": {
      "text/plain": [
       "'Ashish '"
      ]
     },
     "execution_count": 16,
     "metadata": {},
     "output_type": "execute_result"
    }
   ],
   "source": [
    "name[0:7]"
   ]
  },
  {
   "cell_type": "code",
   "execution_count": 18,
   "id": "a606d5b0",
   "metadata": {},
   "outputs": [
    {
     "data": {
      "text/plain": [
       "'Ashish'"
      ]
     },
     "execution_count": 18,
     "metadata": {},
     "output_type": "execute_result"
    }
   ],
   "source": [
    "name[ : 6]"
   ]
  },
  {
   "cell_type": "code",
   "execution_count": 19,
   "id": "3595fb76",
   "metadata": {},
   "outputs": [
    {
     "data": {
      "text/plain": [
       "'Ashish Jangra'"
      ]
     },
     "execution_count": 19,
     "metadata": {},
     "output_type": "execute_result"
    }
   ],
   "source": [
    "name[ : ]"
   ]
  },
  {
   "cell_type": "code",
   "execution_count": 20,
   "id": "a3b5b0ae",
   "metadata": {},
   "outputs": [
    {
     "data": {
      "text/plain": [
       "'hish'"
      ]
     },
     "execution_count": 20,
     "metadata": {},
     "output_type": "execute_result"
    }
   ],
   "source": [
    "name[ 2:6 ]"
   ]
  },
  {
   "cell_type": "code",
   "execution_count": 23,
   "id": "b6b9f0f4",
   "metadata": {},
   "outputs": [
    {
     "data": {
      "text/plain": [
       "'A'"
      ]
     },
     "execution_count": 23,
     "metadata": {},
     "output_type": "execute_result"
    }
   ],
   "source": [
    "name[ : 1]"
   ]
  },
  {
   "cell_type": "code",
   "execution_count": 24,
   "id": "5f239137",
   "metadata": {},
   "outputs": [
    {
     "data": {
      "text/plain": [
       "'Ashish Jangr'"
      ]
     },
     "execution_count": 24,
     "metadata": {},
     "output_type": "execute_result"
    }
   ],
   "source": [
    "name[ : -1]"
   ]
  },
  {
   "cell_type": "code",
   "execution_count": 26,
   "id": "0b3a6b09",
   "metadata": {},
   "outputs": [
    {
     "data": {
      "text/plain": [
       "'shish Jangr'"
      ]
     },
     "execution_count": 26,
     "metadata": {},
     "output_type": "execute_result"
    }
   ],
   "source": [
    "name[ 1:-1 ]"
   ]
  },
  {
   "cell_type": "code",
   "execution_count": 27,
   "id": "c84b6ca7",
   "metadata": {},
   "outputs": [
    {
     "data": {
      "text/plain": [
       "'hish Jang'"
      ]
     },
     "execution_count": 27,
     "metadata": {},
     "output_type": "execute_result"
    }
   ],
   "source": [
    "name[ 2:-2 ]"
   ]
  },
  {
   "cell_type": "code",
   "execution_count": 37,
   "id": "0f28ea92",
   "metadata": {},
   "outputs": [
    {
     "data": {
      "text/plain": [
       "'Ashish'"
      ]
     },
     "execution_count": 37,
     "metadata": {},
     "output_type": "execute_result"
    }
   ],
   "source": [
    "'ashish'.capitalize()"
   ]
  },
  {
   "cell_type": "code",
   "execution_count": 38,
   "id": "7e521c05",
   "metadata": {},
   "outputs": [
    {
     "data": {
      "text/plain": [
       "'ASHISH'"
      ]
     },
     "execution_count": 38,
     "metadata": {},
     "output_type": "execute_result"
    }
   ],
   "source": [
    "'ashish'.upper()"
   ]
  },
  {
   "cell_type": "code",
   "execution_count": 39,
   "id": "d8632328",
   "metadata": {},
   "outputs": [
    {
     "data": {
      "text/plain": [
       "'ashish'"
      ]
     },
     "execution_count": 39,
     "metadata": {},
     "output_type": "execute_result"
    }
   ],
   "source": [
    "'Ashish'.lower()"
   ]
  },
  {
   "cell_type": "code",
   "execution_count": 43,
   "id": "4e083c69",
   "metadata": {},
   "outputs": [
    {
     "data": {
      "text/plain": [
       "0"
      ]
     },
     "execution_count": 43,
     "metadata": {},
     "output_type": "execute_result"
    }
   ],
   "source": [
    "'Ashish'.count('j')"
   ]
  },
  {
   "cell_type": "code",
   "execution_count": 45,
   "id": "f370dafd",
   "metadata": {},
   "outputs": [
    {
     "data": {
      "text/plain": [
       "'Ashish Jangra'"
      ]
     },
     "execution_count": 45,
     "metadata": {},
     "output_type": "execute_result"
    }
   ],
   "source": [
    "'    Ashish Jangra      '.strip()"
   ]
  },
  {
   "cell_type": "code",
   "execution_count": 51,
   "id": "88cf989f",
   "metadata": {},
   "outputs": [
    {
     "data": {
      "text/plain": [
       "'Ashish Jangra Dsfjsdjk Fhsdk Fksdk Fsd'"
      ]
     },
     "execution_count": 51,
     "metadata": {},
     "output_type": "execute_result"
    }
   ],
   "source": [
    "'ashish jangra'.title()"
   ]
  },
  {
   "cell_type": "code",
   "execution_count": 50,
   "id": "c6f4f17e",
   "metadata": {},
   "outputs": [
    {
     "data": {
      "text/plain": [
       "'Ashish jangra fjdsjkf jsdhfk dhsk fksdhfk '"
      ]
     },
     "execution_count": 50,
     "metadata": {},
     "output_type": "execute_result"
    }
   ],
   "source": [
    "'ashish jangra'.capitalize()"
   ]
  }
 ],
 "metadata": {
  "kernelspec": {
   "display_name": "Python 3 (ipykernel)",
   "language": "python",
   "name": "python3"
  },
  "language_info": {
   "codemirror_mode": {
    "name": "ipython",
    "version": 3
   },
   "file_extension": ".py",
   "mimetype": "text/x-python",
   "name": "python",
   "nbconvert_exporter": "python",
   "pygments_lexer": "ipython3",
   "version": "3.9.7"
  }
 },
 "nbformat": 4,
 "nbformat_minor": 5
}
