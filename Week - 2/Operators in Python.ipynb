{
 "cells": [
  {
   "cell_type": "code",
   "execution_count": 14,
   "id": "59b7d9f2",
   "metadata": {},
   "outputs": [],
   "source": [
    "age = 18"
   ]
  },
  {
   "cell_type": "code",
   "execution_count": 10,
   "id": "58027760",
   "metadata": {},
   "outputs": [
    {
     "data": {
      "text/plain": [
       "False"
      ]
     },
     "execution_count": 10,
     "metadata": {},
     "output_type": "execute_result"
    }
   ],
   "source": [
    "age > 20"
   ]
  },
  {
   "cell_type": "code",
   "execution_count": 11,
   "id": "c31261bc",
   "metadata": {},
   "outputs": [
    {
     "data": {
      "text/plain": [
       "True"
      ]
     },
     "execution_count": 11,
     "metadata": {},
     "output_type": "execute_result"
    }
   ],
   "source": [
    "age < 20"
   ]
  },
  {
   "cell_type": "code",
   "execution_count": 15,
   "id": "fa537378",
   "metadata": {},
   "outputs": [
    {
     "data": {
      "text/plain": [
       "True"
      ]
     },
     "execution_count": 15,
     "metadata": {},
     "output_type": "execute_result"
    }
   ],
   "source": [
    "age = 30\n",
    "\n",
    "age >= 18"
   ]
  },
  {
   "cell_type": "code",
   "execution_count": 16,
   "id": "1d9209d4",
   "metadata": {},
   "outputs": [
    {
     "data": {
      "text/plain": [
       "False"
      ]
     },
     "execution_count": 16,
     "metadata": {},
     "output_type": "execute_result"
    }
   ],
   "source": [
    "age <= 18"
   ]
  },
  {
   "cell_type": "code",
   "execution_count": 17,
   "id": "cb4c71b5",
   "metadata": {},
   "outputs": [
    {
     "data": {
      "text/plain": [
       "False"
      ]
     },
     "execution_count": 17,
     "metadata": {},
     "output_type": "execute_result"
    }
   ],
   "source": [
    "age == 18"
   ]
  },
  {
   "cell_type": "code",
   "execution_count": 18,
   "id": "d4ef8630",
   "metadata": {},
   "outputs": [
    {
     "data": {
      "text/plain": [
       "True"
      ]
     },
     "execution_count": 18,
     "metadata": {},
     "output_type": "execute_result"
    }
   ],
   "source": [
    "age != 18"
   ]
  },
  {
   "cell_type": "code",
   "execution_count": 24,
   "id": "78786fc5",
   "metadata": {},
   "outputs": [
    {
     "data": {
      "text/plain": [
       "True"
      ]
     },
     "execution_count": 24,
     "metadata": {},
     "output_type": "execute_result"
    }
   ],
   "source": [
    "age >= 18"
   ]
  },
  {
   "cell_type": "code",
   "execution_count": 33,
   "id": "de849254",
   "metadata": {},
   "outputs": [
    {
     "data": {
      "text/plain": [
       "True"
      ]
     },
     "execution_count": 33,
     "metadata": {},
     "output_type": "execute_result"
    }
   ],
   "source": [
    "# age (18-25)\n",
    "\n",
    "age = 25\n",
    "\n",
    "(age >= 18) and (age <= 25)"
   ]
  },
  {
   "cell_type": "code",
   "execution_count": 40,
   "id": "11dbdd99",
   "metadata": {},
   "outputs": [
    {
     "data": {
      "text/plain": [
       "True"
      ]
     },
     "execution_count": 40,
     "metadata": {},
     "output_type": "execute_result"
    }
   ],
   "source": [
    "age = -10\n",
    "\n",
    "#  -18] : [25-\n",
    "\n",
    "(age <= 18) or (age >= 25)"
   ]
  },
  {
   "cell_type": "code",
   "execution_count": null,
   "id": "c4087280",
   "metadata": {},
   "outputs": [],
   "source": []
  }
 ],
 "metadata": {
  "kernelspec": {
   "display_name": "Python 3 (ipykernel)",
   "language": "python",
   "name": "python3"
  },
  "language_info": {
   "codemirror_mode": {
    "name": "ipython",
    "version": 3
   },
   "file_extension": ".py",
   "mimetype": "text/x-python",
   "name": "python",
   "nbconvert_exporter": "python",
   "pygments_lexer": "ipython3",
   "version": "3.9.7"
  }
 },
 "nbformat": 4,
 "nbformat_minor": 5
}
