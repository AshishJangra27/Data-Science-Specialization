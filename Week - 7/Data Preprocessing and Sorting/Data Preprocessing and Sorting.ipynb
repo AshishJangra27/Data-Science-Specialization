{
 "cells": [
  {
   "cell_type": "code",
   "execution_count": 1,
   "id": "b01d6ac5",
   "metadata": {},
   "outputs": [],
   "source": [
    "import pandas as pd"
   ]
  },
  {
   "cell_type": "code",
   "execution_count": 90,
   "id": "99559bb9",
   "metadata": {},
   "outputs": [],
   "source": [
    "df = pd.read_csv('Final.csv')"
   ]
  },
  {
   "cell_type": "code",
   "execution_count": 91,
   "id": "891fa23e",
   "metadata": {},
   "outputs": [
    {
     "data": {
      "text/html": [
       "<div>\n",
       "<style scoped>\n",
       "    .dataframe tbody tr th:only-of-type {\n",
       "        vertical-align: middle;\n",
       "    }\n",
       "\n",
       "    .dataframe tbody tr th {\n",
       "        vertical-align: top;\n",
       "    }\n",
       "\n",
       "    .dataframe thead th {\n",
       "        text-align: right;\n",
       "    }\n",
       "</style>\n",
       "<table border=\"1\" class=\"dataframe\">\n",
       "  <thead>\n",
       "    <tr style=\"text-align: right;\">\n",
       "      <th></th>\n",
       "      <th>name</th>\n",
       "      <th>eng</th>\n",
       "      <th>hin</th>\n",
       "      <th>mth</th>\n",
       "      <th>sci</th>\n",
       "    </tr>\n",
       "  </thead>\n",
       "  <tbody>\n",
       "    <tr>\n",
       "      <th>0</th>\n",
       "      <td>Ashish</td>\n",
       "      <td>45.0</td>\n",
       "      <td>65.0</td>\n",
       "      <td>76.0</td>\n",
       "      <td>78.0</td>\n",
       "    </tr>\n",
       "    <tr>\n",
       "      <th>1</th>\n",
       "      <td>Raj</td>\n",
       "      <td>65.0</td>\n",
       "      <td>45.0</td>\n",
       "      <td>65.0</td>\n",
       "      <td>76.0</td>\n",
       "    </tr>\n",
       "    <tr>\n",
       "      <th>2</th>\n",
       "      <td>Rohini</td>\n",
       "      <td>65.0</td>\n",
       "      <td>67.0</td>\n",
       "      <td>6.0</td>\n",
       "      <td>55.0</td>\n",
       "    </tr>\n",
       "    <tr>\n",
       "      <th>3</th>\n",
       "      <td>Rakesh</td>\n",
       "      <td>65.0</td>\n",
       "      <td>66.0</td>\n",
       "      <td>77.0</td>\n",
       "      <td>88.0</td>\n",
       "    </tr>\n",
       "    <tr>\n",
       "      <th>4</th>\n",
       "      <td>Rajesh</td>\n",
       "      <td>88.0</td>\n",
       "      <td>77.0</td>\n",
       "      <td>87.0</td>\n",
       "      <td>89.0</td>\n",
       "    </tr>\n",
       "    <tr>\n",
       "      <th>5</th>\n",
       "      <td>Manish</td>\n",
       "      <td>65.0</td>\n",
       "      <td>45.0</td>\n",
       "      <td>45.0</td>\n",
       "      <td>45.0</td>\n",
       "    </tr>\n",
       "    <tr>\n",
       "      <th>6</th>\n",
       "      <td>Manoj</td>\n",
       "      <td>45.0</td>\n",
       "      <td>66.0</td>\n",
       "      <td>88.0</td>\n",
       "      <td>56.0</td>\n",
       "    </tr>\n",
       "    <tr>\n",
       "      <th>7</th>\n",
       "      <td>Suraj</td>\n",
       "      <td>55.0</td>\n",
       "      <td>45.0</td>\n",
       "      <td>76.0</td>\n",
       "      <td>87.0</td>\n",
       "    </tr>\n",
       "    <tr>\n",
       "      <th>8</th>\n",
       "      <td>Sumit</td>\n",
       "      <td>66.0</td>\n",
       "      <td>77.0</td>\n",
       "      <td>45.0</td>\n",
       "      <td>89.0</td>\n",
       "    </tr>\n",
       "    <tr>\n",
       "      <th>9</th>\n",
       "      <td>Ratish</td>\n",
       "      <td>66.0</td>\n",
       "      <td>55.0</td>\n",
       "      <td>66.0</td>\n",
       "      <td>45.0</td>\n",
       "    </tr>\n",
       "    <tr>\n",
       "      <th>10</th>\n",
       "      <td>Tanisha</td>\n",
       "      <td>77.0</td>\n",
       "      <td>66.0</td>\n",
       "      <td>56.0</td>\n",
       "      <td>87.0</td>\n",
       "    </tr>\n",
       "    <tr>\n",
       "      <th>11</th>\n",
       "      <td>Anonymous</td>\n",
       "      <td>98.0</td>\n",
       "      <td>89.0</td>\n",
       "      <td>98.0</td>\n",
       "      <td>88.0</td>\n",
       "    </tr>\n",
       "    <tr>\n",
       "      <th>12</th>\n",
       "      <td>Anonymous</td>\n",
       "      <td>22.0</td>\n",
       "      <td>23.0</td>\n",
       "      <td>34.0</td>\n",
       "      <td>32.0</td>\n",
       "    </tr>\n",
       "  </tbody>\n",
       "</table>\n",
       "</div>"
      ],
      "text/plain": [
       "         name   eng   hin   mth   sci\n",
       "0      Ashish  45.0  65.0  76.0  78.0\n",
       "1         Raj  65.0  45.0  65.0  76.0\n",
       "2      Rohini  65.0  67.0   6.0  55.0\n",
       "3      Rakesh  65.0  66.0  77.0  88.0\n",
       "4      Rajesh  88.0  77.0  87.0  89.0\n",
       "5      Manish  65.0  45.0  45.0  45.0\n",
       "6       Manoj  45.0  66.0  88.0  56.0\n",
       "7       Suraj  55.0  45.0  76.0  87.0\n",
       "8       Sumit  66.0  77.0  45.0  89.0\n",
       "9      Ratish  66.0  55.0  66.0  45.0\n",
       "10    Tanisha  77.0  66.0  56.0  87.0\n",
       "11  Anonymous  98.0  89.0  98.0  88.0\n",
       "12  Anonymous  22.0  23.0  34.0  32.0"
      ]
     },
     "execution_count": 91,
     "metadata": {},
     "output_type": "execute_result"
    }
   ],
   "source": [
    "df"
   ]
  },
  {
   "cell_type": "code",
   "execution_count": 25,
   "id": "6661792d",
   "metadata": {},
   "outputs": [],
   "source": [
    "def typecast(col_name):\n",
    "\n",
    "    lst = []\n",
    "    for i in df[col_name]:\n",
    "        lst.append(int(i))    \n",
    "    df[col_name] = lst"
   ]
  },
  {
   "cell_type": "code",
   "execution_count": 26,
   "id": "4a4d0ee5",
   "metadata": {},
   "outputs": [],
   "source": [
    "typecast('eng')\n",
    "typecast('mth')\n",
    "typecast('hin')\n",
    "typecast('sci')"
   ]
  },
  {
   "cell_type": "code",
   "execution_count": 27,
   "id": "0054703a",
   "metadata": {
    "scrolled": false
   },
   "outputs": [
    {
     "data": {
      "text/html": [
       "<div>\n",
       "<style scoped>\n",
       "    .dataframe tbody tr th:only-of-type {\n",
       "        vertical-align: middle;\n",
       "    }\n",
       "\n",
       "    .dataframe tbody tr th {\n",
       "        vertical-align: top;\n",
       "    }\n",
       "\n",
       "    .dataframe thead th {\n",
       "        text-align: right;\n",
       "    }\n",
       "</style>\n",
       "<table border=\"1\" class=\"dataframe\">\n",
       "  <thead>\n",
       "    <tr style=\"text-align: right;\">\n",
       "      <th></th>\n",
       "      <th>name</th>\n",
       "      <th>eng</th>\n",
       "      <th>hin</th>\n",
       "      <th>mth</th>\n",
       "      <th>sci</th>\n",
       "    </tr>\n",
       "  </thead>\n",
       "  <tbody>\n",
       "    <tr>\n",
       "      <th>0</th>\n",
       "      <td>Ashish</td>\n",
       "      <td>45</td>\n",
       "      <td>65</td>\n",
       "      <td>76</td>\n",
       "      <td>78</td>\n",
       "    </tr>\n",
       "    <tr>\n",
       "      <th>1</th>\n",
       "      <td>Raj</td>\n",
       "      <td>65</td>\n",
       "      <td>45</td>\n",
       "      <td>65</td>\n",
       "      <td>76</td>\n",
       "    </tr>\n",
       "    <tr>\n",
       "      <th>2</th>\n",
       "      <td>Rohini</td>\n",
       "      <td>65</td>\n",
       "      <td>67</td>\n",
       "      <td>6</td>\n",
       "      <td>55</td>\n",
       "    </tr>\n",
       "    <tr>\n",
       "      <th>3</th>\n",
       "      <td>Rakesh</td>\n",
       "      <td>65</td>\n",
       "      <td>66</td>\n",
       "      <td>77</td>\n",
       "      <td>88</td>\n",
       "    </tr>\n",
       "    <tr>\n",
       "      <th>4</th>\n",
       "      <td>Rajesh</td>\n",
       "      <td>88</td>\n",
       "      <td>77</td>\n",
       "      <td>87</td>\n",
       "      <td>89</td>\n",
       "    </tr>\n",
       "    <tr>\n",
       "      <th>5</th>\n",
       "      <td>Manish</td>\n",
       "      <td>65</td>\n",
       "      <td>45</td>\n",
       "      <td>45</td>\n",
       "      <td>45</td>\n",
       "    </tr>\n",
       "    <tr>\n",
       "      <th>6</th>\n",
       "      <td>Manoj</td>\n",
       "      <td>45</td>\n",
       "      <td>66</td>\n",
       "      <td>88</td>\n",
       "      <td>56</td>\n",
       "    </tr>\n",
       "    <tr>\n",
       "      <th>7</th>\n",
       "      <td>Suraj</td>\n",
       "      <td>55</td>\n",
       "      <td>45</td>\n",
       "      <td>76</td>\n",
       "      <td>87</td>\n",
       "    </tr>\n",
       "    <tr>\n",
       "      <th>8</th>\n",
       "      <td>Sumit</td>\n",
       "      <td>66</td>\n",
       "      <td>77</td>\n",
       "      <td>45</td>\n",
       "      <td>89</td>\n",
       "    </tr>\n",
       "    <tr>\n",
       "      <th>9</th>\n",
       "      <td>Ratish</td>\n",
       "      <td>66</td>\n",
       "      <td>55</td>\n",
       "      <td>66</td>\n",
       "      <td>45</td>\n",
       "    </tr>\n",
       "    <tr>\n",
       "      <th>10</th>\n",
       "      <td>Tanisha</td>\n",
       "      <td>77</td>\n",
       "      <td>66</td>\n",
       "      <td>56</td>\n",
       "      <td>87</td>\n",
       "    </tr>\n",
       "    <tr>\n",
       "      <th>11</th>\n",
       "      <td>Anonymous</td>\n",
       "      <td>98</td>\n",
       "      <td>89</td>\n",
       "      <td>98</td>\n",
       "      <td>88</td>\n",
       "    </tr>\n",
       "    <tr>\n",
       "      <th>12</th>\n",
       "      <td>Anonymous</td>\n",
       "      <td>22</td>\n",
       "      <td>23</td>\n",
       "      <td>34</td>\n",
       "      <td>32</td>\n",
       "    </tr>\n",
       "  </tbody>\n",
       "</table>\n",
       "</div>"
      ],
      "text/plain": [
       "         name  eng  hin  mth  sci\n",
       "0      Ashish   45   65   76   78\n",
       "1         Raj   65   45   65   76\n",
       "2      Rohini   65   67    6   55\n",
       "3      Rakesh   65   66   77   88\n",
       "4      Rajesh   88   77   87   89\n",
       "5      Manish   65   45   45   45\n",
       "6       Manoj   45   66   88   56\n",
       "7       Suraj   55   45   76   87\n",
       "8       Sumit   66   77   45   89\n",
       "9      Ratish   66   55   66   45\n",
       "10    Tanisha   77   66   56   87\n",
       "11  Anonymous   98   89   98   88\n",
       "12  Anonymous   22   23   34   32"
      ]
     },
     "execution_count": 27,
     "metadata": {},
     "output_type": "execute_result"
    }
   ],
   "source": [
    "df"
   ]
  },
  {
   "cell_type": "markdown",
   "id": "6e252004",
   "metadata": {},
   "source": [
    "## Adding New data into the dataframe"
   ]
  },
  {
   "cell_type": "code",
   "execution_count": 60,
   "id": "2997d201",
   "metadata": {},
   "outputs": [
    {
     "data": {
      "text/plain": [
       "251"
      ]
     },
     "execution_count": 60,
     "metadata": {},
     "output_type": "execute_result"
    }
   ],
   "source": [
    "df.iloc[ 1 , 1: ].sum()"
   ]
  },
  {
   "cell_type": "code",
   "execution_count": 67,
   "id": "906e6cd6",
   "metadata": {},
   "outputs": [],
   "source": [
    "total = []\n",
    "avg = []\n",
    "\n",
    "for i in range(len(df)):\n",
    "    total.append(df.iloc[i, 1:].sum())\n",
    "    avg.append(df.iloc[i, 1:].sum()/4)"
   ]
  },
  {
   "cell_type": "code",
   "execution_count": 68,
   "id": "8f5a527e",
   "metadata": {},
   "outputs": [
    {
     "data": {
      "text/plain": [
       "[264, 251, 193, 296, 341, 200, 255, 263, 277, 232, 286, 373, 111]"
      ]
     },
     "execution_count": 68,
     "metadata": {},
     "output_type": "execute_result"
    }
   ],
   "source": [
    "total"
   ]
  },
  {
   "cell_type": "code",
   "execution_count": 69,
   "id": "40438b80",
   "metadata": {},
   "outputs": [
    {
     "data": {
      "text/plain": [
       "[66.0,\n",
       " 62.75,\n",
       " 48.25,\n",
       " 74.0,\n",
       " 85.25,\n",
       " 50.0,\n",
       " 63.75,\n",
       " 65.75,\n",
       " 69.25,\n",
       " 58.0,\n",
       " 71.5,\n",
       " 93.25,\n",
       " 27.75]"
      ]
     },
     "execution_count": 69,
     "metadata": {},
     "output_type": "execute_result"
    }
   ],
   "source": [
    "avg"
   ]
  },
  {
   "cell_type": "code",
   "execution_count": 71,
   "id": "e6a08934",
   "metadata": {},
   "outputs": [],
   "source": [
    "df['total'] = total"
   ]
  },
  {
   "cell_type": "code",
   "execution_count": 72,
   "id": "6b1aee05",
   "metadata": {},
   "outputs": [],
   "source": [
    "df['avg'] = avg"
   ]
  },
  {
   "cell_type": "code",
   "execution_count": 73,
   "id": "f4f0d1c0",
   "metadata": {},
   "outputs": [
    {
     "data": {
      "text/html": [
       "<div>\n",
       "<style scoped>\n",
       "    .dataframe tbody tr th:only-of-type {\n",
       "        vertical-align: middle;\n",
       "    }\n",
       "\n",
       "    .dataframe tbody tr th {\n",
       "        vertical-align: top;\n",
       "    }\n",
       "\n",
       "    .dataframe thead th {\n",
       "        text-align: right;\n",
       "    }\n",
       "</style>\n",
       "<table border=\"1\" class=\"dataframe\">\n",
       "  <thead>\n",
       "    <tr style=\"text-align: right;\">\n",
       "      <th></th>\n",
       "      <th>name</th>\n",
       "      <th>eng</th>\n",
       "      <th>hin</th>\n",
       "      <th>mth</th>\n",
       "      <th>sci</th>\n",
       "      <th>total</th>\n",
       "      <th>avg</th>\n",
       "    </tr>\n",
       "  </thead>\n",
       "  <tbody>\n",
       "    <tr>\n",
       "      <th>0</th>\n",
       "      <td>Ashish</td>\n",
       "      <td>45</td>\n",
       "      <td>65</td>\n",
       "      <td>76</td>\n",
       "      <td>78</td>\n",
       "      <td>264</td>\n",
       "      <td>66.00</td>\n",
       "    </tr>\n",
       "    <tr>\n",
       "      <th>1</th>\n",
       "      <td>Raj</td>\n",
       "      <td>65</td>\n",
       "      <td>45</td>\n",
       "      <td>65</td>\n",
       "      <td>76</td>\n",
       "      <td>251</td>\n",
       "      <td>62.75</td>\n",
       "    </tr>\n",
       "    <tr>\n",
       "      <th>2</th>\n",
       "      <td>Rohini</td>\n",
       "      <td>65</td>\n",
       "      <td>67</td>\n",
       "      <td>6</td>\n",
       "      <td>55</td>\n",
       "      <td>193</td>\n",
       "      <td>48.25</td>\n",
       "    </tr>\n",
       "    <tr>\n",
       "      <th>3</th>\n",
       "      <td>Rakesh</td>\n",
       "      <td>65</td>\n",
       "      <td>66</td>\n",
       "      <td>77</td>\n",
       "      <td>88</td>\n",
       "      <td>296</td>\n",
       "      <td>74.00</td>\n",
       "    </tr>\n",
       "    <tr>\n",
       "      <th>4</th>\n",
       "      <td>Rajesh</td>\n",
       "      <td>88</td>\n",
       "      <td>77</td>\n",
       "      <td>87</td>\n",
       "      <td>89</td>\n",
       "      <td>341</td>\n",
       "      <td>85.25</td>\n",
       "    </tr>\n",
       "    <tr>\n",
       "      <th>5</th>\n",
       "      <td>Manish</td>\n",
       "      <td>65</td>\n",
       "      <td>45</td>\n",
       "      <td>45</td>\n",
       "      <td>45</td>\n",
       "      <td>200</td>\n",
       "      <td>50.00</td>\n",
       "    </tr>\n",
       "    <tr>\n",
       "      <th>6</th>\n",
       "      <td>Manoj</td>\n",
       "      <td>45</td>\n",
       "      <td>66</td>\n",
       "      <td>88</td>\n",
       "      <td>56</td>\n",
       "      <td>255</td>\n",
       "      <td>63.75</td>\n",
       "    </tr>\n",
       "    <tr>\n",
       "      <th>7</th>\n",
       "      <td>Suraj</td>\n",
       "      <td>55</td>\n",
       "      <td>45</td>\n",
       "      <td>76</td>\n",
       "      <td>87</td>\n",
       "      <td>263</td>\n",
       "      <td>65.75</td>\n",
       "    </tr>\n",
       "    <tr>\n",
       "      <th>8</th>\n",
       "      <td>Sumit</td>\n",
       "      <td>66</td>\n",
       "      <td>77</td>\n",
       "      <td>45</td>\n",
       "      <td>89</td>\n",
       "      <td>277</td>\n",
       "      <td>69.25</td>\n",
       "    </tr>\n",
       "    <tr>\n",
       "      <th>9</th>\n",
       "      <td>Ratish</td>\n",
       "      <td>66</td>\n",
       "      <td>55</td>\n",
       "      <td>66</td>\n",
       "      <td>45</td>\n",
       "      <td>232</td>\n",
       "      <td>58.00</td>\n",
       "    </tr>\n",
       "    <tr>\n",
       "      <th>10</th>\n",
       "      <td>Tanisha</td>\n",
       "      <td>77</td>\n",
       "      <td>66</td>\n",
       "      <td>56</td>\n",
       "      <td>87</td>\n",
       "      <td>286</td>\n",
       "      <td>71.50</td>\n",
       "    </tr>\n",
       "    <tr>\n",
       "      <th>11</th>\n",
       "      <td>Anonymous</td>\n",
       "      <td>98</td>\n",
       "      <td>89</td>\n",
       "      <td>98</td>\n",
       "      <td>88</td>\n",
       "      <td>373</td>\n",
       "      <td>93.25</td>\n",
       "    </tr>\n",
       "    <tr>\n",
       "      <th>12</th>\n",
       "      <td>Anonymous</td>\n",
       "      <td>22</td>\n",
       "      <td>23</td>\n",
       "      <td>34</td>\n",
       "      <td>32</td>\n",
       "      <td>111</td>\n",
       "      <td>27.75</td>\n",
       "    </tr>\n",
       "  </tbody>\n",
       "</table>\n",
       "</div>"
      ],
      "text/plain": [
       "         name  eng  hin  mth  sci  total    avg\n",
       "0      Ashish   45   65   76   78    264  66.00\n",
       "1         Raj   65   45   65   76    251  62.75\n",
       "2      Rohini   65   67    6   55    193  48.25\n",
       "3      Rakesh   65   66   77   88    296  74.00\n",
       "4      Rajesh   88   77   87   89    341  85.25\n",
       "5      Manish   65   45   45   45    200  50.00\n",
       "6       Manoj   45   66   88   56    255  63.75\n",
       "7       Suraj   55   45   76   87    263  65.75\n",
       "8       Sumit   66   77   45   89    277  69.25\n",
       "9      Ratish   66   55   66   45    232  58.00\n",
       "10    Tanisha   77   66   56   87    286  71.50\n",
       "11  Anonymous   98   89   98   88    373  93.25\n",
       "12  Anonymous   22   23   34   32    111  27.75"
      ]
     },
     "execution_count": 73,
     "metadata": {},
     "output_type": "execute_result"
    }
   ],
   "source": [
    "df"
   ]
  },
  {
   "cell_type": "markdown",
   "id": "65776cc2",
   "metadata": {},
   "source": [
    "## Sorting Students data based on marks"
   ]
  },
  {
   "cell_type": "code",
   "execution_count": 80,
   "id": "c491285d",
   "metadata": {},
   "outputs": [],
   "source": [
    "df_pr = df.sort_values(by = 'total', ascending = False).head()"
   ]
  },
  {
   "cell_type": "markdown",
   "id": "53579c26",
   "metadata": {},
   "source": [
    "## Toppers in Exam based on Marks"
   ]
  },
  {
   "cell_type": "code",
   "execution_count": 83,
   "id": "82b91597",
   "metadata": {},
   "outputs": [],
   "source": [
    "df_pr.to_csv('Topper_in_Exam.csv',index = False)"
   ]
  },
  {
   "cell_type": "markdown",
   "id": "2319a2c2",
   "metadata": {},
   "source": [
    "## Toppers in English exam based on marks"
   ]
  },
  {
   "cell_type": "code",
   "execution_count": 84,
   "id": "61fc3cf5",
   "metadata": {},
   "outputs": [],
   "source": [
    "df_pr = df.sort_values(by = 'eng', ascending = False).head()\n",
    "df_pr.to_csv('Topper_in_English.csv',index = False)"
   ]
  },
  {
   "cell_type": "markdown",
   "id": "ed731bf3",
   "metadata": {},
   "source": [
    "## Toppers in Hindi exam based on marks"
   ]
  },
  {
   "cell_type": "code",
   "execution_count": 85,
   "id": "b7f255c4",
   "metadata": {},
   "outputs": [],
   "source": [
    "df_pr = df.sort_values(by = 'hin', ascending = False).head()\n",
    "df_pr.to_csv('Topper_in_Hindi.csv',index = False)"
   ]
  },
  {
   "cell_type": "markdown",
   "id": "e00e8ca0",
   "metadata": {},
   "source": [
    "## Toppers in Maths exam based on marks"
   ]
  },
  {
   "cell_type": "code",
   "execution_count": 86,
   "id": "7dc81bc2",
   "metadata": {},
   "outputs": [],
   "source": [
    "df_pr = df.sort_values(by = 'mth', ascending = False).head()\n",
    "df_pr.to_csv('Topper_in_Maths.csv',index = False)"
   ]
  },
  {
   "cell_type": "markdown",
   "id": "30938831",
   "metadata": {},
   "source": [
    "## Toppers in Science exam based on marks"
   ]
  },
  {
   "cell_type": "code",
   "execution_count": 87,
   "id": "7ce6f11c",
   "metadata": {},
   "outputs": [],
   "source": [
    "df_pr = df.sort_values(by = 'sci', ascending = False).head()\n",
    "df_pr.to_csv('Topper_in_Science.csv',index = False)"
   ]
  },
  {
   "cell_type": "markdown",
   "id": "c80f5893",
   "metadata": {},
   "source": [
    "## Saving Final Dataset"
   ]
  },
  {
   "cell_type": "code",
   "execution_count": 89,
   "id": "1a6eb75e",
   "metadata": {},
   "outputs": [],
   "source": [
    "df.to_csv('Marks.csv',index = False)"
   ]
  }
 ],
 "metadata": {
  "kernelspec": {
   "display_name": "Python 3 (ipykernel)",
   "language": "python",
   "name": "python3"
  },
  "language_info": {
   "codemirror_mode": {
    "name": "ipython",
    "version": 3
   },
   "file_extension": ".py",
   "mimetype": "text/x-python",
   "name": "python",
   "nbconvert_exporter": "python",
   "pygments_lexer": "ipython3",
   "version": "3.9.7"
  }
 },
 "nbformat": 4,
 "nbformat_minor": 5
}
