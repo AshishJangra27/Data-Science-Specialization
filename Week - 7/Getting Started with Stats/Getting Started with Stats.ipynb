{
 "cells": [
  {
   "cell_type": "code",
   "execution_count": 1,
   "id": "c8f860de",
   "metadata": {},
   "outputs": [],
   "source": [
    "import numpy as np\n",
    "import pandas as pd"
   ]
  },
  {
   "cell_type": "code",
   "execution_count": 119,
   "id": "79f5bffb",
   "metadata": {},
   "outputs": [],
   "source": [
    "df = pd.read_csv('Marks.csv')"
   ]
  },
  {
   "cell_type": "code",
   "execution_count": 7,
   "id": "043224e6",
   "metadata": {
    "scrolled": true
   },
   "outputs": [],
   "source": [
    "data = list(df['eng'])"
   ]
  },
  {
   "cell_type": "markdown",
   "id": "afb9f9e3",
   "metadata": {},
   "source": [
    "## 1. Mean"
   ]
  },
  {
   "cell_type": "code",
   "execution_count": 18,
   "id": "39b71411",
   "metadata": {},
   "outputs": [],
   "source": [
    "def mean(data):\n",
    "\n",
    "    total = 0\n",
    "    for i in data:\n",
    "        total = total + i\n",
    "        \n",
    "    return int(total/ len(data))"
   ]
  },
  {
   "cell_type": "code",
   "execution_count": 29,
   "id": "3d141b8d",
   "metadata": {},
   "outputs": [
    {
     "name": "stdout",
     "output_type": "stream",
     "text": [
      "Eng : 63\n",
      "Hin : 60\n",
      "Sci : 70\n",
      "Math: 63\n"
     ]
    }
   ],
   "source": [
    "print(\"Eng :\", mean(list(df['eng'])))\n",
    "print(\"Hin :\", mean(list(df['hin'])))\n",
    "print(\"Sci :\", mean(list(df['sci'])))\n",
    "print(\"Math:\", mean(list(df['mth'])))"
   ]
  },
  {
   "cell_type": "markdown",
   "id": "40329254",
   "metadata": {},
   "source": [
    "## 2. Median"
   ]
  },
  {
   "cell_type": "code",
   "execution_count": 32,
   "id": "84ff424a",
   "metadata": {},
   "outputs": [
    {
     "data": {
      "text/plain": [
       "[45, 65, 65, 65, 88, 65, 45, 55, 66, 66, 77, 98, 22]"
      ]
     },
     "execution_count": 32,
     "metadata": {},
     "output_type": "execute_result"
    }
   ],
   "source": [
    "data"
   ]
  },
  {
   "cell_type": "code",
   "execution_count": 33,
   "id": "fcb9f7cf",
   "metadata": {},
   "outputs": [],
   "source": [
    "data = list(np.sort(data))"
   ]
  },
  {
   "cell_type": "code",
   "execution_count": 34,
   "id": "377e13ee",
   "metadata": {},
   "outputs": [
    {
     "data": {
      "text/plain": [
       "[22, 45, 45, 55, 65, 65, 65, 65, 66, 66, 77, 88, 98]"
      ]
     },
     "execution_count": 34,
     "metadata": {},
     "output_type": "execute_result"
    }
   ],
   "source": [
    "data"
   ]
  },
  {
   "cell_type": "code",
   "execution_count": 38,
   "id": "a557df34",
   "metadata": {},
   "outputs": [
    {
     "data": {
      "text/plain": [
       "65"
      ]
     },
     "execution_count": 38,
     "metadata": {},
     "output_type": "execute_result"
    }
   ],
   "source": [
    "data[len(data)//2]"
   ]
  },
  {
   "cell_type": "code",
   "execution_count": 47,
   "id": "0cd54a42",
   "metadata": {},
   "outputs": [],
   "source": [
    "lst = [1,2,3,4,5]"
   ]
  },
  {
   "cell_type": "code",
   "execution_count": 48,
   "id": "8be22ffb",
   "metadata": {},
   "outputs": [
    {
     "data": {
      "text/plain": [
       "[1, 2, 3, 4, 5]"
      ]
     },
     "execution_count": 48,
     "metadata": {},
     "output_type": "execute_result"
    }
   ],
   "source": [
    "lst"
   ]
  },
  {
   "cell_type": "code",
   "execution_count": 66,
   "id": "3d48b1c0",
   "metadata": {},
   "outputs": [],
   "source": [
    "def median(lst):\n",
    "    lst = list(np.sort(lst))\n",
    "    if (len(lst) % 2 == 0):\n",
    "        return (lst[len(lst)//2 - 1] + lst[len(lst)//2])/2\n",
    "    else:\n",
    "        return lst[len(lst)//2]"
   ]
  },
  {
   "cell_type": "code",
   "execution_count": 70,
   "id": "50107c22",
   "metadata": {},
   "outputs": [
    {
     "name": "stdout",
     "output_type": "stream",
     "text": [
      "Eng : 65\n",
      "Hin : 66\n",
      "Sci : 78\n",
      "Math: 66\n"
     ]
    }
   ],
   "source": [
    "print(\"Eng :\", median(list(df['eng'])))\n",
    "print(\"Hin :\", median(list(df['hin'])))\n",
    "print(\"Sci :\", median(list(df['sci'])))\n",
    "print(\"Math:\", median(list(df['mth'])))"
   ]
  },
  {
   "cell_type": "markdown",
   "id": "10094483",
   "metadata": {},
   "source": [
    "## 3.1) Mode"
   ]
  },
  {
   "cell_type": "code",
   "execution_count": 118,
   "id": "3c081651",
   "metadata": {},
   "outputs": [],
   "source": [
    "def mode(lst):\n",
    "\n",
    "    frq = []\n",
    "    for i in set(lst):\n",
    "        frq.append([i,lst.count(i)])\n",
    "\n",
    "    df_pr = pd.DataFrame(frq, columns = ['number','freq'])\n",
    "    \n",
    "    return df_pr.sort_values(by = 'freq', ascending = False).head(1).values[0][0]"
   ]
  },
  {
   "cell_type": "code",
   "execution_count": 120,
   "id": "e9cb0819",
   "metadata": {
    "scrolled": true
   },
   "outputs": [
    {
     "name": "stdout",
     "output_type": "stream",
     "text": [
      "Eng : 65\n",
      "Hin : 66\n",
      "Sci : 45\n",
      "Math: 76\n"
     ]
    }
   ],
   "source": [
    "print(\"Eng :\", mode(list(df['eng'])))\n",
    "print(\"Hin :\", mode(list(df['hin'])))\n",
    "print(\"Sci :\", mode(list(df['sci'])))\n",
    "print(\"Math:\", mode(list(df['mth'])))"
   ]
  },
  {
   "cell_type": "markdown",
   "id": "49246e92",
   "metadata": {},
   "source": [
    "## 3.2) Mode (using Dictionaries)"
   ]
  },
  {
   "cell_type": "code",
   "execution_count": 184,
   "id": "6e0de806",
   "metadata": {},
   "outputs": [],
   "source": [
    "def mode_(lst):\n",
    "    \n",
    "    dct = {}\n",
    "\n",
    "    for i in lst:\n",
    "        if (i not in dct.keys()):\n",
    "            dct[i] = 1    \n",
    "        else:\n",
    "            dct[i] = dct[i] + 1\n",
    "\n",
    "    num = dct.keys()\n",
    "    freq = dct.values()\n",
    "\n",
    "    df_pr = pd.DataFrame([list(num),list(freq)])\n",
    "    \n",
    "    return df_pr.T.sort_values(by = 1, ascending = False).head(1).values[0][0]"
   ]
  },
  {
   "cell_type": "code",
   "execution_count": 187,
   "id": "40de0752",
   "metadata": {},
   "outputs": [
    {
     "name": "stdout",
     "output_type": "stream",
     "text": [
      "Eng : 65\n",
      "Hin : 45\n",
      "Sci : 88\n",
      "Math: 76\n"
     ]
    }
   ],
   "source": [
    "print(\"Eng :\", mode_(list(df['eng'])))\n",
    "print(\"Hin :\", mode_(list(df['hin'])))\n",
    "print(\"Sci :\", mode_(list(df['sci'])))\n",
    "print(\"Math:\", mode_(list(df['mth'])))"
   ]
  },
  {
   "cell_type": "code",
   "execution_count": null,
   "id": "6204d44f",
   "metadata": {},
   "outputs": [],
   "source": []
  }
 ],
 "metadata": {
  "kernelspec": {
   "display_name": "Python 3 (ipykernel)",
   "language": "python",
   "name": "python3"
  },
  "language_info": {
   "codemirror_mode": {
    "name": "ipython",
    "version": 3
   },
   "file_extension": ".py",
   "mimetype": "text/x-python",
   "name": "python",
   "nbconvert_exporter": "python",
   "pygments_lexer": "ipython3",
   "version": "3.9.7"
  }
 },
 "nbformat": 4,
 "nbformat_minor": 5
}
