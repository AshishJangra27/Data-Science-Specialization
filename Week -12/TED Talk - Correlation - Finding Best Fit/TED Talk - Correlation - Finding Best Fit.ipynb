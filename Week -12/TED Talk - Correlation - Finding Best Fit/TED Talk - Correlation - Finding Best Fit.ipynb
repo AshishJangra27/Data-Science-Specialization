{
 "cells": [
  {
   "cell_type": "code",
   "execution_count": 28,
   "id": "ff56435f",
   "metadata": {},
   "outputs": [
    {
     "data": {
      "text/html": [
       "<div>\n",
       "<style scoped>\n",
       "    .dataframe tbody tr th:only-of-type {\n",
       "        vertical-align: middle;\n",
       "    }\n",
       "\n",
       "    .dataframe tbody tr th {\n",
       "        vertical-align: top;\n",
       "    }\n",
       "\n",
       "    .dataframe thead th {\n",
       "        text-align: right;\n",
       "    }\n",
       "</style>\n",
       "<table border=\"1\" class=\"dataframe\">\n",
       "  <thead>\n",
       "    <tr style=\"text-align: right;\">\n",
       "      <th></th>\n",
       "      <th>duration</th>\n",
       "      <th>title</th>\n",
       "      <th>views</th>\n",
       "      <th>likes</th>\n",
       "      <th>comments</th>\n",
       "      <th>date</th>\n",
       "      <th>month</th>\n",
       "      <th>year</th>\n",
       "      <th>day</th>\n",
       "    </tr>\n",
       "  </thead>\n",
       "  <tbody>\n",
       "    <tr>\n",
       "      <th>0</th>\n",
       "      <td>10</td>\n",
       "      <td>The Future Will Be Shaped by Optimists | Kevin...</td>\n",
       "      <td>51273</td>\n",
       "      <td>1900</td>\n",
       "      <td>262</td>\n",
       "      <td>21</td>\n",
       "      <td>4</td>\n",
       "      <td>2022</td>\n",
       "      <td>Thu</td>\n",
       "    </tr>\n",
       "    <tr>\n",
       "      <th>1</th>\n",
       "      <td>9</td>\n",
       "      <td>An Olympic Champion’s Unwavering Advocacy for ...</td>\n",
       "      <td>25597</td>\n",
       "      <td>355</td>\n",
       "      <td>53</td>\n",
       "      <td>20</td>\n",
       "      <td>4</td>\n",
       "      <td>2022</td>\n",
       "      <td>Wed</td>\n",
       "    </tr>\n",
       "    <tr>\n",
       "      <th>2</th>\n",
       "      <td>7</td>\n",
       "      <td>The African Swamp Protecting Earth's Environme...</td>\n",
       "      <td>21430</td>\n",
       "      <td>633</td>\n",
       "      <td>40</td>\n",
       "      <td>20</td>\n",
       "      <td>4</td>\n",
       "      <td>2022</td>\n",
       "      <td>Wed</td>\n",
       "    </tr>\n",
       "    <tr>\n",
       "      <th>5</th>\n",
       "      <td>7</td>\n",
       "      <td>Ukraine's Fight to Keep Educating Its Children...</td>\n",
       "      <td>38252</td>\n",
       "      <td>1200</td>\n",
       "      <td>225</td>\n",
       "      <td>14</td>\n",
       "      <td>4</td>\n",
       "      <td>2022</td>\n",
       "      <td>Thu</td>\n",
       "    </tr>\n",
       "    <tr>\n",
       "      <th>6</th>\n",
       "      <td>8</td>\n",
       "      <td>Why Entrepreneurship Flourishes in The Country...</td>\n",
       "      <td>32369</td>\n",
       "      <td>449</td>\n",
       "      <td>95</td>\n",
       "      <td>14</td>\n",
       "      <td>4</td>\n",
       "      <td>2022</td>\n",
       "      <td>Thu</td>\n",
       "    </tr>\n",
       "  </tbody>\n",
       "</table>\n",
       "</div>"
      ],
      "text/plain": [
       "   duration                                              title  views  likes  \\\n",
       "0        10  The Future Will Be Shaped by Optimists | Kevin...  51273   1900   \n",
       "1         9  An Olympic Champion’s Unwavering Advocacy for ...  25597    355   \n",
       "2         7  The African Swamp Protecting Earth's Environme...  21430    633   \n",
       "5         7  Ukraine's Fight to Keep Educating Its Children...  38252   1200   \n",
       "6         8  Why Entrepreneurship Flourishes in The Country...  32369    449   \n",
       "\n",
       "   comments  date  month  year  day  \n",
       "0       262    21      4  2022  Thu  \n",
       "1        53    20      4  2022  Wed  \n",
       "2        40    20      4  2022  Wed  \n",
       "5       225    14      4  2022  Thu  \n",
       "6        95    14      4  2022  Thu  "
      ]
     },
     "execution_count": 28,
     "metadata": {},
     "output_type": "execute_result"
    }
   ],
   "source": [
    "import numpy as np\n",
    "import pandas as pd\n",
    "from tqdm import tqdm\n",
    "import matplotlib.pyplot as plt\n",
    "\n",
    "df = pd.read_csv('TED_Preprocessed.csv')\n",
    "\n",
    "df = df[df['views'] < 100000]\n",
    "\n",
    "del df['video_link']\n",
    "del df['date_month_year']\n",
    "\n",
    "df.head()"
   ]
  },
  {
   "cell_type": "markdown",
   "id": "03416f20",
   "metadata": {},
   "source": [
    "#### 1. Analysing - Likes"
   ]
  },
  {
   "cell_type": "code",
   "execution_count": 29,
   "id": "fa77f7ea",
   "metadata": {},
   "outputs": [
    {
     "name": "stdout",
     "output_type": "stream",
     "text": [
      "Minimum :  36\n",
      "Maximum :  7200\n",
      "Average :  1131\n"
     ]
    }
   ],
   "source": [
    "print(\"Minimum : \", min(df['likes']))\n",
    "print(\"Maximum : \", max(df['likes']))\n",
    "print(\"Average : \", int(df['likes'].mean()))"
   ]
  },
  {
   "cell_type": "code",
   "execution_count": 30,
   "id": "3c26e4a9",
   "metadata": {},
   "outputs": [
    {
     "data": {
      "image/png": "[encoded data removed]",
      "text/plain": [
       "<Figure size 720x288 with 1 Axes>"
      ]
     },
     "metadata": {
      "needs_background": "light"
     },
     "output_type": "display_data"
    }
   ],
   "source": [
    "fig ,ax = plt.subplots(figsize = (10,4))\n",
    "\n",
    "ax.hist(df['likes'], bins = 100)\n",
    "\n",
    "plt.title('Number of likes distribution based on Videos')\n",
    "\n",
    "plt.xlabel('Likes')\n",
    "plt.ylabel('Videos')\n",
    "\n",
    "plt.show()"
   ]
  },
  {
   "cell_type": "markdown",
   "id": "a3f6a6cd",
   "metadata": {},
   "source": [
    "#### 2. Analysing - Views"
   ]
  },
  {
   "cell_type": "code",
   "execution_count": 31,
   "id": "3b42fa6e",
   "metadata": {},
   "outputs": [
    {
     "name": "stdout",
     "output_type": "stream",
     "text": [
      "Minimum :  5699\n",
      "Maximum :  99997\n",
      "Average :  56947\n"
     ]
    }
   ],
   "source": [
    "print(\"Minimum : \", min(df['views']))\n",
    "print(\"Maximum : \", max(df['views']))\n",
    "print(\"Average : \", int(df['views'].mean()))"
   ]
  },
  {
   "cell_type": "code",
   "execution_count": 32,
   "id": "fde4d113",
   "metadata": {},
   "outputs": [
    {
     "data": {
      "image/png": "[encoded data removed]",
      "text/plain": [
       "<Figure size 720x288 with 1 Axes>"
      ]
     },
     "metadata": {
      "needs_background": "light"
     },
     "output_type": "display_data"
    }
   ],
   "source": [
    "fig ,ax = plt.subplots(figsize = (10,4))\n",
    "\n",
    "ax.hist(df['views'], bins = 100)\n",
    "\n",
    "plt.title('Number of views distribution based on Videos')\n",
    "\n",
    "plt.xlabel(\"Views in K's\")\n",
    "plt.ylabel('Number of Videos')\n",
    "\n",
    "plt.show()"
   ]
  },
  {
   "cell_type": "markdown",
   "id": "25003cbb",
   "metadata": {},
   "source": [
    "#### 3. Analysing - Comments"
   ]
  },
  {
   "cell_type": "code",
   "execution_count": 33,
   "id": "e4fb7254",
   "metadata": {},
   "outputs": [
    {
     "name": "stdout",
     "output_type": "stream",
     "text": [
      "Minimum :  2\n",
      "Maximum :  2014\n",
      "Average :  155\n"
     ]
    }
   ],
   "source": [
    "print(\"Minimum : \", min(df['comments']))\n",
    "print(\"Maximum : \", max(df['comments']))\n",
    "print(\"Average : \", int(df['comments'].mean()))"
   ]
  },
  {
   "cell_type": "code",
   "execution_count": 34,
   "id": "1fe6b976",
   "metadata": {},
   "outputs": [
    {
     "data": {
      "image/png": "[encoded data removed]",
      "text/plain": [
       "<Figure size 720x288 with 1 Axes>"
      ]
     },
     "metadata": {
      "needs_background": "light"
     },
     "output_type": "display_data"
    }
   ],
   "source": [
    "fig ,ax = plt.subplots(figsize = (10,4))\n",
    "\n",
    "ax.hist(df['comments'], bins = 1000)\n",
    "\n",
    "plt.title('Number of Comments distribution based on Videos')\n",
    "\n",
    "plt.xlabel('Number of Comments')\n",
    "plt.ylabel('Number of Videos')\n",
    "\n",
    "plt.show()"
   ]
  },
  {
   "cell_type": "markdown",
   "id": "7675a9e9",
   "metadata": {},
   "source": [
    "#### 4. Finding Correlation from Scratch"
   ]
  },
  {
   "cell_type": "code",
   "execution_count": 35,
   "id": "9ffa2ccf",
   "metadata": {},
   "outputs": [
    {
     "data": {
      "text/html": [
       "<div>\n",
       "<style scoped>\n",
       "    .dataframe tbody tr th:only-of-type {\n",
       "        vertical-align: middle;\n",
       "    }\n",
       "\n",
       "    .dataframe tbody tr th {\n",
       "        vertical-align: top;\n",
       "    }\n",
       "\n",
       "    .dataframe thead th {\n",
       "        text-align: right;\n",
       "    }\n",
       "</style>\n",
       "<table border=\"1\" class=\"dataframe\">\n",
       "  <thead>\n",
       "    <tr style=\"text-align: right;\">\n",
       "      <th></th>\n",
       "      <th>duration</th>\n",
       "      <th>title</th>\n",
       "      <th>views</th>\n",
       "      <th>likes</th>\n",
       "      <th>comments</th>\n",
       "      <th>date</th>\n",
       "      <th>month</th>\n",
       "      <th>year</th>\n",
       "      <th>day</th>\n",
       "      <th>view_to_like</th>\n",
       "    </tr>\n",
       "  </thead>\n",
       "  <tbody>\n",
       "    <tr>\n",
       "      <th>0</th>\n",
       "      <td>10</td>\n",
       "      <td>The Future Will Be Shaped by Optimists | Kevin...</td>\n",
       "      <td>51273</td>\n",
       "      <td>1900</td>\n",
       "      <td>262</td>\n",
       "      <td>21</td>\n",
       "      <td>4</td>\n",
       "      <td>2022</td>\n",
       "      <td>Thu</td>\n",
       "      <td>0.03706</td>\n",
       "    </tr>\n",
       "    <tr>\n",
       "      <th>1</th>\n",
       "      <td>9</td>\n",
       "      <td>An Olympic Champion’s Unwavering Advocacy for ...</td>\n",
       "      <td>25597</td>\n",
       "      <td>355</td>\n",
       "      <td>53</td>\n",
       "      <td>20</td>\n",
       "      <td>4</td>\n",
       "      <td>2022</td>\n",
       "      <td>Wed</td>\n",
       "      <td>0.01387</td>\n",
       "    </tr>\n",
       "    <tr>\n",
       "      <th>2</th>\n",
       "      <td>7</td>\n",
       "      <td>The African Swamp Protecting Earth's Environme...</td>\n",
       "      <td>21430</td>\n",
       "      <td>633</td>\n",
       "      <td>40</td>\n",
       "      <td>20</td>\n",
       "      <td>4</td>\n",
       "      <td>2022</td>\n",
       "      <td>Wed</td>\n",
       "      <td>0.02954</td>\n",
       "    </tr>\n",
       "    <tr>\n",
       "      <th>5</th>\n",
       "      <td>7</td>\n",
       "      <td>Ukraine's Fight to Keep Educating Its Children...</td>\n",
       "      <td>38252</td>\n",
       "      <td>1200</td>\n",
       "      <td>225</td>\n",
       "      <td>14</td>\n",
       "      <td>4</td>\n",
       "      <td>2022</td>\n",
       "      <td>Thu</td>\n",
       "      <td>0.03137</td>\n",
       "    </tr>\n",
       "    <tr>\n",
       "      <th>6</th>\n",
       "      <td>8</td>\n",
       "      <td>Why Entrepreneurship Flourishes in The Country...</td>\n",
       "      <td>32369</td>\n",
       "      <td>449</td>\n",
       "      <td>95</td>\n",
       "      <td>14</td>\n",
       "      <td>4</td>\n",
       "      <td>2022</td>\n",
       "      <td>Thu</td>\n",
       "      <td>0.01387</td>\n",
       "    </tr>\n",
       "  </tbody>\n",
       "</table>\n",
       "</div>"
      ],
      "text/plain": [
       "   duration                                              title  views  likes  \\\n",
       "0        10  The Future Will Be Shaped by Optimists | Kevin...  51273   1900   \n",
       "1         9  An Olympic Champion’s Unwavering Advocacy for ...  25597    355   \n",
       "2         7  The African Swamp Protecting Earth's Environme...  21430    633   \n",
       "5         7  Ukraine's Fight to Keep Educating Its Children...  38252   1200   \n",
       "6         8  Why Entrepreneurship Flourishes in The Country...  32369    449   \n",
       "\n",
       "   comments  date  month  year  day  view_to_like  \n",
       "0       262    21      4  2022  Thu       0.03706  \n",
       "1        53    20      4  2022  Wed       0.01387  \n",
       "2        40    20      4  2022  Wed       0.02954  \n",
       "5       225    14      4  2022  Thu       0.03137  \n",
       "6        95    14      4  2022  Thu       0.01387  "
      ]
     },
     "execution_count": 35,
     "metadata": {},
     "output_type": "execute_result"
    }
   ],
   "source": [
    "factor = []\n",
    "\n",
    "for i in df.values:    \n",
    "    factor.append(round(i[3]/i[2],5))          # i[2] = Views, i[3] = likes\n",
    "    \n",
    "df['view_to_like'] = factor\n",
    "\n",
    "df.head()"
   ]
  },
  {
   "cell_type": "code",
   "execution_count": 36,
   "id": "a1d6e5aa",
   "metadata": {
    "scrolled": true
   },
   "outputs": [
    {
     "name": "stdout",
     "output_type": "stream",
     "text": [
      "Minimum :  0.00162\n",
      "Maximum :  0.07977\n",
      "0    0.01388\n",
      "dtype: float64\n"
     ]
    }
   ],
   "source": [
    "print(\"Minimum : \", min(df['view_to_like']))\n",
    "print(\"Maximum : \", max(df['view_to_like']))\n",
    "\n",
    "print(df['view_to_like'].mode())"
   ]
  },
  {
   "cell_type": "markdown",
   "id": "b7b86a8a",
   "metadata": {},
   "source": [
    "#### 5. Adding Predicted Likes Column"
   ]
  },
  {
   "cell_type": "code",
   "execution_count": 37,
   "id": "011cc4e5",
   "metadata": {
    "scrolled": false
   },
   "outputs": [
    {
     "data": {
      "text/html": [
       "<div>\n",
       "<style scoped>\n",
       "    .dataframe tbody tr th:only-of-type {\n",
       "        vertical-align: middle;\n",
       "    }\n",
       "\n",
       "    .dataframe tbody tr th {\n",
       "        vertical-align: top;\n",
       "    }\n",
       "\n",
       "    .dataframe thead th {\n",
       "        text-align: right;\n",
       "    }\n",
       "</style>\n",
       "<table border=\"1\" class=\"dataframe\">\n",
       "  <thead>\n",
       "    <tr style=\"text-align: right;\">\n",
       "      <th></th>\n",
       "      <th>duration</th>\n",
       "      <th>title</th>\n",
       "      <th>views</th>\n",
       "      <th>likes</th>\n",
       "      <th>comments</th>\n",
       "      <th>date</th>\n",
       "      <th>month</th>\n",
       "      <th>year</th>\n",
       "      <th>day</th>\n",
       "      <th>view_to_like</th>\n",
       "      <th>pred_likes</th>\n",
       "    </tr>\n",
       "  </thead>\n",
       "  <tbody>\n",
       "    <tr>\n",
       "      <th>0</th>\n",
       "      <td>10</td>\n",
       "      <td>The Future Will Be Shaped by Optimists | Kevin...</td>\n",
       "      <td>51273</td>\n",
       "      <td>1900</td>\n",
       "      <td>262</td>\n",
       "      <td>21</td>\n",
       "      <td>4</td>\n",
       "      <td>2022</td>\n",
       "      <td>Thu</td>\n",
       "      <td>0.03706</td>\n",
       "      <td>711</td>\n",
       "    </tr>\n",
       "    <tr>\n",
       "      <th>1</th>\n",
       "      <td>9</td>\n",
       "      <td>An Olympic Champion’s Unwavering Advocacy for ...</td>\n",
       "      <td>25597</td>\n",
       "      <td>355</td>\n",
       "      <td>53</td>\n",
       "      <td>20</td>\n",
       "      <td>4</td>\n",
       "      <td>2022</td>\n",
       "      <td>Wed</td>\n",
       "      <td>0.01387</td>\n",
       "      <td>355</td>\n",
       "    </tr>\n",
       "    <tr>\n",
       "      <th>2</th>\n",
       "      <td>7</td>\n",
       "      <td>The African Swamp Protecting Earth's Environme...</td>\n",
       "      <td>21430</td>\n",
       "      <td>633</td>\n",
       "      <td>40</td>\n",
       "      <td>20</td>\n",
       "      <td>4</td>\n",
       "      <td>2022</td>\n",
       "      <td>Wed</td>\n",
       "      <td>0.02954</td>\n",
       "      <td>297</td>\n",
       "    </tr>\n",
       "    <tr>\n",
       "      <th>5</th>\n",
       "      <td>7</td>\n",
       "      <td>Ukraine's Fight to Keep Educating Its Children...</td>\n",
       "      <td>38252</td>\n",
       "      <td>1200</td>\n",
       "      <td>225</td>\n",
       "      <td>14</td>\n",
       "      <td>4</td>\n",
       "      <td>2022</td>\n",
       "      <td>Thu</td>\n",
       "      <td>0.03137</td>\n",
       "      <td>530</td>\n",
       "    </tr>\n",
       "    <tr>\n",
       "      <th>6</th>\n",
       "      <td>8</td>\n",
       "      <td>Why Entrepreneurship Flourishes in The Country...</td>\n",
       "      <td>32369</td>\n",
       "      <td>449</td>\n",
       "      <td>95</td>\n",
       "      <td>14</td>\n",
       "      <td>4</td>\n",
       "      <td>2022</td>\n",
       "      <td>Thu</td>\n",
       "      <td>0.01387</td>\n",
       "      <td>449</td>\n",
       "    </tr>\n",
       "  </tbody>\n",
       "</table>\n",
       "</div>"
      ],
      "text/plain": [
       "   duration                                              title  views  likes  \\\n",
       "0        10  The Future Will Be Shaped by Optimists | Kevin...  51273   1900   \n",
       "1         9  An Olympic Champion’s Unwavering Advocacy for ...  25597    355   \n",
       "2         7  The African Swamp Protecting Earth's Environme...  21430    633   \n",
       "5         7  Ukraine's Fight to Keep Educating Its Children...  38252   1200   \n",
       "6         8  Why Entrepreneurship Flourishes in The Country...  32369    449   \n",
       "\n",
       "   comments  date  month  year  day  view_to_like  pred_likes  \n",
       "0       262    21      4  2022  Thu       0.03706         711  \n",
       "1        53    20      4  2022  Wed       0.01387         355  \n",
       "2        40    20      4  2022  Wed       0.02954         297  \n",
       "5       225    14      4  2022  Thu       0.03137         530  \n",
       "6        95    14      4  2022  Thu       0.01387         449  "
      ]
     },
     "execution_count": 37,
     "metadata": {},
     "output_type": "execute_result"
    }
   ],
   "source": [
    "likes = []\n",
    "\n",
    "for i in df['views']:\n",
    "    likes.append(int(i * .01388))\n",
    "    \n",
    "df['pred_likes'] = likes\n",
    "\n",
    "df.head()"
   ]
  },
  {
   "cell_type": "markdown",
   "id": "5327728b",
   "metadata": {},
   "source": [
    "## Ploting Correlation"
   ]
  },
  {
   "cell_type": "markdown",
   "id": "4fcedf04",
   "metadata": {},
   "source": [
    "#### 6. Correlation b/w Likes and Views"
   ]
  },
  {
   "cell_type": "code",
   "execution_count": 38,
   "id": "8276091e",
   "metadata": {},
   "outputs": [
    {
     "data": {
      "image/png": "[encoded data removed]",
      "text/plain": [
       "<Figure size 1080x288 with 1 Axes>"
      ]
     },
     "metadata": {
      "needs_background": "light"
     },
     "output_type": "display_data"
    }
   ],
   "source": [
    "data = []\n",
    "\n",
    "for i in df.values:\n",
    "    data.append([i[2],i[3]])\n",
    "    \n",
    "df_ = pd.DataFrame(data, columns = ['views','likes'])\n",
    "\n",
    "views = list(df_.sort_values(by = 'views')['views'])\n",
    "likes = list(df_.sort_values(by = 'views')['likes'])\n",
    "\n",
    "fig, ax = plt.subplots(figsize = (15,4))\n",
    "\n",
    "ax.plot(views,likes)\n",
    "\n",
    "plt.xlabel(\"Number of Views in Millions\")\n",
    "plt.ylabel('Number of Likes')\n",
    "\n",
    "plt.title('Views to Likes Distribution/Relation')\n",
    "\n",
    "plt.show()"
   ]
  },
  {
   "cell_type": "markdown",
   "id": "2bc8700c",
   "metadata": {},
   "source": [
    "### Conclusion : There is very positive Correlation between Likes and Views"
   ]
  },
  {
   "cell_type": "markdown",
   "id": "e4768ece",
   "metadata": {},
   "source": [
    "### 7. Correlation b/w Views to Day\n",
    "\n",
    "#### 7.1) Total Views in all the video on Day Basis"
   ]
  },
  {
   "cell_type": "code",
   "execution_count": 39,
   "id": "ef0b779b",
   "metadata": {
    "scrolled": true
   },
   "outputs": [
    {
     "data": {
      "text/plain": [
       "<AxesSubplot:xlabel='day'>"
      ]
     },
     "execution_count": 39,
     "metadata": {},
     "output_type": "execute_result"
    },
    {
     "data": {
      "image/png": "[encoded data removed]",
      "text/plain": [
       "<Figure size 432x288 with 1 Axes>"
      ]
     },
     "metadata": {
      "needs_background": "light"
     },
     "output_type": "display_data"
    }
   ],
   "source": [
    "df.groupby('day').sum()['views'].plot(kind = 'bar')"
   ]
  },
  {
   "cell_type": "markdown",
   "id": "195aafa8",
   "metadata": {},
   "source": [
    "#### 7.2) Total number of video uploaded on Day Basis"
   ]
  },
  {
   "cell_type": "code",
   "execution_count": 40,
   "id": "8c9378bd",
   "metadata": {},
   "outputs": [
    {
     "data": {
      "text/plain": [
       "<AxesSubplot:xlabel='day'>"
      ]
     },
     "execution_count": 40,
     "metadata": {},
     "output_type": "execute_result"
    },
    {
     "data": {
      "image/png": "[encoded data removed]",
      "text/plain": [
       "<Figure size 432x288 with 1 Axes>"
      ]
     },
     "metadata": {
      "needs_background": "light"
     },
     "output_type": "display_data"
    }
   ],
   "source": [
    "df.groupby('day').size().plot(kind = 'bar')"
   ]
  },
  {
   "cell_type": "markdown",
   "id": "c9e1f7d0",
   "metadata": {},
   "source": [
    "#### 7.3) Average Number of Views in all the video on Day Basis"
   ]
  },
  {
   "cell_type": "code",
   "execution_count": 41,
   "id": "d09a1a0a",
   "metadata": {},
   "outputs": [
    {
     "data": {
      "text/plain": [
       "<AxesSubplot:xlabel='day'>"
      ]
     },
     "execution_count": 41,
     "metadata": {},
     "output_type": "execute_result"
    },
    {
     "data": {
      "image/png": "[encoded data removed]",
      "text/plain": [
       "<Figure size 432x288 with 1 Axes>"
      ]
     },
     "metadata": {
      "needs_background": "light"
     },
     "output_type": "display_data"
    }
   ],
   "source": [
    "df.groupby('day').mean()['views'].plot(kind = 'bar')"
   ]
  },
  {
   "cell_type": "markdown",
   "id": "493544c5",
   "metadata": {},
   "source": [
    "#### 8. Correlation b/w Views & [Likes, Predicted Likes]"
   ]
  },
  {
   "cell_type": "code",
   "execution_count": 42,
   "id": "6bace876",
   "metadata": {
    "scrolled": true
   },
   "outputs": [
    {
     "data": {
      "image/png": "[encoded data removed]",
      "text/plain": [
       "<Figure size 1080x288 with 1 Axes>"
      ]
     },
     "metadata": {
      "needs_background": "light"
     },
     "output_type": "display_data"
    }
   ],
   "source": [
    "data = []\n",
    "\n",
    "for i in df.values:\n",
    "    \n",
    "    data.append([i[2],i[3],i[10]])\n",
    "\n",
    "    \n",
    "df_ = pd.DataFrame(data, columns = ['views','likes','pred_likes'])\n",
    "\n",
    "views  = list(df_.sort_values(by = 'views')['views'])\n",
    "likes  = list(df_.sort_values(by = 'views')['likes'])\n",
    "likes_ = list(df_.sort_values(by = 'views')['pred_likes'])\n",
    "\n",
    "fig, ax = plt.subplots(figsize = (15,4))\n",
    "\n",
    "plt.plot(views,likes , label = 'Actual')\n",
    "plt.plot(views,likes_, label = 'Predicted')\n",
    "\n",
    "plt.legend()\n",
    "\n",
    "plt.xlabel('Views of the Video in 10 Million')\n",
    "plt.ylabel('Number of likes in Millions')\n",
    "\n",
    "plt.show()"
   ]
  },
  {
   "cell_type": "code",
   "execution_count": 43,
   "id": "6d70a107",
   "metadata": {
    "scrolled": true
   },
   "outputs": [
    {
     "data": {
      "text/html": [
       "<div>\n",
       "<style scoped>\n",
       "    .dataframe tbody tr th:only-of-type {\n",
       "        vertical-align: middle;\n",
       "    }\n",
       "\n",
       "    .dataframe tbody tr th {\n",
       "        vertical-align: top;\n",
       "    }\n",
       "\n",
       "    .dataframe thead th {\n",
       "        text-align: right;\n",
       "    }\n",
       "</style>\n",
       "<table border=\"1\" class=\"dataframe\">\n",
       "  <thead>\n",
       "    <tr style=\"text-align: right;\">\n",
       "      <th></th>\n",
       "      <th>duration</th>\n",
       "      <th>title</th>\n",
       "      <th>views</th>\n",
       "      <th>likes</th>\n",
       "      <th>comments</th>\n",
       "      <th>date</th>\n",
       "      <th>month</th>\n",
       "      <th>year</th>\n",
       "      <th>day</th>\n",
       "      <th>view_to_like</th>\n",
       "      <th>pred_likes</th>\n",
       "    </tr>\n",
       "  </thead>\n",
       "  <tbody>\n",
       "    <tr>\n",
       "      <th>0</th>\n",
       "      <td>10</td>\n",
       "      <td>The Future Will Be Shaped by Optimists | Kevin...</td>\n",
       "      <td>51273</td>\n",
       "      <td>1900</td>\n",
       "      <td>262</td>\n",
       "      <td>21</td>\n",
       "      <td>4</td>\n",
       "      <td>2022</td>\n",
       "      <td>Thu</td>\n",
       "      <td>0.03706</td>\n",
       "      <td>711</td>\n",
       "    </tr>\n",
       "    <tr>\n",
       "      <th>1</th>\n",
       "      <td>9</td>\n",
       "      <td>An Olympic Champion’s Unwavering Advocacy for ...</td>\n",
       "      <td>25597</td>\n",
       "      <td>355</td>\n",
       "      <td>53</td>\n",
       "      <td>20</td>\n",
       "      <td>4</td>\n",
       "      <td>2022</td>\n",
       "      <td>Wed</td>\n",
       "      <td>0.01387</td>\n",
       "      <td>355</td>\n",
       "    </tr>\n",
       "    <tr>\n",
       "      <th>2</th>\n",
       "      <td>7</td>\n",
       "      <td>The African Swamp Protecting Earth's Environme...</td>\n",
       "      <td>21430</td>\n",
       "      <td>633</td>\n",
       "      <td>40</td>\n",
       "      <td>20</td>\n",
       "      <td>4</td>\n",
       "      <td>2022</td>\n",
       "      <td>Wed</td>\n",
       "      <td>0.02954</td>\n",
       "      <td>297</td>\n",
       "    </tr>\n",
       "    <tr>\n",
       "      <th>5</th>\n",
       "      <td>7</td>\n",
       "      <td>Ukraine's Fight to Keep Educating Its Children...</td>\n",
       "      <td>38252</td>\n",
       "      <td>1200</td>\n",
       "      <td>225</td>\n",
       "      <td>14</td>\n",
       "      <td>4</td>\n",
       "      <td>2022</td>\n",
       "      <td>Thu</td>\n",
       "      <td>0.03137</td>\n",
       "      <td>530</td>\n",
       "    </tr>\n",
       "    <tr>\n",
       "      <th>6</th>\n",
       "      <td>8</td>\n",
       "      <td>Why Entrepreneurship Flourishes in The Country...</td>\n",
       "      <td>32369</td>\n",
       "      <td>449</td>\n",
       "      <td>95</td>\n",
       "      <td>14</td>\n",
       "      <td>4</td>\n",
       "      <td>2022</td>\n",
       "      <td>Thu</td>\n",
       "      <td>0.01387</td>\n",
       "      <td>449</td>\n",
       "    </tr>\n",
       "  </tbody>\n",
       "</table>\n",
       "</div>"
      ],
      "text/plain": [
       "   duration                                              title  views  likes  \\\n",
       "0        10  The Future Will Be Shaped by Optimists | Kevin...  51273   1900   \n",
       "1         9  An Olympic Champion’s Unwavering Advocacy for ...  25597    355   \n",
       "2         7  The African Swamp Protecting Earth's Environme...  21430    633   \n",
       "5         7  Ukraine's Fight to Keep Educating Its Children...  38252   1200   \n",
       "6         8  Why Entrepreneurship Flourishes in The Country...  32369    449   \n",
       "\n",
       "   comments  date  month  year  day  view_to_like  pred_likes  \n",
       "0       262    21      4  2022  Thu       0.03706         711  \n",
       "1        53    20      4  2022  Wed       0.01387         355  \n",
       "2        40    20      4  2022  Wed       0.02954         297  \n",
       "5       225    14      4  2022  Thu       0.03137         530  \n",
       "6        95    14      4  2022  Thu       0.01387         449  "
      ]
     },
     "execution_count": 43,
     "metadata": {},
     "output_type": "execute_result"
    }
   ],
   "source": [
    "df.head()"
   ]
  },
  {
   "cell_type": "markdown",
   "id": "c6123400",
   "metadata": {},
   "source": [
    "## 9. Finding Loss Using MSE"
   ]
  },
  {
   "cell_type": "markdown",
   "id": "6a544af4",
   "metadata": {},
   "source": [
    "#### 9.1) Finding M-Error"
   ]
  },
  {
   "cell_type": "code",
   "execution_count": 44,
   "id": "7f2103bc",
   "metadata": {},
   "outputs": [
    {
     "data": {
      "text/plain": [
       "502.6967120181406"
      ]
     },
     "execution_count": 44,
     "metadata": {},
     "output_type": "execute_result"
    }
   ],
   "source": [
    "total_error = []\n",
    "\n",
    "for i in df.values:\n",
    "    \n",
    "    t = i[3]-i[10]\n",
    "    \n",
    "    if (t >= 0):\n",
    "        total_error.append(t)\n",
    "    else:\n",
    "        total_error.append(-t)\n",
    "        \n",
    "sum(total_error)/len(total_error)\n"
   ]
  },
  {
   "cell_type": "markdown",
   "id": "dbaa8fb6",
   "metadata": {},
   "source": [
    "#### 9.2) Finding View to Like Ratio"
   ]
  },
  {
   "cell_type": "code",
   "execution_count": 45,
   "id": "7ee78bad",
   "metadata": {
    "scrolled": false
   },
   "outputs": [],
   "source": [
    "view_to_like = []\n",
    "\n",
    "for i in df.values:    \n",
    "    view_to_like.append(round(i[3]/i[2],5))\n",
    "    \n",
    "df['view_to_like'] = view_to_like\n",
    "\n",
    "st  = int(df['view_to_like'].min() * 100000)\n",
    "end = int(df['view_to_like'].max() * 100000)\n",
    "\n",
    "factors = []\n",
    "\n",
    "for i in range(st,end + 1 , 1):\n",
    "    factors.append(i/100000)"
   ]
  },
  {
   "cell_type": "markdown",
   "id": "36bdbc10",
   "metadata": {},
   "source": [
    "#### 9.3) Predicting Likes for Specific Factor"
   ]
  },
  {
   "cell_type": "code",
   "execution_count": 46,
   "id": "6583fb08",
   "metadata": {},
   "outputs": [],
   "source": [
    "likes_ = []\n",
    "\n",
    "for i in df['views']: \n",
    "    likes_.append(int(i * .01388))"
   ]
  },
  {
   "cell_type": "markdown",
   "id": "55f3b723",
   "metadata": {},
   "source": [
    "### 10. Combining Factor + Error + Ratios"
   ]
  },
  {
   "cell_type": "code",
   "execution_count": 47,
   "id": "f1b36c7e",
   "metadata": {},
   "outputs": [
    {
     "name": "stderr",
     "output_type": "stream",
     "text": [
      "100%|██████████████████████████████████████| 7815/7815 [00:10<00:00, 759.72it/s]\n"
     ]
    }
   ],
   "source": [
    "likes = np.array(df['likes'])\n",
    "\n",
    "error = []\n",
    "\n",
    "for i in tqdm(range(st,end + 1 , 1)):        # Creating Start and Ending Reage for Factors\n",
    "    factor = i/100000                       \n",
    "    \n",
    "    likes_ = []\n",
    "    \n",
    "    for i in df['views']:                    # Predicting Likes for Specific Factor     \n",
    "        likes_.append(int(factor * i))\n",
    "\n",
    "    likes_ = np.array(likes_) \n",
    "    \n",
    "    total_error = []                         \n",
    "    \n",
    "    for i in range(len(likes)):              # Erros for Actual Like to Predicted Like for One Factor\n",
    "        l = likes[i] - likes_[i]\n",
    "        if (l >= 0):                         # Finding Modulo\n",
    "            total_error.append(l)\n",
    "        else:\n",
    "            total_error.append(-l)\n",
    "    \n",
    "    total_error = np.array(total_error)    \n",
    "    \n",
    "    error.append([factor, int(total_error.mean())])     # Finding Error for Specific Factor\n",
    "    \n",
    "error = pd.DataFrame(error, columns = ['Factor','Error'])"
   ]
  },
  {
   "cell_type": "code",
   "execution_count": 48,
   "id": "b75d0cd2",
   "metadata": {
    "scrolled": false
   },
   "outputs": [
    {
     "data": {
      "text/html": [
       "<div>\n",
       "<style scoped>\n",
       "    .dataframe tbody tr th:only-of-type {\n",
       "        vertical-align: middle;\n",
       "    }\n",
       "\n",
       "    .dataframe tbody tr th {\n",
       "        vertical-align: top;\n",
       "    }\n",
       "\n",
       "    .dataframe thead th {\n",
       "        text-align: right;\n",
       "    }\n",
       "</style>\n",
       "<table border=\"1\" class=\"dataframe\">\n",
       "  <thead>\n",
       "    <tr style=\"text-align: right;\">\n",
       "      <th></th>\n",
       "      <th>Factor</th>\n",
       "      <th>Error</th>\n",
       "    </tr>\n",
       "  </thead>\n",
       "  <tbody>\n",
       "    <tr>\n",
       "      <th>0</th>\n",
       "      <td>0.00162</td>\n",
       "      <td>1039</td>\n",
       "    </tr>\n",
       "    <tr>\n",
       "      <th>1</th>\n",
       "      <td>0.00163</td>\n",
       "      <td>1039</td>\n",
       "    </tr>\n",
       "    <tr>\n",
       "      <th>2</th>\n",
       "      <td>0.00164</td>\n",
       "      <td>1038</td>\n",
       "    </tr>\n",
       "    <tr>\n",
       "      <th>3</th>\n",
       "      <td>0.00165</td>\n",
       "      <td>1038</td>\n",
       "    </tr>\n",
       "    <tr>\n",
       "      <th>4</th>\n",
       "      <td>0.00166</td>\n",
       "      <td>1037</td>\n",
       "    </tr>\n",
       "  </tbody>\n",
       "</table>\n",
       "</div>"
      ],
      "text/plain": [
       "    Factor  Error\n",
       "0  0.00162   1039\n",
       "1  0.00163   1039\n",
       "2  0.00164   1038\n",
       "3  0.00165   1038\n",
       "4  0.00166   1037"
      ]
     },
     "execution_count": 48,
     "metadata": {},
     "output_type": "execute_result"
    }
   ],
   "source": [
    "error.head()"
   ]
  },
  {
   "cell_type": "markdown",
   "id": "e239f52e",
   "metadata": {},
   "source": [
    "#### Finding Best Factor that Fits the Likes and Views"
   ]
  },
  {
   "cell_type": "code",
   "execution_count": 49,
   "id": "c96d6a3c",
   "metadata": {},
   "outputs": [],
   "source": [
    "final_factor = error.sort_values(by = 'Error').head(10)['Factor'].mean()"
   ]
  },
  {
   "cell_type": "code",
   "execution_count": 50,
   "id": "b1c666a5",
   "metadata": {},
   "outputs": [
    {
     "data": {
      "text/plain": [
       "0.019152999999999996"
      ]
     },
     "execution_count": 50,
     "metadata": {},
     "output_type": "execute_result"
    }
   ],
   "source": [
    "final_factor"
   ]
  },
  {
   "cell_type": "code",
   "execution_count": 51,
   "id": "df7e1db1",
   "metadata": {
    "scrolled": true
   },
   "outputs": [
    {
     "data": {
      "text/html": [
       "<div>\n",
       "<style scoped>\n",
       "    .dataframe tbody tr th:only-of-type {\n",
       "        vertical-align: middle;\n",
       "    }\n",
       "\n",
       "    .dataframe tbody tr th {\n",
       "        vertical-align: top;\n",
       "    }\n",
       "\n",
       "    .dataframe thead th {\n",
       "        text-align: right;\n",
       "    }\n",
       "</style>\n",
       "<table border=\"1\" class=\"dataframe\">\n",
       "  <thead>\n",
       "    <tr style=\"text-align: right;\">\n",
       "      <th></th>\n",
       "      <th>duration</th>\n",
       "      <th>title</th>\n",
       "      <th>views</th>\n",
       "      <th>likes</th>\n",
       "      <th>comments</th>\n",
       "      <th>date</th>\n",
       "      <th>month</th>\n",
       "      <th>year</th>\n",
       "      <th>day</th>\n",
       "      <th>view_to_like</th>\n",
       "      <th>pred_likes</th>\n",
       "    </tr>\n",
       "  </thead>\n",
       "  <tbody>\n",
       "    <tr>\n",
       "      <th>0</th>\n",
       "      <td>10</td>\n",
       "      <td>The Future Will Be Shaped by Optimists | Kevin...</td>\n",
       "      <td>51273</td>\n",
       "      <td>1900</td>\n",
       "      <td>262</td>\n",
       "      <td>21</td>\n",
       "      <td>4</td>\n",
       "      <td>2022</td>\n",
       "      <td>Thu</td>\n",
       "      <td>0.03706</td>\n",
       "      <td>982</td>\n",
       "    </tr>\n",
       "    <tr>\n",
       "      <th>1</th>\n",
       "      <td>9</td>\n",
       "      <td>An Olympic Champion’s Unwavering Advocacy for ...</td>\n",
       "      <td>25597</td>\n",
       "      <td>355</td>\n",
       "      <td>53</td>\n",
       "      <td>20</td>\n",
       "      <td>4</td>\n",
       "      <td>2022</td>\n",
       "      <td>Wed</td>\n",
       "      <td>0.01387</td>\n",
       "      <td>490</td>\n",
       "    </tr>\n",
       "    <tr>\n",
       "      <th>2</th>\n",
       "      <td>7</td>\n",
       "      <td>The African Swamp Protecting Earth's Environme...</td>\n",
       "      <td>21430</td>\n",
       "      <td>633</td>\n",
       "      <td>40</td>\n",
       "      <td>20</td>\n",
       "      <td>4</td>\n",
       "      <td>2022</td>\n",
       "      <td>Wed</td>\n",
       "      <td>0.02954</td>\n",
       "      <td>410</td>\n",
       "    </tr>\n",
       "    <tr>\n",
       "      <th>5</th>\n",
       "      <td>7</td>\n",
       "      <td>Ukraine's Fight to Keep Educating Its Children...</td>\n",
       "      <td>38252</td>\n",
       "      <td>1200</td>\n",
       "      <td>225</td>\n",
       "      <td>14</td>\n",
       "      <td>4</td>\n",
       "      <td>2022</td>\n",
       "      <td>Thu</td>\n",
       "      <td>0.03137</td>\n",
       "      <td>732</td>\n",
       "    </tr>\n",
       "    <tr>\n",
       "      <th>6</th>\n",
       "      <td>8</td>\n",
       "      <td>Why Entrepreneurship Flourishes in The Country...</td>\n",
       "      <td>32369</td>\n",
       "      <td>449</td>\n",
       "      <td>95</td>\n",
       "      <td>14</td>\n",
       "      <td>4</td>\n",
       "      <td>2022</td>\n",
       "      <td>Thu</td>\n",
       "      <td>0.01387</td>\n",
       "      <td>619</td>\n",
       "    </tr>\n",
       "  </tbody>\n",
       "</table>\n",
       "</div>"
      ],
      "text/plain": [
       "   duration                                              title  views  likes  \\\n",
       "0        10  The Future Will Be Shaped by Optimists | Kevin...  51273   1900   \n",
       "1         9  An Olympic Champion’s Unwavering Advocacy for ...  25597    355   \n",
       "2         7  The African Swamp Protecting Earth's Environme...  21430    633   \n",
       "5         7  Ukraine's Fight to Keep Educating Its Children...  38252   1200   \n",
       "6         8  Why Entrepreneurship Flourishes in The Country...  32369    449   \n",
       "\n",
       "   comments  date  month  year  day  view_to_like  pred_likes  \n",
       "0       262    21      4  2022  Thu       0.03706         982  \n",
       "1        53    20      4  2022  Wed       0.01387         490  \n",
       "2        40    20      4  2022  Wed       0.02954         410  \n",
       "5       225    14      4  2022  Thu       0.03137         732  \n",
       "6        95    14      4  2022  Thu       0.01387         619  "
      ]
     },
     "execution_count": 51,
     "metadata": {},
     "output_type": "execute_result"
    }
   ],
   "source": [
    "likes_ = []\n",
    "\n",
    "for i in df['views']:\n",
    "    likes_.append(int(i * final_factor))\n",
    "    \n",
    "df['pred_likes'] = likes_\n",
    "\n",
    "df.head()"
   ]
  },
  {
   "cell_type": "markdown",
   "id": "b79cd9d0",
   "metadata": {},
   "source": [
    "### Actual to Predicted Likes with best Fit Factor"
   ]
  },
  {
   "cell_type": "code",
   "execution_count": 52,
   "id": "cc93e5bd",
   "metadata": {
    "scrolled": false
   },
   "outputs": [
    {
     "data": {
      "image/png": "[encoded data removed]",
      "text/plain": [
       "<Figure size 1080x288 with 1 Axes>"
      ]
     },
     "metadata": {
      "needs_background": "light"
     },
     "output_type": "display_data"
    }
   ],
   "source": [
    "data = []\n",
    "\n",
    "for i in df.values:\n",
    "    \n",
    "    data.append([i[2],i[3],i[10]])\n",
    "\n",
    "    \n",
    "df_ = pd.DataFrame(data, columns = ['views','likes','pred_likes'])\n",
    "\n",
    "views  = list(df_.sort_values(by = 'views')['views'])\n",
    "likes  = list(df_.sort_values(by = 'views')['likes'])\n",
    "likes_ = list(df_.sort_values(by = 'views')['pred_likes'])\n",
    "\n",
    "fig, ax = plt.subplots(figsize = (15,4))\n",
    "\n",
    "plt.plot(views,likes , label = 'Actual')\n",
    "plt.plot(views,likes_, label = 'Predicted')\n",
    "\n",
    "plt.legend()\n",
    "\n",
    "plt.xlabel('Views of the Video')\n",
    "plt.ylabel('Number of likes')\n",
    "\n",
    "plt.show()"
   ]
  },
  {
   "cell_type": "code",
   "execution_count": 53,
   "id": "43b83da8",
   "metadata": {},
   "outputs": [
    {
     "data": {
      "text/plain": [
       "0.07976"
      ]
     },
     "execution_count": 53,
     "metadata": {},
     "output_type": "execute_result"
    }
   ],
   "source": [
    "factor"
   ]
  },
  {
   "cell_type": "code",
   "execution_count": null,
   "id": "743c242a",
   "metadata": {},
   "outputs": [],
   "source": []
  }
 ],
 "metadata": {
  "kernelspec": {
   "display_name": "Python 3 (ipykernel)",
   "language": "python",
   "name": "python3"
  },
  "language_info": {
   "codemirror_mode": {
    "name": "ipython",
    "version": 3
   },
   "file_extension": ".py",
   "mimetype": "text/x-python",
   "name": "python",
   "nbconvert_exporter": "python",
   "pygments_lexer": "ipython3",
   "version": "3.9.7"
  }
 },
 "nbformat": 4,
 "nbformat_minor": 5
}
