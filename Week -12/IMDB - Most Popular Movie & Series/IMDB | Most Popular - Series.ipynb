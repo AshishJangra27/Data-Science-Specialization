{
 "cells": [
  {
   "cell_type": "code",
   "execution_count": 16,
   "id": "0a5f6407",
   "metadata": {},
   "outputs": [],
   "source": [
    "import numpy as np\n",
    "import pandas as pd\n",
    "import matplotlib.pyplot as plt\n",
    "\n",
    "df = pd.read_csv(\"Shows.csv\")"
   ]
  },
  {
   "cell_type": "markdown",
   "id": "ff66b33f",
   "metadata": {},
   "source": [
    "#### 1.1) Removing Columns"
   ]
  },
  {
   "cell_type": "code",
   "execution_count": 17,
   "id": "6676c6cd",
   "metadata": {},
   "outputs": [
    {
     "data": {
      "text/html": [
       "<div>\n",
       "<style scoped>\n",
       "    .dataframe tbody tr th:only-of-type {\n",
       "        vertical-align: middle;\n",
       "    }\n",
       "\n",
       "    .dataframe tbody tr th {\n",
       "        vertical-align: top;\n",
       "    }\n",
       "\n",
       "    .dataframe thead th {\n",
       "        text-align: right;\n",
       "    }\n",
       "</style>\n",
       "<table border=\"1\" class=\"dataframe\">\n",
       "  <thead>\n",
       "    <tr style=\"text-align: right;\">\n",
       "      <th></th>\n",
       "      <th>Name</th>\n",
       "      <th>Director</th>\n",
       "      <th>Genre</th>\n",
       "    </tr>\n",
       "  </thead>\n",
       "  <tbody>\n",
       "    <tr>\n",
       "      <th>0</th>\n",
       "      <td>Planet Earth II</td>\n",
       "      <td>David Attenborough|Chadden Hunter|Elizabeth White</td>\n",
       "      <td>Documentary</td>\n",
       "    </tr>\n",
       "    <tr>\n",
       "      <th>1</th>\n",
       "      <td>Planet Earth</td>\n",
       "      <td>David Attenborough|Sigourney Weaver|Nikolay Dr...</td>\n",
       "      <td>Documentary</td>\n",
       "    </tr>\n",
       "    <tr>\n",
       "      <th>2</th>\n",
       "      <td>Breaking Bad</td>\n",
       "      <td>Bryan Cranston|Aaron Paul|Anna Gunn</td>\n",
       "      <td>Crime|Drama|Thriller</td>\n",
       "    </tr>\n",
       "    <tr>\n",
       "      <th>3</th>\n",
       "      <td>Band of Brothers</td>\n",
       "      <td>Scott Grimes|Damian Lewis|Ron Livingston</td>\n",
       "      <td>Drama|History|War</td>\n",
       "    </tr>\n",
       "    <tr>\n",
       "      <th>4</th>\n",
       "      <td>Chernobyl</td>\n",
       "      <td>Jessie Buckley|Jared Harris|Stellan Skarsgård</td>\n",
       "      <td>Drama|History|Thriller</td>\n",
       "    </tr>\n",
       "  </tbody>\n",
       "</table>\n",
       "</div>"
      ],
      "text/plain": [
       "               Name                                           Director  \\\n",
       "0   Planet Earth II  David Attenborough|Chadden Hunter|Elizabeth White   \n",
       "1      Planet Earth  David Attenborough|Sigourney Weaver|Nikolay Dr...   \n",
       "2      Breaking Bad                Bryan Cranston|Aaron Paul|Anna Gunn   \n",
       "3  Band of Brothers           Scott Grimes|Damian Lewis|Ron Livingston   \n",
       "4         Chernobyl      Jessie Buckley|Jared Harris|Stellan Skarsgård   \n",
       "\n",
       "                    Genre  \n",
       "0             Documentary  \n",
       "1             Documentary  \n",
       "2    Crime|Drama|Thriller  \n",
       "3       Drama|History|War  \n",
       "4  Drama|History|Thriller  "
      ]
     },
     "execution_count": 17,
     "metadata": {},
     "output_type": "execute_result"
    }
   ],
   "source": [
    "del df['Unnamed: 0']\n",
    "del df['ID']\n",
    "del df['Year']\n",
    "del df['Duration']\n",
    "del df['Reviews']\n",
    "del df['Rating']\n",
    "del df['Link']\n",
    "\n",
    "df.head()"
   ]
  },
  {
   "cell_type": "markdown",
   "id": "79051899",
   "metadata": {},
   "source": [
    "#### 1.2) Checking Null Values"
   ]
  },
  {
   "cell_type": "code",
   "execution_count": 18,
   "id": "7c71b580",
   "metadata": {},
   "outputs": [
    {
     "data": {
      "text/plain": [
       "Name        0\n",
       "Director    0\n",
       "Genre       0\n",
       "dtype: int64"
      ]
     },
     "execution_count": 18,
     "metadata": {},
     "output_type": "execute_result"
    }
   ],
   "source": [
    "df.isnull().sum()"
   ]
  },
  {
   "cell_type": "markdown",
   "id": "bd5621cb",
   "metadata": {},
   "source": [
    "#### 1.3) Finding All Genre"
   ]
  },
  {
   "cell_type": "code",
   "execution_count": 19,
   "id": "89562111",
   "metadata": {},
   "outputs": [],
   "source": [
    "genre = []\n",
    "\n",
    "for i in df['Genre']:\n",
    "    \n",
    "    genre += [j.strip() for j in i.split('|')]\n",
    "    \n",
    "genre = list(set(genre))"
   ]
  },
  {
   "cell_type": "markdown",
   "id": "88dc4879",
   "metadata": {},
   "source": [
    "#### 1.4) Count No. of Shows in Each Genre"
   ]
  },
  {
   "cell_type": "code",
   "execution_count": 20,
   "id": "76ddae19",
   "metadata": {},
   "outputs": [
    {
     "data": {
      "text/html": [
       "<div>\n",
       "<style scoped>\n",
       "    .dataframe tbody tr th:only-of-type {\n",
       "        vertical-align: middle;\n",
       "    }\n",
       "\n",
       "    .dataframe tbody tr th {\n",
       "        vertical-align: top;\n",
       "    }\n",
       "\n",
       "    .dataframe thead th {\n",
       "        text-align: right;\n",
       "    }\n",
       "</style>\n",
       "<table border=\"1\" class=\"dataframe\">\n",
       "  <thead>\n",
       "    <tr style=\"text-align: right;\">\n",
       "      <th></th>\n",
       "      <th>Genre</th>\n",
       "      <th>Freq</th>\n",
       "    </tr>\n",
       "  </thead>\n",
       "  <tbody>\n",
       "    <tr>\n",
       "      <th>0</th>\n",
       "      <td>Horror</td>\n",
       "      <td>7</td>\n",
       "    </tr>\n",
       "    <tr>\n",
       "      <th>1</th>\n",
       "      <td>Adventure</td>\n",
       "      <td>46</td>\n",
       "    </tr>\n",
       "    <tr>\n",
       "      <th>2</th>\n",
       "      <td>Fantasy</td>\n",
       "      <td>5</td>\n",
       "    </tr>\n",
       "    <tr>\n",
       "      <th>3</th>\n",
       "      <td>Drama</td>\n",
       "      <td>123</td>\n",
       "    </tr>\n",
       "    <tr>\n",
       "      <th>4</th>\n",
       "      <td>Short</td>\n",
       "      <td>2</td>\n",
       "    </tr>\n",
       "    <tr>\n",
       "      <th>5</th>\n",
       "      <td>War</td>\n",
       "      <td>4</td>\n",
       "    </tr>\n",
       "    <tr>\n",
       "      <th>6</th>\n",
       "      <td>Sci-Fi</td>\n",
       "      <td>6</td>\n",
       "    </tr>\n",
       "    <tr>\n",
       "      <th>7</th>\n",
       "      <td>Nan</td>\n",
       "      <td>24</td>\n",
       "    </tr>\n",
       "    <tr>\n",
       "      <th>8</th>\n",
       "      <td>Romance</td>\n",
       "      <td>10</td>\n",
       "    </tr>\n",
       "    <tr>\n",
       "      <th>9</th>\n",
       "      <td>Family</td>\n",
       "      <td>6</td>\n",
       "    </tr>\n",
       "    <tr>\n",
       "      <th>10</th>\n",
       "      <td>Musical</td>\n",
       "      <td>2</td>\n",
       "    </tr>\n",
       "    <tr>\n",
       "      <th>11</th>\n",
       "      <td>Animation</td>\n",
       "      <td>48</td>\n",
       "    </tr>\n",
       "    <tr>\n",
       "      <th>12</th>\n",
       "      <td>Crime</td>\n",
       "      <td>52</td>\n",
       "    </tr>\n",
       "    <tr>\n",
       "      <th>13</th>\n",
       "      <td>Thriller</td>\n",
       "      <td>14</td>\n",
       "    </tr>\n",
       "    <tr>\n",
       "      <th>14</th>\n",
       "      <td>Sport</td>\n",
       "      <td>3</td>\n",
       "    </tr>\n",
       "    <tr>\n",
       "      <th>15</th>\n",
       "      <td>Comedy</td>\n",
       "      <td>71</td>\n",
       "    </tr>\n",
       "    <tr>\n",
       "      <th>16</th>\n",
       "      <td>Documentary</td>\n",
       "      <td>22</td>\n",
       "    </tr>\n",
       "    <tr>\n",
       "      <th>17</th>\n",
       "      <td>Music</td>\n",
       "      <td>4</td>\n",
       "    </tr>\n",
       "    <tr>\n",
       "      <th>18</th>\n",
       "      <td>News</td>\n",
       "      <td>1</td>\n",
       "    </tr>\n",
       "    <tr>\n",
       "      <th>19</th>\n",
       "      <td>Game-Show</td>\n",
       "      <td>2</td>\n",
       "    </tr>\n",
       "    <tr>\n",
       "      <th>20</th>\n",
       "      <td>Talk-Show</td>\n",
       "      <td>1</td>\n",
       "    </tr>\n",
       "    <tr>\n",
       "      <th>21</th>\n",
       "      <td>History</td>\n",
       "      <td>17</td>\n",
       "    </tr>\n",
       "    <tr>\n",
       "      <th>22</th>\n",
       "      <td>Reality-TV</td>\n",
       "      <td>3</td>\n",
       "    </tr>\n",
       "    <tr>\n",
       "      <th>23</th>\n",
       "      <td>Biography</td>\n",
       "      <td>12</td>\n",
       "    </tr>\n",
       "    <tr>\n",
       "      <th>24</th>\n",
       "      <td>Western</td>\n",
       "      <td>2</td>\n",
       "    </tr>\n",
       "    <tr>\n",
       "      <th>25</th>\n",
       "      <td>Action</td>\n",
       "      <td>55</td>\n",
       "    </tr>\n",
       "    <tr>\n",
       "      <th>26</th>\n",
       "      <td>Mystery</td>\n",
       "      <td>25</td>\n",
       "    </tr>\n",
       "  </tbody>\n",
       "</table>\n",
       "</div>"
      ],
      "text/plain": [
       "          Genre  Freq\n",
       "0        Horror     7\n",
       "1     Adventure    46\n",
       "2       Fantasy     5\n",
       "3         Drama   123\n",
       "4         Short     2\n",
       "5           War     4\n",
       "6        Sci-Fi     6\n",
       "7           Nan    24\n",
       "8       Romance    10\n",
       "9        Family     6\n",
       "10      Musical     2\n",
       "11    Animation    48\n",
       "12        Crime    52\n",
       "13     Thriller    14\n",
       "14        Sport     3\n",
       "15       Comedy    71\n",
       "16  Documentary    22\n",
       "17        Music     4\n",
       "18         News     1\n",
       "19    Game-Show     2\n",
       "20    Talk-Show     1\n",
       "21      History    17\n",
       "22   Reality-TV     3\n",
       "23    Biography    12\n",
       "24      Western     2\n",
       "25       Action    55\n",
       "26      Mystery    25"
      ]
     },
     "execution_count": 20,
     "metadata": {},
     "output_type": "execute_result"
    }
   ],
   "source": [
    "data = []\n",
    "\n",
    "for g in genre:    \n",
    "    c = 0\n",
    "    for i in df['Genre']:   \n",
    "        gen = [j.strip() for j in i.split('|')]\n",
    "        if (g in gen):\n",
    "            c += 1\n",
    "    data.append([g , c])\n",
    "    \n",
    "df_ = pd.DataFrame(data, columns = ['Genre','Freq'])\n",
    "df_"
   ]
  },
  {
   "cell_type": "markdown",
   "id": "6b794e28",
   "metadata": {},
   "source": [
    "#### 1.5) Top 5 Genre in terms of number of Shows"
   ]
  },
  {
   "cell_type": "code",
   "execution_count": 21,
   "id": "e0345ff6",
   "metadata": {
    "scrolled": true
   },
   "outputs": [
    {
     "data": {
      "text/html": [
       "<div>\n",
       "<style scoped>\n",
       "    .dataframe tbody tr th:only-of-type {\n",
       "        vertical-align: middle;\n",
       "    }\n",
       "\n",
       "    .dataframe tbody tr th {\n",
       "        vertical-align: top;\n",
       "    }\n",
       "\n",
       "    .dataframe thead th {\n",
       "        text-align: right;\n",
       "    }\n",
       "</style>\n",
       "<table border=\"1\" class=\"dataframe\">\n",
       "  <thead>\n",
       "    <tr style=\"text-align: right;\">\n",
       "      <th></th>\n",
       "      <th>Genre</th>\n",
       "      <th>Freq</th>\n",
       "    </tr>\n",
       "  </thead>\n",
       "  <tbody>\n",
       "    <tr>\n",
       "      <th>3</th>\n",
       "      <td>Drama</td>\n",
       "      <td>123</td>\n",
       "    </tr>\n",
       "    <tr>\n",
       "      <th>15</th>\n",
       "      <td>Comedy</td>\n",
       "      <td>71</td>\n",
       "    </tr>\n",
       "    <tr>\n",
       "      <th>25</th>\n",
       "      <td>Action</td>\n",
       "      <td>55</td>\n",
       "    </tr>\n",
       "    <tr>\n",
       "      <th>12</th>\n",
       "      <td>Crime</td>\n",
       "      <td>52</td>\n",
       "    </tr>\n",
       "    <tr>\n",
       "      <th>11</th>\n",
       "      <td>Animation</td>\n",
       "      <td>48</td>\n",
       "    </tr>\n",
       "  </tbody>\n",
       "</table>\n",
       "</div>"
      ],
      "text/plain": [
       "        Genre  Freq\n",
       "3       Drama   123\n",
       "15     Comedy    71\n",
       "25     Action    55\n",
       "12      Crime    52\n",
       "11  Animation    48"
      ]
     },
     "execution_count": 21,
     "metadata": {},
     "output_type": "execute_result"
    }
   ],
   "source": [
    "df_.sort_values(by = 'Freq', ascending = False).head()"
   ]
  },
  {
   "cell_type": "markdown",
   "id": "ba28b120",
   "metadata": {},
   "source": [
    "#### 1.6) Gerne Distribution in Series (Visualization)"
   ]
  },
  {
   "cell_type": "code",
   "execution_count": 24,
   "id": "e0b655ed",
   "metadata": {},
   "outputs": [
    {
     "data": {
      "image/png": "[encoded data removed]",
      "text/plain": [
       "<Figure size 2160x432 with 1 Axes>"
      ]
     },
     "metadata": {
      "needs_background": "light"
     },
     "output_type": "display_data"
    }
   ],
   "source": [
    "x = df_.sort_values(by = 'Freq', ascending = False)['Genre'].values\n",
    "y = df_.sort_values(by = 'Freq', ascending = False)['Freq'].values\n",
    "\n",
    "fig ,ax = plt.subplots(figsize = (30,6))\n",
    "\n",
    "ax.bar(x,y)\n",
    "\n",
    "plt.xlabel('Genre')\n",
    "plt.ylabel('No of Movies')\n",
    "plt.title('Movies in Each Genre')\n",
    "\n",
    "plt.show()"
   ]
  },
  {
   "cell_type": "markdown",
   "id": "6aee1be5",
   "metadata": {},
   "source": [
    "#### 2.1) Finding Number of Series Director by each Director"
   ]
  },
  {
   "cell_type": "code",
   "execution_count": 62,
   "id": "c9fa9361",
   "metadata": {},
   "outputs": [
    {
     "data": {
      "text/html": [
       "<div>\n",
       "<style scoped>\n",
       "    .dataframe tbody tr th:only-of-type {\n",
       "        vertical-align: middle;\n",
       "    }\n",
       "\n",
       "    .dataframe tbody tr th {\n",
       "        vertical-align: top;\n",
       "    }\n",
       "\n",
       "    .dataframe thead th {\n",
       "        text-align: right;\n",
       "    }\n",
       "</style>\n",
       "<table border=\"1\" class=\"dataframe\">\n",
       "  <thead>\n",
       "    <tr style=\"text-align: right;\">\n",
       "      <th></th>\n",
       "      <th>Director</th>\n",
       "      <th>Freq</th>\n",
       "    </tr>\n",
       "  </thead>\n",
       "  <tbody>\n",
       "    <tr>\n",
       "      <th>0</th>\n",
       "      <td>Nolan North</td>\n",
       "      <td>2</td>\n",
       "    </tr>\n",
       "    <tr>\n",
       "      <th>1</th>\n",
       "      <td>Jonathan Banks</td>\n",
       "      <td>1</td>\n",
       "    </tr>\n",
       "    <tr>\n",
       "      <th>2</th>\n",
       "      <td>Kate Winslet</td>\n",
       "      <td>1</td>\n",
       "    </tr>\n",
       "    <tr>\n",
       "      <th>3</th>\n",
       "      <td>Edward Hardwicke</td>\n",
       "      <td>1</td>\n",
       "    </tr>\n",
       "    <tr>\n",
       "      <th>4</th>\n",
       "      <td>Asante Blackk</td>\n",
       "      <td>1</td>\n",
       "    </tr>\n",
       "  </tbody>\n",
       "</table>\n",
       "</div>"
      ],
      "text/plain": [
       "           Director  Freq\n",
       "0       Nolan North     2\n",
       "1    Jonathan Banks     1\n",
       "2      Kate Winslet     1\n",
       "3  Edward Hardwicke     1\n",
       "4     Asante Blackk     1"
      ]
     },
     "execution_count": 62,
     "metadata": {},
     "output_type": "execute_result"
    }
   ],
   "source": [
    "data = []\n",
    "directors = [] \n",
    "\n",
    "for j in [i.split('|') for i in df['Director']]:\n",
    "    directors += j\n",
    "    \n",
    "directors = list(set(directors))\n",
    "\n",
    "for director in directors:\n",
    "\n",
    "    c = 0\n",
    "    for i in df['Director']:\n",
    "        if(director in i):\n",
    "            c += 1\n",
    "\n",
    "    data.append([director,c])\n",
    "    \n",
    "df_ = pd.DataFrame(data, columns = ['Director','Freq'])\n",
    "\n",
    "df_.head()"
   ]
  },
  {
   "cell_type": "markdown",
   "id": "04137dbb",
   "metadata": {},
   "source": [
    "#### 2.2) Top 20 Directors who made most number of Series"
   ]
  },
  {
   "cell_type": "code",
   "execution_count": 69,
   "id": "c9506bfd",
   "metadata": {},
   "outputs": [
    {
     "data": {
      "image/png": "[encoded data removed]",
      "text/plain": [
       "<Figure size 2880x432 with 1 Axes>"
      ]
     },
     "metadata": {
      "needs_background": "light"
     },
     "output_type": "display_data"
    }
   ],
   "source": [
    "x = df_.sort_values(by = 'Freq', ascending = False).head(20)['Director'].values\n",
    "y = df_.sort_values(by = 'Freq', ascending = False).head(20)['Freq'].values\n",
    "\n",
    "fig ,ax = plt.subplots(figsize = (40,6))\n",
    "\n",
    "ax.bar(x,y)\n",
    "\n",
    "plt.xlabel('Directors')\n",
    "plt.ylabel('No of Series')\n",
    "plt.title('Series by top Directors')\n",
    "\n",
    "plt.show()"
   ]
  }
 ],
 "metadata": {
  "kernelspec": {
   "display_name": "Python 3 (ipykernel)",
   "language": "python",
   "name": "python3"
  },
  "language_info": {
   "codemirror_mode": {
    "name": "ipython",
    "version": 3
   },
   "file_extension": ".py",
   "mimetype": "text/x-python",
   "name": "python",
   "nbconvert_exporter": "python",
   "pygments_lexer": "ipython3",
   "version": "3.9.7"
  }
 },
 "nbformat": 4,
 "nbformat_minor": 5
}
