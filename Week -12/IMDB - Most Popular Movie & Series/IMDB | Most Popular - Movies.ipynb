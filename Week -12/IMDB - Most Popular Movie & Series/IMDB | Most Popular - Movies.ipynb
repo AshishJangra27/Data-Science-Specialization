{
 "cells": [
  {
   "cell_type": "code",
   "execution_count": 97,
   "id": "0a5f6407",
   "metadata": {},
   "outputs": [],
   "source": [
    "import numpy as np\n",
    "import pandas as pd\n",
    "import matplotlib.pyplot as plt\n",
    "\n",
    "df = pd.read_csv(\"imdb.csv\")"
   ]
  },
  {
   "cell_type": "markdown",
   "id": "ff66b33f",
   "metadata": {},
   "source": [
    "#### 1.1) Removing Columns"
   ]
  },
  {
   "cell_type": "code",
   "execution_count": 98,
   "id": "6676c6cd",
   "metadata": {},
   "outputs": [
    {
     "data": {
      "text/html": [
       "<div>\n",
       "<style scoped>\n",
       "    .dataframe tbody tr th:only-of-type {\n",
       "        vertical-align: middle;\n",
       "    }\n",
       "\n",
       "    .dataframe tbody tr th {\n",
       "        vertical-align: top;\n",
       "    }\n",
       "\n",
       "    .dataframe thead th {\n",
       "        text-align: right;\n",
       "    }\n",
       "</style>\n",
       "<table border=\"1\" class=\"dataframe\">\n",
       "  <thead>\n",
       "    <tr style=\"text-align: right;\">\n",
       "      <th></th>\n",
       "      <th>Series_Title</th>\n",
       "      <th>Genre</th>\n",
       "      <th>Director</th>\n",
       "    </tr>\n",
       "  </thead>\n",
       "  <tbody>\n",
       "    <tr>\n",
       "      <th>0</th>\n",
       "      <td>The Shawshank Redemption</td>\n",
       "      <td>Drama</td>\n",
       "      <td>Frank Darabont</td>\n",
       "    </tr>\n",
       "    <tr>\n",
       "      <th>1</th>\n",
       "      <td>The Godfather</td>\n",
       "      <td>Crime, Drama</td>\n",
       "      <td>Francis Ford Coppola</td>\n",
       "    </tr>\n",
       "    <tr>\n",
       "      <th>2</th>\n",
       "      <td>The Dark Knight</td>\n",
       "      <td>Action, Crime, Drama</td>\n",
       "      <td>Christopher Nolan</td>\n",
       "    </tr>\n",
       "    <tr>\n",
       "      <th>3</th>\n",
       "      <td>The Godfather: Part II</td>\n",
       "      <td>Crime, Drama</td>\n",
       "      <td>Francis Ford Coppola</td>\n",
       "    </tr>\n",
       "    <tr>\n",
       "      <th>4</th>\n",
       "      <td>12 Angry Men</td>\n",
       "      <td>Crime, Drama</td>\n",
       "      <td>Sidney Lumet</td>\n",
       "    </tr>\n",
       "  </tbody>\n",
       "</table>\n",
       "</div>"
      ],
      "text/plain": [
       "               Series_Title                 Genre              Director\n",
       "0  The Shawshank Redemption                 Drama        Frank Darabont\n",
       "1             The Godfather          Crime, Drama  Francis Ford Coppola\n",
       "2           The Dark Knight  Action, Crime, Drama     Christopher Nolan\n",
       "3    The Godfather: Part II          Crime, Drama  Francis Ford Coppola\n",
       "4              12 Angry Men          Crime, Drama          Sidney Lumet"
      ]
     },
     "execution_count": 98,
     "metadata": {},
     "output_type": "execute_result"
    }
   ],
   "source": [
    "del df['Poster_Link']\n",
    "del df['Released_Year']\n",
    "del df['Certificate']\n",
    "del df['Runtime']\n",
    "del df['IMDB_Rating']\n",
    "del df['Overview']\n",
    "del df['Meta_score']\n",
    "del df['Star1']\n",
    "del df['Star2']\n",
    "del df['Star3']\n",
    "del df['Star4']\n",
    "del df['No_of_Votes']\n",
    "del df['Gross']\n",
    "\n",
    "df.head()"
   ]
  },
  {
   "cell_type": "markdown",
   "id": "79051899",
   "metadata": {},
   "source": [
    "#### 1.2) Checking Null Values"
   ]
  },
  {
   "cell_type": "code",
   "execution_count": 99,
   "id": "7c71b580",
   "metadata": {},
   "outputs": [
    {
     "data": {
      "text/plain": [
       "Series_Title    0\n",
       "Genre           0\n",
       "Director        0\n",
       "dtype: int64"
      ]
     },
     "execution_count": 99,
     "metadata": {},
     "output_type": "execute_result"
    }
   ],
   "source": [
    "df.isnull().sum()"
   ]
  },
  {
   "cell_type": "markdown",
   "id": "bd5621cb",
   "metadata": {},
   "source": [
    "#### 1.3) Finding All Genre"
   ]
  },
  {
   "cell_type": "code",
   "execution_count": 100,
   "id": "89562111",
   "metadata": {},
   "outputs": [],
   "source": [
    "genre = []\n",
    "\n",
    "for i in df['Genre']:\n",
    "    \n",
    "    genre += [j.strip() for j in i.split(',')]\n",
    "    \n",
    "genre = list(set(genre))"
   ]
  },
  {
   "cell_type": "markdown",
   "id": "88dc4879",
   "metadata": {},
   "source": [
    "#### 1.4) Count No. of Movies in Each Genre"
   ]
  },
  {
   "cell_type": "code",
   "execution_count": 101,
   "id": "76ddae19",
   "metadata": {},
   "outputs": [
    {
     "data": {
      "text/html": [
       "<div>\n",
       "<style scoped>\n",
       "    .dataframe tbody tr th:only-of-type {\n",
       "        vertical-align: middle;\n",
       "    }\n",
       "\n",
       "    .dataframe tbody tr th {\n",
       "        vertical-align: top;\n",
       "    }\n",
       "\n",
       "    .dataframe thead th {\n",
       "        text-align: right;\n",
       "    }\n",
       "</style>\n",
       "<table border=\"1\" class=\"dataframe\">\n",
       "  <thead>\n",
       "    <tr style=\"text-align: right;\">\n",
       "      <th></th>\n",
       "      <th>Genre</th>\n",
       "      <th>Freq</th>\n",
       "    </tr>\n",
       "  </thead>\n",
       "  <tbody>\n",
       "    <tr>\n",
       "      <th>0</th>\n",
       "      <td>Crime</td>\n",
       "      <td>209</td>\n",
       "    </tr>\n",
       "    <tr>\n",
       "      <th>1</th>\n",
       "      <td>Animation</td>\n",
       "      <td>82</td>\n",
       "    </tr>\n",
       "    <tr>\n",
       "      <th>2</th>\n",
       "      <td>Musical</td>\n",
       "      <td>17</td>\n",
       "    </tr>\n",
       "    <tr>\n",
       "      <th>3</th>\n",
       "      <td>Thriller</td>\n",
       "      <td>137</td>\n",
       "    </tr>\n",
       "    <tr>\n",
       "      <th>4</th>\n",
       "      <td>History</td>\n",
       "      <td>56</td>\n",
       "    </tr>\n",
       "    <tr>\n",
       "      <th>5</th>\n",
       "      <td>Horror</td>\n",
       "      <td>32</td>\n",
       "    </tr>\n",
       "    <tr>\n",
       "      <th>6</th>\n",
       "      <td>Music</td>\n",
       "      <td>35</td>\n",
       "    </tr>\n",
       "    <tr>\n",
       "      <th>7</th>\n",
       "      <td>Biography</td>\n",
       "      <td>109</td>\n",
       "    </tr>\n",
       "    <tr>\n",
       "      <th>8</th>\n",
       "      <td>Romance</td>\n",
       "      <td>125</td>\n",
       "    </tr>\n",
       "    <tr>\n",
       "      <th>9</th>\n",
       "      <td>War</td>\n",
       "      <td>51</td>\n",
       "    </tr>\n",
       "    <tr>\n",
       "      <th>10</th>\n",
       "      <td>Fantasy</td>\n",
       "      <td>66</td>\n",
       "    </tr>\n",
       "    <tr>\n",
       "      <th>11</th>\n",
       "      <td>Mystery</td>\n",
       "      <td>99</td>\n",
       "    </tr>\n",
       "    <tr>\n",
       "      <th>12</th>\n",
       "      <td>Drama</td>\n",
       "      <td>724</td>\n",
       "    </tr>\n",
       "    <tr>\n",
       "      <th>13</th>\n",
       "      <td>Adventure</td>\n",
       "      <td>196</td>\n",
       "    </tr>\n",
       "    <tr>\n",
       "      <th>14</th>\n",
       "      <td>Family</td>\n",
       "      <td>56</td>\n",
       "    </tr>\n",
       "    <tr>\n",
       "      <th>15</th>\n",
       "      <td>Film-Noir</td>\n",
       "      <td>19</td>\n",
       "    </tr>\n",
       "    <tr>\n",
       "      <th>16</th>\n",
       "      <td>Western</td>\n",
       "      <td>20</td>\n",
       "    </tr>\n",
       "    <tr>\n",
       "      <th>17</th>\n",
       "      <td>Action</td>\n",
       "      <td>189</td>\n",
       "    </tr>\n",
       "    <tr>\n",
       "      <th>18</th>\n",
       "      <td>Sport</td>\n",
       "      <td>19</td>\n",
       "    </tr>\n",
       "    <tr>\n",
       "      <th>19</th>\n",
       "      <td>Sci-Fi</td>\n",
       "      <td>67</td>\n",
       "    </tr>\n",
       "    <tr>\n",
       "      <th>20</th>\n",
       "      <td>Comedy</td>\n",
       "      <td>233</td>\n",
       "    </tr>\n",
       "  </tbody>\n",
       "</table>\n",
       "</div>"
      ],
      "text/plain": [
       "        Genre  Freq\n",
       "0       Crime   209\n",
       "1   Animation    82\n",
       "2     Musical    17\n",
       "3    Thriller   137\n",
       "4     History    56\n",
       "5      Horror    32\n",
       "6       Music    35\n",
       "7   Biography   109\n",
       "8     Romance   125\n",
       "9         War    51\n",
       "10    Fantasy    66\n",
       "11    Mystery    99\n",
       "12      Drama   724\n",
       "13  Adventure   196\n",
       "14     Family    56\n",
       "15  Film-Noir    19\n",
       "16    Western    20\n",
       "17     Action   189\n",
       "18      Sport    19\n",
       "19     Sci-Fi    67\n",
       "20     Comedy   233"
      ]
     },
     "execution_count": 101,
     "metadata": {},
     "output_type": "execute_result"
    }
   ],
   "source": [
    "data = []\n",
    "\n",
    "for g in genre:    \n",
    "    c = 0\n",
    "    for i in df['Genre']:   \n",
    "        gen = [j.strip() for j in i.split(',')]\n",
    "        if (g in gen):\n",
    "            c += 1\n",
    "    data.append([g , c])\n",
    "    \n",
    "df_ = pd.DataFrame(data, columns = ['Genre','Freq'])\n",
    "df_"
   ]
  },
  {
   "cell_type": "markdown",
   "id": "6b794e28",
   "metadata": {},
   "source": [
    "#### 1.5) Top 5 Genre in terms of number of Movies"
   ]
  },
  {
   "cell_type": "code",
   "execution_count": 102,
   "id": "e0345ff6",
   "metadata": {
    "scrolled": true
   },
   "outputs": [
    {
     "data": {
      "text/html": [
       "<div>\n",
       "<style scoped>\n",
       "    .dataframe tbody tr th:only-of-type {\n",
       "        vertical-align: middle;\n",
       "    }\n",
       "\n",
       "    .dataframe tbody tr th {\n",
       "        vertical-align: top;\n",
       "    }\n",
       "\n",
       "    .dataframe thead th {\n",
       "        text-align: right;\n",
       "    }\n",
       "</style>\n",
       "<table border=\"1\" class=\"dataframe\">\n",
       "  <thead>\n",
       "    <tr style=\"text-align: right;\">\n",
       "      <th></th>\n",
       "      <th>Genre</th>\n",
       "      <th>Freq</th>\n",
       "    </tr>\n",
       "  </thead>\n",
       "  <tbody>\n",
       "    <tr>\n",
       "      <th>12</th>\n",
       "      <td>Drama</td>\n",
       "      <td>724</td>\n",
       "    </tr>\n",
       "    <tr>\n",
       "      <th>20</th>\n",
       "      <td>Comedy</td>\n",
       "      <td>233</td>\n",
       "    </tr>\n",
       "    <tr>\n",
       "      <th>0</th>\n",
       "      <td>Crime</td>\n",
       "      <td>209</td>\n",
       "    </tr>\n",
       "    <tr>\n",
       "      <th>13</th>\n",
       "      <td>Adventure</td>\n",
       "      <td>196</td>\n",
       "    </tr>\n",
       "    <tr>\n",
       "      <th>17</th>\n",
       "      <td>Action</td>\n",
       "      <td>189</td>\n",
       "    </tr>\n",
       "  </tbody>\n",
       "</table>\n",
       "</div>"
      ],
      "text/plain": [
       "        Genre  Freq\n",
       "12      Drama   724\n",
       "20     Comedy   233\n",
       "0       Crime   209\n",
       "13  Adventure   196\n",
       "17     Action   189"
      ]
     },
     "execution_count": 102,
     "metadata": {},
     "output_type": "execute_result"
    }
   ],
   "source": [
    "df_.sort_values(by = 'Freq', ascending = False).head()"
   ]
  },
  {
   "cell_type": "markdown",
   "id": "ba28b120",
   "metadata": {},
   "source": [
    "#### 1.6) Gerne Distribution in Movies (Visualization)"
   ]
  },
  {
   "cell_type": "code",
   "execution_count": 103,
   "id": "e0b655ed",
   "metadata": {},
   "outputs": [
    {
     "data": {
      "image/png": "[encoded data removed]",
      "text/plain": [
       "<Figure size 1440x432 with 1 Axes>"
      ]
     },
     "metadata": {
      "needs_background": "light"
     },
     "output_type": "display_data"
    }
   ],
   "source": [
    "x = df_.sort_values(by = 'Freq', ascending = False)['Genre'].values\n",
    "y = df_.sort_values(by = 'Freq', ascending = False)['Freq'].values\n",
    "\n",
    "fig ,ax = plt.subplots(figsize = (20,6))\n",
    "\n",
    "ax.bar(x,y)\n",
    "\n",
    "plt.xlabel('Genre')\n",
    "plt.ylabel('No of Movies')\n",
    "plt.title('Movies in Each Genre')\n",
    "\n",
    "plt.show()"
   ]
  },
  {
   "cell_type": "markdown",
   "id": "6aee1be5",
   "metadata": {},
   "source": [
    "#### 2.1) Finding Number of Moviews Director by each Director"
   ]
  },
  {
   "cell_type": "code",
   "execution_count": 104,
   "id": "629b199b",
   "metadata": {
    "scrolled": true
   },
   "outputs": [
    {
     "data": {
      "text/html": [
       "<div>\n",
       "<style scoped>\n",
       "    .dataframe tbody tr th:only-of-type {\n",
       "        vertical-align: middle;\n",
       "    }\n",
       "\n",
       "    .dataframe tbody tr th {\n",
       "        vertical-align: top;\n",
       "    }\n",
       "\n",
       "    .dataframe thead th {\n",
       "        text-align: right;\n",
       "    }\n",
       "</style>\n",
       "<table border=\"1\" class=\"dataframe\">\n",
       "  <thead>\n",
       "    <tr style=\"text-align: right;\">\n",
       "      <th></th>\n",
       "      <th>Director</th>\n",
       "      <th>Freq</th>\n",
       "    </tr>\n",
       "  </thead>\n",
       "  <tbody>\n",
       "    <tr>\n",
       "      <th>0</th>\n",
       "      <td>Ivan Reitman</td>\n",
       "      <td>1</td>\n",
       "    </tr>\n",
       "    <tr>\n",
       "      <th>1</th>\n",
       "      <td>Paul Verhoeven</td>\n",
       "      <td>1</td>\n",
       "    </tr>\n",
       "    <tr>\n",
       "      <th>2</th>\n",
       "      <td>Nicholas Ray</td>\n",
       "      <td>2</td>\n",
       "    </tr>\n",
       "    <tr>\n",
       "      <th>3</th>\n",
       "      <td>Robert Stevenson</td>\n",
       "      <td>1</td>\n",
       "    </tr>\n",
       "    <tr>\n",
       "      <th>4</th>\n",
       "      <td>Bernardo Bertolucci</td>\n",
       "      <td>2</td>\n",
       "    </tr>\n",
       "  </tbody>\n",
       "</table>\n",
       "</div>"
      ],
      "text/plain": [
       "              Director  Freq\n",
       "0         Ivan Reitman     1\n",
       "1       Paul Verhoeven     1\n",
       "2         Nicholas Ray     2\n",
       "3     Robert Stevenson     1\n",
       "4  Bernardo Bertolucci     2"
      ]
     },
     "execution_count": 104,
     "metadata": {},
     "output_type": "execute_result"
    }
   ],
   "source": [
    "data = []\n",
    "\n",
    "directors = list(set(df['Director']))\n",
    "\n",
    "for director in directors:\n",
    "    data.append([director, list(df['Director']).count(director)])\n",
    "    \n",
    "df_ = pd.DataFrame(data, columns = ['Director','Freq'])\n",
    "\n",
    "df_.head()"
   ]
  },
  {
   "cell_type": "markdown",
   "id": "c5a39082",
   "metadata": {},
   "source": [
    "#### 2.2) Top 10 Directors with most Number of Movies (Visualize)"
   ]
  },
  {
   "cell_type": "code",
   "execution_count": 105,
   "id": "83b9351f",
   "metadata": {},
   "outputs": [
    {
     "data": {
      "image/png": "[encoded data removed]",
      "text/plain": [
       "<Figure size 1440x432 with 1 Axes>"
      ]
     },
     "metadata": {
      "needs_background": "light"
     },
     "output_type": "display_data"
    }
   ],
   "source": [
    "x = df_.sort_values(by = 'Freq', ascending = False).head(10)['Director'].values\n",
    "y = df_.sort_values(by = 'Freq', ascending = False).head(10)['Freq'].values\n",
    "\n",
    "fig ,ax = plt.subplots(figsize = (20,6))\n",
    "\n",
    "ax.bar(x,y)\n",
    "\n",
    "plt.xlabel('Director')\n",
    "plt.ylabel('No of Movies')\n",
    "plt.title('No. of Movies by Directors')\n",
    "\n",
    "plt.show()"
   ]
  }
 ],
 "metadata": {
  "kernelspec": {
   "display_name": "Python 3 (ipykernel)",
   "language": "python",
   "name": "python3"
  },
  "language_info": {
   "codemirror_mode": {
    "name": "ipython",
    "version": 3
   },
   "file_extension": ".py",
   "mimetype": "text/x-python",
   "name": "python",
   "nbconvert_exporter": "python",
   "pygments_lexer": "ipython3",
   "version": "3.9.7"
  }
 },
 "nbformat": 4,
 "nbformat_minor": 5
}
