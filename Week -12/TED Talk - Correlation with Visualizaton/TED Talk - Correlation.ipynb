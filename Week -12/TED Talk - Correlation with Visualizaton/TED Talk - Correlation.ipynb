{
 "cells": [
  {
   "cell_type": "code",
   "execution_count": 95,
   "id": "c53132af",
   "metadata": {},
   "outputs": [
    {
     "data": {
      "text/html": [
       "<div>\n",
       "<style scoped>\n",
       "    .dataframe tbody tr th:only-of-type {\n",
       "        vertical-align: middle;\n",
       "    }\n",
       "\n",
       "    .dataframe tbody tr th {\n",
       "        vertical-align: top;\n",
       "    }\n",
       "\n",
       "    .dataframe thead th {\n",
       "        text-align: right;\n",
       "    }\n",
       "</style>\n",
       "<table border=\"1\" class=\"dataframe\">\n",
       "  <thead>\n",
       "    <tr style=\"text-align: right;\">\n",
       "      <th></th>\n",
       "      <th>video_link</th>\n",
       "      <th>duration</th>\n",
       "      <th>title</th>\n",
       "      <th>views</th>\n",
       "      <th>likes</th>\n",
       "      <th>comments</th>\n",
       "      <th>date</th>\n",
       "      <th>month</th>\n",
       "      <th>year</th>\n",
       "      <th>date_month_year</th>\n",
       "      <th>day</th>\n",
       "    </tr>\n",
       "  </thead>\n",
       "  <tbody>\n",
       "    <tr>\n",
       "      <th>0</th>\n",
       "      <td>https://www.youtube.com//watch?v=FrqBWQ-mVEc</td>\n",
       "      <td>10</td>\n",
       "      <td>The Future Will Be Shaped by Optimists | Kevin...</td>\n",
       "      <td>51273</td>\n",
       "      <td>1900</td>\n",
       "      <td>262</td>\n",
       "      <td>21</td>\n",
       "      <td>4</td>\n",
       "      <td>2022</td>\n",
       "      <td>21/4/2022</td>\n",
       "      <td>Thu</td>\n",
       "    </tr>\n",
       "    <tr>\n",
       "      <th>1</th>\n",
       "      <td>https://www.youtube.com//watch?v=iIne-UO7wUo</td>\n",
       "      <td>9</td>\n",
       "      <td>An Olympic Champion’s Unwavering Advocacy for ...</td>\n",
       "      <td>25597</td>\n",
       "      <td>355</td>\n",
       "      <td>53</td>\n",
       "      <td>20</td>\n",
       "      <td>4</td>\n",
       "      <td>2022</td>\n",
       "      <td>20/4/2022</td>\n",
       "      <td>Wed</td>\n",
       "    </tr>\n",
       "    <tr>\n",
       "      <th>2</th>\n",
       "      <td>https://www.youtube.com//watch?v=5T2VRY0LECc</td>\n",
       "      <td>7</td>\n",
       "      <td>The African Swamp Protecting Earth's Environme...</td>\n",
       "      <td>21430</td>\n",
       "      <td>633</td>\n",
       "      <td>40</td>\n",
       "      <td>20</td>\n",
       "      <td>4</td>\n",
       "      <td>2022</td>\n",
       "      <td>20/4/2022</td>\n",
       "      <td>Wed</td>\n",
       "    </tr>\n",
       "    <tr>\n",
       "      <th>3</th>\n",
       "      <td>https://www.youtube.com//watch?v=YRvf00NooN8</td>\n",
       "      <td>66</td>\n",
       "      <td>Elon Musk: A future worth getting excited abou...</td>\n",
       "      <td>3609893</td>\n",
       "      <td>95000</td>\n",
       "      <td>8757</td>\n",
       "      <td>18</td>\n",
       "      <td>4</td>\n",
       "      <td>2022</td>\n",
       "      <td>18/4/2022</td>\n",
       "      <td>Mon</td>\n",
       "    </tr>\n",
       "    <tr>\n",
       "      <th>4</th>\n",
       "      <td>https://www.youtube.com//watch?v=cdZZpaB2kDM</td>\n",
       "      <td>55</td>\n",
       "      <td>Elon Musk talks Twitter, Tesla and how his bra...</td>\n",
       "      <td>4405481</td>\n",
       "      <td>115000</td>\n",
       "      <td>10444</td>\n",
       "      <td>14</td>\n",
       "      <td>4</td>\n",
       "      <td>2022</td>\n",
       "      <td>14/4/2022</td>\n",
       "      <td>Thu</td>\n",
       "    </tr>\n",
       "  </tbody>\n",
       "</table>\n",
       "</div>"
      ],
      "text/plain": [
       "                                     video_link  duration  \\\n",
       "0  https://www.youtube.com//watch?v=FrqBWQ-mVEc        10   \n",
       "1  https://www.youtube.com//watch?v=iIne-UO7wUo         9   \n",
       "2  https://www.youtube.com//watch?v=5T2VRY0LECc         7   \n",
       "3  https://www.youtube.com//watch?v=YRvf00NooN8        66   \n",
       "4  https://www.youtube.com//watch?v=cdZZpaB2kDM        55   \n",
       "\n",
       "                                               title    views   likes  \\\n",
       "0  The Future Will Be Shaped by Optimists | Kevin...    51273    1900   \n",
       "1  An Olympic Champion’s Unwavering Advocacy for ...    25597     355   \n",
       "2  The African Swamp Protecting Earth's Environme...    21430     633   \n",
       "3  Elon Musk: A future worth getting excited abou...  3609893   95000   \n",
       "4  Elon Musk talks Twitter, Tesla and how his bra...  4405481  115000   \n",
       "\n",
       "   comments  date  month  year date_month_year  day  \n",
       "0       262    21      4  2022       21/4/2022  Thu  \n",
       "1        53    20      4  2022       20/4/2022  Wed  \n",
       "2        40    20      4  2022       20/4/2022  Wed  \n",
       "3      8757    18      4  2022       18/4/2022  Mon  \n",
       "4     10444    14      4  2022       14/4/2022  Thu  "
      ]
     },
     "execution_count": 95,
     "metadata": {},
     "output_type": "execute_result"
    }
   ],
   "source": [
    "import numpy as np\n",
    "import pandas as pd\n",
    "import matplotlib.pyplot as plt\n",
    "\n",
    "df = pd.read_csv('TED_Preprocessed.csv')\n",
    "df.head()"
   ]
  },
  {
   "cell_type": "code",
   "execution_count": 96,
   "id": "133c98a2",
   "metadata": {
    "scrolled": true
   },
   "outputs": [
    {
     "data": {
      "text/html": [
       "<div>\n",
       "<style scoped>\n",
       "    .dataframe tbody tr th:only-of-type {\n",
       "        vertical-align: middle;\n",
       "    }\n",
       "\n",
       "    .dataframe tbody tr th {\n",
       "        vertical-align: top;\n",
       "    }\n",
       "\n",
       "    .dataframe thead th {\n",
       "        text-align: right;\n",
       "    }\n",
       "</style>\n",
       "<table border=\"1\" class=\"dataframe\">\n",
       "  <thead>\n",
       "    <tr style=\"text-align: right;\">\n",
       "      <th></th>\n",
       "      <th>duration</th>\n",
       "      <th>title</th>\n",
       "      <th>views</th>\n",
       "      <th>likes</th>\n",
       "      <th>comments</th>\n",
       "      <th>date</th>\n",
       "      <th>month</th>\n",
       "      <th>year</th>\n",
       "      <th>day</th>\n",
       "    </tr>\n",
       "  </thead>\n",
       "  <tbody>\n",
       "    <tr>\n",
       "      <th>0</th>\n",
       "      <td>10</td>\n",
       "      <td>The Future Will Be Shaped by Optimists | Kevin...</td>\n",
       "      <td>51273</td>\n",
       "      <td>1900</td>\n",
       "      <td>262</td>\n",
       "      <td>21</td>\n",
       "      <td>4</td>\n",
       "      <td>2022</td>\n",
       "      <td>Thu</td>\n",
       "    </tr>\n",
       "    <tr>\n",
       "      <th>1</th>\n",
       "      <td>9</td>\n",
       "      <td>An Olympic Champion’s Unwavering Advocacy for ...</td>\n",
       "      <td>25597</td>\n",
       "      <td>355</td>\n",
       "      <td>53</td>\n",
       "      <td>20</td>\n",
       "      <td>4</td>\n",
       "      <td>2022</td>\n",
       "      <td>Wed</td>\n",
       "    </tr>\n",
       "    <tr>\n",
       "      <th>2</th>\n",
       "      <td>7</td>\n",
       "      <td>The African Swamp Protecting Earth's Environme...</td>\n",
       "      <td>21430</td>\n",
       "      <td>633</td>\n",
       "      <td>40</td>\n",
       "      <td>20</td>\n",
       "      <td>4</td>\n",
       "      <td>2022</td>\n",
       "      <td>Wed</td>\n",
       "    </tr>\n",
       "    <tr>\n",
       "      <th>3</th>\n",
       "      <td>66</td>\n",
       "      <td>Elon Musk: A future worth getting excited abou...</td>\n",
       "      <td>3609893</td>\n",
       "      <td>95000</td>\n",
       "      <td>8757</td>\n",
       "      <td>18</td>\n",
       "      <td>4</td>\n",
       "      <td>2022</td>\n",
       "      <td>Mon</td>\n",
       "    </tr>\n",
       "    <tr>\n",
       "      <th>4</th>\n",
       "      <td>55</td>\n",
       "      <td>Elon Musk talks Twitter, Tesla and how his bra...</td>\n",
       "      <td>4405481</td>\n",
       "      <td>115000</td>\n",
       "      <td>10444</td>\n",
       "      <td>14</td>\n",
       "      <td>4</td>\n",
       "      <td>2022</td>\n",
       "      <td>Thu</td>\n",
       "    </tr>\n",
       "  </tbody>\n",
       "</table>\n",
       "</div>"
      ],
      "text/plain": [
       "   duration                                              title    views  \\\n",
       "0        10  The Future Will Be Shaped by Optimists | Kevin...    51273   \n",
       "1         9  An Olympic Champion’s Unwavering Advocacy for ...    25597   \n",
       "2         7  The African Swamp Protecting Earth's Environme...    21430   \n",
       "3        66  Elon Musk: A future worth getting excited abou...  3609893   \n",
       "4        55  Elon Musk talks Twitter, Tesla and how his bra...  4405481   \n",
       "\n",
       "    likes  comments  date  month  year  day  \n",
       "0    1900       262    21      4  2022  Thu  \n",
       "1     355        53    20      4  2022  Wed  \n",
       "2     633        40    20      4  2022  Wed  \n",
       "3   95000      8757    18      4  2022  Mon  \n",
       "4  115000     10444    14      4  2022  Thu  "
      ]
     },
     "execution_count": 96,
     "metadata": {},
     "output_type": "execute_result"
    }
   ],
   "source": [
    "del df['video_link']\n",
    "del df['date_month_year']\n",
    "\n",
    "df.head()"
   ]
  },
  {
   "cell_type": "markdown",
   "id": "f88993ca",
   "metadata": {},
   "source": [
    "#### 1. Analysing - Likes"
   ]
  },
  {
   "cell_type": "code",
   "execution_count": 97,
   "id": "631f3f99",
   "metadata": {},
   "outputs": [
    {
     "name": "stdout",
     "output_type": "stream",
     "text": [
      "Minimum :  36\n",
      "Maximum :  1600000\n",
      "Average :  11027\n"
     ]
    }
   ],
   "source": [
    "print(\"Minimum : \", min(df['likes']))\n",
    "print(\"Maximum : \", max(df['likes']))\n",
    "print(\"Average : \", int(df['likes'].mean()))"
   ]
  },
  {
   "cell_type": "code",
   "execution_count": 98,
   "id": "8944181f",
   "metadata": {},
   "outputs": [
    {
     "data": {
      "image/png": "[encoded data removed]",
      "text/plain": [
       "<Figure size 720x288 with 1 Axes>"
      ]
     },
     "metadata": {
      "needs_background": "light"
     },
     "output_type": "display_data"
    }
   ],
   "source": [
    "fig ,ax = plt.subplots(figsize = (10,4))\n",
    "\n",
    "ax.hist(df['likes'], bins = 1000)\n",
    "\n",
    "plt.title('Number of likes distribution based on Videos')\n",
    "\n",
    "plt.xlabel('Likes in Millions')\n",
    "plt.ylabel('Number of Videos')\n",
    "\n",
    "plt.show()"
   ]
  },
  {
   "cell_type": "markdown",
   "id": "19d7566d",
   "metadata": {},
   "source": [
    "#### 2. Analysing - Views"
   ]
  },
  {
   "cell_type": "code",
   "execution_count": 99,
   "id": "6d33b05e",
   "metadata": {},
   "outputs": [
    {
     "name": "stdout",
     "output_type": "stream",
     "text": [
      "Minimum :  5699\n",
      "Maximum :  47561789\n",
      "Average :  576490\n"
     ]
    }
   ],
   "source": [
    "print(\"Minimum : \", min(df['views']))\n",
    "print(\"Maximum : \", max(df['views']))\n",
    "print(\"Average : \", int(df['views'].mean()))"
   ]
  },
  {
   "cell_type": "code",
   "execution_count": 100,
   "id": "343a2605",
   "metadata": {},
   "outputs": [
    {
     "data": {
      "image/png": "[encoded data removed]",
      "text/plain": [
       "<Figure size 720x288 with 1 Axes>"
      ]
     },
     "metadata": {
      "needs_background": "light"
     },
     "output_type": "display_data"
    }
   ],
   "source": [
    "fig ,ax = plt.subplots(figsize = (10,4))\n",
    "\n",
    "ax.hist(df['views'], bins = 1000)\n",
    "\n",
    "plt.title('Number of views distribution based on Videos')\n",
    "\n",
    "plt.xlabel('Views in 10 Millions')\n",
    "plt.ylabel('Number of Videos')\n",
    "\n",
    "plt.show()"
   ]
  },
  {
   "cell_type": "markdown",
   "id": "4b06d2fe",
   "metadata": {},
   "source": [
    "#### 3. Analysing - Comments"
   ]
  },
  {
   "cell_type": "code",
   "execution_count": 101,
   "id": "89dc92d0",
   "metadata": {},
   "outputs": [
    {
     "name": "stdout",
     "output_type": "stream",
     "text": [
      "Minimum :  2\n",
      "Maximum :  127586\n",
      "Average :  829\n"
     ]
    }
   ],
   "source": [
    "print(\"Minimum : \", min(df['comments']))\n",
    "print(\"Maximum : \", max(df['comments']))\n",
    "print(\"Average : \", int(df['comments'].mean()))"
   ]
  },
  {
   "cell_type": "code",
   "execution_count": 102,
   "id": "f5f47b6c",
   "metadata": {},
   "outputs": [
    {
     "data": {
      "image/png": "[encoded data removed]",
      "text/plain": [
       "<Figure size 720x288 with 1 Axes>"
      ]
     },
     "metadata": {
      "needs_background": "light"
     },
     "output_type": "display_data"
    }
   ],
   "source": [
    "fig ,ax = plt.subplots(figsize = (10,4))\n",
    "\n",
    "ax.hist(df['comments'], bins = 1000)\n",
    "\n",
    "plt.title('Number of Comments distribution based on Videos')\n",
    "\n",
    "plt.xlabel('Number of Comments')\n",
    "plt.ylabel('Number of Videos')\n",
    "\n",
    "plt.show()"
   ]
  },
  {
   "cell_type": "markdown",
   "id": "7b04f0c8",
   "metadata": {},
   "source": [
    "#### 4. Finding Correlation from Scratch"
   ]
  },
  {
   "cell_type": "code",
   "execution_count": 103,
   "id": "a86229ff",
   "metadata": {},
   "outputs": [
    {
     "data": {
      "text/html": [
       "<div>\n",
       "<style scoped>\n",
       "    .dataframe tbody tr th:only-of-type {\n",
       "        vertical-align: middle;\n",
       "    }\n",
       "\n",
       "    .dataframe tbody tr th {\n",
       "        vertical-align: top;\n",
       "    }\n",
       "\n",
       "    .dataframe thead th {\n",
       "        text-align: right;\n",
       "    }\n",
       "</style>\n",
       "<table border=\"1\" class=\"dataframe\">\n",
       "  <thead>\n",
       "    <tr style=\"text-align: right;\">\n",
       "      <th></th>\n",
       "      <th>duration</th>\n",
       "      <th>title</th>\n",
       "      <th>views</th>\n",
       "      <th>likes</th>\n",
       "      <th>comments</th>\n",
       "      <th>date</th>\n",
       "      <th>month</th>\n",
       "      <th>year</th>\n",
       "      <th>day</th>\n",
       "      <th>view_to_like</th>\n",
       "    </tr>\n",
       "  </thead>\n",
       "  <tbody>\n",
       "    <tr>\n",
       "      <th>0</th>\n",
       "      <td>10</td>\n",
       "      <td>The Future Will Be Shaped by Optimists | Kevin...</td>\n",
       "      <td>51273</td>\n",
       "      <td>1900</td>\n",
       "      <td>262</td>\n",
       "      <td>21</td>\n",
       "      <td>4</td>\n",
       "      <td>2022</td>\n",
       "      <td>Thu</td>\n",
       "      <td>0.03706</td>\n",
       "    </tr>\n",
       "    <tr>\n",
       "      <th>1</th>\n",
       "      <td>9</td>\n",
       "      <td>An Olympic Champion’s Unwavering Advocacy for ...</td>\n",
       "      <td>25597</td>\n",
       "      <td>355</td>\n",
       "      <td>53</td>\n",
       "      <td>20</td>\n",
       "      <td>4</td>\n",
       "      <td>2022</td>\n",
       "      <td>Wed</td>\n",
       "      <td>0.01387</td>\n",
       "    </tr>\n",
       "    <tr>\n",
       "      <th>2</th>\n",
       "      <td>7</td>\n",
       "      <td>The African Swamp Protecting Earth's Environme...</td>\n",
       "      <td>21430</td>\n",
       "      <td>633</td>\n",
       "      <td>40</td>\n",
       "      <td>20</td>\n",
       "      <td>4</td>\n",
       "      <td>2022</td>\n",
       "      <td>Wed</td>\n",
       "      <td>0.02954</td>\n",
       "    </tr>\n",
       "    <tr>\n",
       "      <th>3</th>\n",
       "      <td>66</td>\n",
       "      <td>Elon Musk: A future worth getting excited abou...</td>\n",
       "      <td>3609893</td>\n",
       "      <td>95000</td>\n",
       "      <td>8757</td>\n",
       "      <td>18</td>\n",
       "      <td>4</td>\n",
       "      <td>2022</td>\n",
       "      <td>Mon</td>\n",
       "      <td>0.02632</td>\n",
       "    </tr>\n",
       "    <tr>\n",
       "      <th>4</th>\n",
       "      <td>55</td>\n",
       "      <td>Elon Musk talks Twitter, Tesla and how his bra...</td>\n",
       "      <td>4405481</td>\n",
       "      <td>115000</td>\n",
       "      <td>10444</td>\n",
       "      <td>14</td>\n",
       "      <td>4</td>\n",
       "      <td>2022</td>\n",
       "      <td>Thu</td>\n",
       "      <td>0.02610</td>\n",
       "    </tr>\n",
       "  </tbody>\n",
       "</table>\n",
       "</div>"
      ],
      "text/plain": [
       "   duration                                              title    views  \\\n",
       "0        10  The Future Will Be Shaped by Optimists | Kevin...    51273   \n",
       "1         9  An Olympic Champion’s Unwavering Advocacy for ...    25597   \n",
       "2         7  The African Swamp Protecting Earth's Environme...    21430   \n",
       "3        66  Elon Musk: A future worth getting excited abou...  3609893   \n",
       "4        55  Elon Musk talks Twitter, Tesla and how his bra...  4405481   \n",
       "\n",
       "    likes  comments  date  month  year  day  view_to_like  \n",
       "0    1900       262    21      4  2022  Thu       0.03706  \n",
       "1     355        53    20      4  2022  Wed       0.01387  \n",
       "2     633        40    20      4  2022  Wed       0.02954  \n",
       "3   95000      8757    18      4  2022  Mon       0.02632  \n",
       "4  115000     10444    14      4  2022  Thu       0.02610  "
      ]
     },
     "execution_count": 103,
     "metadata": {},
     "output_type": "execute_result"
    }
   ],
   "source": [
    "factor = []\n",
    "\n",
    "for i in df.values:    \n",
    "    factor.append(round(i[3]/i[2],5))          # i[2] = Views, i[3] = likes\n",
    "    \n",
    "df['view_to_like'] = factor\n",
    "\n",
    "df.head()"
   ]
  },
  {
   "cell_type": "code",
   "execution_count": 104,
   "id": "91416e2b",
   "metadata": {},
   "outputs": [
    {
     "name": "stdout",
     "output_type": "stream",
     "text": [
      "Minimum :  0.00042\n",
      "Maximum :  0.07977\n"
     ]
    }
   ],
   "source": [
    "print(\"Minimum : \", min(df['view_to_like']))\n",
    "print(\"Maximum : \", max(df['view_to_like']))"
   ]
  },
  {
   "cell_type": "code",
   "execution_count": 105,
   "id": "ba6d638a",
   "metadata": {},
   "outputs": [
    {
     "data": {
      "image/png": "[encoded data removed]",
      "text/plain": [
       "<Figure size 720x288 with 1 Axes>"
      ]
     },
     "metadata": {
      "needs_background": "light"
     },
     "output_type": "display_data"
    }
   ],
   "source": [
    "fig ,ax = plt.subplots(figsize = (10,4))\n",
    "\n",
    "ax.hist(df['view_to_like'], bins = 10)\n",
    "\n",
    "plt.title('Number of view_to_like distribution based on Videos')\n",
    "\n",
    "plt.xlabel('Number of view_to_like')\n",
    "plt.ylabel('Number of Videos')\n",
    "\n",
    "plt.show()"
   ]
  },
  {
   "cell_type": "markdown",
   "id": "bcd2dc20",
   "metadata": {},
   "source": [
    "#### 5. Adding Predicted Likes Column"
   ]
  },
  {
   "cell_type": "code",
   "execution_count": 106,
   "id": "31341972",
   "metadata": {
    "scrolled": true
   },
   "outputs": [
    {
     "data": {
      "text/html": [
       "<div>\n",
       "<style scoped>\n",
       "    .dataframe tbody tr th:only-of-type {\n",
       "        vertical-align: middle;\n",
       "    }\n",
       "\n",
       "    .dataframe tbody tr th {\n",
       "        vertical-align: top;\n",
       "    }\n",
       "\n",
       "    .dataframe thead th {\n",
       "        text-align: right;\n",
       "    }\n",
       "</style>\n",
       "<table border=\"1\" class=\"dataframe\">\n",
       "  <thead>\n",
       "    <tr style=\"text-align: right;\">\n",
       "      <th></th>\n",
       "      <th>duration</th>\n",
       "      <th>title</th>\n",
       "      <th>views</th>\n",
       "      <th>likes</th>\n",
       "      <th>comments</th>\n",
       "      <th>date</th>\n",
       "      <th>month</th>\n",
       "      <th>year</th>\n",
       "      <th>day</th>\n",
       "      <th>view_to_like</th>\n",
       "      <th>pred_likes</th>\n",
       "    </tr>\n",
       "  </thead>\n",
       "  <tbody>\n",
       "    <tr>\n",
       "      <th>0</th>\n",
       "      <td>10</td>\n",
       "      <td>The Future Will Be Shaped by Optimists | Kevin...</td>\n",
       "      <td>51273</td>\n",
       "      <td>1900</td>\n",
       "      <td>262</td>\n",
       "      <td>21</td>\n",
       "      <td>4</td>\n",
       "      <td>2022</td>\n",
       "      <td>Thu</td>\n",
       "      <td>0.03706</td>\n",
       "      <td>711</td>\n",
       "    </tr>\n",
       "    <tr>\n",
       "      <th>1</th>\n",
       "      <td>9</td>\n",
       "      <td>An Olympic Champion’s Unwavering Advocacy for ...</td>\n",
       "      <td>25597</td>\n",
       "      <td>355</td>\n",
       "      <td>53</td>\n",
       "      <td>20</td>\n",
       "      <td>4</td>\n",
       "      <td>2022</td>\n",
       "      <td>Wed</td>\n",
       "      <td>0.01387</td>\n",
       "      <td>355</td>\n",
       "    </tr>\n",
       "    <tr>\n",
       "      <th>2</th>\n",
       "      <td>7</td>\n",
       "      <td>The African Swamp Protecting Earth's Environme...</td>\n",
       "      <td>21430</td>\n",
       "      <td>633</td>\n",
       "      <td>40</td>\n",
       "      <td>20</td>\n",
       "      <td>4</td>\n",
       "      <td>2022</td>\n",
       "      <td>Wed</td>\n",
       "      <td>0.02954</td>\n",
       "      <td>297</td>\n",
       "    </tr>\n",
       "    <tr>\n",
       "      <th>3</th>\n",
       "      <td>66</td>\n",
       "      <td>Elon Musk: A future worth getting excited abou...</td>\n",
       "      <td>3609893</td>\n",
       "      <td>95000</td>\n",
       "      <td>8757</td>\n",
       "      <td>18</td>\n",
       "      <td>4</td>\n",
       "      <td>2022</td>\n",
       "      <td>Mon</td>\n",
       "      <td>0.02632</td>\n",
       "      <td>50105</td>\n",
       "    </tr>\n",
       "    <tr>\n",
       "      <th>4</th>\n",
       "      <td>55</td>\n",
       "      <td>Elon Musk talks Twitter, Tesla and how his bra...</td>\n",
       "      <td>4405481</td>\n",
       "      <td>115000</td>\n",
       "      <td>10444</td>\n",
       "      <td>14</td>\n",
       "      <td>4</td>\n",
       "      <td>2022</td>\n",
       "      <td>Thu</td>\n",
       "      <td>0.02610</td>\n",
       "      <td>61148</td>\n",
       "    </tr>\n",
       "  </tbody>\n",
       "</table>\n",
       "</div>"
      ],
      "text/plain": [
       "   duration                                              title    views  \\\n",
       "0        10  The Future Will Be Shaped by Optimists | Kevin...    51273   \n",
       "1         9  An Olympic Champion’s Unwavering Advocacy for ...    25597   \n",
       "2         7  The African Swamp Protecting Earth's Environme...    21430   \n",
       "3        66  Elon Musk: A future worth getting excited abou...  3609893   \n",
       "4        55  Elon Musk talks Twitter, Tesla and how his bra...  4405481   \n",
       "\n",
       "    likes  comments  date  month  year  day  view_to_like  pred_likes  \n",
       "0    1900       262    21      4  2022  Thu       0.03706         711  \n",
       "1     355        53    20      4  2022  Wed       0.01387         355  \n",
       "2     633        40    20      4  2022  Wed       0.02954         297  \n",
       "3   95000      8757    18      4  2022  Mon       0.02632       50105  \n",
       "4  115000     10444    14      4  2022  Thu       0.02610       61148  "
      ]
     },
     "execution_count": 106,
     "metadata": {},
     "output_type": "execute_result"
    }
   ],
   "source": [
    "likes = []\n",
    "\n",
    "for i in df['views']:\n",
    "    likes.append(int(i * .01388))\n",
    "    \n",
    "df['pred_likes'] = likes\n",
    "\n",
    "df.head()"
   ]
  },
  {
   "cell_type": "markdown",
   "id": "86bb5e03",
   "metadata": {},
   "source": [
    "#### 6. Correlation b/w Likes and Views"
   ]
  },
  {
   "cell_type": "code",
   "execution_count": 143,
   "id": "e6a26244",
   "metadata": {},
   "outputs": [
    {
     "data": {
      "image/png": "[encoded data removed]",
      "text/plain": [
       "<Figure size 1080x288 with 1 Axes>"
      ]
     },
     "metadata": {
      "needs_background": "light"
     },
     "output_type": "display_data"
    }
   ],
   "source": [
    "data = []\n",
    "\n",
    "for i in df.values:\n",
    "    data.append([i[2],i[3]])\n",
    "    \n",
    "df_ = pd.DataFrame(data, columns = ['views','likes'])\n",
    "\n",
    "views = list(df_.sort_values(by = 'views')['views'])\n",
    "likes = list(df_.sort_values(by = 'views')['likes'])\n",
    "\n",
    "fig, ax = plt.subplots(figsize = (15,4))\n",
    "\n",
    "ax.plot(views,likes)\n",
    "\n",
    "plt.xlabel(\"Number of Views in 10 Millions\")\n",
    "plt.ylabel('Number of Likes in Millions')\n",
    "\n",
    "plt.title('Views to Likes Distribution/Relation')\n",
    "\n",
    "plt.show()"
   ]
  },
  {
   "cell_type": "markdown",
   "id": "2458c278",
   "metadata": {},
   "source": [
    "### Conclusion : There is very positive Correlation between Likes and Views"
   ]
  },
  {
   "cell_type": "markdown",
   "id": "ac9369d9",
   "metadata": {},
   "source": [
    "#### 7. Correlation b/w Views and Comments"
   ]
  },
  {
   "cell_type": "code",
   "execution_count": 157,
   "id": "8abb009e",
   "metadata": {},
   "outputs": [
    {
     "data": {
      "image/png": "[encoded data removed]",
      "text/plain": [
       "<Figure size 1080x288 with 1 Axes>"
      ]
     },
     "metadata": {
      "needs_background": "light"
     },
     "output_type": "display_data"
    }
   ],
   "source": [
    "data = []\n",
    "\n",
    "for i in df.values:\n",
    "    data.append([i[2],i[4]])\n",
    "    \n",
    "df_ = pd.DataFrame(data, columns = ['views','comments'])\n",
    "\n",
    "views    = list(df_.sort_values(by = 'views')['views'])\n",
    "comments = list(df_.sort_values(by = 'views')['comments'])\n",
    "\n",
    "fig, ax = plt.subplots(figsize = (15,4))\n",
    "\n",
    "ax.plot(views,comments)\n",
    "\n",
    "plt.xlabel(\"Number of Views in 10 Millions\")\n",
    "plt.ylabel('Number of Comments')\n",
    "\n",
    "plt.title('Views to Comments Distribution/Relation')\n",
    "\n",
    "plt.show()"
   ]
  },
  {
   "cell_type": "markdown",
   "id": "445d0698",
   "metadata": {},
   "source": [
    "### Conclusion : There is positive Correlation between Comments and Views"
   ]
  },
  {
   "cell_type": "markdown",
   "id": "b968a159",
   "metadata": {},
   "source": [
    "#### 8. Correlation b/w Likes and Comments"
   ]
  },
  {
   "cell_type": "code",
   "execution_count": 159,
   "id": "f8535916",
   "metadata": {},
   "outputs": [
    {
     "data": {
      "image/png": "[encoded data removed]",
      "text/plain": [
       "<Figure size 1080x288 with 1 Axes>"
      ]
     },
     "metadata": {
      "needs_background": "light"
     },
     "output_type": "display_data"
    }
   ],
   "source": [
    "data = []\n",
    "\n",
    "for i in df.values:\n",
    "    data.append([i[3],i[4]])\n",
    "    \n",
    "df_ = pd.DataFrame(data, columns = ['likes','comments'])\n",
    "\n",
    "likes    = list(df_.sort_values(by = 'likes')['likes'])\n",
    "comments = list(df_.sort_values(by = 'likes')['comments'])\n",
    "\n",
    "fig, ax = plt.subplots(figsize = (15,4))\n",
    "\n",
    "ax.plot(likes,comments)\n",
    "\n",
    "plt.xlabel(\"Number of Likes in Millions\")\n",
    "plt.ylabel('Number of Comments')\n",
    "\n",
    "plt.title('Views to Likes Distribution/Relation')\n",
    "\n",
    "plt.show()"
   ]
  },
  {
   "cell_type": "markdown",
   "id": "8efbd1c8",
   "metadata": {},
   "source": [
    "### Conclusion : There is positive Correlation between Likes and Comments"
   ]
  },
  {
   "cell_type": "markdown",
   "id": "cf3b3115",
   "metadata": {},
   "source": [
    "#### 9. Correlation b/w Views to Date"
   ]
  },
  {
   "cell_type": "code",
   "execution_count": 165,
   "id": "be8e4f99",
   "metadata": {},
   "outputs": [
    {
     "data": {
      "image/png": "[encoded data removed]",
      "text/plain": [
       "<Figure size 1080x288 with 1 Axes>"
      ]
     },
     "metadata": {
      "needs_background": "light"
     },
     "output_type": "display_data"
    }
   ],
   "source": [
    "data = []\n",
    "\n",
    "for i in df.values:\n",
    "    data.append([i[2],i[5]])\n",
    "    \n",
    "df_ = pd.DataFrame(data, columns = ['views','date'])\n",
    "\n",
    "views    = list(df_.sort_values(by = 'date')['views'])\n",
    "date     = list(df_.sort_values(by = 'date')['date'])\n",
    "\n",
    "fig, ax = plt.subplots(figsize = (15,4))\n",
    "\n",
    "ax.bar(date,views)\n",
    "\n",
    "plt.xlabel(\"Date\")\n",
    "plt.ylabel('Number of Views in 10 Millions')\n",
    "\n",
    "plt.title('Views to Date Distribution/Relation')\n",
    "\n",
    "plt.show()"
   ]
  },
  {
   "cell_type": "markdown",
   "id": "d5cae17d",
   "metadata": {},
   "source": [
    "### Conclusion : No Corelation"
   ]
  },
  {
   "cell_type": "markdown",
   "id": "2898231b",
   "metadata": {},
   "source": [
    "#### 10. Correlation b/w Views to Month"
   ]
  },
  {
   "cell_type": "code",
   "execution_count": 169,
   "id": "b08726db",
   "metadata": {},
   "outputs": [
    {
     "data": {
      "image/png": "[encoded data removed]",
      "text/plain": [
       "<Figure size 1080x288 with 1 Axes>"
      ]
     },
     "metadata": {
      "needs_background": "light"
     },
     "output_type": "display_data"
    }
   ],
   "source": [
    "data = []\n",
    "\n",
    "for i in df.values:\n",
    "    data.append([i[2],i[6]])\n",
    "    \n",
    "df_ = pd.DataFrame(data, columns = ['views','month'])\n",
    "\n",
    "views    = list(df_.sort_values(by = 'month')['views'])\n",
    "month    = list(df_.sort_values(by = 'month')['month'])\n",
    "\n",
    "fig, ax = plt.subplots(figsize = (15,4))\n",
    "\n",
    "ax.bar(month,views)\n",
    "\n",
    "plt.xlabel(\"Month\")\n",
    "plt.ylabel('Number of Views in 10 Millions')\n",
    "\n",
    "plt.title('Views to Month Distribution/Relation')\n",
    "\n",
    "plt.show()"
   ]
  },
  {
   "cell_type": "markdown",
   "id": "47c9c70d",
   "metadata": {},
   "source": [
    "### Conclusion : No Corelation"
   ]
  },
  {
   "cell_type": "markdown",
   "id": "4cc8efce",
   "metadata": {},
   "source": [
    "#### 11. Correlation b/w Views to Year"
   ]
  },
  {
   "cell_type": "code",
   "execution_count": 172,
   "id": "c8a13aa6",
   "metadata": {},
   "outputs": [
    {
     "data": {
      "image/png": "[encoded data removed]",
      "text/plain": [
       "<Figure size 1080x288 with 1 Axes>"
      ]
     },
     "metadata": {
      "needs_background": "light"
     },
     "output_type": "display_data"
    }
   ],
   "source": [
    "data = []\n",
    "\n",
    "for i in df.values:\n",
    "    data.append([i[2],i[7]])\n",
    "    \n",
    "df_ = pd.DataFrame(data, columns = ['views','year'])\n",
    "\n",
    "views    = list(df_.sort_values(by = 'year')['views'])\n",
    "year     = list(df_.sort_values(by = 'year')['year'])\n",
    "\n",
    "fig, ax = plt.subplots(figsize = (15,4))\n",
    "\n",
    "ax.bar(year,views)\n",
    "\n",
    "plt.xlabel(\"Year\")\n",
    "plt.ylabel('Number of Views in 10 Millions')\n",
    "\n",
    "plt.title('Views to Year Distribution/Relation')\n",
    "\n",
    "plt.show()"
   ]
  },
  {
   "cell_type": "markdown",
   "id": "838856dc",
   "metadata": {},
   "source": [
    "#### 12. Correlation b/w Views to Day"
   ]
  },
  {
   "cell_type": "code",
   "execution_count": 177,
   "id": "553f26b6",
   "metadata": {},
   "outputs": [
    {
     "data": {
      "image/png": "[encoded data removed]",
      "text/plain": [
       "<Figure size 1080x288 with 1 Axes>"
      ]
     },
     "metadata": {
      "needs_background": "light"
     },
     "output_type": "display_data"
    }
   ],
   "source": [
    "data = []\n",
    "\n",
    "for i in df.values:\n",
    "    data.append([i[2],i[8]])\n",
    "    \n",
    "df_ = pd.DataFrame(data, columns = ['views','day'])\n",
    "\n",
    "views    = list(df_.sort_values(by = 'day')['views'])\n",
    "day      = list(df_.sort_values(by = 'day')['day'])\n",
    "\n",
    "fig, ax = plt.subplots(figsize = (15,4))\n",
    "\n",
    "ax.bar(day,views)\n",
    "\n",
    "plt.xlabel(\"Day\")\n",
    "plt.ylabel('Number of Views in 10 Millions')\n",
    "\n",
    "plt.title('Views to Day Distribution/Relation')\n",
    "\n",
    "plt.show()"
   ]
  },
  {
   "cell_type": "markdown",
   "id": "2c50d0b0",
   "metadata": {},
   "source": [
    "#### 13. Correlation b/w Views & [Likes, Predicted Likes]"
   ]
  },
  {
   "cell_type": "code",
   "execution_count": 193,
   "id": "113a9666",
   "metadata": {},
   "outputs": [
    {
     "data": {
      "image/png": "[encoded data removed]",
      "text/plain": [
       "<Figure size 1080x288 with 1 Axes>"
      ]
     },
     "metadata": {
      "needs_background": "light"
     },
     "output_type": "display_data"
    }
   ],
   "source": [
    "data = []\n",
    "\n",
    "for i in df.values:\n",
    "    \n",
    "    data.append([i[2],i[3],i[10]])\n",
    "\n",
    "    \n",
    "df_ = pd.DataFrame(data, columns = ['views','likes','pred_likes'])\n",
    "\n",
    "views  = list(df_.sort_values(by = 'views')['views'])\n",
    "likes  = list(df_.sort_values(by = 'views')['likes'])\n",
    "likes_ = list(df_.sort_values(by = 'views')['pred_likes'])\n",
    "\n",
    "fig, ax = plt.subplots(figsize = (15,4))\n",
    "\n",
    "plt.plot(views,likes , label = 'Actual')\n",
    "plt.plot(views,likes_, label = 'Predicted')\n",
    "\n",
    "plt.legend()\n",
    "\n",
    "plt.xlabel('Views of the Video in 10 Million')\n",
    "plt.ylabel('Number of likes in Millions')\n",
    "\n",
    "plt.show()"
   ]
  },
  {
   "cell_type": "code",
   "execution_count": 173,
   "id": "93c279a2",
   "metadata": {
    "scrolled": true
   },
   "outputs": [
    {
     "data": {
      "text/html": [
       "<div>\n",
       "<style scoped>\n",
       "    .dataframe tbody tr th:only-of-type {\n",
       "        vertical-align: middle;\n",
       "    }\n",
       "\n",
       "    .dataframe tbody tr th {\n",
       "        vertical-align: top;\n",
       "    }\n",
       "\n",
       "    .dataframe thead th {\n",
       "        text-align: right;\n",
       "    }\n",
       "</style>\n",
       "<table border=\"1\" class=\"dataframe\">\n",
       "  <thead>\n",
       "    <tr style=\"text-align: right;\">\n",
       "      <th></th>\n",
       "      <th>duration</th>\n",
       "      <th>title</th>\n",
       "      <th>views</th>\n",
       "      <th>likes</th>\n",
       "      <th>comments</th>\n",
       "      <th>date</th>\n",
       "      <th>month</th>\n",
       "      <th>year</th>\n",
       "      <th>day</th>\n",
       "      <th>view_to_like</th>\n",
       "      <th>pred_likes</th>\n",
       "    </tr>\n",
       "  </thead>\n",
       "  <tbody>\n",
       "    <tr>\n",
       "      <th>0</th>\n",
       "      <td>10</td>\n",
       "      <td>The Future Will Be Shaped by Optimists | Kevin...</td>\n",
       "      <td>51273</td>\n",
       "      <td>1900</td>\n",
       "      <td>262</td>\n",
       "      <td>21</td>\n",
       "      <td>4</td>\n",
       "      <td>2022</td>\n",
       "      <td>Thu</td>\n",
       "      <td>0.03706</td>\n",
       "      <td>711</td>\n",
       "    </tr>\n",
       "    <tr>\n",
       "      <th>1</th>\n",
       "      <td>9</td>\n",
       "      <td>An Olympic Champion’s Unwavering Advocacy for ...</td>\n",
       "      <td>25597</td>\n",
       "      <td>355</td>\n",
       "      <td>53</td>\n",
       "      <td>20</td>\n",
       "      <td>4</td>\n",
       "      <td>2022</td>\n",
       "      <td>Wed</td>\n",
       "      <td>0.01387</td>\n",
       "      <td>355</td>\n",
       "    </tr>\n",
       "    <tr>\n",
       "      <th>2</th>\n",
       "      <td>7</td>\n",
       "      <td>The African Swamp Protecting Earth's Environme...</td>\n",
       "      <td>21430</td>\n",
       "      <td>633</td>\n",
       "      <td>40</td>\n",
       "      <td>20</td>\n",
       "      <td>4</td>\n",
       "      <td>2022</td>\n",
       "      <td>Wed</td>\n",
       "      <td>0.02954</td>\n",
       "      <td>297</td>\n",
       "    </tr>\n",
       "    <tr>\n",
       "      <th>3</th>\n",
       "      <td>66</td>\n",
       "      <td>Elon Musk: A future worth getting excited abou...</td>\n",
       "      <td>3609893</td>\n",
       "      <td>95000</td>\n",
       "      <td>8757</td>\n",
       "      <td>18</td>\n",
       "      <td>4</td>\n",
       "      <td>2022</td>\n",
       "      <td>Mon</td>\n",
       "      <td>0.02632</td>\n",
       "      <td>50105</td>\n",
       "    </tr>\n",
       "    <tr>\n",
       "      <th>4</th>\n",
       "      <td>55</td>\n",
       "      <td>Elon Musk talks Twitter, Tesla and how his bra...</td>\n",
       "      <td>4405481</td>\n",
       "      <td>115000</td>\n",
       "      <td>10444</td>\n",
       "      <td>14</td>\n",
       "      <td>4</td>\n",
       "      <td>2022</td>\n",
       "      <td>Thu</td>\n",
       "      <td>0.02610</td>\n",
       "      <td>61148</td>\n",
       "    </tr>\n",
       "  </tbody>\n",
       "</table>\n",
       "</div>"
      ],
      "text/plain": [
       "   duration                                              title    views  \\\n",
       "0        10  The Future Will Be Shaped by Optimists | Kevin...    51273   \n",
       "1         9  An Olympic Champion’s Unwavering Advocacy for ...    25597   \n",
       "2         7  The African Swamp Protecting Earth's Environme...    21430   \n",
       "3        66  Elon Musk: A future worth getting excited abou...  3609893   \n",
       "4        55  Elon Musk talks Twitter, Tesla and how his bra...  4405481   \n",
       "\n",
       "    likes  comments  date  month  year  day  view_to_like  pred_likes  \n",
       "0    1900       262    21      4  2022  Thu       0.03706         711  \n",
       "1     355        53    20      4  2022  Wed       0.01387         355  \n",
       "2     633        40    20      4  2022  Wed       0.02954         297  \n",
       "3   95000      8757    18      4  2022  Mon       0.02632       50105  \n",
       "4  115000     10444    14      4  2022  Thu       0.02610       61148  "
      ]
     },
     "execution_count": 173,
     "metadata": {},
     "output_type": "execute_result"
    }
   ],
   "source": [
    "df.head()"
   ]
  },
  {
   "cell_type": "code",
   "execution_count": null,
   "id": "b2365d49",
   "metadata": {},
   "outputs": [],
   "source": []
  }
 ],
 "metadata": {
  "kernelspec": {
   "display_name": "Python 3 (ipykernel)",
   "language": "python",
   "name": "python3"
  },
  "language_info": {
   "codemirror_mode": {
    "name": "ipython",
    "version": 3
   },
   "file_extension": ".py",
   "mimetype": "text/x-python",
   "name": "python",
   "nbconvert_exporter": "python",
   "pygments_lexer": "ipython3",
   "version": "3.9.7"
  }
 },
 "nbformat": 4,
 "nbformat_minor": 5
}
