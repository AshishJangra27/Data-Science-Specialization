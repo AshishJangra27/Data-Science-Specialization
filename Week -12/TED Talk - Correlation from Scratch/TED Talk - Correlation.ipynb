{
 "cells": [
  {
   "cell_type": "code",
   "execution_count": 13,
   "id": "822dfffb",
   "metadata": {},
   "outputs": [
    {
     "data": {
      "text/html": [
       "<div>\n",
       "<style scoped>\n",
       "    .dataframe tbody tr th:only-of-type {\n",
       "        vertical-align: middle;\n",
       "    }\n",
       "\n",
       "    .dataframe tbody tr th {\n",
       "        vertical-align: top;\n",
       "    }\n",
       "\n",
       "    .dataframe thead th {\n",
       "        text-align: right;\n",
       "    }\n",
       "</style>\n",
       "<table border=\"1\" class=\"dataframe\">\n",
       "  <thead>\n",
       "    <tr style=\"text-align: right;\">\n",
       "      <th></th>\n",
       "      <th>video_link</th>\n",
       "      <th>duration</th>\n",
       "      <th>title</th>\n",
       "      <th>views</th>\n",
       "      <th>likes</th>\n",
       "      <th>comments</th>\n",
       "      <th>date</th>\n",
       "      <th>month</th>\n",
       "      <th>year</th>\n",
       "      <th>date_month_year</th>\n",
       "      <th>day</th>\n",
       "    </tr>\n",
       "  </thead>\n",
       "  <tbody>\n",
       "    <tr>\n",
       "      <th>0</th>\n",
       "      <td>https://www.youtube.com//watch?v=FrqBWQ-mVEc</td>\n",
       "      <td>10</td>\n",
       "      <td>The Future Will Be Shaped by Optimists | Kevin...</td>\n",
       "      <td>51273</td>\n",
       "      <td>1900</td>\n",
       "      <td>262</td>\n",
       "      <td>21</td>\n",
       "      <td>4</td>\n",
       "      <td>2022</td>\n",
       "      <td>21/4/2022</td>\n",
       "      <td>Thu</td>\n",
       "    </tr>\n",
       "    <tr>\n",
       "      <th>1</th>\n",
       "      <td>https://www.youtube.com//watch?v=iIne-UO7wUo</td>\n",
       "      <td>9</td>\n",
       "      <td>An Olympic Champion’s Unwavering Advocacy for ...</td>\n",
       "      <td>25597</td>\n",
       "      <td>355</td>\n",
       "      <td>53</td>\n",
       "      <td>20</td>\n",
       "      <td>4</td>\n",
       "      <td>2022</td>\n",
       "      <td>20/4/2022</td>\n",
       "      <td>Wed</td>\n",
       "    </tr>\n",
       "    <tr>\n",
       "      <th>2</th>\n",
       "      <td>https://www.youtube.com//watch?v=5T2VRY0LECc</td>\n",
       "      <td>7</td>\n",
       "      <td>The African Swamp Protecting Earth's Environme...</td>\n",
       "      <td>21430</td>\n",
       "      <td>633</td>\n",
       "      <td>40</td>\n",
       "      <td>20</td>\n",
       "      <td>4</td>\n",
       "      <td>2022</td>\n",
       "      <td>20/4/2022</td>\n",
       "      <td>Wed</td>\n",
       "    </tr>\n",
       "    <tr>\n",
       "      <th>3</th>\n",
       "      <td>https://www.youtube.com//watch?v=YRvf00NooN8</td>\n",
       "      <td>66</td>\n",
       "      <td>Elon Musk: A future worth getting excited abou...</td>\n",
       "      <td>3609893</td>\n",
       "      <td>95000</td>\n",
       "      <td>8757</td>\n",
       "      <td>18</td>\n",
       "      <td>4</td>\n",
       "      <td>2022</td>\n",
       "      <td>18/4/2022</td>\n",
       "      <td>Mon</td>\n",
       "    </tr>\n",
       "    <tr>\n",
       "      <th>4</th>\n",
       "      <td>https://www.youtube.com//watch?v=cdZZpaB2kDM</td>\n",
       "      <td>55</td>\n",
       "      <td>Elon Musk talks Twitter, Tesla and how his bra...</td>\n",
       "      <td>4405481</td>\n",
       "      <td>115000</td>\n",
       "      <td>10444</td>\n",
       "      <td>14</td>\n",
       "      <td>4</td>\n",
       "      <td>2022</td>\n",
       "      <td>14/4/2022</td>\n",
       "      <td>Thu</td>\n",
       "    </tr>\n",
       "  </tbody>\n",
       "</table>\n",
       "</div>"
      ],
      "text/plain": [
       "                                     video_link  duration  \\\n",
       "0  https://www.youtube.com//watch?v=FrqBWQ-mVEc        10   \n",
       "1  https://www.youtube.com//watch?v=iIne-UO7wUo         9   \n",
       "2  https://www.youtube.com//watch?v=5T2VRY0LECc         7   \n",
       "3  https://www.youtube.com//watch?v=YRvf00NooN8        66   \n",
       "4  https://www.youtube.com//watch?v=cdZZpaB2kDM        55   \n",
       "\n",
       "                                               title    views   likes  \\\n",
       "0  The Future Will Be Shaped by Optimists | Kevin...    51273    1900   \n",
       "1  An Olympic Champion’s Unwavering Advocacy for ...    25597     355   \n",
       "2  The African Swamp Protecting Earth's Environme...    21430     633   \n",
       "3  Elon Musk: A future worth getting excited abou...  3609893   95000   \n",
       "4  Elon Musk talks Twitter, Tesla and how his bra...  4405481  115000   \n",
       "\n",
       "   comments  date  month  year date_month_year  day  \n",
       "0       262    21      4  2022       21/4/2022  Thu  \n",
       "1        53    20      4  2022       20/4/2022  Wed  \n",
       "2        40    20      4  2022       20/4/2022  Wed  \n",
       "3      8757    18      4  2022       18/4/2022  Mon  \n",
       "4     10444    14      4  2022       14/4/2022  Thu  "
      ]
     },
     "execution_count": 13,
     "metadata": {},
     "output_type": "execute_result"
    }
   ],
   "source": [
    "import pandas as pd\n",
    "import matplotlib.pyplot as plt\n",
    "\n",
    "df = pd.read_csv('TED_Preprocessed.csv')\n",
    "df.head()"
   ]
  },
  {
   "cell_type": "code",
   "execution_count": 14,
   "id": "95c7da84",
   "metadata": {
    "scrolled": true
   },
   "outputs": [
    {
     "data": {
      "text/html": [
       "<div>\n",
       "<style scoped>\n",
       "    .dataframe tbody tr th:only-of-type {\n",
       "        vertical-align: middle;\n",
       "    }\n",
       "\n",
       "    .dataframe tbody tr th {\n",
       "        vertical-align: top;\n",
       "    }\n",
       "\n",
       "    .dataframe thead th {\n",
       "        text-align: right;\n",
       "    }\n",
       "</style>\n",
       "<table border=\"1\" class=\"dataframe\">\n",
       "  <thead>\n",
       "    <tr style=\"text-align: right;\">\n",
       "      <th></th>\n",
       "      <th>duration</th>\n",
       "      <th>title</th>\n",
       "      <th>views</th>\n",
       "      <th>likes</th>\n",
       "      <th>comments</th>\n",
       "      <th>date</th>\n",
       "      <th>month</th>\n",
       "      <th>year</th>\n",
       "      <th>day</th>\n",
       "    </tr>\n",
       "  </thead>\n",
       "  <tbody>\n",
       "    <tr>\n",
       "      <th>0</th>\n",
       "      <td>10</td>\n",
       "      <td>The Future Will Be Shaped by Optimists | Kevin...</td>\n",
       "      <td>51273</td>\n",
       "      <td>1900</td>\n",
       "      <td>262</td>\n",
       "      <td>21</td>\n",
       "      <td>4</td>\n",
       "      <td>2022</td>\n",
       "      <td>Thu</td>\n",
       "    </tr>\n",
       "    <tr>\n",
       "      <th>1</th>\n",
       "      <td>9</td>\n",
       "      <td>An Olympic Champion’s Unwavering Advocacy for ...</td>\n",
       "      <td>25597</td>\n",
       "      <td>355</td>\n",
       "      <td>53</td>\n",
       "      <td>20</td>\n",
       "      <td>4</td>\n",
       "      <td>2022</td>\n",
       "      <td>Wed</td>\n",
       "    </tr>\n",
       "    <tr>\n",
       "      <th>2</th>\n",
       "      <td>7</td>\n",
       "      <td>The African Swamp Protecting Earth's Environme...</td>\n",
       "      <td>21430</td>\n",
       "      <td>633</td>\n",
       "      <td>40</td>\n",
       "      <td>20</td>\n",
       "      <td>4</td>\n",
       "      <td>2022</td>\n",
       "      <td>Wed</td>\n",
       "    </tr>\n",
       "    <tr>\n",
       "      <th>3</th>\n",
       "      <td>66</td>\n",
       "      <td>Elon Musk: A future worth getting excited abou...</td>\n",
       "      <td>3609893</td>\n",
       "      <td>95000</td>\n",
       "      <td>8757</td>\n",
       "      <td>18</td>\n",
       "      <td>4</td>\n",
       "      <td>2022</td>\n",
       "      <td>Mon</td>\n",
       "    </tr>\n",
       "    <tr>\n",
       "      <th>4</th>\n",
       "      <td>55</td>\n",
       "      <td>Elon Musk talks Twitter, Tesla and how his bra...</td>\n",
       "      <td>4405481</td>\n",
       "      <td>115000</td>\n",
       "      <td>10444</td>\n",
       "      <td>14</td>\n",
       "      <td>4</td>\n",
       "      <td>2022</td>\n",
       "      <td>Thu</td>\n",
       "    </tr>\n",
       "  </tbody>\n",
       "</table>\n",
       "</div>"
      ],
      "text/plain": [
       "   duration                                              title    views  \\\n",
       "0        10  The Future Will Be Shaped by Optimists | Kevin...    51273   \n",
       "1         9  An Olympic Champion’s Unwavering Advocacy for ...    25597   \n",
       "2         7  The African Swamp Protecting Earth's Environme...    21430   \n",
       "3        66  Elon Musk: A future worth getting excited abou...  3609893   \n",
       "4        55  Elon Musk talks Twitter, Tesla and how his bra...  4405481   \n",
       "\n",
       "    likes  comments  date  month  year  day  \n",
       "0    1900       262    21      4  2022  Thu  \n",
       "1     355        53    20      4  2022  Wed  \n",
       "2     633        40    20      4  2022  Wed  \n",
       "3   95000      8757    18      4  2022  Mon  \n",
       "4  115000     10444    14      4  2022  Thu  "
      ]
     },
     "execution_count": 14,
     "metadata": {},
     "output_type": "execute_result"
    }
   ],
   "source": [
    "del df['video_link']\n",
    "del df['date_month_year']\n",
    "\n",
    "df.head()"
   ]
  },
  {
   "cell_type": "markdown",
   "id": "94de5726",
   "metadata": {},
   "source": [
    "#### 1. Analysing - Likes"
   ]
  },
  {
   "cell_type": "code",
   "execution_count": 19,
   "id": "8bf817af",
   "metadata": {},
   "outputs": [
    {
     "name": "stdout",
     "output_type": "stream",
     "text": [
      "Minimum :  36\n",
      "Maximum :  1600000\n",
      "Average :  11027\n"
     ]
    }
   ],
   "source": [
    "print(\"Minimum : \", min(df['likes']))\n",
    "print(\"Maximum : \", max(df['likes']))\n",
    "print(\"Average : \", int(df['likes'].mean()))"
   ]
  },
  {
   "cell_type": "code",
   "execution_count": 27,
   "id": "50ec2c47",
   "metadata": {},
   "outputs": [
    {
     "data": {
      "image/png": "[encoded data removed]",
      "text/plain": [
       "<Figure size 720x288 with 1 Axes>"
      ]
     },
     "metadata": {
      "needs_background": "light"
     },
     "output_type": "display_data"
    }
   ],
   "source": [
    "fig ,ax = plt.subplots(figsize = (10,4))\n",
    "\n",
    "ax.hist(df['likes'], bins = 1000)\n",
    "\n",
    "plt.title('Number of likes distribution based on Videos')\n",
    "\n",
    "plt.xlabel('Likes in Millions')\n",
    "plt.ylabel('Number of Videos')\n",
    "\n",
    "plt.show()"
   ]
  },
  {
   "cell_type": "markdown",
   "id": "6c562cab",
   "metadata": {},
   "source": [
    "#### 2. Analysing - Views"
   ]
  },
  {
   "cell_type": "code",
   "execution_count": 29,
   "id": "771a1a7e",
   "metadata": {},
   "outputs": [
    {
     "name": "stdout",
     "output_type": "stream",
     "text": [
      "Minimum :  5699\n",
      "Maximum :  47561789\n",
      "Average :  576490\n"
     ]
    }
   ],
   "source": [
    "print(\"Minimum : \", min(df['views']))\n",
    "print(\"Maximum : \", max(df['views']))\n",
    "print(\"Average : \", int(df['views'].mean()))"
   ]
  },
  {
   "cell_type": "code",
   "execution_count": 34,
   "id": "45446d3a",
   "metadata": {},
   "outputs": [
    {
     "data": {
      "image/png": "[encoded data removed]",
      "text/plain": [
       "<Figure size 720x288 with 1 Axes>"
      ]
     },
     "metadata": {
      "needs_background": "light"
     },
     "output_type": "display_data"
    }
   ],
   "source": [
    "fig ,ax = plt.subplots(figsize = (10,4))\n",
    "\n",
    "ax.hist(df['views'], bins = 1000)\n",
    "\n",
    "plt.title('Number of views distribution based on Videos')\n",
    "\n",
    "plt.xlabel('Views in 10 Millions')\n",
    "plt.ylabel('Number of Videos')\n",
    "\n",
    "plt.show()"
   ]
  },
  {
   "cell_type": "markdown",
   "id": "7346e45d",
   "metadata": {},
   "source": [
    "#### 3. Analysing - Comments"
   ]
  },
  {
   "cell_type": "code",
   "execution_count": 35,
   "id": "c1dbc88e",
   "metadata": {},
   "outputs": [
    {
     "name": "stdout",
     "output_type": "stream",
     "text": [
      "Minimum :  2\n",
      "Maximum :  127586\n",
      "Average :  829\n"
     ]
    }
   ],
   "source": [
    "print(\"Minimum : \", min(df['comments']))\n",
    "print(\"Maximum : \", max(df['comments']))\n",
    "print(\"Average : \", int(df['comments'].mean()))"
   ]
  },
  {
   "cell_type": "code",
   "execution_count": 38,
   "id": "66a71f46",
   "metadata": {},
   "outputs": [
    {
     "data": {
      "image/png": "[encoded data removed]",
      "text/plain": [
       "<Figure size 720x288 with 1 Axes>"
      ]
     },
     "metadata": {
      "needs_background": "light"
     },
     "output_type": "display_data"
    }
   ],
   "source": [
    "fig ,ax = plt.subplots(figsize = (10,4))\n",
    "\n",
    "ax.hist(df['comments'], bins = 1000)\n",
    "\n",
    "plt.title('Number of Comments distribution based on Videos')\n",
    "\n",
    "plt.xlabel('Number of Comments')\n",
    "plt.ylabel('Number of Videos')\n",
    "\n",
    "plt.show()"
   ]
  },
  {
   "cell_type": "markdown",
   "id": "b872354b",
   "metadata": {},
   "source": [
    "### Finding Correlation from Scratch"
   ]
  },
  {
   "cell_type": "code",
   "execution_count": 64,
   "id": "64cfa2ff",
   "metadata": {},
   "outputs": [
    {
     "data": {
      "text/html": [
       "<div>\n",
       "<style scoped>\n",
       "    .dataframe tbody tr th:only-of-type {\n",
       "        vertical-align: middle;\n",
       "    }\n",
       "\n",
       "    .dataframe tbody tr th {\n",
       "        vertical-align: top;\n",
       "    }\n",
       "\n",
       "    .dataframe thead th {\n",
       "        text-align: right;\n",
       "    }\n",
       "</style>\n",
       "<table border=\"1\" class=\"dataframe\">\n",
       "  <thead>\n",
       "    <tr style=\"text-align: right;\">\n",
       "      <th></th>\n",
       "      <th>duration</th>\n",
       "      <th>title</th>\n",
       "      <th>views</th>\n",
       "      <th>likes</th>\n",
       "      <th>comments</th>\n",
       "      <th>date</th>\n",
       "      <th>month</th>\n",
       "      <th>year</th>\n",
       "      <th>day</th>\n",
       "      <th>view_to_like</th>\n",
       "    </tr>\n",
       "  </thead>\n",
       "  <tbody>\n",
       "    <tr>\n",
       "      <th>0</th>\n",
       "      <td>10</td>\n",
       "      <td>The Future Will Be Shaped by Optimists | Kevin...</td>\n",
       "      <td>51273</td>\n",
       "      <td>1900</td>\n",
       "      <td>262</td>\n",
       "      <td>21</td>\n",
       "      <td>4</td>\n",
       "      <td>2022</td>\n",
       "      <td>Thu</td>\n",
       "      <td>0.03706</td>\n",
       "    </tr>\n",
       "    <tr>\n",
       "      <th>1</th>\n",
       "      <td>9</td>\n",
       "      <td>An Olympic Champion’s Unwavering Advocacy for ...</td>\n",
       "      <td>25597</td>\n",
       "      <td>355</td>\n",
       "      <td>53</td>\n",
       "      <td>20</td>\n",
       "      <td>4</td>\n",
       "      <td>2022</td>\n",
       "      <td>Wed</td>\n",
       "      <td>0.01387</td>\n",
       "    </tr>\n",
       "    <tr>\n",
       "      <th>2</th>\n",
       "      <td>7</td>\n",
       "      <td>The African Swamp Protecting Earth's Environme...</td>\n",
       "      <td>21430</td>\n",
       "      <td>633</td>\n",
       "      <td>40</td>\n",
       "      <td>20</td>\n",
       "      <td>4</td>\n",
       "      <td>2022</td>\n",
       "      <td>Wed</td>\n",
       "      <td>0.02954</td>\n",
       "    </tr>\n",
       "    <tr>\n",
       "      <th>3</th>\n",
       "      <td>66</td>\n",
       "      <td>Elon Musk: A future worth getting excited abou...</td>\n",
       "      <td>3609893</td>\n",
       "      <td>95000</td>\n",
       "      <td>8757</td>\n",
       "      <td>18</td>\n",
       "      <td>4</td>\n",
       "      <td>2022</td>\n",
       "      <td>Mon</td>\n",
       "      <td>0.02632</td>\n",
       "    </tr>\n",
       "    <tr>\n",
       "      <th>4</th>\n",
       "      <td>55</td>\n",
       "      <td>Elon Musk talks Twitter, Tesla and how his bra...</td>\n",
       "      <td>4405481</td>\n",
       "      <td>115000</td>\n",
       "      <td>10444</td>\n",
       "      <td>14</td>\n",
       "      <td>4</td>\n",
       "      <td>2022</td>\n",
       "      <td>Thu</td>\n",
       "      <td>0.02610</td>\n",
       "    </tr>\n",
       "  </tbody>\n",
       "</table>\n",
       "</div>"
      ],
      "text/plain": [
       "   duration                                              title    views  \\\n",
       "0        10  The Future Will Be Shaped by Optimists | Kevin...    51273   \n",
       "1         9  An Olympic Champion’s Unwavering Advocacy for ...    25597   \n",
       "2         7  The African Swamp Protecting Earth's Environme...    21430   \n",
       "3        66  Elon Musk: A future worth getting excited abou...  3609893   \n",
       "4        55  Elon Musk talks Twitter, Tesla and how his bra...  4405481   \n",
       "\n",
       "    likes  comments  date  month  year  day  view_to_like  \n",
       "0    1900       262    21      4  2022  Thu       0.03706  \n",
       "1     355        53    20      4  2022  Wed       0.01387  \n",
       "2     633        40    20      4  2022  Wed       0.02954  \n",
       "3   95000      8757    18      4  2022  Mon       0.02632  \n",
       "4  115000     10444    14      4  2022  Thu       0.02610  "
      ]
     },
     "execution_count": 64,
     "metadata": {},
     "output_type": "execute_result"
    }
   ],
   "source": [
    "factor = []\n",
    "\n",
    "for i in df.values:    \n",
    "    factor.append(round(i[3]/i[2],5))          # i[2] = Views, i[3] = likes\n",
    "    \n",
    "df['view_to_like'] = factor\n",
    "\n",
    "df.head()"
   ]
  },
  {
   "cell_type": "code",
   "execution_count": 67,
   "id": "685c60bf",
   "metadata": {},
   "outputs": [
    {
     "name": "stdout",
     "output_type": "stream",
     "text": [
      "Minimum :  0.00042\n",
      "Maximum :  0.07977\n"
     ]
    }
   ],
   "source": [
    "print(\"Minimum : \", min(df['view_to_like']))\n",
    "print(\"Maximum : \", max(df['view_to_like']))"
   ]
  },
  {
   "cell_type": "code",
   "execution_count": 75,
   "id": "318edbfe",
   "metadata": {},
   "outputs": [
    {
     "data": {
      "image/png": "[encoded data removed]",
      "text/plain": [
       "<Figure size 720x288 with 1 Axes>"
      ]
     },
     "metadata": {
      "needs_background": "light"
     },
     "output_type": "display_data"
    }
   ],
   "source": [
    "fig ,ax = plt.subplots(figsize = (10,4))\n",
    "\n",
    "ax.hist(df['view_to_like'], bins = 100)\n",
    "\n",
    "plt.title('Number of view_to_like distribution based on Videos')\n",
    "\n",
    "plt.xlabel('Number of view_to_like')\n",
    "plt.ylabel('Number of Videos')\n",
    "\n",
    "plt.show()"
   ]
  },
  {
   "cell_type": "code",
   "execution_count": 72,
   "id": "69b3a4da",
   "metadata": {
    "scrolled": true
   },
   "outputs": [
    {
     "data": {
      "text/plain": [
       "0    0.037057\n",
       "1    0.013869\n",
       "2    0.029538\n",
       "3    0.026317\n",
       "4    0.026104\n",
       "5    0.031371\n",
       "6    0.013871\n",
       "7    0.053220\n",
       "8    0.013883\n",
       "9    0.013866\n",
       "dtype: float64"
      ]
     },
     "execution_count": 72,
     "metadata": {},
     "output_type": "execute_result"
    }
   ],
   "source": [
    "df['likes'][:10] / df['views'][:10]"
   ]
  },
  {
   "cell_type": "code",
   "execution_count": null,
   "id": "ce8c9425",
   "metadata": {},
   "outputs": [],
   "source": [
    "likes/views = factor\n",
    "\n",
    "likes = factor * views"
   ]
  },
  {
   "cell_type": "code",
   "execution_count": 80,
   "id": "197e04e8",
   "metadata": {},
   "outputs": [
    {
     "data": {
      "text/plain": [
       "13"
      ]
     },
     "execution_count": 80,
     "metadata": {},
     "output_type": "execute_result"
    }
   ],
   "source": [
    "int(1000 * 0.01388)"
   ]
  },
  {
   "cell_type": "code",
   "execution_count": 78,
   "id": "bd140d1e",
   "metadata": {},
   "outputs": [
    {
     "data": {
      "text/plain": [
       "0    0.01388\n",
       "dtype: float64"
      ]
     },
     "execution_count": 78,
     "metadata": {},
     "output_type": "execute_result"
    }
   ],
   "source": [
    "df['view_to_like'].mode()"
   ]
  },
  {
   "cell_type": "code",
   "execution_count": null,
   "id": "ce13e1ae",
   "metadata": {},
   "outputs": [],
   "source": []
  }
 ],
 "metadata": {
  "kernelspec": {
   "display_name": "Python 3 (ipykernel)",
   "language": "python",
   "name": "python3"
  },
  "language_info": {
   "codemirror_mode": {
    "name": "ipython",
    "version": 3
   },
   "file_extension": ".py",
   "mimetype": "text/x-python",
   "name": "python",
   "nbconvert_exporter": "python",
   "pygments_lexer": "ipython3",
   "version": "3.9.7"
  }
 },
 "nbformat": 4,
 "nbformat_minor": 5
}
