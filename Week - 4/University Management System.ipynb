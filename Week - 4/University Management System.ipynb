{
 "cells": [
  {
   "cell_type": "markdown",
   "id": "9329627c",
   "metadata": {},
   "source": [
    "## Students Details"
   ]
  },
  {
   "cell_type": "code",
   "execution_count": 1,
   "id": "1d655749",
   "metadata": {},
   "outputs": [],
   "source": [
    "dct = { 11602259 : {'first_name':'Ashish', \n",
    "                    'last_name':'Jangra',\n",
    "                    'cell' : 9274923753,\n",
    "                    'mail' : 'abc@gmail.com',\n",
    "                    'degree' : 'B.Tech-CSE',\n",
    "                    'batch' : '2016-2020'},\n",
    "       \n",
    "        11602260 : {'first_name':'Rajan', \n",
    "                    'last_name':'Jha',\n",
    "                    'cell' : 964923753,\n",
    "                    'mail' : 'abd@gmail.com',\n",
    "                    'degree' : 'B.Tech-CSE',\n",
    "                    'batch' : '2016-2020'}}"
   ]
  },
  {
   "cell_type": "markdown",
   "id": "dea87fc5",
   "metadata": {},
   "source": [
    "## Displaying User Detail"
   ]
  },
  {
   "cell_type": "code",
   "execution_count": 2,
   "id": "70187a2e",
   "metadata": {
    "scrolled": true
   },
   "outputs": [
    {
     "name": "stdout",
     "output_type": "stream",
     "text": [
      "Enter the registration no: 11602259\n",
      "------------------------------\n",
      "Ashish\n",
      "Jangra\n",
      "9274923753\n",
      "abc@gmail.com\n",
      "B.Tech-CSE\n",
      "2016-2020\n"
     ]
    }
   ],
   "source": [
    "reg_no = int(input('Enter the registration no: '))\n",
    "\n",
    "print('-'*30)\n",
    "print(dct[reg_no]['first_name'])\n",
    "print(dct[reg_no]['last_name'])\n",
    "print(dct[reg_no]['cell'])\n",
    "print(dct[reg_no]['mail'])\n",
    "print(dct[reg_no]['degree'])\n",
    "print(dct[reg_no]['batch'])"
   ]
  },
  {
   "cell_type": "markdown",
   "id": "68b5439f",
   "metadata": {},
   "source": [
    "## Adding New User Detail"
   ]
  },
  {
   "cell_type": "code",
   "execution_count": 11,
   "id": "2733b1ac",
   "metadata": {},
   "outputs": [
    {
     "name": "stdout",
     "output_type": "stream",
     "text": [
      "Reg No       : 11602258\n",
      "First name   : Manish\n",
      "Last name    : Kitni\n",
      "Phone number : 6537849343\n",
      "Mail ID      : dfjkhds@gmail.com\n",
      "Degree       : B.Tech-CSE\n",
      "Batch        : 2016-2020\n"
     ]
    }
   ],
   "source": [
    "reg_no     = int(input('Reg No       : '))\n",
    "first_name = str(input('First name   : '))\n",
    "last_name  = str(input('Last name    : '))\n",
    "cell       = int(input('Phone number : '))\n",
    "mail       = str(input('Mail ID      : '))\n",
    "degree     = str(input('Degree       : '))\n",
    "batch      = str(input('Batch        : '))\n",
    "\n",
    "temp = {}\n",
    "temp['first_name'] = first_name\n",
    "temp['last_name'] = last_name\n",
    "temp['cell'] = cell \n",
    "temp['mail'] = mail\n",
    "temp['degree'] = degree\n",
    "temp['batch'] = batch\n",
    "\n",
    "dct[reg_no] = temp"
   ]
  },
  {
   "cell_type": "code",
   "execution_count": 15,
   "id": "daed29f2",
   "metadata": {},
   "outputs": [],
   "source": [
    "dct[11602259]['cell'] = 7493534896"
   ]
  },
  {
   "cell_type": "markdown",
   "id": "9b1a09f7",
   "metadata": {},
   "source": [
    "## 2. Section Details"
   ]
  },
  {
   "cell_type": "code",
   "execution_count": 4,
   "id": "521314da",
   "metadata": {},
   "outputs": [],
   "source": [
    "section = {'K1632' : {'hod' : 12545, 'degree' : 'CSE', 'teacher' : [12255, 12343, 15434,13242]},\n",
    "           'K1631' : {'hod' : 12544, 'degree' : 'CSE', 'teacher' : [12343, 15434,12255]},\n",
    "           'K1630' : {'hod' : 12543, 'degree' : 'CSE', 'teacher' : [13242,12343]}}"
   ]
  },
  {
   "cell_type": "code",
   "execution_count": 23,
   "id": "0da81ecd",
   "metadata": {
    "scrolled": true
   },
   "outputs": [
    {
     "data": {
      "text/plain": [
       "'Abkush'"
      ]
     },
     "execution_count": 23,
     "metadata": {},
     "output_type": "execute_result"
    }
   ],
   "source": [
    "teacher[section['K1630']['hod']]['first_name']"
   ]
  },
  {
   "cell_type": "markdown",
   "id": "96b398e8",
   "metadata": {},
   "source": [
    "## 3. Teachers Details"
   ]
  },
  {
   "cell_type": "code",
   "execution_count": 42,
   "id": "68677b92",
   "metadata": {},
   "outputs": [],
   "source": [
    "teacher = { 12543 : {'first_name':'Ashish', \n",
    "                 'mail' : 'abc@gmail.com'},\n",
    "      12255 :  {'first_name':'Abhishek', \n",
    "                 'mail' : 'abc@gmail.com'},\n",
    "      12256 :  {'first_name':'Abhi', \n",
    "                 'mail' : 'abc@gmail.com'},\n",
    "      12343 : {'first_name':'Abhimanyu', \n",
    "                 'mail' : 'abc@gmail.com'},\n",
    "      15434 : {'first_name':'Karan', \n",
    "                 'mail' : 'abc@gmail.com'},\n",
    "      13242 : {'first_name':'Arjun', \n",
    "                 'mail' : 'abc@gmail.com'},\n",
    "      12544 : {'first_name':'Ayush', \n",
    "                 'mail' : 'abc@gmail.com'},\n",
    "      12543 : {'first_name':'Abkush', \n",
    "                 'mail' : 'abc@gmail.com'},\n",
    "      12348 : {'first_name':'Bharat', \n",
    "                 'mail' : 'abc@gmail.com'}}"
   ]
  },
  {
   "cell_type": "code",
   "execution_count": 45,
   "id": "5f91ea9c",
   "metadata": {},
   "outputs": [
    {
     "name": "stdout",
     "output_type": "stream",
     "text": [
      "HOD :  Ayush ( 12544 )\n",
      "Degree :  CSE\n",
      "--Teachers--\n",
      "Abhi\n",
      "Bharat\n",
      "Arjun\n",
      "----------\n"
     ]
    }
   ],
   "source": [
    "print(\"HOD : \", teacher[section['K1631']['hod']]['first_name'],'(',section['K1631']['hod'],')')\n",
    "print(\"Degree : \", section['K1631']['degree'])\n",
    "\n",
    "print('--Teachers--')\n",
    "for i in section['K1631']['teacher']:\n",
    "    print(teacher[i]['first_name'])\n",
    "    \n",
    "print('-'*10)"
   ]
  }
 ],
 "metadata": {
  "kernelspec": {
   "display_name": "Python 3 (ipykernel)",
   "language": "python",
   "name": "python3"
  },
  "language_info": {
   "codemirror_mode": {
    "name": "ipython",
    "version": 3
   },
   "file_extension": ".py",
   "mimetype": "text/x-python",
   "name": "python",
   "nbconvert_exporter": "python",
   "pygments_lexer": "ipython3",
   "version": "3.9.7"
  }
 },
 "nbformat": 4,
 "nbformat_minor": 5
}
