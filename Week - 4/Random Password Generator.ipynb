{
 "cells": [
  {
   "cell_type": "markdown",
   "id": "e735bf87",
   "metadata": {},
   "source": [
    "## 1. Numeric Passoword"
   ]
  },
  {
   "cell_type": "code",
   "execution_count": 2,
   "id": "161e2cad",
   "metadata": {},
   "outputs": [],
   "source": [
    "import random"
   ]
  },
  {
   "cell_type": "code",
   "execution_count": 44,
   "id": "c4e06d1a",
   "metadata": {},
   "outputs": [
    {
     "name": "stdout",
     "output_type": "stream",
     "text": [
      "What should be the length of the password? 88\n",
      "Password :  9121616653530227571919580420475058110385508453786612609579879591966225932331980135303995\n"
     ]
    }
   ],
   "source": [
    "length = int(input('What should be the length of the password? '))\n",
    "\n",
    "start = pow(10,length-1)\n",
    "end   = int('9'*length)\n",
    "\n",
    "print(\"Password : \",random.randint(start,end))"
   ]
  },
  {
   "cell_type": "markdown",
   "id": "a4cde513",
   "metadata": {},
   "source": [
    "## 2. Alphabet (A-Z)"
   ]
  },
  {
   "cell_type": "code",
   "execution_count": 86,
   "id": "bd124abb",
   "metadata": {
    "scrolled": true
   },
   "outputs": [
    {
     "name": "stdout",
     "output_type": "stream",
     "text": [
      "What should be the length of the password? 8\n",
      "Passowrd:  OPZZLELJ\n"
     ]
    }
   ],
   "source": [
    "length = int(input('What should be the length of the password? '))\n",
    "\n",
    "password = ''\n",
    "\n",
    "for i in range(length):\n",
    "    password += chr(random.randint(65,90))\n",
    "    \n",
    "print('Passowrd: ', password)"
   ]
  },
  {
   "cell_type": "markdown",
   "id": "76346f54",
   "metadata": {},
   "source": [
    "## 3. Alphbet (a-z)"
   ]
  },
  {
   "cell_type": "code",
   "execution_count": 87,
   "id": "01104cf7",
   "metadata": {},
   "outputs": [
    {
     "name": "stdout",
     "output_type": "stream",
     "text": [
      "What should be the length of the password? 10\n",
      "Passowrd:  foqdmbyzmh\n"
     ]
    }
   ],
   "source": [
    "length = int(input('What should be the length of the password? '))\n",
    "\n",
    "password = ''\n",
    "\n",
    "for i in range(length):\n",
    "    password += chr(random.randint(97,122))\n",
    "    \n",
    "print('Passowrd: ', password)"
   ]
  },
  {
   "cell_type": "markdown",
   "id": "020a2173",
   "metadata": {},
   "source": [
    "## 4. Alphanumeric"
   ]
  },
  {
   "cell_type": "code",
   "execution_count": 88,
   "id": "95a320a0",
   "metadata": {},
   "outputs": [
    {
     "name": "stdout",
     "output_type": "stream",
     "text": [
      "What should be the length of the password? 28\n",
      "Passowrd:  9mpcKS(S0AL^f]Axk8r8yJ)Dei'U\n"
     ]
    }
   ],
   "source": [
    "length = int(input('What should be the length of the password? '))\n",
    "\n",
    "password = ''\n",
    "\n",
    "for i in range(length):\n",
    "    password += chr(random.randint(33,126))\n",
    "    \n",
    "print('Passowrd: ', password)"
   ]
  },
  {
   "cell_type": "markdown",
   "id": "6d6e8d98",
   "metadata": {},
   "source": [
    "## 5. Alphnumeric ( after removing some special characher)"
   ]
  },
  {
   "cell_type": "code",
   "execution_count": 99,
   "id": "efa7d99b",
   "metadata": {},
   "outputs": [
    {
     "name": "stdout",
     "output_type": "stream",
     "text": [
      "What should be the length of the password? 65\n",
      "Passowrd:  btKa&Xf%0#Pb$G7$mLG&Je3ETAqO1aEp6klvpRtX0itO1G2OTxRvhjga5sGCfwNmD\n"
     ]
    }
   ],
   "source": [
    "length = int(input('What should be the length of the password? '))\n",
    "\n",
    "password = ''\n",
    "\n",
    "while len(password) != length:\n",
    "    \n",
    "    ch = chr(random.randint(33,126))\n",
    "    \n",
    "    if (ord(ch) >= 35 and ord(ch) <= 38): # #$%&\n",
    "        password += ch\n",
    "    \n",
    "    elif (ord(ch) >= 48 and ord(ch) <= 57): # 0123456789\n",
    "        password += ch\n",
    "        \n",
    "    elif (ord(ch) >= 65 and ord(ch) <= 90): # DFHGVAF\n",
    "        password += ch\n",
    "        \n",
    "    elif (ord(ch) >= 97 and ord(ch) <= 122): # asdfghbvc\n",
    "        password += ch\n",
    "    \n",
    "    \n",
    "print('Passowrd: ', password)"
   ]
  }
 ],
 "metadata": {
  "kernelspec": {
   "display_name": "Python 3 (ipykernel)",
   "language": "python",
   "name": "python3"
  },
  "language_info": {
   "codemirror_mode": {
    "name": "ipython",
    "version": 3
   },
   "file_extension": ".py",
   "mimetype": "text/x-python",
   "name": "python",
   "nbconvert_exporter": "python",
   "pygments_lexer": "ipython3",
   "version": "3.9.7"
  }
 },
 "nbformat": 4,
 "nbformat_minor": 5
}
