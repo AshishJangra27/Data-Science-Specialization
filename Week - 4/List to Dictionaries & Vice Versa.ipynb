{
 "cells": [
  {
   "cell_type": "markdown",
   "id": "685cf31e",
   "metadata": {},
   "source": [
    "## 1. List to Dictionary"
   ]
  },
  {
   "cell_type": "code",
   "execution_count": 34,
   "id": "77c556b7",
   "metadata": {},
   "outputs": [],
   "source": [
    "data = [[1, 'Prakash',60,70,85,95],\n",
    "        [2, 'Ashish' ,65,77,75,93],\n",
    "        [3, 'Anshika',68,72,85,89],\n",
    "        [4, 'Ayushi' ,62,74,90,94],\n",
    "        [5, 'Lanka'  ,55,56,56,67]]"
   ]
  },
  {
   "cell_type": "code",
   "execution_count": 35,
   "id": "7827ff37",
   "metadata": {},
   "outputs": [
    {
     "data": {
      "text/plain": [
       "{1: {'name': 'Prakash', 'eng': 60, 'hin': 70, 'sci': 85, 'mth': 95},\n",
       " 2: {'name': 'Ashish', 'eng': 65, 'hin': 77, 'sci': 75, 'mth': 93},\n",
       " 3: {'name': 'Anshika', 'eng': 68, 'hin': 72, 'sci': 85, 'mth': 89},\n",
       " 4: {'name': 'Ayushi', 'eng': 62, 'hin': 74, 'sci': 90, 'mth': 94},\n",
       " 5: {'name': 'Lanka', 'eng': 55, 'hin': 56, 'sci': 56, 'mth': 67}}"
      ]
     },
     "execution_count": 35,
     "metadata": {},
     "output_type": "execute_result"
    }
   ],
   "source": [
    "dct = {}\n",
    "\n",
    "for i in data:\n",
    "    \n",
    "    student = {}    \n",
    "    student['name'] = i[1]\n",
    "    student['eng']  = i[2]\n",
    "    student['hin']  = i[3]\n",
    "    student['sci']  = i[4]\n",
    "    student['mth']  = i[5]\n",
    "    \n",
    "    dct[i[0]] = student\n",
    "    \n",
    "dct"
   ]
  },
  {
   "cell_type": "markdown",
   "id": "64e22b80",
   "metadata": {},
   "source": [
    "## 2. Dictionaries"
   ]
  },
  {
   "cell_type": "code",
   "execution_count": 39,
   "id": "1d655749",
   "metadata": {},
   "outputs": [],
   "source": [
    "dct = { 1 : {'name': 'Prakash' ,'eng' : 60, 'hin' : 70,'sci' : 85,'mth' : 95},\n",
    "        2 : {'name': 'Ashish'  ,'eng' : 65, 'hin' : 77,'sci' : 75,'mth' : 93},\n",
    "        3 : {'name': 'Anshika' ,'eng' : 68, 'hin' : 72,'sci' : 85,'mth' : 89},\n",
    "        4 : {'name': 'Ayushi'  ,'eng' : 62, 'hin' : 74,'sci' : 90,'mth' : 94}}"
   ]
  },
  {
   "cell_type": "code",
   "execution_count": 45,
   "id": "d3a05843",
   "metadata": {},
   "outputs": [],
   "source": [
    "data = []\n",
    "\n",
    "for roll_no in dct.keys():\n",
    "    \n",
    "    data.append([roll_no, dct[roll_no]['name'], dct[roll_no]['eng'],dct[roll_no]['hin'],dct[roll_no]['sci'],dct[roll_no]['mth']])"
   ]
  },
  {
   "cell_type": "code",
   "execution_count": 46,
   "id": "a47336da",
   "metadata": {},
   "outputs": [
    {
     "data": {
      "text/plain": [
       "[[1, 'Prakash', 60, 70, 85, 95],\n",
       " [2, 'Ashish', 65, 77, 75, 93],\n",
       " [3, 'Anshika', 68, 72, 85, 89],\n",
       " [4, 'Ayushi', 62, 74, 90, 94]]"
      ]
     },
     "execution_count": 46,
     "metadata": {},
     "output_type": "execute_result"
    }
   ],
   "source": [
    "data"
   ]
  },
  {
   "cell_type": "code",
   "execution_count": null,
   "id": "4c603a38",
   "metadata": {},
   "outputs": [],
   "source": []
  }
 ],
 "metadata": {
  "kernelspec": {
   "display_name": "Python 3 (ipykernel)",
   "language": "python",
   "name": "python3"
  },
  "language_info": {
   "codemirror_mode": {
    "name": "ipython",
    "version": 3
   },
   "file_extension": ".py",
   "mimetype": "text/x-python",
   "name": "python",
   "nbconvert_exporter": "python",
   "pygments_lexer": "ipython3",
   "version": "3.9.7"
  }
 },
 "nbformat": 4,
 "nbformat_minor": 5
}
