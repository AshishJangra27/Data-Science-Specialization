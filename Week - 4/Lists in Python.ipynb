{
 "cells": [
  {
   "cell_type": "code",
   "execution_count": 1,
   "id": "347c5981",
   "metadata": {},
   "outputs": [],
   "source": [
    "name = 'Prakash'\n",
    "\n",
    "hin = 60\n",
    "eng = 70\n",
    "mth = 65\n",
    "sci = 65"
   ]
  },
  {
   "cell_type": "code",
   "execution_count": 45,
   "id": "73471b93",
   "metadata": {},
   "outputs": [],
   "source": [
    "# Roll No.  - 0\n",
    "# Name      - 1\n",
    "# Hindi     - 2\n",
    "# English   - 3\n",
    "# Math      - 4\n",
    "# Science   - 5\n",
    "\n",
    "data = [[1, 'Prakash',60,70,65,65],\n",
    "        [2, 'Ashish' ,60,77,65,65],\n",
    "        [3, 'Anshika',60,76,65,65],\n",
    "        [4, 'Ayushi' ,60,76,65,65]]"
   ]
  },
  {
   "cell_type": "code",
   "execution_count": 46,
   "id": "74a5c577",
   "metadata": {},
   "outputs": [
    {
     "data": {
      "text/plain": [
       "[[1, 'Prakash', 60, 70, 65, 65],\n",
       " [2, 'Ashish', 60, 77, 65, 65],\n",
       " [3, 'Anshika', 60, 76, 65, 65],\n",
       " [4, 'Ayushi', 60, 76, 65, 65]]"
      ]
     },
     "execution_count": 46,
     "metadata": {},
     "output_type": "execute_result"
    }
   ],
   "source": [
    "data"
   ]
  },
  {
   "cell_type": "code",
   "execution_count": 44,
   "id": "49dd69cb",
   "metadata": {},
   "outputs": [
    {
     "name": "stdout",
     "output_type": "stream",
     "text": [
      "60\n",
      "60\n",
      "60\n",
      "60\n"
     ]
    }
   ],
   "source": [
    "for student in data:\n",
    "    print(student[1])"
   ]
  },
  {
   "cell_type": "code",
   "execution_count": 34,
   "id": "0c61f834",
   "metadata": {},
   "outputs": [
    {
     "data": {
      "text/plain": [
       "30"
      ]
     },
     "execution_count": 34,
     "metadata": {},
     "output_type": "execute_result"
    }
   ],
   "source": [
    "30"
   ]
  },
  {
   "cell_type": "code",
   "execution_count": 11,
   "id": "0e14f620",
   "metadata": {},
   "outputs": [
    {
     "data": {
      "text/plain": [
       "150"
      ]
     },
     "execution_count": 11,
     "metadata": {},
     "output_type": "execute_result"
    }
   ],
   "source": [
    "5*30"
   ]
  },
  {
   "cell_type": "code",
   "execution_count": null,
   "id": "128f6ee4",
   "metadata": {},
   "outputs": [],
   "source": []
  }
 ],
 "metadata": {
  "kernelspec": {
   "display_name": "Python 3 (ipykernel)",
   "language": "python",
   "name": "python3"
  },
  "language_info": {
   "codemirror_mode": {
    "name": "ipython",
    "version": 3
   },
   "file_extension": ".py",
   "mimetype": "text/x-python",
   "name": "python",
   "nbconvert_exporter": "python",
   "pygments_lexer": "ipython3",
   "version": "3.9.7"
  }
 },
 "nbformat": 4,
 "nbformat_minor": 5
}
