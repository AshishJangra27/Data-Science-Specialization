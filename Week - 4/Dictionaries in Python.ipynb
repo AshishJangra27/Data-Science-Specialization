{
 "cells": [
  {
   "cell_type": "markdown",
   "id": "d1ba318a",
   "metadata": {},
   "source": [
    "## 1. Lists"
   ]
  },
  {
   "cell_type": "code",
   "execution_count": 23,
   "id": "558eec19",
   "metadata": {
    "scrolled": true
   },
   "outputs": [
    {
     "name": "stdout",
     "output_type": "stream",
     "text": [
      "Enter the month: 10\n"
     ]
    }
   ],
   "source": [
    "ch = int(input(\"Enter the month: \"))"
   ]
  },
  {
   "cell_type": "code",
   "execution_count": 24,
   "id": "1240c3b9",
   "metadata": {},
   "outputs": [],
   "source": [
    "if (ch == 1):\n",
    "    print('January')\n",
    "    \n",
    "if (ch == 2):\n",
    "    print('Feb')\n",
    "\n",
    "if (ch == 3):\n",
    "    print('March')"
   ]
  },
  {
   "cell_type": "code",
   "execution_count": 25,
   "id": "600cb2ca",
   "metadata": {},
   "outputs": [],
   "source": [
    "month_numb = [1,2,3,4,5,6,7,8,9,10,11,12]\n",
    "month_name = ['January','February','March','April','May','June','July','August', 'September', 'October' ,'November', 'December']"
   ]
  },
  {
   "cell_type": "code",
   "execution_count": 31,
   "id": "81326f05",
   "metadata": {},
   "outputs": [
    {
     "name": "stdout",
     "output_type": "stream",
     "text": [
      "Enter the month: 10\n",
      "October\n"
     ]
    }
   ],
   "source": [
    "ch = int(input(\"Enter the month: \"))\n",
    "\n",
    "for i in range(len(month_numb)):\n",
    "    if (ch == i):\n",
    "        print(month_name[i-1])"
   ]
  },
  {
   "cell_type": "code",
   "execution_count": 35,
   "id": "a68f2e2e",
   "metadata": {},
   "outputs": [
    {
     "name": "stdout",
     "output_type": "stream",
     "text": [
      "Enter the month: 3\n",
      "March\n"
     ]
    }
   ],
   "source": [
    "ch = int(input(\"Enter the month: \"))\n",
    "\n",
    "print(month_name[ch-1])"
   ]
  },
  {
   "cell_type": "markdown",
   "id": "00e602e9",
   "metadata": {},
   "source": [
    "## 2. Dictionary"
   ]
  },
  {
   "cell_type": "code",
   "execution_count": 44,
   "id": "11b1216d",
   "metadata": {},
   "outputs": [],
   "source": [
    "dct = {1 : 'January' , 2 : 'February', 3 : 'March', 4 : 'April', 5 : 'May', 6 : 'June', 7 : 'July', 8  : 'August', 9  : 'September', 10 : 'October', 11 : 'November', 12 : 'December'}"
   ]
  },
  {
   "cell_type": "code",
   "execution_count": 45,
   "id": "e6d4234a",
   "metadata": {},
   "outputs": [
    {
     "data": {
      "text/plain": [
       "{1: 'January',\n",
       " 2: 'February',\n",
       " 3: 'March',\n",
       " 4: 'April',\n",
       " 5: 'May',\n",
       " 6: 'June',\n",
       " 7: 'July',\n",
       " 8: 'August',\n",
       " 9: 'September',\n",
       " 10: 'October',\n",
       " 11: 'November',\n",
       " 12: 'December'}"
      ]
     },
     "execution_count": 45,
     "metadata": {},
     "output_type": "execute_result"
    }
   ],
   "source": [
    "dct"
   ]
  },
  {
   "cell_type": "code",
   "execution_count": 56,
   "id": "60ae64b0",
   "metadata": {},
   "outputs": [
    {
     "name": "stdout",
     "output_type": "stream",
     "text": [
      "Enter the month: 5\n"
     ]
    },
    {
     "data": {
      "text/plain": [
       "'May'"
      ]
     },
     "execution_count": 56,
     "metadata": {},
     "output_type": "execute_result"
    }
   ],
   "source": [
    "ch = int(input(\"Enter the month: \"))\n",
    "\n",
    "dct[ch]"
   ]
  },
  {
   "cell_type": "code",
   "execution_count": 63,
   "id": "49391c32",
   "metadata": {},
   "outputs": [
    {
     "data": {
      "text/plain": [
       "dict_keys([1, 2, 3, 4, 5, 6, 7, 8, 9, 10, 11, 12])"
      ]
     },
     "execution_count": 63,
     "metadata": {},
     "output_type": "execute_result"
    }
   ],
   "source": [
    "dct.keys()"
   ]
  },
  {
   "cell_type": "code",
   "execution_count": 64,
   "id": "41582a4a",
   "metadata": {},
   "outputs": [
    {
     "data": {
      "text/plain": [
       "dict_values(['January', 'February', 'March', 'April', 'May', 'June', 'July', 'August', 'September', 'October', 'November', 'December'])"
      ]
     },
     "execution_count": 64,
     "metadata": {},
     "output_type": "execute_result"
    }
   ],
   "source": [
    "dct.values()"
   ]
  },
  {
   "cell_type": "code",
   "execution_count": 69,
   "id": "a89b9264",
   "metadata": {},
   "outputs": [
    {
     "name": "stdout",
     "output_type": "stream",
     "text": [
      "1 -|- January\n",
      "2 -|- February\n",
      "3 -|- March\n",
      "4 -|- April\n",
      "5 -|- May\n",
      "6 -|- June\n",
      "7 -|- July\n",
      "8 -|- August\n",
      "9 -|- September\n",
      "10 -|- October\n",
      "11 -|- November\n",
      "12 -|- December\n"
     ]
    }
   ],
   "source": [
    "for key in dct.keys():\n",
    "    print(key , \"-|-\",dct[key])"
   ]
  },
  {
   "cell_type": "code",
   "execution_count": 71,
   "id": "46f6b31b",
   "metadata": {},
   "outputs": [],
   "source": [
    "del dct[2]"
   ]
  },
  {
   "cell_type": "code",
   "execution_count": 72,
   "id": "9a6d6c27",
   "metadata": {},
   "outputs": [
    {
     "data": {
      "text/plain": [
       "{1: 'January',\n",
       " 3: 'March',\n",
       " 4: 'April',\n",
       " 5: 'May',\n",
       " 6: 'June',\n",
       " 7: 'July',\n",
       " 8: 'August',\n",
       " 9: 'September',\n",
       " 10: 'October',\n",
       " 11: 'November',\n",
       " 12: 'December'}"
      ]
     },
     "execution_count": 72,
     "metadata": {},
     "output_type": "execute_result"
    }
   ],
   "source": [
    "dct"
   ]
  },
  {
   "cell_type": "code",
   "execution_count": 73,
   "id": "86e88e3e",
   "metadata": {},
   "outputs": [],
   "source": [
    "dct[2] = 'February'"
   ]
  },
  {
   "cell_type": "code",
   "execution_count": 74,
   "id": "33e90dd0",
   "metadata": {},
   "outputs": [
    {
     "data": {
      "text/plain": [
       "{1: 'January',\n",
       " 3: 'March',\n",
       " 4: 'April',\n",
       " 5: 'May',\n",
       " 6: 'June',\n",
       " 7: 'July',\n",
       " 8: 'August',\n",
       " 9: 'September',\n",
       " 10: 'October',\n",
       " 11: 'November',\n",
       " 12: 'December',\n",
       " 2: 'February'}"
      ]
     },
     "execution_count": 74,
     "metadata": {},
     "output_type": "execute_result"
    }
   ],
   "source": [
    "dct"
   ]
  },
  {
   "cell_type": "code",
   "execution_count": 79,
   "id": "a9754829",
   "metadata": {},
   "outputs": [
    {
     "data": {
      "text/plain": [
       "'April'"
      ]
     },
     "execution_count": 79,
     "metadata": {},
     "output_type": "execute_result"
    }
   ],
   "source": [
    "dct[4]"
   ]
  },
  {
   "cell_type": "code",
   "execution_count": null,
   "id": "76689fae",
   "metadata": {},
   "outputs": [],
   "source": []
  },
  {
   "cell_type": "code",
   "execution_count": null,
   "id": "7136103d",
   "metadata": {},
   "outputs": [],
   "source": []
  },
  {
   "cell_type": "code",
   "execution_count": null,
   "id": "29f014eb",
   "metadata": {},
   "outputs": [],
   "source": []
  },
  {
   "cell_type": "code",
   "execution_count": null,
   "id": "8b5285ae",
   "metadata": {},
   "outputs": [],
   "source": []
  },
  {
   "cell_type": "code",
   "execution_count": null,
   "id": "99612dc2",
   "metadata": {},
   "outputs": [],
   "source": []
  },
  {
   "cell_type": "code",
   "execution_count": null,
   "id": "279ac716",
   "metadata": {},
   "outputs": [],
   "source": []
  },
  {
   "cell_type": "code",
   "execution_count": null,
   "id": "0bee9aad",
   "metadata": {},
   "outputs": [],
   "source": []
  },
  {
   "cell_type": "code",
   "execution_count": 52,
   "id": "77c556b7",
   "metadata": {},
   "outputs": [],
   "source": [
    "data = [[1, 'Prakash',60,70,85,95],\n",
    "        [2, 'Ashish' ,65,77,75,93],\n",
    "        [3, 'Anshika',68,72,85,89],\n",
    "        [4, 'Ayushi' ,62,74,90,94]]"
   ]
  },
  {
   "cell_type": "code",
   "execution_count": 53,
   "id": "5a2f9c78",
   "metadata": {
    "scrolled": true
   },
   "outputs": [
    {
     "data": {
      "text/plain": [
       "[[1, 'Prakash', 60, 70, 85, 95],\n",
       " [2, 'Ashish', 65, 77, 75, 93],\n",
       " [3, 'Anshika', 68, 72, 85, 89],\n",
       " [4, 'Ayushi', 62, 74, 90, 94]]"
      ]
     },
     "execution_count": 53,
     "metadata": {},
     "output_type": "execute_result"
    }
   ],
   "source": [
    "data"
   ]
  },
  {
   "cell_type": "markdown",
   "id": "b67ea3f2",
   "metadata": {},
   "source": [
    "### Q1) Student Details based on their Roll No."
   ]
  },
  {
   "cell_type": "code",
   "execution_count": 60,
   "id": "13e46903",
   "metadata": {},
   "outputs": [
    {
     "name": "stdout",
     "output_type": "stream",
     "text": [
      "Enter the roll no. 2\n",
      "-------------------------\n",
      "Name    :  Ashish\n",
      "Hindi   :  65\n",
      "English :  77\n",
      "Maths   :  75\n",
      "Science :  93\n",
      "-------------------------\n"
     ]
    }
   ],
   "source": []
  },
  {
   "cell_type": "markdown",
   "id": "8b71ee46",
   "metadata": {},
   "source": [
    "### Q2) Student Details based on their Roll No. including Average and Total Marks"
   ]
  },
  {
   "cell_type": "code",
   "execution_count": 69,
   "id": "9c0a8314",
   "metadata": {},
   "outputs": [
    {
     "name": "stdout",
     "output_type": "stream",
     "text": [
      "Enter the roll no. 2\n",
      "-------------------------\n",
      "Name    :  Ashish\n",
      "Hindi   :  65\n",
      "English :  77\n",
      "Maths   :  75\n",
      "Science :  93\n",
      "-------------------------\n",
      "Total   :  310\n",
      "-------------------------\n",
      "Average :  77.5\n",
      "-------------------------\n"
     ]
    }
   ],
   "source": []
  },
  {
   "cell_type": "markdown",
   "id": "53f0fac6",
   "metadata": {},
   "source": [
    "### Q3) Average and Top Marks in English"
   ]
  },
  {
   "cell_type": "code",
   "execution_count": 75,
   "id": "9fdb04bd",
   "metadata": {},
   "outputs": [
    {
     "name": "stdout",
     "output_type": "stream",
     "text": [
      "Average :  73.25\n",
      "Maximum :  77\n"
     ]
    }
   ],
   "source": []
  },
  {
   "cell_type": "markdown",
   "id": "11f7dd29",
   "metadata": {},
   "source": [
    "### Q4)  Who has scored most marks in English"
   ]
  },
  {
   "cell_type": "code",
   "execution_count": 86,
   "id": "30dbd0e0",
   "metadata": {},
   "outputs": [
    {
     "name": "stdout",
     "output_type": "stream",
     "text": [
      "Ashish\n"
     ]
    }
   ],
   "source": []
  },
  {
   "cell_type": "markdown",
   "id": "99158943",
   "metadata": {},
   "source": [
    "### Q4)  Who has scored most marks in Science"
   ]
  },
  {
   "cell_type": "code",
   "execution_count": 95,
   "id": "5e34e8a9",
   "metadata": {},
   "outputs": [
    {
     "name": "stdout",
     "output_type": "stream",
     "text": [
      "Prakash\n"
     ]
    }
   ],
   "source": []
  },
  {
   "cell_type": "markdown",
   "id": "0853faf9",
   "metadata": {},
   "source": [
    "### Finding Student details based on Name"
   ]
  },
  {
   "cell_type": "code",
   "execution_count": 96,
   "id": "754c4005",
   "metadata": {},
   "outputs": [
    {
     "name": "stdout",
     "output_type": "stream",
     "text": [
      "Enter the name Ashish\n",
      "-------------------------\n",
      "Roll No :  2\n",
      "Hindi   :  65\n",
      "English :  77\n",
      "Maths   :  75\n",
      "Science :  93\n",
      "-------------------------\n"
     ]
    }
   ],
   "source": []
  },
  {
   "cell_type": "code",
   "execution_count": null,
   "id": "f3df2793",
   "metadata": {},
   "outputs": [],
   "source": []
  }
 ],
 "metadata": {
  "kernelspec": {
   "display_name": "Python 3 (ipykernel)",
   "language": "python",
   "name": "python3"
  },
  "language_info": {
   "codemirror_mode": {
    "name": "ipython",
    "version": 3
   },
   "file_extension": ".py",
   "mimetype": "text/x-python",
   "name": "python",
   "nbconvert_exporter": "python",
   "pygments_lexer": "ipython3",
   "version": "3.9.7"
  }
 },
 "nbformat": 4,
 "nbformat_minor": 5
}
