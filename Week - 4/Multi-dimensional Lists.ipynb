{
 "cells": [
  {
   "cell_type": "code",
   "execution_count": 52,
   "id": "ff229394",
   "metadata": {},
   "outputs": [],
   "source": [
    "# Roll No.  - 0\n",
    "# Name      - 1\n",
    "# Hindi     - 2\n",
    "# English   - 3\n",
    "# Math      - 4\n",
    "# Science   - 5\n",
    "\n",
    "data = [[1, 'Prakash',60,70,85,95],\n",
    "        [2, 'Ashish' ,65,77,75,93],\n",
    "        [3, 'Anshika',68,72,85,89],\n",
    "        [4, 'Ayushi' ,62,74,90,94]]"
   ]
  },
  {
   "cell_type": "code",
   "execution_count": 53,
   "id": "1e87c6d1",
   "metadata": {
    "scrolled": false
   },
   "outputs": [
    {
     "data": {
      "text/plain": [
       "[[1, 'Prakash', 60, 70, 85, 95],\n",
       " [2, 'Ashish', 65, 77, 75, 93],\n",
       " [3, 'Anshika', 68, 72, 85, 89],\n",
       " [4, 'Ayushi', 62, 74, 90, 94]]"
      ]
     },
     "execution_count": 53,
     "metadata": {},
     "output_type": "execute_result"
    }
   ],
   "source": [
    "data"
   ]
  },
  {
   "cell_type": "markdown",
   "id": "9c083e55",
   "metadata": {},
   "source": [
    "### Q1) Student Details based on their Roll No."
   ]
  },
  {
   "cell_type": "code",
   "execution_count": 60,
   "id": "c43453ab",
   "metadata": {},
   "outputs": [
    {
     "name": "stdout",
     "output_type": "stream",
     "text": [
      "Enter the roll no. 2\n",
      "-------------------------\n",
      "Name    :  Ashish\n",
      "Hindi   :  65\n",
      "English :  77\n",
      "Maths   :  75\n",
      "Science :  93\n",
      "-------------------------\n"
     ]
    }
   ],
   "source": [
    "roll_no = int(input('Enter the roll no. '))\n",
    "\n",
    "for student in data:\n",
    "    if (student[0] == roll_no):\n",
    "        print('-'*25)\n",
    "        print(\"Name    : \",student[1])\n",
    "        print(\"Hindi   : \",student[2])\n",
    "        print(\"English : \",student[3])\n",
    "        print(\"Maths   : \",student[4])\n",
    "        print(\"Science : \",student[5])\n",
    "        print('-'*25)"
   ]
  },
  {
   "cell_type": "markdown",
   "id": "5bab3748",
   "metadata": {},
   "source": [
    "### Q2) Student Details based on their Roll No. including Average and Total Marks"
   ]
  },
  {
   "cell_type": "code",
   "execution_count": 69,
   "id": "36922bae",
   "metadata": {},
   "outputs": [
    {
     "name": "stdout",
     "output_type": "stream",
     "text": [
      "Enter the roll no. 2\n",
      "-------------------------\n",
      "Name    :  Ashish\n",
      "Hindi   :  65\n",
      "English :  77\n",
      "Maths   :  75\n",
      "Science :  93\n",
      "-------------------------\n",
      "Total   :  310\n",
      "-------------------------\n",
      "Average :  77.5\n",
      "-------------------------\n"
     ]
    }
   ],
   "source": [
    "roll_no = int(input('Enter the roll no. '))\n",
    "\n",
    "for student in data:\n",
    "    if (student[0] == roll_no):\n",
    "        print('-'*25)\n",
    "        print(\"Name    : \",student[1])\n",
    "        print(\"Hindi   : \",student[2])\n",
    "        print(\"English : \",student[3])\n",
    "        print(\"Maths   : \",student[4])\n",
    "        print(\"Science : \",student[5])\n",
    "        print('-'*25)\n",
    "        print(\"Total   : \",sum(student[2:]))\n",
    "        print('-'*25)\n",
    "        print(\"Average : \",sum(student[2:])/len(student[2:])) \n",
    "        print('-'*25)"
   ]
  },
  {
   "cell_type": "markdown",
   "id": "7652bd7c",
   "metadata": {},
   "source": [
    "### Q3) Average and Top Marks in English"
   ]
  },
  {
   "cell_type": "code",
   "execution_count": 75,
   "id": "4516417f",
   "metadata": {},
   "outputs": [
    {
     "name": "stdout",
     "output_type": "stream",
     "text": [
      "Average :  73.25\n",
      "Maximum :  77\n"
     ]
    }
   ],
   "source": [
    "eng = []\n",
    "\n",
    "for i in data:\n",
    "    eng.append(i[3])\n",
    "\n",
    "print(\"Average : \", sum(eng)/len(eng))\n",
    "print(\"Maximum : \", max(eng))"
   ]
  },
  {
   "cell_type": "markdown",
   "id": "c71f1f8a",
   "metadata": {},
   "source": [
    "### Q4)  Who has scored most marks in English"
   ]
  },
  {
   "cell_type": "code",
   "execution_count": 86,
   "id": "b569ce61",
   "metadata": {},
   "outputs": [
    {
     "name": "stdout",
     "output_type": "stream",
     "text": [
      "Ashish\n"
     ]
    }
   ],
   "source": [
    "eng = []\n",
    "\n",
    "for i in data:\n",
    "    eng.append(i[3])\n",
    "\n",
    "for i in data:\n",
    "    if(i[3] == max(eng)):\n",
    "        print(i[1])"
   ]
  },
  {
   "cell_type": "markdown",
   "id": "2ecabb5d",
   "metadata": {},
   "source": [
    "### Q4)  Who has scored most marks in Science"
   ]
  },
  {
   "cell_type": "code",
   "execution_count": 95,
   "id": "1e632e34",
   "metadata": {},
   "outputs": [
    {
     "name": "stdout",
     "output_type": "stream",
     "text": [
      "Prakash\n"
     ]
    }
   ],
   "source": [
    "sci = []\n",
    "\n",
    "for i in data:\n",
    "    sci.append(i[5])\n",
    "\n",
    "for i in data:\n",
    "    if(i[5] == max(sci)):\n",
    "        print(i[1])"
   ]
  },
  {
   "cell_type": "markdown",
   "id": "09374f6e",
   "metadata": {},
   "source": [
    "### Finding Student details based on Name"
   ]
  },
  {
   "cell_type": "code",
   "execution_count": 96,
   "id": "5ceaab2a",
   "metadata": {},
   "outputs": [
    {
     "name": "stdout",
     "output_type": "stream",
     "text": [
      "Enter the name Ashish\n",
      "-------------------------\n",
      "Roll No :  2\n",
      "Hindi   :  65\n",
      "English :  77\n",
      "Maths   :  75\n",
      "Science :  93\n",
      "-------------------------\n"
     ]
    }
   ],
   "source": [
    "name = str(input('Enter the name '))\n",
    "\n",
    "for student in data:\n",
    "    if (student[1] == name):\n",
    "        print('-'*25)\n",
    "        print(\"Roll No : \",student[0])\n",
    "        print(\"Hindi   : \",student[2])\n",
    "        print(\"English : \",student[3])\n",
    "        print(\"Maths   : \",student[4])\n",
    "        print(\"Science : \",student[5])\n",
    "        print('-'*25)"
   ]
  },
  {
   "cell_type": "code",
   "execution_count": null,
   "id": "57a0fa71",
   "metadata": {},
   "outputs": [],
   "source": []
  }
 ],
 "metadata": {
  "kernelspec": {
   "display_name": "Python 3 (ipykernel)",
   "language": "python",
   "name": "python3"
  },
  "language_info": {
   "codemirror_mode": {
    "name": "ipython",
    "version": 3
   },
   "file_extension": ".py",
   "mimetype": "text/x-python",
   "name": "python",
   "nbconvert_exporter": "python",
   "pygments_lexer": "ipython3",
   "version": "3.9.7"
  }
 },
 "nbformat": 4,
 "nbformat_minor": 5
}
