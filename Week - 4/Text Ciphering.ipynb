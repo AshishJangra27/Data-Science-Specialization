{
 "cells": [
  {
   "cell_type": "code",
   "execution_count": 100,
   "id": "5de6b8e6",
   "metadata": {},
   "outputs": [],
   "source": [
    "msg = 'Mission Accomplished'"
   ]
  },
  {
   "cell_type": "code",
   "execution_count": 101,
   "id": "6375bed3",
   "metadata": {},
   "outputs": [
    {
     "data": {
      "text/plain": [
       "'Mission Accomplished'"
      ]
     },
     "execution_count": 101,
     "metadata": {},
     "output_type": "execute_result"
    }
   ],
   "source": [
    "msg"
   ]
  },
  {
   "cell_type": "code",
   "execution_count": 103,
   "id": "649ee10b",
   "metadata": {},
   "outputs": [],
   "source": [
    "cipher = msg[::-1]"
   ]
  },
  {
   "cell_type": "code",
   "execution_count": 104,
   "id": "80925344",
   "metadata": {
    "scrolled": true
   },
   "outputs": [
    {
     "data": {
      "text/plain": [
       "'dehsilpmoccA noissiM'"
      ]
     },
     "execution_count": 104,
     "metadata": {},
     "output_type": "execute_result"
    }
   ],
   "source": [
    "cipher"
   ]
  },
  {
   "cell_type": "code",
   "execution_count": null,
   "id": "df334ceb",
   "metadata": {},
   "outputs": [],
   "source": [
    "# A(cipher) - 0(cipher) - 0(cipher) - 0(cipher) - D(cipher)->(decipher)"
   ]
  },
  {
   "cell_type": "code",
   "execution_count": 105,
   "id": "067cedbc",
   "metadata": {},
   "outputs": [],
   "source": [
    "decipher = cipher[::-1]"
   ]
  },
  {
   "cell_type": "code",
   "execution_count": 106,
   "id": "e58f2da4",
   "metadata": {},
   "outputs": [
    {
     "data": {
      "text/plain": [
       "'Mission Accomplished'"
      ]
     },
     "execution_count": 106,
     "metadata": {},
     "output_type": "execute_result"
    }
   ],
   "source": [
    "decipher"
   ]
  },
  {
   "cell_type": "markdown",
   "id": "b4fd5692",
   "metadata": {},
   "source": [
    "## Text Ciphering"
   ]
  },
  {
   "cell_type": "code",
   "execution_count": 140,
   "id": "6722c58b",
   "metadata": {},
   "outputs": [],
   "source": [
    "def cipher(ch):\n",
    "    return chr(ord(ch) + 1)"
   ]
  },
  {
   "cell_type": "code",
   "execution_count": 142,
   "id": "ad1966c2",
   "metadata": {},
   "outputs": [
    {
     "name": "stdout",
     "output_type": "stream",
     "text": [
      "Ifmmp-!Ipx!bsf!zpv!epjoh@\n"
     ]
    }
   ],
   "source": [
    "enc = ''\n",
    "\n",
    "for i in 'Hello, How are you doing?':\n",
    "    ch = cipher(i)\n",
    "    enc += ch\n",
    "    \n",
    "print(enc)\n",
    "# cipher('h')"
   ]
  },
  {
   "cell_type": "markdown",
   "id": "71ee256e",
   "metadata": {},
   "source": [
    "## Text Deciphering"
   ]
  },
  {
   "cell_type": "code",
   "execution_count": 146,
   "id": "8ebd3e6d",
   "metadata": {},
   "outputs": [
    {
     "name": "stdout",
     "output_type": "stream",
     "text": [
      "Hello, How are you doing?\n"
     ]
    }
   ],
   "source": [
    "def decipher(ch):\n",
    "    return chr(ord(ch) - 1)\n",
    "\n",
    "dec = ''\n",
    "\n",
    "for i in enc:\n",
    "    dec += decipher(i)\n",
    "    \n",
    "print(dec)"
   ]
  },
  {
   "cell_type": "markdown",
   "id": "4d92069c",
   "metadata": {},
   "source": [
    "## Text Cipher to n-places"
   ]
  },
  {
   "cell_type": "code",
   "execution_count": 205,
   "id": "9acbdb0e",
   "metadata": {},
   "outputs": [
    {
     "name": "stdout",
     "output_type": "stream",
     "text": [
      "enter the message: hskdhfkjdsf\n",
      "enter the key: 435\n",
      "țȦȞȗțșȞȝȗȦș\n"
     ]
    }
   ],
   "source": [
    "msg = str(input(\"enter the message: \"))\n",
    "key = int(input('enter the key: '))\n",
    "\n",
    "def cipher(ch,key):\n",
    "    return chr(ord(ch) + key)\n",
    "\n",
    "enc = ''\n",
    "\n",
    "for i in msg:\n",
    "    ch = cipher(i,key)\n",
    "    enc += ch\n",
    "    \n",
    "print(enc)\n",
    "# cipher('h')"
   ]
  },
  {
   "cell_type": "code",
   "execution_count": 206,
   "id": "5a0827ed",
   "metadata": {},
   "outputs": [
    {
     "name": "stdout",
     "output_type": "stream",
     "text": [
      "hskdhfkjdsf\n"
     ]
    }
   ],
   "source": [
    "def decipher(ch,key):\n",
    "    return chr(ord(ch) - key)\n",
    "\n",
    "dec = ''\n",
    "\n",
    "for i in enc:\n",
    "    dec += decipher(i,key)\n",
    "    \n",
    "print(dec)"
   ]
  },
  {
   "cell_type": "markdown",
   "id": "cde9fb1c",
   "metadata": {},
   "source": [
    "## Text Cipher with Key-Division"
   ]
  },
  {
   "cell_type": "code",
   "execution_count": 217,
   "id": "63d862a7",
   "metadata": {},
   "outputs": [
    {
     "name": "stdout",
     "output_type": "stream",
     "text": [
      "enter the message: It was a nice dinner. Lets connect some other day, probably 9PM tomorrow?\n",
      "enter the key: 54\n",
      "ªV­©VV¤V¤¤¨dVª©V¥¤¤ªV©¥£V¥ª¨V¯bV¦¨¥¢¯VoVª¥£¥¨¨¥­u\n"
     ]
    }
   ],
   "source": [
    "msg = str(input(\"enter the message: \"))\n",
    "key = int(input('enter the key: '))\n",
    "\n",
    "def cipher(ch,key):\n",
    "    key = key%65\n",
    "    return chr(ord(ch) + key)\n",
    "\n",
    "enc = ''\n",
    "for i in msg:\n",
    "    ch = cipher(i,key)\n",
    "    enc += ch\n",
    "    \n",
    "print(enc)"
   ]
  },
  {
   "cell_type": "code",
   "execution_count": 218,
   "id": "3e72226d",
   "metadata": {},
   "outputs": [
    {
     "name": "stdout",
     "output_type": "stream",
     "text": [
      "It was a nice dinner. Lets connect some other day, probably 9PM tomorrow?\n"
     ]
    }
   ],
   "source": [
    "def decipher(ch,key):\n",
    "    key = key % 65\n",
    "    return chr(ord(ch) - key)\n",
    "\n",
    "dec = ''\n",
    "\n",
    "for i in enc:\n",
    "    dec += decipher(i,key)\n",
    "    \n",
    "print(dec)"
   ]
  },
  {
   "cell_type": "markdown",
   "id": "239b1607",
   "metadata": {},
   "source": [
    "## Cracking Algorithm (Brute-Force)"
   ]
  },
  {
   "cell_type": "code",
   "execution_count": 242,
   "id": "3b1c5276",
   "metadata": {
    "scrolled": true
   },
   "outputs": [
    {
     "name": "stdout",
     "output_type": "stream",
     "text": [
      "P{'~hz'h'upjl'kpuuly5'Sl{z'jvuulj{'zvtl'v{oly'kh3'wyvihis'@WT'{vtvyyv~F\n",
      "It was a nice dinner. Lets connect some other day, probably 9PM tomorrow?\n"
     ]
    }
   ],
   "source": [
    "words = ['is','the','what','are','it','me','you']\n",
    "\n",
    "for num in range(-65,65,1):\n",
    "\n",
    "    guess = ''\n",
    "    for i in enc:\n",
    "        guess += chr(ord(i) - num)\n",
    "\n",
    "    for word in words:\n",
    "        if(word.lower() in guess.lower()):\n",
    "            print(guess)\n",
    "            break"
   ]
  },
  {
   "cell_type": "code",
   "execution_count": 245,
   "id": "336ffc62",
   "metadata": {},
   "outputs": [
    {
     "name": "stdout",
     "output_type": "stream",
     "text": [
      "ÀëîØêØåàÚÜÛàååÜé¥ÃÜëêÚæååÜÚëêæäÜæëßÜéÛØð£çéæÙØÙãð°ÇÄëæäæééæî¶\n",
      "¿êí×é×äßÙÛÚßääÛè¤ÂÛêéÙåääÛÙêéåãÛåêÞÛèÚ×ï¢æèåØ×Øâï¯ÆÃêåãåèèåíµ\n",
      "¾éìÖèÖãÞØÚÙÞããÚç£ÁÚéèØäããÚØéèäâÚäéÝÚçÙÖî¡åçä×Ö×áî®ÅÂéäâäççäì´\n",
      "½èëÕçÕâÝ×ÙØÝââÙæ¢ÀÙèç×ãââÙ×èçãáÙãèÜÙæØÕí äæãÖÕÖàí­ÄÁèãáãææãë³\n",
      "¼çêÔæÔáÜÖØ×ÜááØå¡¿ØçæÖâááØÖçæâàØâçÛØå×ÔìãåâÕÔÕßì¬ÃÀçâàâååâê²\n",
      "»æéÓåÓàÛÕ×ÖÛàà×ä ¾×æåÕáàà×Õæåáß×áæÚ×äÖÓëâäáÔÓÔÞë«Â¿æáßáääáé±\n",
      "ºåèÒäÒßÚÔÖÕÚßßÖã½ÖåäÔàßßÖÔåäàÞÖàåÙÖãÕÒêáãàÓÒÓÝêªÁ¾åàÞàããàè°\n",
      "¹äçÑãÑÞÙÓÕÔÙÞÞÕâ¼ÕäãÓßÞÞÕÓäãßÝÕßäØÕâÔÑéàâßÒÑÒÜé©À½äßÝßââßç¯\n",
      "¸ãæÐâÐÝØÒÔÓØÝÝÔá»ÔãâÒÞÝÝÔÒãâÞÜÔÞã×ÔáÓÐèßáÞÑÐÑÛè¨¿¼ãÞÜÞááÞæ®\n",
      "·âåÏáÏÜ×ÑÓÒ×ÜÜÓàºÓâáÑÝÜÜÓÑâáÝÛÓÝâÖÓàÒÏçÞàÝÐÏÐÚç§¾»âÝÛÝààÝå­\n",
      "¶áäÎàÎÛÖÐÒÑÖÛÛÒß¹ÒáàÐÜÛÛÒÐáàÜÚÒÜáÕÒßÑÎæÝßÜÏÎÏÙæ¦½ºáÜÚÜßßÜä¬\n",
      "µàãÍßÍÚÕÏÑÐÕÚÚÑÞ¸ÑàßÏÛÚÚÑÏàßÛÙÑÛàÔÑÞÐÍåÜÞÛÎÍÎØå¥¼¹àÛÙÛÞÞÛã«\n",
      "´ßâÌÞÌÙÔÎÐÏÔÙÙÐÝ·ÐßÞÎÚÙÙÐÎßÞÚØÐÚßÓÐÝÏÌäÛÝÚÍÌÍ×ä¤»¸ßÚØÚÝÝÚâª\n",
      "³ÞáËÝËØÓÍÏÎÓØØÏÜ¶ÏÞÝÍÙØØÏÍÞÝÙ×ÏÙÞÒÏÜÎËãÚÜÙÌËÌÖã£º·ÞÙ×ÙÜÜÙá©\n",
      "²ÝàÊÜÊ×ÒÌÎÍÒ××ÎÛµÎÝÜÌØ××ÎÌÝÜØÖÎØÝÑÎÛÍÊâÙÛØËÊËÕâ¢¹¶ÝØÖØÛÛØà¨\n",
      "±ÜßÉÛÉÖÑËÍÌÑÖÖÍÚ´ÍÜÛË×ÖÖÍËÜÛ×ÕÍ×ÜÐÍÚÌÉáØÚ×ÊÉÊÔá¡¸µÜ×Õ×ÚÚ×ß§\n",
      "°ÛÞÈÚÈÕÐÊÌËÐÕÕÌÙ³ÌÛÚÊÖÕÕÌÊÛÚÖÔÌÖÛÏÌÙËÈà×ÙÖÉÈÉÓà ·´ÛÖÔÖÙÙÖÞ¦\n",
      "¯ÚÝÇÙÇÔÏÉËÊÏÔÔËØ²ËÚÙÉÕÔÔËÉÚÙÕÓËÕÚÎËØÊÇßÖØÕÈÇÈÒß¶³ÚÕÓÕØØÕÝ¥\n",
      "®Ù",
      "ÜÆØ",
      "Æ",
      "ÓÎÈÊ",
      "ÉÎÓÓÊ×",
      "±ÊÙØ",
      "ÈÔÓÓÊÈÙ",
      "ØÔÒÊ",
      "ÔÙÍÊ×",
      "ÉÆÞ",
      "Õ×ÔÇÆÇÑÞ",
      "µ²",
      "ÙÔÒÔ××ÔÜ¤\n",
      "­ØÛÅ×ÅÒÍÇÉÈÍÒÒÉÖ°ÉØ×ÇÓÒÒÉÇØ×ÓÑÉÓØÌÉÖÈÅÝÔÖÓÆÅÆÐÝ´±ØÓÑÓÖÖÓÛ£\n",
      "¬×ÚÄÖÄÑÌÆÈÇÌÑÑÈÕ¯È×ÖÆÒÑÑÈÆ×ÖÒÐÈÒ×ËÈÕÇÄÜÓÕÒÅÄÅÏÜ³°×ÒÐÒÕÕÒÚ¢\n",
      "«ÖÙÃÕÃÐËÅÇÆËÐÐÇÔ®ÇÖÕÅÑÐÐÇÅÖÕÑÏÇÑÖÊÇÔÆÃÛÒÔÑÄÃÄÎÛ²¯ÖÑÏÑÔÔÑÙ¡\n",
      "ªÕØÂÔÂÏÊÄÆÅÊÏÏÆÓ­ÆÕÔÄÐÏÏÆÄÕÔÐÎÆÐÕÉÆÓÅÂÚÑÓÐÃÂÃÍÚ±®ÕÐÎÐÓÓÐØ \n",
      "©Ô×ÁÓÁÎÉÃÅÄÉÎÎÅÒ¬ÅÔÓÃÏÎÎÅÃÔÓÏÍÅÏÔÈÅÒÄÁÙÐÒÏÂÁÂÌÙ°­ÔÏÍÏÒÒÏ×\n",
      "¨ÓÖÀÒÀÍÈÂÄÃÈÍÍÄÑ«ÄÓÒÂÎÍÍÄÂÓÒÎÌÄÎÓÇÄÑÃÀØÏÑÎÁÀÁËØ¯¬ÓÎÌÎÑÑÎÖ\n",
      "§Ò~Õ¿Ñ~¿~ÌÇÁÃ~ÂÇÌÌÃÐ~ªÃÒÑ~ÁÍÌÌÃÁÒ~ÑÍËÃ~ÍÒÆÃÐ~Â¿×~ÎÐÍÀ¿ÀÊ×~®«~ÒÍËÍÐÐÍÕ\n",
      "¦Ñ}Ô¾Ð}¾}ËÆÀÂ}ÁÆËËÂÏ}©ÂÑÐ}ÀÌËËÂÀÑ}ÐÌÊÂ}ÌÑÅÂÏ}Á¾Ö}ÍÏÌ¿¾¿ÉÖ}­ª}ÑÌÊÌÏÏÌÔ\n",
      "¥Ð|Ó½Ï|½|ÊÅ¿Á|ÀÅÊÊÁÎ|¨ÁÐÏ|¿ËÊÊÁ¿Ð|ÏËÉÁ|ËÐÄÁÎ|À½Õ|ÌÎË¾½¾ÈÕ|¬©|ÐËÉËÎÎËÓ\n",
      "¤Ï{Ò¼Î{¼{ÉÄ¾À{¿ÄÉÉÀÍ{§ÀÏÎ{¾ÊÉÉÀ¾Ï{ÎÊÈÀ{ÊÏÃÀÍ{¿¼Ô{ËÍÊ½¼½ÇÔ{«¨{ÏÊÈÊÍÍÊÒ\n",
      "£ÎzÑ»Íz»zÈÃ½¿z¾ÃÈÈ¿Ìz¦¿ÎÍz½ÉÈÈ¿½ÎzÍÉÇ¿zÉÎÂ¿Ìz¾»ÓzÊÌÉ¼»¼ÆÓzª§zÎÉÇÉÌÌÉÑ\n",
      "¢ÍyÐºÌyºyÇÂ¼¾y½ÂÇÇ¾Ëy¥¾ÍÌy¼ÈÇÇ¾¼ÍyÌÈÆ¾yÈÍÁ¾Ëy½ºÒ",
      "yÉËÈ»º»ÅÒy©¦yÍÈÆÈËËÈÐ\n",
      "¡ÌxÏ¹Ëx¹xÆÁ»½x¼ÁÆÆ½Êx¤½ÌËx»ÇÆÆ½»ÌxËÇÅ½xÇÌÀ½Êx¼¹ÑxÈÊÇº¹ºÄÑx¨¥xÌÇÅÇÊÊÇÏ\n",
      " ËwÎ¸Êw¸wÅÀº¼w»ÀÅÅ¼É",
      "w£¼ËÊwºÆÅÅ¼ºËwÊÆÄ¼wÆË¿¼Éw»¸ÐwÇÉÆ¹¸¹ÃÐw§¤wËÆÄÆÉÉÆÎ\n",
      "ÊvÍ·Év·vÄ¿¹»vº¿ÄÄ»Èv¢»ÊÉv¹ÅÄÄ»¹ÊvÉÅÃ»vÅÊ¾»Èvº·ÏvÆÈÅ¸·¸ÂÏv¦£vÊÅÃÅÈÈÅÍ\n",
      "ÉuÌ¶Èu¶uÃ¾¸ºu¹¾ÃÃºÇu¡ºÉÈu¸ÄÃÃº¸ÉuÈÄÂºuÄÉ½ºÇu¹¶ÎuÅÇÄ·¶·ÁÎu¥¢uÉÄÂÄÇÇÄÌ\n",
      "ÈtËµÇtµtÂ½·¹t¸½ÂÂ¹Æt ¹ÈÇt·ÃÂÂ¹·ÈtÇÃÁ¹tÃÈ¼¹Æt¸µÍtÄÆÃ¶µ¶ÀÍt¤¡tÈÃÁÃÆÆÃË\n",
      "ÇsÊ´Æs´sÁ¼¶¸s·¼ÁÁ¸Ås¸ÇÆs¶ÂÁÁ¸¶ÇsÆÂÀ¸sÂÇ»¸Ås·´ÌsÃÅÂµ´µ¿Ìs£ sÇÂÀÂÅÅÂÊ\n",
      "ÆrÉ³År³rÀ»µ·r¶»ÀÀ·Är·ÆÅrµÁÀÀ·µÆrÅÁ¿·rÁÆº·Är¶³Ë~rÂÄÁ´³´¾Ër¢rÆÁ¿ÁÄÄÁÉ\n",
      "ÅqÈ²Äq²q¿º´¶qµº¿¿¶Ãq¶ÅÄq´À¿¿¶´ÅqÄÀ¾¶qÀÅ¹¶Ãqµ²Ê}qÁÃÀ³²³½Êq¡qÅÀ¾ÀÃÃÀÈ\n",
      "ÄpÇ±Ãp±p¾¹³µp´¹¾¾µÂ~pµÄÃp³¿¾¾µ³ÄpÃ¿½µp¿Ä¸µÂp´±É|pÀÂ¿²±²¼Ép pÄ¿½¿ÂÂ¿Ç\n",
      "ÃoÆ°Âo°o½¸²´o³¸½½´Á}o´ÃÂo²¾½½´²ÃoÂ¾¼´o¾Ã·´Áo³°È{o¿Á¾±°±»ÈooÃ¾¼¾ÁÁ¾Æ\n",
      "ÂnÅ¯Án¯n¼·±³n²·¼¼³À|n³ÂÁn±½¼¼³±ÂnÁ½»³n½Â¶³Àn²¯Çzn¾À½°¯°ºÇnnÂ½»½ÀÀ½Å\n",
      "ÁmÄ®Àm®m»¶°²m±¶»»²¿{m²ÁÀm°¼»»²°ÁmÀ¼º²m¼Áµ²¿m±®Æym½¿¼¯®¯¹ÆmmÁ¼º¼¿¿¼Ä\n",
      "ÀlÃ­¿l­lºµ¯±l°µºº±¾zl±À¿l¯»ºº±¯Àl¿»¹±l»À´±¾l°­Åxl¼¾»®­®¸Ål",
      "lÀ»¹»¾¾»Ã\n",
      "¿kÂ¬¾k¬k¹´®°k¯´¹¹°½yk°¿¾k®º¹¹°®¿k¾º¸°kº¿³°½k¯¬Äwk»½º­¬­·Äkk¿º¸º½½ºÂ\n",
      "¾jÁ«½j«j¸³­¯j®³¸¸¯¼xj¯¾½j­¹¸¸¯­¾j½¹·¯j¹¾²¯¼j®«Ãvjº¼¹¬«¬¶Ãjj¾¹·¹¼¼¹Á\n",
      "½iÀª¼iªi·²¬®i­²··®»wi®½¼i¬¸··®¬½i¼¸¶®i¸½±®»i­ªÂui¹»¸«ª«µÂii½¸¶¸»»¸À\n",
      "¼h¿©»h©h¶±«­h¬±¶¶­ºvh­¼»h«·¶¶­«¼h»·µ­h·¼°­ºh¬©Áth¸º·ª©ª´Áhh¼·µ·ºº·¿\n",
      "»g¾¨ºg¨gµ°ª¬g«°µµ¬¹ug¬»ºgª¶µµ¬ª»gº¶´¬g¶»¯¬¹g«¨Àsg·¹¶©¨©³Àgg»¶´¶¹¹¶¾\n",
      "ºf½§¹f§f´¯©«fª¯´´«¸tf«º¹f©µ´´«©ºf¹µ³«fµº®«¸fª§¿rf¶¸µ¨§¨²¿ffºµ³µ¸¸µ½",
      "\n",
      "¹e¼¦¸e¦e³®¨ªe©®³³ª·seª¹¸e¨´³³ª¨¹e¸´²ªe´¹­ª·e©¦¾qeµ·´§¦§±¾e~e¹´²´··´¼\n",
      "¸d»¥·d¥d²­§©d¨­²²©¶rd©¸·d§³²²©§¸d·³±©d³¸¬©¶d¨¥½pd´¶³¦¥¦°½d}d¸³±³¶¶³»\n",
      "·cº¤¶c¤c±¬¦¨c§¬±±¨µqc¨·¶c¦²±±¨¦·c¶²°¨c²·«¨µc§¤¼oc³µ²¥¤¥¯¼c|c·²°²µµ²º\n",
      "¶b¹£µb£b°«¥§b¦«°°§´pb§¶µb¥±°°§¥¶bµ±¯§b±¶ª§´b¦£»nb²´±¤£¤®»b{b¶±¯±´´±¹\n",
      "µa¸¢´a¢a¯ª¤¦a¥ª¯¯¦³oa¦µ´a¤°¯¯¦¤µa´°®¦a°µ©¦³a¥¢ºma±³°£¢£­ºazaµ°®°³³°¸\n",
      "´`·¡³`¡`®©£¥`¤©®®¥²n`¥´³`£¯®®¥£´`³¯­¥`¯´¨¥²`¤¡¹l`°²¯¢¡¢¬¹`y`´¯­¯²²¯·\n",
      "³_¶ ²_ _­¨¢¤_£¨­­¤±m_¤³²_¢®­­¤¢³_²®¬¤_®³§¤±_£ ¸k_¯±®¡ ¡«¸_x_³®¬®±±®¶~\n",
      "²^µ±^^¬§¡£^¢§¬¬£°l^£²±^¡­¬¬£¡²^±­«£^­²¦£°^¢·j^®°­  ª·^w^²­«­°°­µ}\n",
      "±]´°]]«¦ ¢]¡¦««¢¯k]¢±°] ¬««¢ ±]°¬ª¢]¬±¥¢¯]¡¶i]­¯¬©¶]v]±¬ª¬¯¯¬´|\n",
      "",
      "°\\³¯\\\\ª¥¡\\ ¥ªª¡®j\\¡°¯\\«ªª¡°\\¯«©¡\\«°¤¡®\\ µh\\¬®«¨µ\\u\\°«©«®®«³{\n",
      "¯[²®[[©¤ [¤©© ­i[ ¯®[ª©© ¯[®ª¨ [ª¯£ ­[´g[«­ª§´[t[¯ª¨ª­­ª²z\n",
      "®Z±­ZZ¨£Z£¨¨¬hZ®­Z©¨¨®Z­©§Z©®¢¬Z³fZª¬©¦³ZsZ®©§©¬¬©±y\n",
      "­Y°¬YY§¢Y¢§§«gY",
      "­¬Y¨§§­Y¬¨¦Y¨­¡«Y²eY©«¨¥²YrY­¨¦¨««¨°x\n",
      "¬X¯«XX¦¡X¡¦¦ªfX¬«X§¦¦¬X«§¥X§¬ ªX±dX¨ª§¤±Xq",
      "X¬§¥§ªª§¯w\n",
      "«W®ªWW¥ W ¥¥©eW«ªW¦¥¥«Wª¦¤W¦«©W°cW§©¦£°WpW«¦¤¦©©¦®v\n",
      "ªV­©VV¤V¤¤¨dVª©V¥¤¤ªV©¥£V¥ª¨V¯bV¦¨¥¢¯VoVª¥£¥¨¨¥­u\n",
      "~©U¬¨UU£U££§cU©¨U¤££©U¨¤¢U¤©§U®aU¥§¤¡®Un",
      "U©¤¢¤§§¤¬t\n",
      "}¨T«§TT¢T¢¢¦bT¨§T£¢¢¨T§£¡T£¨¦T­`T¤¦£ ­TmT¨£¡£¦¦£«s\n",
      "|§Sª¦SS¡S¡¡¥aS§¦S¢¡¡§S¦¢ S¢§¥S¬_S£¥¢¬SlS§¢ ¢¥¥¢ªr\n",
      "{¦R©¥RR R  ¤`R~¦¥R¡  ¦R¥¡R¡¦¤R«^R¢¤¡«RkR¦¡¡¤¤¡©q\n",
      "z¥Q¨¤QQQ£_Q}¥¤Q ¥Q¤ Q ¥£Qª]Q¡£ ªQj~Q¥  ££ ¨p\n",
      "y¤P§£PPP¢^P|¤£P¤P£P¤¢P©\\P ¢©Pi}P¤¢¢§o\n",
      "x£O¦¢OOO¡]O{£¢O£O¢O£¡O¨[O¡¨Oh|O£¡¡¦n\n",
      "w¢N¥¡NNN \\Nz¢¡N¢N¡N¢ N§ZN §Ng~{N¢  ¥m\n",
      "v¡M¤ MMM[My¡ M¡M M¡M¦YM¦Mf}zM¡¤l\n",
      "u L£LLLZLx L LL L¥XL¥Le|yL £k\n",
      "tK¢KKKYKwKKKK¤WK¤Kd{xK¢j\n",
      "sJ¡JJJXJvJJJJ£VJ£JczwJ¡i\n",
      "rI IIIWIuIIII¢UI¢IbyvI h\n",
      "qHHHHVHtHHHH¡TH¡HaxuHg\n",
      "pGGGGUGsGGGG SG G`wtGf\n",
      "oFFFFTFrFFFFRFF_vsFe\n",
      "nEEEESEqEEEEQEE^urEd\n",
      "mD",
      "D",
      "DDRDpDDDD",
      "PD",
      "D]tqDc\n",
      "lCCCCQCoCCCCOC",
      "",
      "C\\spCb\n",
      "kBBB",
      "BPBnB",
      "",
      "BBBNBB[roBa\n",
      "jAAAA",
      "OAmAAAA",
      "MAAZqnA`\n",
      "i@@@",
      "@",
      "N@l",
      "@",
      "@",
      "@",
      "@L@@Ypm@_\n",
      "h????M?k????K??Xol?^\n",
      "g>>>>L>j>>>>J>>Wnk>]\n",
      "f=~=~==K=i===",
      "=~I=~=Vmj=\\\n",
      "e<}<}<",
      "<",
      "J<h<<<<}H<~}~<Uli<[\n",
      "d;|;|;~;I;g;~~;;;|G;}|};Tkh;Z\n",
      "c:{:{:}:~H:f:}}:::~{F:|{|:Sjg:Y\n",
      "b9z9z9|~9}~G9e~9|~|9~9~9}zE9{z{",
      "9Rif9X\n",
      "a8y8y8{}8|}F8d}8{}{8",
      "}8}8|yD8zyz8Qhe8",
      "W\n",
      "`7x7x7",
      "z|7{",
      "",
      "|E7c|7z",
      "",
      "|z7|7|7{xC7yxy7Pgd7V\n",
      "_6w6w6y{6z{D6b{6y",
      "{y6",
      "{6",
      "~{6zwB6",
      "xwx6Ofc6",
      "",
      "",
      "U\n",
      "^5v5v5~xz5y~zC5az5xzx5z5}z5yvA5",
      "wvw5Neb5T\n",
      "]4u4u4}wy4x}yB4`y4wyw4y4|y4xu@4vuv4Mda4S\n",
      "\\3t3t3|vx3w|x",
      "A3_x3vxv3x3{x",
      "3wt?3",
      "utu3Lc`3",
      "",
      "R\n",
      "[2s",
      "2s2{uw2v{w@2^w",
      "2uwu2",
      "w2zw2vs>2tst~2Kb_2Q\n",
      "Z",
      "1r1r1ztv1uzv?1]v",
      "1tvt",
      "1~v1",
      "yv1ur=1srs}1Ja^1",
      "~P\n",
      "Y0q0q0~ysu0ty~~u>0\\u0s~~us0}u0xu0tq<0rqr|0I`]0}O\n",
      "X/p/p/}xrt/sx}}t=/[t/r~}}tr/~|t/~wt/sp;/~qpq{/H_\\/~|~~N\n",
      "W.",
      "o.o.|wqs.rw||s<.Zs.q}||sq.}{s.}vs.ro:.~}popz.G^[.}{}}",
      "M\n",
      "V-n-n-{vpr-qv{{r;-Yr-p|{{rp-|zr-|ur-qn9-}|onoy-F]Z-|z||L\n",
      "U,m,m,zuoq,puzzq~:,Xq,o{zzqo,{yq,{tq~,pm",
      "8,|~{nmnx",
      ",E\\Y,{y{~~{K\n",
      "T+l~+l+ytnp+otyyp}9+Wp~+nzyypn+~zxp+zsp}+ol7+{}zmlmw+D[X+zxz}}zJ\n",
      "S~*k}*k*xsmo*nsxxo|8*Vo~}*myxxom~*}ywo*y~ro|*nk6*z|ylklv*CZW*~ywy||yI\n",
      "R})j|)j)wrln)mrwwn{7)Un}|)lxwwnl})|xvn)x}qn{)mj5)y{xkjku)BYV)}xvx{{xH\n",
      "Q|(i{(i(vqkm(lqvvmz6(Tm|{(kwvvmk|({wum(w|pmz(li4(xzwjijt(AXU(|wuwzzwG\n",
      "P{'~hz'h'upjl'kpuuly5'Sl{z'jvuulj{'zvtl'v{oly'kh3'wyvihis'@WT'{vtvyyv~F\n",
      "Oz&}gy&g&toik&jottkx4&Rkzy&iuttkiz&yusk&uznkx&jg2&vxuhghr&?VS&zusuxxu}E\n",
      "Ny%|fx%f%snhj%inssjw3%Qjyx%htssjhy%xtrj%tymjw%if~1%uwtgfgq~%>UR%ytrtwwt|D\n",
      "Mx${ew$e$rmgi$hmrriv2$Pixw$gsrrigx$wsqi$sxliv$he}0$tvsfefp}$=TQ$xsqsvvs{C\n",
      "Lw#zdv#d#qlfh#glqqhu1#Ohwv#frqqhfw#vrph#rwkhu#gd|/#suredeo|#<SP#wrpruurzB\n",
      "Kv\"ycu\"c\"pkeg\"fkppgt0\"Ngvu\"eqppgev\"uqog\"qvjgt\"fc{.\"rtqdcdn{\";RO\"vqoqttqyA\n",
      "Ju!xbt!b!ojdf!ejoofs/!Mfut!dpoofdu!tpnf!puifs!ebz-!qspcbcmz!:QN!upnpsspx@\n",
      "It was a nice dinner. Lets connect some other day, probably 9PM tomorrow?\n",
      "Hs\u001fv`r\u001f`\u001fmhbd\u001fchmmdq-\u001fKdsr\u001fbnmmdbs\u001frnld\u001fnsgdq\u001fc`x+\u001foqna`akx\u001f8OL\u001fsnlnqqnv>\n",
      "Gr\u001e",
      "u_q\u001e",
      "_\u001e",
      "lgac\u001e",
      "bgllcp,\u001e",
      "Jcrq\u001e",
      "amllcar\u001e",
      "qmkc\u001e",
      "mrfcp\u001e",
      "b_w*\u001e",
      "npm`_`jw\u001e",
      "7NK\u001e",
      "rmkmppmu=\n",
      "Fq\u001d",
      "t^p\u001d",
      "^\u001d",
      "kf`b\u001d",
      "afkkbo+\u001d",
      "Ibqp\u001d",
      "`lkkb`q\u001d",
      "pljb\u001d",
      "lqebo\u001d",
      "a^v)\u001d",
      "mol_^_iv\u001d",
      "6MJ\u001d",
      "qljloolt<\n",
      "Ep\u001c",
      "s]o\u001c",
      "]\u001c",
      "je_a\u001c",
      "`ejjan*\u001c",
      "Hapo\u001c",
      "_kjja_p\u001c",
      "okia\u001c",
      "kpdan\u001c",
      "`]u(\u001c",
      "lnk^]^hu\u001c",
      "5LI\u001c",
      "pkiknnks;\n",
      "Do\u001br\\n\u001b\\\u001bid^`\u001b_dii`m)\u001bG`on\u001b^jii`^o\u001bnjh`\u001bjoc`m\u001b_\\t'\u001bkmj]\\]gt\u001b4KH\u001bojhjmmjr:\n",
      "Cn\u001aq[m\u001a[\u001ahc]_\u001a^chh_l(\u001aF_nm\u001a]ihh_]n\u001amig_\u001ainb_l\u001a^[s&\u001ajli\\[\\fs\u001a3JG\u001anigilliq9\n",
      "Bm\u0019pZl\u0019Z\u0019gb\\^\u0019]bgg^k'\u0019E^ml\u0019\\hgg^\\m\u0019lhf^\u0019hma^k\u0019]Zr%\u0019ikh[Z[er\u00192IF\u0019mhfhkkhp8\n",
      "Al\u0018oYk\u0018Y\u0018fa[]\u0018\\aff]j&\u0018D]lk\u0018[gff][l\u0018kge]\u0018gl`]j\u0018\\Yq$\u0018hjgZYZdq\u00181HE\u0018lgegjjgo7\n",
      "@k\u0017nXj\u0017X\u0017e`Z\\\u0017[`ee\\i%\u0017C\\kj\u0017Zfee\\Zk\u0017jfd\\\u0017fk_\\i\u0017[Xp#\u0017gifYXYcp\u00170GD\u0017kfdfiifn6\n",
      "?j\u0016mWi\u0016W\u0016d_Y[\u0016Z_dd[h$\u0016B[ji\u0016Yedd[Yj\u0016iec[\u0016ej^[h\u0016ZWo\"\u0016fheXWXbo\u0016/FC\u0016jecehhem5\n"
     ]
    }
   ],
   "source": [
    "words = ['is','the','what','are','it','me','you']\n",
    "\n",
    "for num in range(-65,65,1):\n",
    "\n",
    "    guess = ''\n",
    "    for i in enc:\n",
    "        guess += chr(ord(i) - num)\n",
    "    print(guess)"
   ]
  },
  {
   "cell_type": "code",
   "execution_count": null,
   "id": "451deda3",
   "metadata": {},
   "outputs": [],
   "source": [
    "'Ashish' 'Ria'\n",
    "'sAihhs' 'iRa'"
   ]
  }
 ],
 "metadata": {
  "kernelspec": {
   "display_name": "Python 3 (ipykernel)",
   "language": "python",
   "name": "python3"
  },
  "language_info": {
   "codemirror_mode": {
    "name": "ipython",
    "version": 3
   },
   "file_extension": ".py",
   "mimetype": "text/x-python",
   "name": "python",
   "nbconvert_exporter": "python",
   "pygments_lexer": "ipython3",
   "version": "3.9.7"
  }
 },
 "nbformat": 4,
 "nbformat_minor": 5
}
