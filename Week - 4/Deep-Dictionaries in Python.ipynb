{
 "cells": [
  {
   "cell_type": "markdown",
   "id": "685cf31e",
   "metadata": {},
   "source": [
    "## 1. Lists"
   ]
  },
  {
   "cell_type": "code",
   "execution_count": 1,
   "id": "77c556b7",
   "metadata": {},
   "outputs": [],
   "source": [
    "# Eng , Hin, Sci, Mth\n",
    "\n",
    "data = [[1, 'Prakash',60,70,85,95],\n",
    "        [2, 'Ashish' ,65,77,75,93],\n",
    "        [3, 'Anshika',68,72,85,89],\n",
    "        [4, 'Ayushi' ,62,74,90,94]]"
   ]
  },
  {
   "cell_type": "code",
   "execution_count": 2,
   "id": "5a2f9c78",
   "metadata": {
    "scrolled": true
   },
   "outputs": [
    {
     "data": {
      "text/plain": [
       "[[1, 'Prakash', 60, 70, 85, 95],\n",
       " [2, 'Ashish', 65, 77, 75, 93],\n",
       " [3, 'Anshika', 68, 72, 85, 89],\n",
       " [4, 'Ayushi', 62, 74, 90, 94]]"
      ]
     },
     "execution_count": 2,
     "metadata": {},
     "output_type": "execute_result"
    }
   ],
   "source": [
    "data"
   ]
  },
  {
   "cell_type": "markdown",
   "id": "64e22b80",
   "metadata": {},
   "source": [
    "## 2. Dictionaries"
   ]
  },
  {
   "cell_type": "code",
   "execution_count": 3,
   "id": "1d655749",
   "metadata": {},
   "outputs": [],
   "source": [
    "dct = { 1 : {'name': 'Prakash' ,'eng' : 60, 'hin' : 70,'sci' : 85,'mth' : 95},\n",
    "        2 : {'name': 'Ashish'  ,'eng' : 65, 'hin' : 77,'sci' : 75,'mth' : 93},\n",
    "        3 : {'name': 'Anshika' ,'eng' : 68, 'hin' : 72,'sci' : 85,'mth' : 89},\n",
    "        4 : {'name': 'Ayushi'  ,'eng' : 62, 'hin' : 74,'sci' : 90,'mth' : 94}}"
   ]
  },
  {
   "cell_type": "code",
   "execution_count": 4,
   "id": "d3a05843",
   "metadata": {},
   "outputs": [
    {
     "data": {
      "text/plain": [
       "'Prakash'"
      ]
     },
     "execution_count": 4,
     "metadata": {},
     "output_type": "execute_result"
    }
   ],
   "source": [
    "dct[1]['name']"
   ]
  },
  {
   "cell_type": "markdown",
   "id": "b67ea3f2",
   "metadata": {},
   "source": [
    "### Q1) Student Details based on their Roll No."
   ]
  },
  {
   "cell_type": "code",
   "execution_count": 5,
   "id": "13e46903",
   "metadata": {},
   "outputs": [
    {
     "name": "stdout",
     "output_type": "stream",
     "text": [
      "Enter the roll no. 2\n",
      "--------------------\n",
      "Name     :  Ashish\n",
      "Hindi    :  77\n",
      "English  :  65\n",
      "Math     :  93\n",
      "Science  :  75\n",
      "--------------------\n"
     ]
    }
   ],
   "source": [
    "roll_no = int(input('Enter the roll no. '))\n",
    "\n",
    "print('-'*20)\n",
    "print('Name     : ', dct[roll_no]['name'])\n",
    "print('Hindi    : ', dct[roll_no]['hin'])\n",
    "print('English  : ', dct[roll_no]['eng'])\n",
    "print('Math     : ', dct[roll_no]['mth'])\n",
    "print('Science  : ', dct[roll_no]['sci'])\n",
    "print('-'*20)"
   ]
  },
  {
   "cell_type": "markdown",
   "id": "8b71ee46",
   "metadata": {},
   "source": [
    "### Q2) Student Details based on their Roll No. including Average and Total Marks"
   ]
  },
  {
   "cell_type": "code",
   "execution_count": 6,
   "id": "9c0a8314",
   "metadata": {},
   "outputs": [
    {
     "name": "stdout",
     "output_type": "stream",
     "text": [
      "Enter the roll no. 2\n",
      "--------------------\n",
      "Name     :  Ashish\n",
      "Hindi    :  77\n",
      "English  :  65\n",
      "Math     :  93\n",
      "Science  :  75\n",
      "--------------------\n",
      "Total    :  310\n",
      "--------------------\n",
      "Average  :  77.5\n",
      "--------------------\n"
     ]
    }
   ],
   "source": [
    "roll_no = int(input('Enter the roll no. '))\n",
    "\n",
    "print('-'*20)\n",
    "print('Name     : ', dct[roll_no]['name'])\n",
    "print('Hindi    : ', dct[roll_no]['hin'])\n",
    "print('English  : ', dct[roll_no]['eng'])\n",
    "print('Math     : ', dct[roll_no]['mth'])\n",
    "print('Science  : ', dct[roll_no]['sci'])\n",
    "print('-'*20)\n",
    "\n",
    "scored =  dct[roll_no]['hin'] + dct[roll_no]['eng'] + dct[roll_no]['mth'] + dct[roll_no]['sci']\n",
    "\n",
    "print('Total    : ',scored)\n",
    "print('-'*20)\n",
    "print('Average  : ',(scored/400)*100)\n",
    "print('-'*20)"
   ]
  },
  {
   "cell_type": "markdown",
   "id": "53f0fac6",
   "metadata": {},
   "source": [
    "### Q3) Average and Top Marks in English"
   ]
  },
  {
   "cell_type": "code",
   "execution_count": 7,
   "id": "9fdb04bd",
   "metadata": {},
   "outputs": [
    {
     "name": "stdout",
     "output_type": "stream",
     "text": [
      "Maximum  :  77\n",
      "Average  :  73.25\n"
     ]
    }
   ],
   "source": [
    "eng = []\n",
    "\n",
    "for key in dct.keys():\n",
    "    eng.append(dct[key]['hin'])\n",
    "    \n",
    "print(\"Maximum  : \",max(eng))\n",
    "print(\"Average  : \",sum(eng)/len(eng))"
   ]
  },
  {
   "cell_type": "markdown",
   "id": "11f7dd29",
   "metadata": {},
   "source": [
    "### Q4)  Who has scored most marks in English"
   ]
  },
  {
   "cell_type": "code",
   "execution_count": 8,
   "id": "30dbd0e0",
   "metadata": {},
   "outputs": [
    {
     "name": "stdout",
     "output_type": "stream",
     "text": [
      "Anshika\n"
     ]
    }
   ],
   "source": [
    "eng = []\n",
    "\n",
    "for key in dct.keys():\n",
    "    eng.append(dct[key]['eng'])\n",
    "    \n",
    "marks = max(eng)\n",
    "\n",
    "for key in dct.keys():\n",
    "    if (dct[key]['eng'] == marks):\n",
    "          print(dct[key]['name'])"
   ]
  },
  {
   "cell_type": "markdown",
   "id": "99158943",
   "metadata": {},
   "source": [
    "### Q4)  Who has scored most marks in Science"
   ]
  },
  {
   "cell_type": "code",
   "execution_count": 9,
   "id": "5e34e8a9",
   "metadata": {},
   "outputs": [
    {
     "name": "stdout",
     "output_type": "stream",
     "text": [
      "Ayushi\n"
     ]
    }
   ],
   "source": [
    "eng = []\n",
    "\n",
    "for key in dct.keys():\n",
    "    eng.append(dct[key]['sci'])\n",
    "    \n",
    "marks = max(eng)\n",
    "\n",
    "for key in dct.keys():\n",
    "    if (dct[key]['sci'] == marks):\n",
    "          print(dct[key]['name'])"
   ]
  },
  {
   "cell_type": "markdown",
   "id": "0853faf9",
   "metadata": {},
   "source": [
    "### Finding Student details based on Name"
   ]
  },
  {
   "cell_type": "code",
   "execution_count": 10,
   "id": "f3df2793",
   "metadata": {},
   "outputs": [
    {
     "name": "stdout",
     "output_type": "stream",
     "text": [
      "Enter the name :Ashish\n",
      "--------------------\n",
      "Roll No  :  2\n",
      "Hindi    :  77\n",
      "English  :  65\n",
      "Math     :  93\n",
      "Science  :  75\n",
      "--------------------\n"
     ]
    }
   ],
   "source": [
    "name = input('Enter the name :')\n",
    "\n",
    "for key in dct.keys():\n",
    "    if(dct[key]['name'].lower() == name.lower()):\n",
    "        \n",
    "        print('-'*20)\n",
    "        print('Roll No  : ',key)\n",
    "        print('Hindi    : ', dct[key]['hin'])\n",
    "        print('English  : ', dct[key]['eng'])\n",
    "        print('Math     : ', dct[key]['mth'])\n",
    "        print('Science  : ', dct[key]['sci'])\n",
    "        print('-'*20)"
   ]
  }
 ],
 "metadata": {
  "kernelspec": {
   "display_name": "Python 3 (ipykernel)",
   "language": "python",
   "name": "python3"
  },
  "language_info": {
   "codemirror_mode": {
    "name": "ipython",
    "version": 3
   },
   "file_extension": ".py",
   "mimetype": "text/x-python",
   "name": "python",
   "nbconvert_exporter": "python",
   "pygments_lexer": "ipython3",
   "version": "3.9.7"
  }
 },
 "nbformat": 4,
 "nbformat_minor": 5
}
