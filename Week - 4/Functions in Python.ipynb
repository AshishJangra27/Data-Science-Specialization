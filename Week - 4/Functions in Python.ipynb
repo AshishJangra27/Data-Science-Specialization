{
 "cells": [
  {
   "cell_type": "code",
   "execution_count": 9,
   "id": "f6b6190e",
   "metadata": {},
   "outputs": [
    {
     "data": {
      "text/plain": [
       "32"
      ]
     },
     "execution_count": 9,
     "metadata": {},
     "output_type": "execute_result"
    }
   ],
   "source": [
    "2^5 = 2*2*2*2*2"
   ]
  },
  {
   "cell_type": "code",
   "execution_count": 10,
   "id": "f4e1558b",
   "metadata": {},
   "outputs": [
    {
     "data": {
      "text/plain": [
       "32"
      ]
     },
     "execution_count": 10,
     "metadata": {},
     "output_type": "execute_result"
    }
   ],
   "source": [
    "2**5"
   ]
  },
  {
   "cell_type": "code",
   "execution_count": 11,
   "id": "a15db8fd",
   "metadata": {},
   "outputs": [
    {
     "data": {
      "text/plain": [
       "32"
      ]
     },
     "execution_count": 11,
     "metadata": {},
     "output_type": "execute_result"
    }
   ],
   "source": [
    "pow(2,5)"
   ]
  },
  {
   "cell_type": "code",
   "execution_count": 66,
   "id": "6fd9997b",
   "metadata": {},
   "outputs": [],
   "source": [
    "def power(num , pow_):      \n",
    "    n = 1\n",
    "    for i in range(pow_):\n",
    "        n = n * num\n",
    "    print(n)\n",
    "    return n"
   ]
  },
  {
   "cell_type": "code",
   "execution_count": 68,
   "id": "0a9e22f0",
   "metadata": {},
   "outputs": [
    {
     "name": "stdout",
     "output_type": "stream",
     "text": [
      "197742224185065366932324177968221745157026572653527148127098282337\n",
      "Odd\n"
     ]
    }
   ],
   "source": [
    "x = power(33,43)\n",
    "\n",
    "if (x%2 == 0):\n",
    "    print('Even')\n",
    "else:\n",
    "    print(\"Odd\")"
   ]
  },
  {
   "cell_type": "code",
   "execution_count": 65,
   "id": "7f732540",
   "metadata": {},
   "outputs": [
    {
     "name": "stdout",
     "output_type": "stream",
     "text": [
      "Even\n"
     ]
    }
   ],
   "source": []
  },
  {
   "cell_type": "code",
   "execution_count": 44,
   "id": "3c4f5108",
   "metadata": {},
   "outputs": [
    {
     "data": {
      "text/plain": [
       "32"
      ]
     },
     "execution_count": 44,
     "metadata": {},
     "output_type": "execute_result"
    }
   ],
   "source": [
    "2*2*2*2*2"
   ]
  },
  {
   "cell_type": "code",
   "execution_count": 49,
   "id": "6e8c7b2d",
   "metadata": {},
   "outputs": [
    {
     "name": "stdout",
     "output_type": "stream",
     "text": [
      "32\n"
     ]
    }
   ],
   "source": [
    "pow_ = 5\n",
    "num  = 2\n",
    "\n"
   ]
  },
  {
   "cell_type": "code",
   "execution_count": null,
   "id": "dc71c2d0",
   "metadata": {},
   "outputs": [],
   "source": []
  }
 ],
 "metadata": {
  "kernelspec": {
   "display_name": "Python 3 (ipykernel)",
   "language": "python",
   "name": "python3"
  },
  "language_info": {
   "codemirror_mode": {
    "name": "ipython",
    "version": 3
   },
   "file_extension": ".py",
   "mimetype": "text/x-python",
   "name": "python",
   "nbconvert_exporter": "python",
   "pygments_lexer": "ipython3",
   "version": "3.9.7"
  }
 },
 "nbformat": 4,
 "nbformat_minor": 5
}
