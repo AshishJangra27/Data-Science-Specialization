{
 "cells": [
  {
   "cell_type": "markdown",
   "id": "8c58b231",
   "metadata": {},
   "source": [
    "## 1. Loading the JSON file"
   ]
  },
  {
   "cell_type": "code",
   "execution_count": 2,
   "id": "1c482038",
   "metadata": {},
   "outputs": [],
   "source": [
    "fd = open('JS.json','r')\n",
    "txt = fd.read()\n",
    "fd.close()"
   ]
  },
  {
   "cell_type": "markdown",
   "id": "6e422440",
   "metadata": {},
   "source": [
    "## 2. Convert String to Dictionary"
   ]
  },
  {
   "cell_type": "code",
   "execution_count": 8,
   "id": "6bf8fc03",
   "metadata": {},
   "outputs": [],
   "source": [
    "import json\n",
    "\n",
    "dct = json.loads(txt)"
   ]
  },
  {
   "cell_type": "markdown",
   "id": "63c7dd56",
   "metadata": {},
   "source": [
    "## 3. Data Walkthrough"
   ]
  },
  {
   "cell_type": "code",
   "execution_count": 9,
   "id": "add083a6",
   "metadata": {},
   "outputs": [
    {
     "data": {
      "text/plain": [
       "dict_keys(['attributions', 'data'])"
      ]
     },
     "execution_count": 9,
     "metadata": {},
     "output_type": "execute_result"
    }
   ],
   "source": [
    "dct.keys()"
   ]
  },
  {
   "cell_type": "code",
   "execution_count": 18,
   "id": "d98d2ce9",
   "metadata": {},
   "outputs": [
    {
     "data": {
      "text/plain": [
       "34244"
      ]
     },
     "execution_count": 18,
     "metadata": {},
     "output_type": "execute_result"
    }
   ],
   "source": [
    "len(dct['data'])"
   ]
  },
  {
   "cell_type": "code",
   "execution_count": 20,
   "id": "3e087288",
   "metadata": {},
   "outputs": [
    {
     "data": {
      "text/plain": [
       "{'id': 'KS120P86XDXZJT3B7KVJ',\n",
       " 'infoUrl': 'https://skills.emsidata.com/skills/KS120P86XDXZJT3B7KVJ',\n",
       " 'name': '(American Society For Quality) ASQ Certified',\n",
       " 'type': {'id': 'ST3', 'name': 'Certification'}}"
      ]
     },
     "execution_count": 20,
     "metadata": {},
     "output_type": "execute_result"
    }
   ],
   "source": [
    "dct['data'][0]"
   ]
  },
  {
   "cell_type": "code",
   "execution_count": 32,
   "id": "30e0bb13",
   "metadata": {},
   "outputs": [
    {
     "name": "stdout",
     "output_type": "stream",
     "text": [
      "ID       :  KS120P86XDXZJT3B7KVJ\n",
      "URL      :  https://skills.emsidata.com/skills/KS120P86XDXZJT3B7KVJ\n",
      "Name     :  (American Society For Quality) ASQ Certified\n",
      "TypeID   :  ST3\n",
      "TypeName :  Certification\n"
     ]
    }
   ],
   "source": [
    "print(\"ID       : \" , dct['data'][0]['id'])\n",
    "print(\"URL      : \" , dct['data'][0]['infoUrl'])\n",
    "print(\"Name     : \" , dct['data'][0]['name'])\n",
    "print(\"TypeID   : \" , dct['data'][0]['type']['id'])\n",
    "print(\"TypeName : \" , dct['data'][0]['type']['name'])"
   ]
  },
  {
   "cell_type": "markdown",
   "id": "44297225",
   "metadata": {},
   "source": [
    "### 4. Convert Dictionary to List (NoSQL to SQL)"
   ]
  },
  {
   "cell_type": "code",
   "execution_count": 43,
   "id": "fa06e969",
   "metadata": {},
   "outputs": [],
   "source": [
    "data = []\n",
    "\n",
    "for i in dct['data']:\n",
    "    data.append([i['id'], i['infoUrl'], i['name'], i['type']['id'], i['type']['name']])"
   ]
  },
  {
   "cell_type": "markdown",
   "id": "311f11de",
   "metadata": {},
   "source": [
    "### 5. Converting Multi-dimensional list to DataFrame"
   ]
  },
  {
   "cell_type": "code",
   "execution_count": 46,
   "id": "005a882d",
   "metadata": {},
   "outputs": [],
   "source": [
    "import pandas as pd\n",
    "\n",
    "df = pd.DataFrame(data, columns = ['id', 'url', 'name', 'type_id', 'type_name'])"
   ]
  },
  {
   "cell_type": "code",
   "execution_count": 47,
   "id": "ab5c81f0",
   "metadata": {
    "scrolled": true
   },
   "outputs": [
    {
     "data": {
      "text/html": [
       "<div>\n",
       "<style scoped>\n",
       "    .dataframe tbody tr th:only-of-type {\n",
       "        vertical-align: middle;\n",
       "    }\n",
       "\n",
       "    .dataframe tbody tr th {\n",
       "        vertical-align: top;\n",
       "    }\n",
       "\n",
       "    .dataframe thead th {\n",
       "        text-align: right;\n",
       "    }\n",
       "</style>\n",
       "<table border=\"1\" class=\"dataframe\">\n",
       "  <thead>\n",
       "    <tr style=\"text-align: right;\">\n",
       "      <th></th>\n",
       "      <th>id</th>\n",
       "      <th>url</th>\n",
       "      <th>name</th>\n",
       "      <th>type_id</th>\n",
       "      <th>type_name</th>\n",
       "    </tr>\n",
       "  </thead>\n",
       "  <tbody>\n",
       "    <tr>\n",
       "      <th>0</th>\n",
       "      <td>KS120P86XDXZJT3B7KVJ</td>\n",
       "      <td>https://skills.emsidata.com/skills/KS120P86XDX...</td>\n",
       "      <td>(American Society For Quality) ASQ Certified</td>\n",
       "      <td>ST3</td>\n",
       "      <td>Certification</td>\n",
       "    </tr>\n",
       "    <tr>\n",
       "      <th>1</th>\n",
       "      <td>KS126XS6CQCFGC3NG79X</td>\n",
       "      <td>https://skills.emsidata.com/skills/KS126XS6CQC...</td>\n",
       "      <td>.NET Assemblies</td>\n",
       "      <td>ST1</td>\n",
       "      <td>Specialized Skill</td>\n",
       "    </tr>\n",
       "    <tr>\n",
       "      <th>2</th>\n",
       "      <td>ES50D03AC9CFC1A0BC93</td>\n",
       "      <td>https://skills.emsidata.com/skills/ES50D03AC9C...</td>\n",
       "      <td>.NET Development</td>\n",
       "      <td>ST1</td>\n",
       "      <td>Specialized Skill</td>\n",
       "    </tr>\n",
       "    <tr>\n",
       "      <th>3</th>\n",
       "      <td>KS1200B62W5ZF38RJ7TD</td>\n",
       "      <td>https://skills.emsidata.com/skills/KS1200B62W5...</td>\n",
       "      <td>.NET Framework</td>\n",
       "      <td>ST1</td>\n",
       "      <td>Specialized Skill</td>\n",
       "    </tr>\n",
       "    <tr>\n",
       "      <th>4</th>\n",
       "      <td>KS126XW78QJCF4TRV2X7</td>\n",
       "      <td>https://skills.emsidata.com/skills/KS126XW78QJ...</td>\n",
       "      <td>.NET Framework 1</td>\n",
       "      <td>ST1</td>\n",
       "      <td>Specialized Skill</td>\n",
       "    </tr>\n",
       "  </tbody>\n",
       "</table>\n",
       "</div>"
      ],
      "text/plain": [
       "                     id                                                url  \\\n",
       "0  KS120P86XDXZJT3B7KVJ  https://skills.emsidata.com/skills/KS120P86XDX...   \n",
       "1  KS126XS6CQCFGC3NG79X  https://skills.emsidata.com/skills/KS126XS6CQC...   \n",
       "2  ES50D03AC9CFC1A0BC93  https://skills.emsidata.com/skills/ES50D03AC9C...   \n",
       "3  KS1200B62W5ZF38RJ7TD  https://skills.emsidata.com/skills/KS1200B62W5...   \n",
       "4  KS126XW78QJCF4TRV2X7  https://skills.emsidata.com/skills/KS126XW78QJ...   \n",
       "\n",
       "                                           name type_id          type_name  \n",
       "0  (American Society For Quality) ASQ Certified     ST3      Certification  \n",
       "1                               .NET Assemblies     ST1  Specialized Skill  \n",
       "2                              .NET Development     ST1  Specialized Skill  \n",
       "3                                .NET Framework     ST1  Specialized Skill  \n",
       "4                              .NET Framework 1     ST1  Specialized Skill  "
      ]
     },
     "execution_count": 47,
     "metadata": {},
     "output_type": "execute_result"
    }
   ],
   "source": [
    "df.head("
   ]
  },
  {
   "cell_type": "markdown",
   "id": "3a04589a",
   "metadata": {},
   "source": [
    "### 6. Checking Null values in DataFrame"
   ]
  },
  {
   "cell_type": "code",
   "execution_count": 49,
   "id": "a6701c47",
   "metadata": {},
   "outputs": [
    {
     "data": {
      "text/plain": [
       "id           0\n",
       "url          0\n",
       "name         0\n",
       "type_id      0\n",
       "type_name    0\n",
       "dtype: int64"
      ]
     },
     "execution_count": 49,
     "metadata": {},
     "output_type": "execute_result"
    }
   ],
   "source": [
    "df.isnull().sum()"
   ]
  },
  {
   "cell_type": "markdown",
   "id": "56102a95",
   "metadata": {},
   "source": [
    "### 7. Saving CSV File"
   ]
  },
  {
   "cell_type": "code",
   "execution_count": null,
   "id": "cd7f94d2",
   "metadata": {},
   "outputs": [],
   "source": [
    "df.to_csv('data.csv', index = False)"
   ]
  },
  {
   "cell_type": "markdown",
   "id": "dab89092",
   "metadata": {},
   "source": [
    "### 8. Select only Name column in dataset"
   ]
  },
  {
   "cell_type": "code",
   "execution_count": 62,
   "id": "6f4bb034",
   "metadata": {},
   "outputs": [],
   "source": [
    "final = []\n",
    "\n",
    "for i in dct['data']:\n",
    "    \n",
    "    data = {}    \n",
    "    data['name'] = i['name']\n",
    "    \n",
    "    final.append(data)"
   ]
  },
  {
   "cell_type": "code",
   "execution_count": 71,
   "id": "bd90d865",
   "metadata": {
    "scrolled": true
   },
   "outputs": [
    {
     "data": {
      "text/plain": [
       "[{'name': '(American Society For Quality) ASQ Certified'},\n",
       " {'name': '.NET Assemblies'},\n",
       " {'name': '.NET Development'},\n",
       " {'name': '.NET Framework'},\n",
       " {'name': '.NET Framework 1'},\n",
       " {'name': '.NET Framework 3'},\n",
       " {'name': '.NET Framework 4'},\n",
       " {'name': '.NET Reflector'},\n",
       " {'name': '.NET Remoting'},\n",
       " {'name': '.htaccess Files'}]"
      ]
     },
     "execution_count": 71,
     "metadata": {},
     "output_type": "execute_result"
    }
   ],
   "source": [
    "final[:10]"
   ]
  },
  {
   "cell_type": "code",
   "execution_count": 67,
   "id": "524089c0",
   "metadata": {},
   "outputs": [
    {
     "data": {
      "text/plain": [
       "[{'name': 'Wikipedia',\n",
       "  'text': 'Wikipedia extracts are distributed under the CC BY-SA license (https://creativecommons.org/licenses/by-sa/3.0/)'}]"
      ]
     },
     "execution_count": 67,
     "metadata": {},
     "output_type": "execute_result"
    }
   ],
   "source": [
    "dct['attributions']"
   ]
  },
  {
   "cell_type": "code",
   "execution_count": 69,
   "id": "034bb827",
   "metadata": {},
   "outputs": [],
   "source": [
    "dct['data'] = final"
   ]
  },
  {
   "cell_type": "markdown",
   "id": "20bebf06",
   "metadata": {},
   "source": [
    "### 9. Checking Final Dictionary"
   ]
  },
  {
   "cell_type": "code",
   "execution_count": 73,
   "id": "b280c619",
   "metadata": {},
   "outputs": [
    {
     "data": {
      "text/plain": [
       "dict_keys(['attributions', 'data'])"
      ]
     },
     "execution_count": 73,
     "metadata": {},
     "output_type": "execute_result"
    }
   ],
   "source": [
    "dct.keys()"
   ]
  },
  {
   "cell_type": "code",
   "execution_count": 77,
   "id": "0029ded6",
   "metadata": {},
   "outputs": [
    {
     "data": {
      "text/plain": [
       "[{'name': 'Wikipedia',\n",
       "  'text': 'Wikipedia extracts are distributed under the CC BY-SA license (https://creativecommons.org/licenses/by-sa/3.0/)'}]"
      ]
     },
     "execution_count": 77,
     "metadata": {},
     "output_type": "execute_result"
    }
   ],
   "source": [
    "dct['attributions']"
   ]
  },
  {
   "cell_type": "markdown",
   "id": "0d1ddf68",
   "metadata": {},
   "source": [
    "### 10. Converting Dictionary to JSON"
   ]
  },
  {
   "cell_type": "code",
   "execution_count": 78,
   "id": "c1d87bb7",
   "metadata": {},
   "outputs": [],
   "source": [
    "txt = json.dumps(dct)"
   ]
  },
  {
   "cell_type": "code",
   "execution_count": 79,
   "id": "403592c8",
   "metadata": {},
   "outputs": [
    {
     "data": {
      "text/plain": [
       "str"
      ]
     },
     "execution_count": 79,
     "metadata": {},
     "output_type": "execute_result"
    }
   ],
   "source": [
    "type(txt)"
   ]
  },
  {
   "cell_type": "code",
   "execution_count": 80,
   "id": "74c61177",
   "metadata": {},
   "outputs": [
    {
     "data": {
      "text/plain": [
       "1124830"
      ]
     },
     "execution_count": 80,
     "metadata": {},
     "output_type": "execute_result"
    }
   ],
   "source": [
    "len(txt)"
   ]
  },
  {
   "cell_type": "code",
   "execution_count": 83,
   "id": "e401fd1b",
   "metadata": {},
   "outputs": [
    {
     "data": {
      "text/plain": [
       "'{\"attributions\": [{\"name\": \"Wikipedia\", \"text\": \"Wikipedia extracts are distributed under the CC BY-'"
      ]
     },
     "execution_count": 83,
     "metadata": {},
     "output_type": "execute_result"
    }
   ],
   "source": [
    "txt[:100]"
   ]
  },
  {
   "cell_type": "code",
   "execution_count": 84,
   "id": "354ed0b0",
   "metadata": {},
   "outputs": [],
   "source": [
    "fd = open('JSON.json','w')\n",
    "\n",
    "fd.write(txt)\n",
    "\n",
    "fd.close()"
   ]
  }
 ],
 "metadata": {
  "kernelspec": {
   "display_name": "Python 3 (ipykernel)",
   "language": "python",
   "name": "python3"
  },
  "language_info": {
   "codemirror_mode": {
    "name": "ipython",
    "version": 3
   },
   "file_extension": ".py",
   "mimetype": "text/x-python",
   "name": "python",
   "nbconvert_exporter": "python",
   "pygments_lexer": "ipython3",
   "version": "3.9.7"
  }
 },
 "nbformat": 4,
 "nbformat_minor": 5
}
