{
 "cells": [
  {
   "cell_type": "code",
   "execution_count": 32,
   "id": "dae8ed49",
   "metadata": {},
   "outputs": [
    {
     "data": {
      "text/plain": [
       "title           0\n",
       "sub_title    2262\n",
       "author          0\n",
       "author_id       0\n",
       "date_time       0\n",
       "size            6\n",
       "upvotes         0\n",
       "rating          0\n",
       "views           4\n",
       "downloads     190\n",
       "notebooks    1849\n",
       "topics       1394\n",
       "link            0\n",
       "dtype: int64"
      ]
     },
     "execution_count": 32,
     "metadata": {},
     "output_type": "execute_result"
    }
   ],
   "source": [
    "import pandas as pd\n",
    "\n",
    "df = pd.read_csv('v2.csv')\n",
    "df.isnull().sum()"
   ]
  },
  {
   "cell_type": "markdown",
   "id": "b73d1e1e",
   "metadata": {},
   "source": [
    "## 1) Removing Null Values"
   ]
  },
  {
   "cell_type": "code",
   "execution_count": 33,
   "id": "07cc422b",
   "metadata": {},
   "outputs": [
    {
     "data": {
      "text/plain": [
       "title          0\n",
       "author         0\n",
       "author_id      0\n",
       "date_time      0\n",
       "size           6\n",
       "upvotes        0\n",
       "rating         0\n",
       "views          4\n",
       "downloads    190\n",
       "link           0\n",
       "dtype: int64"
      ]
     },
     "execution_count": 33,
     "metadata": {},
     "output_type": "execute_result"
    }
   ],
   "source": [
    "del df['sub_title']\n",
    "del df['notebooks']\n",
    "del df['topics']\n",
    "\n",
    "df.isnull().sum()"
   ]
  },
  {
   "cell_type": "code",
   "execution_count": 34,
   "id": "33b63a33",
   "metadata": {},
   "outputs": [
    {
     "data": {
      "text/plain": [
       "title        0\n",
       "author       0\n",
       "author_id    0\n",
       "date_time    0\n",
       "size         0\n",
       "upvotes      0\n",
       "rating       0\n",
       "views        0\n",
       "downloads    0\n",
       "link         0\n",
       "dtype: int64"
      ]
     },
     "execution_count": 34,
     "metadata": {},
     "output_type": "execute_result"
    }
   ],
   "source": [
    "df = df.dropna()\n",
    "\n",
    "df.isnull().sum()"
   ]
  },
  {
   "cell_type": "code",
   "execution_count": 26,
   "id": "ffd536fb",
   "metadata": {},
   "outputs": [
    {
     "data": {
      "text/html": [
       "<div>\n",
       "<style scoped>\n",
       "    .dataframe tbody tr th:only-of-type {\n",
       "        vertical-align: middle;\n",
       "    }\n",
       "\n",
       "    .dataframe tbody tr th {\n",
       "        vertical-align: top;\n",
       "    }\n",
       "\n",
       "    .dataframe thead th {\n",
       "        text-align: right;\n",
       "    }\n",
       "</style>\n",
       "<table border=\"1\" class=\"dataframe\">\n",
       "  <thead>\n",
       "    <tr style=\"text-align: right;\">\n",
       "      <th></th>\n",
       "      <th>title</th>\n",
       "      <th>author</th>\n",
       "      <th>author_id</th>\n",
       "      <th>date_time</th>\n",
       "      <th>size</th>\n",
       "      <th>upvotes</th>\n",
       "      <th>rating</th>\n",
       "      <th>views</th>\n",
       "      <th>downloads</th>\n",
       "      <th>link</th>\n",
       "    </tr>\n",
       "  </thead>\n",
       "  <tbody>\n",
       "    <tr>\n",
       "      <th>0</th>\n",
       "      <td>Wine Quality Dataset</td>\n",
       "      <td>M Yasser H</td>\n",
       "      <td>/yasserh</td>\n",
       "      <td>Sun Jan 16 2022 00:45:11</td>\n",
       "      <td>78 kB</td>\n",
       "      <td>290</td>\n",
       "      <td>10.0</td>\n",
       "      <td>45,700</td>\n",
       "      <td>7,599</td>\n",
       "      <td>https://www.kaggle.com/yasserh/wine-quality-da...</td>\n",
       "    </tr>\n",
       "    <tr>\n",
       "      <th>1</th>\n",
       "      <td>Pistachio Dataset</td>\n",
       "      <td>Murat KOKLU</td>\n",
       "      <td>/mkoklu42</td>\n",
       "      <td>Sat Feb 12 2022 02:36:50</td>\n",
       "      <td>4 MB</td>\n",
       "      <td>505</td>\n",
       "      <td>7.5</td>\n",
       "      <td>1,096</td>\n",
       "      <td>63</td>\n",
       "      <td>https://www.kaggle.com/mkoklu42/pistachio-dataset</td>\n",
       "    </tr>\n",
       "    <tr>\n",
       "      <th>2</th>\n",
       "      <td>Netflix subscription fee in different countries</td>\n",
       "      <td>Prasert Kanawattanachai</td>\n",
       "      <td>/prasertk</td>\n",
       "      <td>Sat Jan 15 2022 12:36:09</td>\n",
       "      <td>6 kB</td>\n",
       "      <td>174</td>\n",
       "      <td>10.0</td>\n",
       "      <td>29,519</td>\n",
       "      <td>5,845</td>\n",
       "      <td>https://www.kaggle.com/prasertk/netflix-subscr...</td>\n",
       "    </tr>\n",
       "    <tr>\n",
       "      <th>3</th>\n",
       "      <td>Height of Male and Female by Country 2022</td>\n",
       "      <td>Majyhain</td>\n",
       "      <td>/majyhain</td>\n",
       "      <td>Wed Feb 02 2022 06:10:19</td>\n",
       "      <td>8 kB</td>\n",
       "      <td>94</td>\n",
       "      <td>10.0</td>\n",
       "      <td>13,872</td>\n",
       "      <td>3,032</td>\n",
       "      <td>https://www.kaggle.com/majyhain/height-of-male...</td>\n",
       "    </tr>\n",
       "    <tr>\n",
       "      <th>4</th>\n",
       "      <td>TED Talks</td>\n",
       "      <td>Ashish Jangra</td>\n",
       "      <td>/ashishjangra27</td>\n",
       "      <td>Wed Feb 23 2022 20:46:08</td>\n",
       "      <td>864 kB</td>\n",
       "      <td>26</td>\n",
       "      <td>10.0</td>\n",
       "      <td>3,468</td>\n",
       "      <td>590</td>\n",
       "      <td>https://www.kaggle.com/ashishjangra27/ted-talks</td>\n",
       "    </tr>\n",
       "  </tbody>\n",
       "</table>\n",
       "</div>"
      ],
      "text/plain": [
       "                                             title                   author  \\\n",
       "0                             Wine Quality Dataset               M Yasser H   \n",
       "1                                Pistachio Dataset              Murat KOKLU   \n",
       "2  Netflix subscription fee in different countries  Prasert Kanawattanachai   \n",
       "3        Height of Male and Female by Country 2022                 Majyhain   \n",
       "4                                        TED Talks            Ashish Jangra   \n",
       "\n",
       "         author_id                 date_time    size  upvotes  rating   views  \\\n",
       "0         /yasserh  Sun Jan 16 2022 00:45:11   78 kB      290    10.0  45,700   \n",
       "1        /mkoklu42  Sat Feb 12 2022 02:36:50    4 MB      505     7.5   1,096   \n",
       "2        /prasertk  Sat Jan 15 2022 12:36:09    6 kB      174    10.0  29,519   \n",
       "3        /majyhain  Wed Feb 02 2022 06:10:19    8 kB       94    10.0  13,872   \n",
       "4  /ashishjangra27  Wed Feb 23 2022 20:46:08  864 kB       26    10.0   3,468   \n",
       "\n",
       "  downloads                                               link  \n",
       "0     7,599  https://www.kaggle.com/yasserh/wine-quality-da...  \n",
       "1        63  https://www.kaggle.com/mkoklu42/pistachio-dataset  \n",
       "2     5,845  https://www.kaggle.com/prasertk/netflix-subscr...  \n",
       "3     3,032  https://www.kaggle.com/majyhain/height-of-male...  \n",
       "4       590    https://www.kaggle.com/ashishjangra27/ted-talks  "
      ]
     },
     "execution_count": 26,
     "metadata": {},
     "output_type": "execute_result"
    }
   ],
   "source": [
    "df.head()"
   ]
  },
  {
   "cell_type": "code",
   "execution_count": 36,
   "id": "09f25fa9",
   "metadata": {},
   "outputs": [],
   "source": [
    "df.to_csv('kaggel.csv', index = False)"
   ]
  },
  {
   "cell_type": "markdown",
   "id": "070b15de",
   "metadata": {},
   "source": [
    "## 2) Data Preprocessing"
   ]
  },
  {
   "cell_type": "code",
   "execution_count": 51,
   "id": "930e4756",
   "metadata": {},
   "outputs": [],
   "source": [
    "views = []\n",
    "\n",
    "for i in df['views']:\n",
    "    views.append(int(i.replace(',','')))\n",
    "    \n",
    "df['views'] = views"
   ]
  },
  {
   "cell_type": "code",
   "execution_count": 54,
   "id": "78ce2baf",
   "metadata": {},
   "outputs": [],
   "source": [
    "downloads = []\n",
    "\n",
    "for i in df['downloads']:\n",
    "    downloads.append(int(i.replace(',','')))\n",
    "    \n",
    "df['downloads'] = downloads"
   ]
  },
  {
   "cell_type": "code",
   "execution_count": 55,
   "id": "bbe53323",
   "metadata": {},
   "outputs": [
    {
     "data": {
      "text/html": [
       "<div>\n",
       "<style scoped>\n",
       "    .dataframe tbody tr th:only-of-type {\n",
       "        vertical-align: middle;\n",
       "    }\n",
       "\n",
       "    .dataframe tbody tr th {\n",
       "        vertical-align: top;\n",
       "    }\n",
       "\n",
       "    .dataframe thead th {\n",
       "        text-align: right;\n",
       "    }\n",
       "</style>\n",
       "<table border=\"1\" class=\"dataframe\">\n",
       "  <thead>\n",
       "    <tr style=\"text-align: right;\">\n",
       "      <th></th>\n",
       "      <th>title</th>\n",
       "      <th>author</th>\n",
       "      <th>author_id</th>\n",
       "      <th>date_time</th>\n",
       "      <th>size</th>\n",
       "      <th>upvotes</th>\n",
       "      <th>rating</th>\n",
       "      <th>views</th>\n",
       "      <th>downloads</th>\n",
       "      <th>link</th>\n",
       "    </tr>\n",
       "  </thead>\n",
       "  <tbody>\n",
       "    <tr>\n",
       "      <th>0</th>\n",
       "      <td>Wine Quality Dataset</td>\n",
       "      <td>M Yasser H</td>\n",
       "      <td>/yasserh</td>\n",
       "      <td>Sun Jan 16 2022 00:45:11</td>\n",
       "      <td>78 kB</td>\n",
       "      <td>290</td>\n",
       "      <td>10.0</td>\n",
       "      <td>45700</td>\n",
       "      <td>7599</td>\n",
       "      <td>https://www.kaggle.com/yasserh/wine-quality-da...</td>\n",
       "    </tr>\n",
       "    <tr>\n",
       "      <th>1</th>\n",
       "      <td>Pistachio Dataset</td>\n",
       "      <td>Murat KOKLU</td>\n",
       "      <td>/mkoklu42</td>\n",
       "      <td>Sat Feb 12 2022 02:36:50</td>\n",
       "      <td>4 MB</td>\n",
       "      <td>505</td>\n",
       "      <td>7.5</td>\n",
       "      <td>1096</td>\n",
       "      <td>63</td>\n",
       "      <td>https://www.kaggle.com/mkoklu42/pistachio-dataset</td>\n",
       "    </tr>\n",
       "    <tr>\n",
       "      <th>2</th>\n",
       "      <td>Netflix subscription fee in different countries</td>\n",
       "      <td>Prasert Kanawattanachai</td>\n",
       "      <td>/prasertk</td>\n",
       "      <td>Sat Jan 15 2022 12:36:09</td>\n",
       "      <td>6 kB</td>\n",
       "      <td>174</td>\n",
       "      <td>10.0</td>\n",
       "      <td>29519</td>\n",
       "      <td>5845</td>\n",
       "      <td>https://www.kaggle.com/prasertk/netflix-subscr...</td>\n",
       "    </tr>\n",
       "    <tr>\n",
       "      <th>3</th>\n",
       "      <td>Height of Male and Female by Country 2022</td>\n",
       "      <td>Majyhain</td>\n",
       "      <td>/majyhain</td>\n",
       "      <td>Wed Feb 02 2022 06:10:19</td>\n",
       "      <td>8 kB</td>\n",
       "      <td>94</td>\n",
       "      <td>10.0</td>\n",
       "      <td>13872</td>\n",
       "      <td>3032</td>\n",
       "      <td>https://www.kaggle.com/majyhain/height-of-male...</td>\n",
       "    </tr>\n",
       "    <tr>\n",
       "      <th>4</th>\n",
       "      <td>TED Talks</td>\n",
       "      <td>Ashish Jangra</td>\n",
       "      <td>/ashishjangra27</td>\n",
       "      <td>Wed Feb 23 2022 20:46:08</td>\n",
       "      <td>864 kB</td>\n",
       "      <td>26</td>\n",
       "      <td>10.0</td>\n",
       "      <td>3468</td>\n",
       "      <td>590</td>\n",
       "      <td>https://www.kaggle.com/ashishjangra27/ted-talks</td>\n",
       "    </tr>\n",
       "  </tbody>\n",
       "</table>\n",
       "</div>"
      ],
      "text/plain": [
       "                                             title                   author  \\\n",
       "0                             Wine Quality Dataset               M Yasser H   \n",
       "1                                Pistachio Dataset              Murat KOKLU   \n",
       "2  Netflix subscription fee in different countries  Prasert Kanawattanachai   \n",
       "3        Height of Male and Female by Country 2022                 Majyhain   \n",
       "4                                        TED Talks            Ashish Jangra   \n",
       "\n",
       "         author_id                 date_time    size  upvotes  rating  views  \\\n",
       "0         /yasserh  Sun Jan 16 2022 00:45:11   78 kB      290    10.0  45700   \n",
       "1        /mkoklu42  Sat Feb 12 2022 02:36:50    4 MB      505     7.5   1096   \n",
       "2        /prasertk  Sat Jan 15 2022 12:36:09    6 kB      174    10.0  29519   \n",
       "3        /majyhain  Wed Feb 02 2022 06:10:19    8 kB       94    10.0  13872   \n",
       "4  /ashishjangra27  Wed Feb 23 2022 20:46:08  864 kB       26    10.0   3468   \n",
       "\n",
       "   downloads                                               link  \n",
       "0       7599  https://www.kaggle.com/yasserh/wine-quality-da...  \n",
       "1         63  https://www.kaggle.com/mkoklu42/pistachio-dataset  \n",
       "2       5845  https://www.kaggle.com/prasertk/netflix-subscr...  \n",
       "3       3032  https://www.kaggle.com/majyhain/height-of-male...  \n",
       "4        590    https://www.kaggle.com/ashishjangra27/ted-talks  "
      ]
     },
     "execution_count": 55,
     "metadata": {},
     "output_type": "execute_result"
    }
   ],
   "source": [
    "df.head()"
   ]
  },
  {
   "cell_type": "code",
   "execution_count": 79,
   "id": "d85f22b4",
   "metadata": {},
   "outputs": [],
   "source": [
    "size = []\n",
    "\n",
    "for i in df['size']:\n",
    "    \n",
    "    if(i[-2:] == 'kB'):\n",
    "        size.append(1)\n",
    "        \n",
    "    elif(i[-2:] == 'MB'):\n",
    "        size.append(int(i[:-3]))\n",
    "        \n",
    "    elif(i[-2:] == 'GB'):\n",
    "        size.append(int(i[:-3]) * 1024)\n",
    "    \n",
    "    else:\n",
    "        size.append(1)\n",
    "        \n",
    "df['size'] = size"
   ]
  },
  {
   "cell_type": "code",
   "execution_count": 82,
   "id": "b70c5157",
   "metadata": {},
   "outputs": [],
   "source": [
    "df.to_csv('kaggel.csv', index = False)"
   ]
  }
 ],
 "metadata": {
  "kernelspec": {
   "display_name": "Python 3 (ipykernel)",
   "language": "python",
   "name": "python3"
  },
  "language_info": {
   "codemirror_mode": {
    "name": "ipython",
    "version": 3
   },
   "file_extension": ".py",
   "mimetype": "text/x-python",
   "name": "python",
   "nbconvert_exporter": "python",
   "pygments_lexer": "ipython3",
   "version": "3.9.7"
  }
 },
 "nbformat": 4,
 "nbformat_minor": 5
}
