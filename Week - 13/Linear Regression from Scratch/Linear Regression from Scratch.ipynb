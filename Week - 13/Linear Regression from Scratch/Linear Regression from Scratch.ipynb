{
 "cells": [
  {
   "cell_type": "code",
   "execution_count": 1,
   "id": "78c45d04",
   "metadata": {},
   "outputs": [],
   "source": [
    "import numpy as np\n",
    "from matplotlib import pyplot as plt\n",
    "\n",
    "# Independent Variable   \n",
    "x = [1,2,3,4,5]         # Hours Spend in Learning\n",
    "\n",
    "# Dependent Variable  \n",
    "y = [2,4,5,4,5]         # Marks a student can score\n",
    "\n",
    "\n",
    "\n",
    "x = [1,2,3,4,5,6,7,8,9,10,11,12,13,14,15,16,17,18,19,20]\n",
    "y = [4,3,5,6,5,6,8,7,8,9,10,14,15,14,17,19,19,20,19,19]"
   ]
  },
  {
   "cell_type": "markdown",
   "id": "2b7fcd45",
   "metadata": {},
   "source": [
    "### 1. Displaying Hours Spend in Learning and Marks Scored"
   ]
  },
  {
   "cell_type": "code",
   "execution_count": 2,
   "id": "9127e223",
   "metadata": {
    "scrolled": true
   },
   "outputs": [
    {
     "name": "stdout",
     "output_type": "stream",
     "text": [
      "1 -> 4\n",
      "2 -> 3\n",
      "3 -> 5\n",
      "4 -> 6\n",
      "5 -> 5\n",
      "6 -> 6\n",
      "7 -> 8\n",
      "8 -> 7\n",
      "9 -> 8\n",
      "10 -> 9\n",
      "11 -> 10\n",
      "12 -> 14\n",
      "13 -> 15\n",
      "14 -> 14\n",
      "15 -> 17\n",
      "16 -> 19\n",
      "17 -> 19\n",
      "18 -> 20\n",
      "19 -> 19\n",
      "20 -> 19\n"
     ]
    }
   ],
   "source": [
    "for i in range(len(x)):\n",
    "    print(x[i] ,\"->\", y[i])"
   ]
  },
  {
   "cell_type": "markdown",
   "id": "2a97b03e",
   "metadata": {},
   "source": [
    "##### 1.1) Finding Average Hours (x_)"
   ]
  },
  {
   "cell_type": "code",
   "execution_count": 3,
   "id": "da7ec2af",
   "metadata": {},
   "outputs": [],
   "source": [
    "x_ = 0\n",
    "for i in x:\n",
    "    x_ += i   \n",
    "x_ = x_/len(x)"
   ]
  },
  {
   "cell_type": "markdown",
   "id": "77567d5d",
   "metadata": {},
   "source": [
    "##### 1.2) Finding Average Marks (y_)"
   ]
  },
  {
   "cell_type": "code",
   "execution_count": 4,
   "id": "07880c72",
   "metadata": {},
   "outputs": [],
   "source": [
    "y_ = 0\n",
    "for i in y:\n",
    "    y_ += i\n",
    "y_ = y_/len(y)"
   ]
  },
  {
   "cell_type": "markdown",
   "id": "225f5d4d",
   "metadata": {},
   "source": [
    "##### 1.3) Finding how divereted the hours are from the average hours"
   ]
  },
  {
   "cell_type": "code",
   "execution_count": 5,
   "id": "cfc5181a",
   "metadata": {},
   "outputs": [],
   "source": [
    "x_div = []\n",
    "for hour in x:\n",
    "    x_div.append(hour - x_)"
   ]
  },
  {
   "cell_type": "markdown",
   "id": "dab7ebf9",
   "metadata": {},
   "source": [
    "##### 1.4) Finding how divereted the marks are from the average marks"
   ]
  },
  {
   "cell_type": "code",
   "execution_count": 6,
   "id": "00c21470",
   "metadata": {},
   "outputs": [],
   "source": [
    "y_div = []\n",
    "for marks in y:\n",
    "    y_div.append(marks - y_)"
   ]
  },
  {
   "cell_type": "markdown",
   "id": "101115b2",
   "metadata": {},
   "source": [
    "##### 1.5) Finding square if x_div"
   ]
  },
  {
   "cell_type": "code",
   "execution_count": 7,
   "id": "918f9ffa",
   "metadata": {
    "scrolled": true
   },
   "outputs": [],
   "source": [
    "x_div_sq = []\n",
    "for x_div_ in x_div:\n",
    "    x_div_sq.append(x_div_ * x_div_)"
   ]
  },
  {
   "cell_type": "markdown",
   "id": "6726af2d",
   "metadata": {},
   "source": [
    "##### 1.6) Finding. (x-x_) * (y-y_)"
   ]
  },
  {
   "cell_type": "code",
   "execution_count": 8,
   "id": "dba58c1e",
   "metadata": {},
   "outputs": [],
   "source": [
    "mul_x_y_ = []\n",
    "\n",
    "for i in range(len(x_div)):\n",
    "    mul_x_y_.append(x_div[i] * y_div[i])"
   ]
  },
  {
   "cell_type": "markdown",
   "id": "8b406aa6",
   "metadata": {},
   "source": [
    "### 2.1 Finding Slope    (m)"
   ]
  },
  {
   "cell_type": "code",
   "execution_count": 9,
   "id": "73e0f232",
   "metadata": {
    "scrolled": true
   },
   "outputs": [],
   "source": [
    "# y = m*x + c\n",
    "\n",
    "\n",
    "# x    = Hours\n",
    "# y    = Marks\n",
    "# x_   = Average Hours\n",
    "# y_   = Average Marks\n",
    "\n",
    "# x-x_     = x_div\n",
    "# y-y_     = y_div\n",
    "\n",
    "# sq(x-x_)      = x_div_sq\n",
    "# (x-x_)*(y-y_) = mul_x_y_ \n",
    "\n",
    "\n",
    "\n",
    "#  | x | y | x-x_ | y-y_ | sq(x-x_) | (x-x_)*(y-y_)  |\n",
    "#  |--------------------------------------------------\n",
    "#  | 1 | 2 |  -2  |  -2  |    4     |       4        |\n",
    "#  | 2 | 4 |  -1  |   0  |    1     |       0        |\n",
    "#  | 3 | 5 |   0  |   1  |    0     |       0        |\n",
    "#  | 4 | 4 |   1  |   0  |    1     |       0        |\n",
    "#  | 5 | 5 |   2  |   1  |    4     |       4        |\n",
    "\n",
    "\n",
    "\n",
    "\n",
    "#        sum[(x-x_)*(y-y_)         6\n",
    "#   m =  -----------------     =  ----  = .6\n",
    "#          sum[sq(x-x_)]           10\n",
    "\n",
    "\n",
    "#  y = mx + c\n",
    "#  c = y - mx"
   ]
  },
  {
   "cell_type": "code",
   "execution_count": 10,
   "id": "d1334c2b",
   "metadata": {},
   "outputs": [],
   "source": [
    "m = sum(mul_x_y_) /sum(x_div_sq)       # Slope"
   ]
  },
  {
   "cell_type": "markdown",
   "id": "76156ffa",
   "metadata": {},
   "source": [
    "### 2.2 Finding Intercept"
   ]
  },
  {
   "cell_type": "code",
   "execution_count": 11,
   "id": "d7ba3370",
   "metadata": {
    "scrolled": true
   },
   "outputs": [],
   "source": [
    "#  y = mx + c\n",
    "#  c = y - mx\n",
    "\n",
    "c = y_ - m * x_                        # Intercept"
   ]
  },
  {
   "cell_type": "markdown",
   "id": "9d4f4726",
   "metadata": {},
   "source": [
    "### 3) Finding the Error using R-Squared\n",
    "##### 3.1) Finding y_predicted based on m and c that we've found"
   ]
  },
  {
   "cell_type": "code",
   "execution_count": 12,
   "id": "0a0bf51e",
   "metadata": {},
   "outputs": [
    {
     "name": "stdout",
     "output_type": "stream",
     "text": [
      "[2.03, 3.01, 3.99, 4.97, 5.95, 6.93, 7.92, 8.9, 9.88, 10.86, 11.84, 12.82, 13.8, 14.78, 15.77, 16.75, 17.73, 18.71, 19.69, 20.67]\n"
     ]
    }
   ],
   "source": [
    "y_pred = []\n",
    "\n",
    "for i in x:\n",
    "    y_pred.append(round(m*i + c,2))\n",
    "    \n",
    "print(y_pred)"
   ]
  },
  {
   "cell_type": "code",
   "execution_count": 13,
   "id": "bd0ce54d",
   "metadata": {},
   "outputs": [],
   "source": [
    "# y = m*x + c\n",
    "\n",
    "\n",
    "# x    = Hours\n",
    "# y    = Marks\n",
    "# x_   = Average Hours\n",
    "# y_   = Average Marks\n",
    "\n",
    "# x-x_     = x_div\n",
    "# y-y_     = y_div\n",
    "\n",
    "# sq(x-x_)      = x_div_sq\n",
    "# (x-x_)*(y-y_) = mul_x_y_ \n",
    "# y_pred        = Predicted Value of y from the equation y=mx+c\n",
    "# y_div_sq      = Square of y-y_\n",
    "# y_y_pred_diff = Difference between Average Y and Y Predicted\n",
    "# y_y_pred_diff_sq  =  Square of Difference between Average Y and Y Predicted\n",
    "\n",
    "#  -----------------------------------------------------------------------------------------------------------------  \n",
    "#  | x | y | x-x_ | y-y_ | sq(x-x_) | (x-x_)*(y-y_) | sq(y-y_) |  y_pred  | y_pred - y_mean | sq(y_pred - y_mean)|\n",
    "#  -----------------------------------------------------------------------------------------------------------------\n",
    "#  | 1 | 2 |  -2  |  -2  |    4     |       4       |    4     |   2.8    |      -1.2       |        1.44        |\n",
    "#  | 2 | 4 |  -1  |   0  |    1     |       0       |    0     |   3.4    |      -0.6       |        0.36        |\n",
    "#  | 3 | 5 |   0  |   1  |    0     |       0       |    1     |   4.0    |        0        |         0          |\n",
    "#  | 4 | 4 |   1  |   0  |    1     |       0       |    0     |   4.6    |       0.6       |        0.36        |\n",
    "#  | 5 | 5 |   2  |   1  |    4     |       4       |    1     |   5.2    |       1.2       |        1.44        |\n",
    "#  -----------------------------------------------------------------------------------------------------------------\n",
    "\n",
    "\n",
    "#        sum[(x-x_)*(y-y_)         6\n",
    "#   m =  -----------------     =  ----  = .6\n",
    "#          sum[sq(x-x_)]           10\n",
    "\n",
    "\n",
    "#  y = mx + c\n",
    "#  c = y - mx\n",
    "\n",
    "#         sum(sq(y_pred - y_mean))\n",
    "# R^2 = -----------------------------\n",
    "#           sum(sq(y - y_mean))"
   ]
  },
  {
   "cell_type": "markdown",
   "id": "07292d0d",
   "metadata": {},
   "source": [
    "##### 3.2) Finding the Difference of y-mean and y-predicted"
   ]
  },
  {
   "cell_type": "code",
   "execution_count": 14,
   "id": "7cc556b6",
   "metadata": {},
   "outputs": [],
   "source": [
    "y_y_pred_diff = []\n",
    "\n",
    "for i in y_pred:\n",
    "    y_y_pred_diff.append(round(i-y_,2))"
   ]
  },
  {
   "cell_type": "markdown",
   "id": "de200841",
   "metadata": {},
   "source": [
    "##### 3.3) Finding the Square of Difference of y-mean and y-predicted"
   ]
  },
  {
   "cell_type": "code",
   "execution_count": 15,
   "id": "198662fe",
   "metadata": {},
   "outputs": [],
   "source": [
    "y_y_pred_diff_sq = []\n",
    "\n",
    "for i in y_y_pred_diff:\n",
    "    y_y_pred_diff_sq.append(i*i)"
   ]
  },
  {
   "cell_type": "code",
   "execution_count": 16,
   "id": "7c0047be",
   "metadata": {},
   "outputs": [],
   "source": [
    "y_div_sq = [i*i for i in y_div]"
   ]
  },
  {
   "cell_type": "markdown",
   "id": "36806ea7",
   "metadata": {},
   "source": [
    "##### 3.4) Finding the R-Squared Error"
   ]
  },
  {
   "cell_type": "code",
   "execution_count": 17,
   "id": "6ab31da0",
   "metadata": {},
   "outputs": [
    {
     "name": "stdout",
     "output_type": "stream",
     "text": [
      "0.94\n"
     ]
    }
   ],
   "source": [
    "#         sum(sq(y_pred - y_mean))\n",
    "# R^2 = -----------------------------\n",
    "#           sum(sq(y - y_mean))\n",
    "\n",
    "r = round(round(sum(y_y_pred_diff_sq),2) / sum(y_div_sq),2)\n",
    "\n",
    "print(r)"
   ]
  },
  {
   "cell_type": "markdown",
   "id": "b7789ab2",
   "metadata": {},
   "source": [
    "### 4) Finding the Error using Mean Squared Error\n",
    "###### 4.1) Finding the difference between y_predicted and y"
   ]
  },
  {
   "cell_type": "code",
   "execution_count": 18,
   "id": "cdda36ff",
   "metadata": {},
   "outputs": [],
   "source": [
    "#  -------------------------------------------------------------------------------------------------------\n",
    "#  | x | y | x-x_ | y-y_ | sq(x-x_) | (x-x_)*(y-y_) | sq(y-y_) |  y_pred  | y_pred - y | sq(y_pred - y) |\n",
    "#  -------------------------------------------------------------------------------------------------------\n",
    "#  | 1 | 2 |  -2  |  -2  |    4     |       4       |    4     |   2.8    |    0.8     |      .64       |\n",
    "#  | 2 | 4 |  -1  |   0  |    1     |       0       |    0     |   3.4    |    0.6     |      .36       |\n",
    "#  | 3 | 5 |   0  |   1  |    0     |       0       |    1     |   4.0    |    -1      |      1.0       |\n",
    "#  | 4 | 4 |   1  |   0  |    1     |       0       |    0     |   4.6    |    0.6     |      .36       |\n",
    "#  | 5 | 5 |   2  |   1  |    4     |       4       |    1     |   5.2    |    0.2     |      .04       |\n",
    "#  -------------------------------------------------------------------------------------------------------\n",
    "\n",
    "# Where n is no of data-entries\n",
    "\n",
    "#                  |  sum(sq(y_pred - y))   |\n",
    "# Error  =   sqrt  |  --------------------- |\n",
    "#                  |_        n - 2         _|"
   ]
  },
  {
   "cell_type": "code",
   "execution_count": 19,
   "id": "dc14835a",
   "metadata": {},
   "outputs": [],
   "source": [
    "# Finding sq(y_pred - y)\n",
    "\n",
    "y_y_mean_sq_diff = []\n",
    "\n",
    "for i in range(len(y_pred)):   \n",
    "    y_y_mean_sq_diff.append(round(pow(round(y_pred[i] - y[i],2),2),2))"
   ]
  },
  {
   "cell_type": "code",
   "execution_count": 20,
   "id": "aae0aab9",
   "metadata": {},
   "outputs": [],
   "source": [
    "#           |  sum(sq(y_pred - y))   |\n",
    "# Error  =  |  --------------------- |\n",
    "#           |_        n - 2         _|\n",
    "\n",
    "\n",
    "error = round(sum(y_y_mean_sq_diff) / (len(y) - 2),2)"
   ]
  },
  {
   "cell_type": "code",
   "execution_count": 21,
   "id": "010d1a24",
   "metadata": {},
   "outputs": [],
   "source": [
    "#                  |  sum(sq(y_pred - y))   |\n",
    "# Error  =   sqrt  |  --------------------- |\n",
    "#                  |_        n - 2         _|\n",
    "\n",
    "error = round(np.sqrt(error),2)"
   ]
  },
  {
   "cell_type": "code",
   "execution_count": 22,
   "id": "85768d78",
   "metadata": {},
   "outputs": [
    {
     "data": {
      "text/plain": [
       "1.46"
      ]
     },
     "execution_count": 22,
     "metadata": {},
     "output_type": "execute_result"
    }
   ],
   "source": [
    "error"
   ]
  },
  {
   "cell_type": "markdown",
   "id": "6980e12e",
   "metadata": {},
   "source": [
    "### 5. Understanding using Graph"
   ]
  },
  {
   "cell_type": "code",
   "execution_count": 28,
   "id": "fe222a49",
   "metadata": {},
   "outputs": [
    {
     "data": {
      "image/png": "[encoded data removed]",
      "text/plain": [
       "<Figure size 432x288 with 1 Axes>"
      ]
     },
     "metadata": {
      "needs_background": "light"
     },
     "output_type": "display_data"
    }
   ],
   "source": [
    "plt.scatter(x,y,   c = 'green' , marker = 's')\n",
    "plt.plot(x,y_pred, c = 'orange')\n",
    "\n",
    "plt.xlabel('No of Hours Spend')\n",
    "plt.xlabel('No of Marks Scored')\n",
    "\n",
    "plt.show()"
   ]
  },
  {
   "cell_type": "markdown",
   "id": "75831247",
   "metadata": {},
   "source": [
    "### 6. Understanding y=mx+c if c=0"
   ]
  },
  {
   "cell_type": "code",
   "execution_count": 48,
   "id": "7932f3e2",
   "metadata": {},
   "outputs": [],
   "source": [
    "def cord(x, m):\n",
    "    y = []\n",
    "    for _ in x:\n",
    "        y.append(_*m)\n",
    "    return y"
   ]
  },
  {
   "cell_type": "code",
   "execution_count": 50,
   "id": "804cd40f",
   "metadata": {},
   "outputs": [
    {
     "data": {
      "image/png": "[encoded data removed]",
      "text/plain": [
       "<Figure size 432x288 with 1 Axes>"
      ]
     },
     "metadata": {
      "needs_background": "light"
     },
     "output_type": "display_data"
    }
   ],
   "source": [
    "y = cord(x,0)\n",
    "    \n",
    "plt.plot(x,y,   c = 'green')\n",
    "plt.show()"
   ]
  },
  {
   "cell_type": "code",
   "execution_count": 51,
   "id": "c0ee9053",
   "metadata": {},
   "outputs": [
    {
     "data": {
      "image/png": "[encoded data removed]",
      "text/plain": [
       "<Figure size 432x288 with 1 Axes>"
      ]
     },
     "metadata": {
      "needs_background": "light"
     },
     "output_type": "display_data"
    }
   ],
   "source": [
    "y = cord(x,1)\n",
    "    \n",
    "plt.plot(x,y,   c = 'green')\n",
    "plt.show()"
   ]
  },
  {
   "cell_type": "code",
   "execution_count": 52,
   "id": "347e3570",
   "metadata": {},
   "outputs": [
    {
     "data": {
      "image/png": "[encoded data removed]",
      "text/plain": [
       "<Figure size 432x288 with 1 Axes>"
      ]
     },
     "metadata": {
      "needs_background": "light"
     },
     "output_type": "display_data"
    }
   ],
   "source": [
    "y = cord(x,2)\n",
    "    \n",
    "plt.plot(x,y,   c = 'green')\n",
    "plt.show()"
   ]
  },
  {
   "cell_type": "code",
   "execution_count": 65,
   "id": "9043197c",
   "metadata": {},
   "outputs": [
    {
     "data": {
      "image/png": "[encoded data removed]",
      "text/plain": [
       "<Figure size 432x288 with 1 Axes>"
      ]
     },
     "metadata": {
      "needs_background": "light"
     },
     "output_type": "display_data"
    }
   ],
   "source": [
    "x = [5,4,56,7,4,3]\n",
    "\n",
    "y = cord(x,0)  \n",
    "plt.plot(x,y,   c = 'red')\n",
    "\n",
    "y = cord(x,.2)  \n",
    "plt.plot(x,y,   c = 'green')\n",
    "\n",
    "y = cord(x,.1)  \n",
    "plt.plot(x,y,   c = 'green')\n",
    "\n",
    "\n",
    "y = cord(x,-.2)  \n",
    "plt.plot(x,y,   c = 'gray')\n",
    "\n",
    "y = cord(x,-.1)  \n",
    "plt.plot(x,y,   c = 'gray')\n",
    "\n",
    "\n",
    "plt.xlabel('No of Hours Spend')\n",
    "plt.xlabel('No of Marks Scored')\n",
    "\n",
    "plt.show()"
   ]
  },
  {
   "cell_type": "markdown",
   "id": "010eec58",
   "metadata": {},
   "source": [
    "### 7. Understanding y=mx+c if c!=0 & m=0"
   ]
  },
  {
   "cell_type": "code",
   "execution_count": 84,
   "id": "e8dc9fcf",
   "metadata": {},
   "outputs": [],
   "source": [
    "x = [0,1,2,3,4,5,6,7,8,9,10]\n",
    "\n",
    "def cord(x, m, c):\n",
    "    y = []\n",
    "    for _ in x:\n",
    "        y.append(_*m + c)\n",
    "    return y"
   ]
  },
  {
   "cell_type": "code",
   "execution_count": 85,
   "id": "5a9863f8",
   "metadata": {},
   "outputs": [
    {
     "data": {
      "image/png": "[encoded data removed]",
      "text/plain": [
       "<Figure size 432x288 with 1 Axes>"
      ]
     },
     "metadata": {
      "needs_background": "light"
     },
     "output_type": "display_data"
    }
   ],
   "source": [
    "y = cord(x, m = 0, c = 0)\n",
    "plt.plot(x,y,   c = 'red')\n",
    "\n",
    "y = cord(x, m = 0, c = 1)\n",
    "plt.plot(x,y,   c = 'orange')\n",
    "\n",
    "y = cord(x, m = 0, c = 10)\n",
    "plt.plot(x,y,   c = 'pink')\n",
    "\n",
    "\n",
    "y = cord(x, m = 0, c = -10)\n",
    "plt.plot(x,y,   c = 'pink')\n",
    "\n",
    "\n",
    "plt.show()"
   ]
  },
  {
   "cell_type": "markdown",
   "id": "6ff2f26d",
   "metadata": {},
   "source": [
    "### 8. Understanding y=mx+c if c!=0 & m!=0"
   ]
  },
  {
   "cell_type": "code",
   "execution_count": 95,
   "id": "ca0eaa66",
   "metadata": {},
   "outputs": [
    {
     "data": {
      "image/png": "[encoded data removed]",
      "text/plain": [
       "<Figure size 432x288 with 1 Axes>"
      ]
     },
     "metadata": {
      "needs_background": "light"
     },
     "output_type": "display_data"
    }
   ],
   "source": [
    "y = cord(x, m = 1, c = -1)\n",
    "plt.plot(x,y,   c = 'green')\n",
    "\n",
    "y = cord(x, m = 1, c = 0)\n",
    "plt.plot(x,y,   c = 'red')\n",
    "\n",
    "y = cord(x, m = 1, c = 1)\n",
    "plt.plot(x,y,   c = 'orange')\n",
    "\n",
    "\n",
    "\n",
    "# y = cord(x, m = 0, c = -10)\n",
    "# plt.plot(x,y,   c = 'pink')\n",
    "\n",
    "\n",
    "plt.show()"
   ]
  },
  {
   "cell_type": "code",
   "execution_count": 116,
   "id": "f481d721",
   "metadata": {},
   "outputs": [
    {
     "data": {
      "image/png": "[encoded data removed]",
      "text/plain": [
       "<Figure size 432x288 with 1 Axes>"
      ]
     },
     "metadata": {
      "needs_background": "light"
     },
     "output_type": "display_data"
    }
   ],
   "source": [
    "for i in range(15,5,-1):\n",
    "    y = cord(x, m = 0, c = i)\n",
    "    plt.plot(x,y,   c = 'orange')\n",
    "    \n",
    "for i in range(5,-5,-1):\n",
    "    y = cord(x, m = 0, c = i)\n",
    "    plt.plot(x,y,   c = 'white')\n",
    "    \n",
    "for i in range(-5,-15,-1):\n",
    "    y = cord(x, m = 0, c = i)\n",
    "    plt.plot(x,y,   c = 'green')\n",
    "\n",
    "    \n",
    "plt.show()"
   ]
  },
  {
   "cell_type": "code",
   "execution_count": null,
   "id": "d0c9e80f",
   "metadata": {},
   "outputs": [],
   "source": []
  }
 ],
 "metadata": {
  "kernelspec": {
   "display_name": "Python 3 (ipykernel)",
   "language": "python",
   "name": "python3"
  },
  "language_info": {
   "codemirror_mode": {
    "name": "ipython",
    "version": 3
   },
   "file_extension": ".py",
   "mimetype": "text/x-python",
   "name": "python",
   "nbconvert_exporter": "python",
   "pygments_lexer": "ipython3",
   "version": "3.9.7"
  }
 },
 "nbformat": 4,
 "nbformat_minor": 5
}
