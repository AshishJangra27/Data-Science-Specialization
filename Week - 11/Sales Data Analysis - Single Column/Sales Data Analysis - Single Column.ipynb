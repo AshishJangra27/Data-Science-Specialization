{
 "cells": [
  {
   "cell_type": "code",
   "execution_count": 1,
   "id": "524b640d",
   "metadata": {},
   "outputs": [
    {
     "data": {
      "text/html": [
       "<div>\n",
       "<style scoped>\n",
       "    .dataframe tbody tr th:only-of-type {\n",
       "        vertical-align: middle;\n",
       "    }\n",
       "\n",
       "    .dataframe tbody tr th {\n",
       "        vertical-align: top;\n",
       "    }\n",
       "\n",
       "    .dataframe thead th {\n",
       "        text-align: right;\n",
       "    }\n",
       "</style>\n",
       "<table border=\"1\" class=\"dataframe\">\n",
       "  <thead>\n",
       "    <tr style=\"text-align: right;\">\n",
       "      <th></th>\n",
       "      <th>order_id</th>\n",
       "      <th>product</th>\n",
       "      <th>quantity</th>\n",
       "      <th>price</th>\n",
       "      <th>total</th>\n",
       "      <th>full_date</th>\n",
       "      <th>hour</th>\n",
       "      <th>date</th>\n",
       "      <th>month</th>\n",
       "      <th>year</th>\n",
       "      <th>day</th>\n",
       "      <th>address</th>\n",
       "      <th>city</th>\n",
       "      <th>state</th>\n",
       "      <th>pincode</th>\n",
       "      <th>timezone</th>\n",
       "    </tr>\n",
       "  </thead>\n",
       "  <tbody>\n",
       "    <tr>\n",
       "      <th>0</th>\n",
       "      <td>236670</td>\n",
       "      <td>Wired Headphones</td>\n",
       "      <td>2</td>\n",
       "      <td>11.99</td>\n",
       "      <td>23.98</td>\n",
       "      <td>08/31/19</td>\n",
       "      <td>22</td>\n",
       "      <td>31</td>\n",
       "      <td>8</td>\n",
       "      <td>2019</td>\n",
       "      <td>Sat</td>\n",
       "      <td>359 Spruce St</td>\n",
       "      <td>Seattle</td>\n",
       "      <td>WA</td>\n",
       "      <td>98101</td>\n",
       "      <td>PM</td>\n",
       "    </tr>\n",
       "    <tr>\n",
       "      <th>1</th>\n",
       "      <td>236671</td>\n",
       "      <td>Bose SoundSport Headphones</td>\n",
       "      <td>1</td>\n",
       "      <td>99.99</td>\n",
       "      <td>99.99</td>\n",
       "      <td>08/15/19</td>\n",
       "      <td>15</td>\n",
       "      <td>15</td>\n",
       "      <td>8</td>\n",
       "      <td>2019</td>\n",
       "      <td>Thu</td>\n",
       "      <td>492 Ridge St</td>\n",
       "      <td>Dallas</td>\n",
       "      <td>TX</td>\n",
       "      <td>75001</td>\n",
       "      <td>PM</td>\n",
       "    </tr>\n",
       "    <tr>\n",
       "      <th>2</th>\n",
       "      <td>236672</td>\n",
       "      <td>iPhone</td>\n",
       "      <td>1</td>\n",
       "      <td>700.00</td>\n",
       "      <td>700.00</td>\n",
       "      <td>08/06/19</td>\n",
       "      <td>14</td>\n",
       "      <td>6</td>\n",
       "      <td>8</td>\n",
       "      <td>2019</td>\n",
       "      <td>Tue</td>\n",
       "      <td>149 7th St</td>\n",
       "      <td>Portland</td>\n",
       "      <td>OR</td>\n",
       "      <td>97035</td>\n",
       "      <td>PM</td>\n",
       "    </tr>\n",
       "    <tr>\n",
       "      <th>3</th>\n",
       "      <td>236673</td>\n",
       "      <td>AA Batteries (4-pack)</td>\n",
       "      <td>2</td>\n",
       "      <td>3.84</td>\n",
       "      <td>7.68</td>\n",
       "      <td>08/29/19</td>\n",
       "      <td>20</td>\n",
       "      <td>29</td>\n",
       "      <td>8</td>\n",
       "      <td>2019</td>\n",
       "      <td>Thu</td>\n",
       "      <td>631 2nd St</td>\n",
       "      <td>Los Angeles</td>\n",
       "      <td>CA</td>\n",
       "      <td>90001</td>\n",
       "      <td>PM</td>\n",
       "    </tr>\n",
       "    <tr>\n",
       "      <th>4</th>\n",
       "      <td>236674</td>\n",
       "      <td>AA Batteries (4-pack)</td>\n",
       "      <td>2</td>\n",
       "      <td>3.84</td>\n",
       "      <td>7.68</td>\n",
       "      <td>08/15/19</td>\n",
       "      <td>19</td>\n",
       "      <td>15</td>\n",
       "      <td>8</td>\n",
       "      <td>2019</td>\n",
       "      <td>Thu</td>\n",
       "      <td>736 14th St</td>\n",
       "      <td>New York City</td>\n",
       "      <td>NY</td>\n",
       "      <td>10001</td>\n",
       "      <td>PM</td>\n",
       "    </tr>\n",
       "  </tbody>\n",
       "</table>\n",
       "</div>"
      ],
      "text/plain": [
       "   order_id                     product  quantity   price   total full_date  \\\n",
       "0    236670            Wired Headphones         2   11.99   23.98  08/31/19   \n",
       "1    236671  Bose SoundSport Headphones         1   99.99   99.99  08/15/19   \n",
       "2    236672                      iPhone         1  700.00  700.00  08/06/19   \n",
       "3    236673       AA Batteries (4-pack)         2    3.84    7.68  08/29/19   \n",
       "4    236674       AA Batteries (4-pack)         2    3.84    7.68  08/15/19   \n",
       "\n",
       "   hour  date  month  year  day        address           city state  pincode  \\\n",
       "0    22    31      8  2019  Sat  359 Spruce St        Seattle    WA    98101   \n",
       "1    15    15      8  2019  Thu   492 Ridge St         Dallas    TX    75001   \n",
       "2    14     6      8  2019  Tue     149 7th St       Portland    OR    97035   \n",
       "3    20    29      8  2019  Thu     631 2nd St    Los Angeles    CA    90001   \n",
       "4    19    15      8  2019  Thu    736 14th St  New York City    NY    10001   \n",
       "\n",
       "  timezone  \n",
       "0       PM  \n",
       "1       PM  \n",
       "2       PM  \n",
       "3       PM  \n",
       "4       PM  "
      ]
     },
     "execution_count": 1,
     "metadata": {},
     "output_type": "execute_result"
    }
   ],
   "source": [
    "import pandas as pd\n",
    "import matplotlib.pyplot as plt\n",
    "\n",
    "df = pd.read_csv('data.csv')\n",
    "df.head()"
   ]
  },
  {
   "cell_type": "markdown",
   "id": "341bc4e2",
   "metadata": {},
   "source": [
    "#### 1.1) Analysing Price of Each Product"
   ]
  },
  {
   "cell_type": "code",
   "execution_count": 2,
   "id": "163b67ad",
   "metadata": {},
   "outputs": [
    {
     "name": "stdout",
     "output_type": "stream",
     "text": [
      "Average :  184\n",
      "Minimum :  2\n",
      "Maximum :  1700\n"
     ]
    }
   ],
   "source": [
    "print(\"Average : \", int(df['price'].mean()))\n",
    "print(\"Minimum : \", int(df['price'].min()))\n",
    "print(\"Maximum : \", int(df['price'].max()))"
   ]
  },
  {
   "cell_type": "code",
   "execution_count": 23,
   "id": "a3c260db",
   "metadata": {
    "scrolled": true
   },
   "outputs": [
    {
     "data": {
      "image/png": "[encoded data removed]",
      "text/plain": [
       "<Figure size 432x288 with 1 Axes>"
      ]
     },
     "metadata": {
      "needs_background": "light"
     },
     "output_type": "display_data"
    }
   ],
   "source": [
    "price = []\n",
    "\n",
    "for i in df['price'].unique():\n",
    "    price.append([i, len(df[df['price'] == i])])\n",
    "    \n",
    "df_pr = pd.DataFrame(price, columns= ['price','freq'])\n",
    "\n",
    "df_pr.sort_values(by = 'price')['price']\n",
    "\n",
    "pr = list(df_pr.sort_values(by = 'price')['price'])\n",
    "fr = list(df_pr.sort_values(by = 'price')['freq'])\n",
    "\n",
    "pri = []\n",
    "for i in pr:\n",
    "    pri.append(str(i)) \n",
    "\n",
    "\n",
    "plt.bar(pri,fr)\n",
    "\n",
    "plt.show()"
   ]
  },
  {
   "cell_type": "markdown",
   "id": "78eeffc1",
   "metadata": {},
   "source": [
    "##### Assumption - Most number of product that are sold are of less than 100 Dollars"
   ]
  },
  {
   "cell_type": "markdown",
   "id": "3c64cc30",
   "metadata": {},
   "source": [
    "#### 1.2) Analysing Price of Each Order"
   ]
  },
  {
   "cell_type": "code",
   "execution_count": 4,
   "id": "d4678016",
   "metadata": {},
   "outputs": [
    {
     "name": "stdout",
     "output_type": "stream",
     "text": [
      "Minimum :  2\n",
      "Maximum :  3400\n",
      "Average :  185\n"
     ]
    }
   ],
   "source": [
    "print('Minimum : ',int(df['total'].min()))\n",
    "print('Maximum : ',int(df['total'].max()))\n",
    "print('Average : ',int(df['total'].mean()))"
   ]
  },
  {
   "cell_type": "markdown",
   "id": "3ead7b0e",
   "metadata": {},
   "source": [
    "##### Assumption - Most number of product that are sold are of less than 100 Dollars"
   ]
  },
  {
   "cell_type": "markdown",
   "id": "0f5558a2",
   "metadata": {},
   "source": [
    "#### 1.3) Analysing Quantity Column"
   ]
  },
  {
   "cell_type": "code",
   "execution_count": 5,
   "id": "687daf2e",
   "metadata": {},
   "outputs": [
    {
     "data": {
      "image/png": "[encoded data removed]",
      "text/plain": [
       "<Figure size 432x288 with 1 Axes>"
      ]
     },
     "metadata": {},
     "output_type": "display_data"
    }
   ],
   "source": [
    "qn = []\n",
    "fr = []\n",
    "\n",
    "for i in df['quantity'].unique():\n",
    "    \n",
    "    qn.append(i)\n",
    "    fr.append(len(df[df['quantity'] == i]))\n",
    "    \n",
    "plt.pie(fr, labels = qn, shadow = True, autopct = '%1.2f%%')\n",
    "\n",
    "\n",
    "plt.show()"
   ]
  },
  {
   "cell_type": "markdown",
   "id": "0515eff5",
   "metadata": {},
   "source": [
    "##### Assumption - Most number of people (90%) are buying 1 product at a time\n",
    "\n",
    "We can add offers so that they can buy more products"
   ]
  },
  {
   "cell_type": "markdown",
   "id": "684268ed",
   "metadata": {},
   "source": [
    "#### 1.4) Analysing Full_date Column"
   ]
  },
  {
   "cell_type": "code",
   "execution_count": 6,
   "id": "511d1191",
   "metadata": {},
   "outputs": [
    {
     "data": {
      "text/html": [
       "<div>\n",
       "<style scoped>\n",
       "    .dataframe tbody tr th:only-of-type {\n",
       "        vertical-align: middle;\n",
       "    }\n",
       "\n",
       "    .dataframe tbody tr th {\n",
       "        vertical-align: top;\n",
       "    }\n",
       "\n",
       "    .dataframe thead th {\n",
       "        text-align: right;\n",
       "    }\n",
       "</style>\n",
       "<table border=\"1\" class=\"dataframe\">\n",
       "  <thead>\n",
       "    <tr style=\"text-align: right;\">\n",
       "      <th></th>\n",
       "      <th>date</th>\n",
       "      <th>fr</th>\n",
       "    </tr>\n",
       "  </thead>\n",
       "  <tbody>\n",
       "    <tr>\n",
       "      <th>204</th>\n",
       "      <td>12/17/19</td>\n",
       "      <td>881</td>\n",
       "    </tr>\n",
       "    <tr>\n",
       "      <th>201</th>\n",
       "      <td>12/23/19</td>\n",
       "      <td>869</td>\n",
       "    </tr>\n",
       "    <tr>\n",
       "      <th>194</th>\n",
       "      <td>12/13/19</td>\n",
       "      <td>861</td>\n",
       "    </tr>\n",
       "    <tr>\n",
       "      <th>188</th>\n",
       "      <td>12/29/19</td>\n",
       "      <td>841</td>\n",
       "    </tr>\n",
       "    <tr>\n",
       "      <th>193</th>\n",
       "      <td>12/16/19</td>\n",
       "      <td>825</td>\n",
       "    </tr>\n",
       "    <tr>\n",
       "      <th>215</th>\n",
       "      <td>12/19/19</td>\n",
       "      <td>823</td>\n",
       "    </tr>\n",
       "    <tr>\n",
       "      <th>195</th>\n",
       "      <td>12/15/19</td>\n",
       "      <td>823</td>\n",
       "    </tr>\n",
       "    <tr>\n",
       "      <th>189</th>\n",
       "      <td>12/12/19</td>\n",
       "      <td>820</td>\n",
       "    </tr>\n",
       "    <tr>\n",
       "      <th>196</th>\n",
       "      <td>12/28/19</td>\n",
       "      <td>819</td>\n",
       "    </tr>\n",
       "    <tr>\n",
       "      <th>198</th>\n",
       "      <td>12/06/19</td>\n",
       "      <td>817</td>\n",
       "    </tr>\n",
       "    <tr>\n",
       "      <th>199</th>\n",
       "      <td>12/25/19</td>\n",
       "      <td>814</td>\n",
       "    </tr>\n",
       "    <tr>\n",
       "      <th>208</th>\n",
       "      <td>12/14/19</td>\n",
       "      <td>814</td>\n",
       "    </tr>\n",
       "    <tr>\n",
       "      <th>197</th>\n",
       "      <td>12/20/19</td>\n",
       "      <td>810</td>\n",
       "    </tr>\n",
       "    <tr>\n",
       "      <th>187</th>\n",
       "      <td>12/30/19</td>\n",
       "      <td>810</td>\n",
       "    </tr>\n",
       "    <tr>\n",
       "      <th>207</th>\n",
       "      <td>12/24/19</td>\n",
       "      <td>808</td>\n",
       "    </tr>\n",
       "    <tr>\n",
       "      <th>203</th>\n",
       "      <td>12/11/19</td>\n",
       "      <td>808</td>\n",
       "    </tr>\n",
       "    <tr>\n",
       "      <th>205</th>\n",
       "      <td>12/10/19</td>\n",
       "      <td>807</td>\n",
       "    </tr>\n",
       "    <tr>\n",
       "      <th>214</th>\n",
       "      <td>12/05/19</td>\n",
       "      <td>802</td>\n",
       "    </tr>\n",
       "    <tr>\n",
       "      <th>216</th>\n",
       "      <td>12/02/19</td>\n",
       "      <td>799</td>\n",
       "    </tr>\n",
       "    <tr>\n",
       "      <th>209</th>\n",
       "      <td>12/26/19</td>\n",
       "      <td>798</td>\n",
       "    </tr>\n",
       "  </tbody>\n",
       "</table>\n",
       "</div>"
      ],
      "text/plain": [
       "         date   fr\n",
       "204  12/17/19  881\n",
       "201  12/23/19  869\n",
       "194  12/13/19  861\n",
       "188  12/29/19  841\n",
       "193  12/16/19  825\n",
       "215  12/19/19  823\n",
       "195  12/15/19  823\n",
       "189  12/12/19  820\n",
       "196  12/28/19  819\n",
       "198  12/06/19  817\n",
       "199  12/25/19  814\n",
       "208  12/14/19  814\n",
       "197  12/20/19  810\n",
       "187  12/30/19  810\n",
       "207  12/24/19  808\n",
       "203  12/11/19  808\n",
       "205  12/10/19  807\n",
       "214  12/05/19  802\n",
       "216  12/02/19  799\n",
       "209  12/26/19  798"
      ]
     },
     "execution_count": 6,
     "metadata": {},
     "output_type": "execute_result"
    }
   ],
   "source": [
    "data = []\n",
    "\n",
    "for i in df['full_date'].unique():\n",
    "    data.append([i, len(df[df['full_date'] == i])])\n",
    "    \n",
    "data = pd.DataFrame(data, columns = ['date','fr'])\n",
    "\n",
    "data.sort_values(by = 'fr',ascending = False).head(20)"
   ]
  },
  {
   "cell_type": "markdown",
   "id": "f4b0978c",
   "metadata": {},
   "source": [
    "##### Assumption - Decembers is the month where we're having most produts sold"
   ]
  },
  {
   "cell_type": "markdown",
   "id": "d7452d94",
   "metadata": {},
   "source": [
    "#### 1.5) Analysing Hours Column"
   ]
  },
  {
   "cell_type": "code",
   "execution_count": 7,
   "id": "9fff8372",
   "metadata": {},
   "outputs": [
    {
     "data": {
      "text/plain": [
       "<BarContainer object of 24 artists>"
      ]
     },
     "execution_count": 7,
     "metadata": {},
     "output_type": "execute_result"
    },
    {
     "data": {
      "image/png": "[encoded data removed]",
      "text/plain": [
       "<Figure size 432x288 with 1 Axes>"
      ]
     },
     "metadata": {
      "needs_background": "light"
     },
     "output_type": "display_data"
    }
   ],
   "source": [
    "data = []\n",
    "\n",
    "for i in df['hour'].unique():\n",
    "    data.append([i, len(df[df['hour'] == i])])\n",
    "    \n",
    "data = pd.DataFrame(data, columns = ['hour','fr'])\n",
    "\n",
    "\n",
    "hr = list(data.sort_values(by = 'hour',ascending = True)['hour'])\n",
    "fr = list(data.sort_values(by = 'hour',ascending = True)['fr'])\n",
    "\n",
    "plt.bar(hr,fr)"
   ]
  },
  {
   "cell_type": "code",
   "execution_count": 8,
   "id": "f092a8e2",
   "metadata": {},
   "outputs": [
    {
     "data": {
      "text/html": [
       "<div>\n",
       "<style scoped>\n",
       "    .dataframe tbody tr th:only-of-type {\n",
       "        vertical-align: middle;\n",
       "    }\n",
       "\n",
       "    .dataframe tbody tr th {\n",
       "        vertical-align: top;\n",
       "    }\n",
       "\n",
       "    .dataframe thead th {\n",
       "        text-align: right;\n",
       "    }\n",
       "</style>\n",
       "<table border=\"1\" class=\"dataframe\">\n",
       "  <thead>\n",
       "    <tr style=\"text-align: right;\">\n",
       "      <th></th>\n",
       "      <th>hour</th>\n",
       "      <th>fr</th>\n",
       "    </tr>\n",
       "  </thead>\n",
       "  <tbody>\n",
       "    <tr>\n",
       "      <th>4</th>\n",
       "      <td>19</td>\n",
       "      <td>12905</td>\n",
       "    </tr>\n",
       "    <tr>\n",
       "      <th>7</th>\n",
       "      <td>12</td>\n",
       "      <td>12587</td>\n",
       "    </tr>\n",
       "    <tr>\n",
       "      <th>14</th>\n",
       "      <td>11</td>\n",
       "      <td>12411</td>\n",
       "    </tr>\n",
       "    <tr>\n",
       "      <th>19</th>\n",
       "      <td>18</td>\n",
       "      <td>12280</td>\n",
       "    </tr>\n",
       "    <tr>\n",
       "      <th>3</th>\n",
       "      <td>20</td>\n",
       "      <td>12228</td>\n",
       "    </tr>\n",
       "  </tbody>\n",
       "</table>\n",
       "</div>"
      ],
      "text/plain": [
       "    hour     fr\n",
       "4     19  12905\n",
       "7     12  12587\n",
       "14    11  12411\n",
       "19    18  12280\n",
       "3     20  12228"
      ]
     },
     "execution_count": 8,
     "metadata": {},
     "output_type": "execute_result"
    }
   ],
   "source": [
    "data.sort_values(by = 'fr', ascending = False).head()"
   ]
  },
  {
   "cell_type": "markdown",
   "id": "3c5328db",
   "metadata": {},
   "source": [
    "##### Assumption - [0 - 8 AM] is having least footfall.\n",
    "We should put more efforts from 9AM - 23PM"
   ]
  },
  {
   "cell_type": "markdown",
   "id": "84bcaa5f",
   "metadata": {},
   "source": [
    "##### 1.6) Analysing Date Column"
   ]
  },
  {
   "cell_type": "code",
   "execution_count": 9,
   "id": "6131a550",
   "metadata": {},
   "outputs": [
    {
     "data": {
      "text/plain": [
       "<BarContainer object of 31 artists>"
      ]
     },
     "execution_count": 9,
     "metadata": {},
     "output_type": "execute_result"
    },
    {
     "data": {
      "image/png": "[encoded data removed]",
      "text/plain": [
       "<Figure size 432x288 with 1 Axes>"
      ]
     },
     "metadata": {
      "needs_background": "light"
     },
     "output_type": "display_data"
    }
   ],
   "source": [
    "data = []\n",
    "\n",
    "for i in df['date'].unique():\n",
    "    data.append([i, len(df[df['date'] == i])])\n",
    "    \n",
    "data = pd.DataFrame(data, columns = ['date','fr'])\n",
    "\n",
    "\n",
    "hr = list(data.sort_values(by = 'date',ascending = True)['date'])\n",
    "fr = list(data.sort_values(by = 'date',ascending = True)['fr'])\n",
    "\n",
    "plt.bar(hr,fr)"
   ]
  },
  {
   "cell_type": "code",
   "execution_count": 10,
   "id": "37dfc431",
   "metadata": {},
   "outputs": [
    {
     "data": {
      "text/html": [
       "<div>\n",
       "<style scoped>\n",
       "    .dataframe tbody tr th:only-of-type {\n",
       "        vertical-align: middle;\n",
       "    }\n",
       "\n",
       "    .dataframe tbody tr th {\n",
       "        vertical-align: top;\n",
       "    }\n",
       "\n",
       "    .dataframe thead th {\n",
       "        text-align: right;\n",
       "    }\n",
       "</style>\n",
       "<table border=\"1\" class=\"dataframe\">\n",
       "  <thead>\n",
       "    <tr style=\"text-align: right;\">\n",
       "      <th></th>\n",
       "      <th>date</th>\n",
       "      <th>fr</th>\n",
       "    </tr>\n",
       "  </thead>\n",
       "  <tbody>\n",
       "    <tr>\n",
       "      <th>6</th>\n",
       "      <td>13</td>\n",
       "      <td>6306</td>\n",
       "    </tr>\n",
       "    <tr>\n",
       "      <th>24</th>\n",
       "      <td>10</td>\n",
       "      <td>6249</td>\n",
       "    </tr>\n",
       "    <tr>\n",
       "      <th>4</th>\n",
       "      <td>2</td>\n",
       "      <td>6197</td>\n",
       "    </tr>\n",
       "    <tr>\n",
       "      <th>11</th>\n",
       "      <td>19</td>\n",
       "      <td>6194</td>\n",
       "    </tr>\n",
       "    <tr>\n",
       "      <th>23</th>\n",
       "      <td>17</td>\n",
       "      <td>6177</td>\n",
       "    </tr>\n",
       "  </tbody>\n",
       "</table>\n",
       "</div>"
      ],
      "text/plain": [
       "    date    fr\n",
       "6     13  6306\n",
       "24    10  6249\n",
       "4      2  6197\n",
       "11    19  6194\n",
       "23    17  6177"
      ]
     },
     "execution_count": 10,
     "metadata": {},
     "output_type": "execute_result"
    }
   ],
   "source": [
    "data.sort_values(by = 'fr', ascending = False).head()"
   ]
  },
  {
   "cell_type": "markdown",
   "id": "a0103588",
   "metadata": {},
   "source": [
    "##### Assumption - People buys less products in monthend\n"
   ]
  },
  {
   "cell_type": "markdown",
   "id": "8e006c81",
   "metadata": {},
   "source": [
    "##### 1.7) Analysing Month Column"
   ]
  },
  {
   "cell_type": "code",
   "execution_count": 11,
   "id": "f00ce119",
   "metadata": {},
   "outputs": [
    {
     "data": {
      "text/plain": [
       "<BarContainer object of 12 artists>"
      ]
     },
     "execution_count": 11,
     "metadata": {},
     "output_type": "execute_result"
    },
    {
     "data": {
      "image/png": "[encoded data removed]",
      "text/plain": [
       "<Figure size 432x288 with 1 Axes>"
      ]
     },
     "metadata": {
      "needs_background": "light"
     },
     "output_type": "display_data"
    }
   ],
   "source": [
    "data = []\n",
    "\n",
    "for i in df['month'].unique():\n",
    "    data.append([i, len(df[df['month'] == i])])\n",
    "    \n",
    "data = pd.DataFrame(data, columns = ['month','fr'])\n",
    "\n",
    "\n",
    "hr = list(data.sort_values(by = 'month',ascending = True)['month'])\n",
    "fr = list(data.sort_values(by = 'month',ascending = True)['fr'])\n",
    "\n",
    "plt.bar(hr,fr)"
   ]
  },
  {
   "cell_type": "markdown",
   "id": "872d2583",
   "metadata": {},
   "source": [
    "##### Assumption - Peolpe are byting most in year End"
   ]
  },
  {
   "cell_type": "markdown",
   "id": "b7bd8fd6",
   "metadata": {},
   "source": [
    "#### 1.8) Analysing Year Column"
   ]
  },
  {
   "cell_type": "code",
   "execution_count": 12,
   "id": "b17fda75",
   "metadata": {},
   "outputs": [
    {
     "name": "stdout",
     "output_type": "stream",
     "text": [
      "Orders in 2019:  185916\n",
      "Orders in 2020:  34\n"
     ]
    }
   ],
   "source": [
    "y1 = len(df[df['year'] == 2019])\n",
    "y2 = len(df[df['year'] == 2020])\n",
    "\n",
    "print('Orders in 2019: ',y1)\n",
    "print('Orders in 2020: ',y2)"
   ]
  },
  {
   "cell_type": "markdown",
   "id": "e5305d06",
   "metadata": {},
   "source": [
    "#### 1.9) Analysing Day Column"
   ]
  },
  {
   "cell_type": "code",
   "execution_count": 13,
   "id": "4c39ad26",
   "metadata": {},
   "outputs": [
    {
     "data": {
      "text/html": [
       "<div>\n",
       "<style scoped>\n",
       "    .dataframe tbody tr th:only-of-type {\n",
       "        vertical-align: middle;\n",
       "    }\n",
       "\n",
       "    .dataframe tbody tr th {\n",
       "        vertical-align: top;\n",
       "    }\n",
       "\n",
       "    .dataframe thead th {\n",
       "        text-align: right;\n",
       "    }\n",
       "</style>\n",
       "<table border=\"1\" class=\"dataframe\">\n",
       "  <thead>\n",
       "    <tr style=\"text-align: right;\">\n",
       "      <th></th>\n",
       "      <th>day</th>\n",
       "      <th>fr</th>\n",
       "    </tr>\n",
       "  </thead>\n",
       "  <tbody>\n",
       "    <tr>\n",
       "      <th>0</th>\n",
       "      <td>Sat</td>\n",
       "      <td>26492</td>\n",
       "    </tr>\n",
       "    <tr>\n",
       "      <th>1</th>\n",
       "      <td>Thu</td>\n",
       "      <td>26461</td>\n",
       "    </tr>\n",
       "    <tr>\n",
       "      <th>2</th>\n",
       "      <td>Tue</td>\n",
       "      <td>27175</td>\n",
       "    </tr>\n",
       "    <tr>\n",
       "      <th>3</th>\n",
       "      <td>Fri</td>\n",
       "      <td>26247</td>\n",
       "    </tr>\n",
       "    <tr>\n",
       "      <th>4</th>\n",
       "      <td>Sun</td>\n",
       "      <td>26551</td>\n",
       "    </tr>\n",
       "    <tr>\n",
       "      <th>5</th>\n",
       "      <td>Wed</td>\n",
       "      <td>26477</td>\n",
       "    </tr>\n",
       "    <tr>\n",
       "      <th>6</th>\n",
       "      <td>Mon</td>\n",
       "      <td>26547</td>\n",
       "    </tr>\n",
       "  </tbody>\n",
       "</table>\n",
       "</div>"
      ],
      "text/plain": [
       "   day     fr\n",
       "0  Sat  26492\n",
       "1  Thu  26461\n",
       "2  Tue  27175\n",
       "3  Fri  26247\n",
       "4  Sun  26551\n",
       "5  Wed  26477\n",
       "6  Mon  26547"
      ]
     },
     "execution_count": 13,
     "metadata": {},
     "output_type": "execute_result"
    }
   ],
   "source": [
    "data = []\n",
    "\n",
    "for i in df['day'].unique():\n",
    "    data.append([i, len(df[df['day'] == i])])\n",
    "    \n",
    "data = pd.DataFrame(data, columns = ['day','fr'])\n",
    "\n",
    "data"
   ]
  },
  {
   "cell_type": "markdown",
   "id": "9c73ccf1",
   "metadata": {},
   "source": [
    "##### 1.10) Analysing Address Column"
   ]
  },
  {
   "cell_type": "code",
   "execution_count": 14,
   "id": "ef466c7a",
   "metadata": {},
   "outputs": [
    {
     "data": {
      "text/plain": [
       "address\n",
       "640 West St      14\n",
       "660 Center St    14\n",
       "753 Cedar St     14\n",
       "594 6th St       14\n",
       "986 7th St       14\n",
       "dtype: int64"
      ]
     },
     "execution_count": 14,
     "metadata": {},
     "output_type": "execute_result"
    }
   ],
   "source": [
    "df.groupby('address').size().sort_values(ascending = False).head()"
   ]
  },
  {
   "cell_type": "code",
   "execution_count": 15,
   "id": "9198d653",
   "metadata": {},
   "outputs": [
    {
     "data": {
      "text/plain": [
       "46837"
      ]
     },
     "execution_count": 15,
     "metadata": {},
     "output_type": "execute_result"
    }
   ],
   "source": [
    "df['address'].nunique()"
   ]
  },
  {
   "cell_type": "markdown",
   "id": "0f6c110f",
   "metadata": {},
   "source": [
    "#### 1.11) Analysing City Column"
   ]
  },
  {
   "cell_type": "code",
   "execution_count": 16,
   "id": "80463f22",
   "metadata": {},
   "outputs": [
    {
     "data": {
      "text/plain": [
       "array(['Seattle', 'Dallas', 'Portland', 'Los Angeles', 'New York City',\n",
       "       'San Francisco', 'Boston', 'Atlanta', 'Austin'], dtype=object)"
      ]
     },
     "execution_count": 16,
     "metadata": {},
     "output_type": "execute_result"
    }
   ],
   "source": [
    "df['city'].unique()"
   ]
  },
  {
   "cell_type": "code",
   "execution_count": 17,
   "id": "14603a15",
   "metadata": {},
   "outputs": [
    {
     "data": {
      "image/png": "[encoded data removed]",
      "text/plain": [
       "<Figure size 864x288 with 1 Axes>"
      ]
     },
     "metadata": {
      "needs_background": "light"
     },
     "output_type": "display_data"
    }
   ],
   "source": [
    "data = []\n",
    "\n",
    "for i in df['city'].unique():\n",
    "    data.append([i, len(df[df['city'] == i])])\n",
    "    \n",
    "data = pd.DataFrame(data, columns = ['city','fr'])\n",
    "\n",
    "ct = list(data.sort_values(by = 'fr',ascending = True)['city'])\n",
    "fr = list(data.sort_values(by = 'fr',ascending = True)['fr'])\n",
    "\n",
    "fig , axs = plt.subplots(figsize = (12,4))\n",
    "axs.bar(ct,fr)\n",
    "plt.show()"
   ]
  },
  {
   "cell_type": "markdown",
   "id": "d079f3ba",
   "metadata": {},
   "source": [
    "##### Conclusion - We should promote our stores more in SanFrancisco, Los Angeles and New York"
   ]
  },
  {
   "cell_type": "markdown",
   "id": "2d32b87c",
   "metadata": {},
   "source": [
    "#### 1.12) Analysing States"
   ]
  },
  {
   "cell_type": "code",
   "execution_count": 18,
   "id": "8575ee11",
   "metadata": {},
   "outputs": [
    {
     "data": {
      "text/plain": [
       "array(['WA', 'TX', 'OR', 'CA', 'NY', 'MA', 'GA', 'ME'], dtype=object)"
      ]
     },
     "execution_count": 18,
     "metadata": {},
     "output_type": "execute_result"
    }
   ],
   "source": [
    "df['state'].unique()"
   ]
  },
  {
   "cell_type": "code",
   "execution_count": 19,
   "id": "ba885d58",
   "metadata": {},
   "outputs": [
    {
     "data": {
      "image/png": "[encoded data removed]",
      "text/plain": [
       "<Figure size 576x288 with 1 Axes>"
      ]
     },
     "metadata": {
      "needs_background": "light"
     },
     "output_type": "display_data"
    }
   ],
   "source": [
    "data = []\n",
    "\n",
    "for i in df['state'].unique():\n",
    "    data.append([i, len(df[df['state'] == i])])\n",
    "    \n",
    "data = pd.DataFrame(data, columns = ['state','fr'])\n",
    "\n",
    "ct = list(data.sort_values(by = 'fr',ascending = True)['state'])\n",
    "fr = list(data.sort_values(by = 'fr',ascending = True)['fr'])\n",
    "\n",
    "fig , axs = plt.subplots(figsize = (8,4))\n",
    "axs.bar(ct,fr)\n",
    "plt.show()"
   ]
  },
  {
   "cell_type": "markdown",
   "id": "a4c006d3",
   "metadata": {},
   "source": [
    "##### Assumption - CA is giving best Business\n",
    "\n",
    "Make our Network more stronger in CA\n",
    "\n",
    "We should wokr on NY, TX, MA, GA, WA\n",
    "\n",
    "We should work a lot on OR, ME"
   ]
  },
  {
   "cell_type": "markdown",
   "id": "ce90d91a",
   "metadata": {},
   "source": [
    "#### 1.13) Analysing Pincode Column"
   ]
  },
  {
   "cell_type": "code",
   "execution_count": 20,
   "id": "230ae955",
   "metadata": {
    "scrolled": true
   },
   "outputs": [
    {
     "data": {
      "image/png": "[encoded data removed]",
      "text/plain": [
       "<Figure size 576x288 with 1 Axes>"
      ]
     },
     "metadata": {
      "needs_background": "light"
     },
     "output_type": "display_data"
    }
   ],
   "source": [
    "data = []\n",
    "\n",
    "for i in df['pincode'].unique():\n",
    "    data.append([i, len(df[df['pincode'] == i])])\n",
    "    \n",
    "data = pd.DataFrame(data, columns = ['pincode','fr'])\n",
    "\n",
    "pc = list(data.sort_values(by = 'fr',ascending = True)['pincode'])\n",
    "fr = list(data.sort_values(by = 'fr',ascending = True)['fr'])\n",
    "\n",
    "pincode = []\n",
    "\n",
    "for i in pc:\n",
    "    pincode.append(str(i))\n",
    "\n",
    "    \n",
    "fig , axs = plt.subplots(figsize = (8,4))\n",
    "axs.bar(pincode,fr)\n",
    "plt.show()"
   ]
  },
  {
   "cell_type": "markdown",
   "id": "ac1afdfb",
   "metadata": {},
   "source": [
    "#### 1.14) Analysing Timezone"
   ]
  },
  {
   "cell_type": "code",
   "execution_count": 21,
   "id": "103f3975",
   "metadata": {},
   "outputs": [
    {
     "data": {
      "image/png": "[encoded data removed]",
      "text/plain": [
       "<Figure size 432x288 with 1 Axes>"
      ]
     },
     "metadata": {},
     "output_type": "display_data"
    }
   ],
   "source": [
    "x1 = len(df[df['timezone'] == 'AM'])\n",
    "x2 = len(df[df['timezone'] == 'PM'])\n",
    "\n",
    "\n",
    "plt.pie([x1,x2], labels = ['AM','PM'], explode = [0.1,0], shadow = True, autopct = '%1.0f%%')\n",
    "\n",
    "plt.title('Orders based on Timezone')\n",
    "\n",
    "\n",
    "plt.show()"
   ]
  },
  {
   "cell_type": "markdown",
   "id": "68050df6",
   "metadata": {},
   "source": [
    "##### Conclusion - Most prople are ordering in Evening as compare to Morning"
   ]
  }
 ],
 "metadata": {
  "kernelspec": {
   "display_name": "Python 3 (ipykernel)",
   "language": "python",
   "name": "python3"
  },
  "language_info": {
   "codemirror_mode": {
    "name": "ipython",
    "version": 3
   },
   "file_extension": ".py",
   "mimetype": "text/x-python",
   "name": "python",
   "nbconvert_exporter": "python",
   "pygments_lexer": "ipython3",
   "version": "3.9.7"
  }
 },
 "nbformat": 4,
 "nbformat_minor": 5
}
