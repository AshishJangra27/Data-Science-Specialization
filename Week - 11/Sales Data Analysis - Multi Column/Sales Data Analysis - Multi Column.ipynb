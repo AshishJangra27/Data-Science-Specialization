{
 "cells": [
  {
   "cell_type": "code",
   "execution_count": 1,
   "id": "46eb42c5",
   "metadata": {},
   "outputs": [
    {
     "data": {
      "text/html": [
       "<div>\n",
       "<style scoped>\n",
       "    .dataframe tbody tr th:only-of-type {\n",
       "        vertical-align: middle;\n",
       "    }\n",
       "\n",
       "    .dataframe tbody tr th {\n",
       "        vertical-align: top;\n",
       "    }\n",
       "\n",
       "    .dataframe thead th {\n",
       "        text-align: right;\n",
       "    }\n",
       "</style>\n",
       "<table border=\"1\" class=\"dataframe\">\n",
       "  <thead>\n",
       "    <tr style=\"text-align: right;\">\n",
       "      <th></th>\n",
       "      <th>order_id</th>\n",
       "      <th>product</th>\n",
       "      <th>quantity</th>\n",
       "      <th>price</th>\n",
       "      <th>total</th>\n",
       "      <th>full_date</th>\n",
       "      <th>hour</th>\n",
       "      <th>date</th>\n",
       "      <th>month</th>\n",
       "      <th>year</th>\n",
       "      <th>day</th>\n",
       "      <th>address</th>\n",
       "      <th>city</th>\n",
       "      <th>state</th>\n",
       "      <th>pincode</th>\n",
       "      <th>timezone</th>\n",
       "    </tr>\n",
       "  </thead>\n",
       "  <tbody>\n",
       "    <tr>\n",
       "      <th>0</th>\n",
       "      <td>236670</td>\n",
       "      <td>Wired Headphones</td>\n",
       "      <td>2</td>\n",
       "      <td>11.99</td>\n",
       "      <td>23.98</td>\n",
       "      <td>08/31/19</td>\n",
       "      <td>22</td>\n",
       "      <td>31</td>\n",
       "      <td>8</td>\n",
       "      <td>2019</td>\n",
       "      <td>Sat</td>\n",
       "      <td>359 Spruce St</td>\n",
       "      <td>Seattle</td>\n",
       "      <td>WA</td>\n",
       "      <td>98101</td>\n",
       "      <td>PM</td>\n",
       "    </tr>\n",
       "    <tr>\n",
       "      <th>1</th>\n",
       "      <td>236671</td>\n",
       "      <td>Bose SoundSport Headphones</td>\n",
       "      <td>1</td>\n",
       "      <td>99.99</td>\n",
       "      <td>99.99</td>\n",
       "      <td>08/15/19</td>\n",
       "      <td>15</td>\n",
       "      <td>15</td>\n",
       "      <td>8</td>\n",
       "      <td>2019</td>\n",
       "      <td>Thu</td>\n",
       "      <td>492 Ridge St</td>\n",
       "      <td>Dallas</td>\n",
       "      <td>TX</td>\n",
       "      <td>75001</td>\n",
       "      <td>PM</td>\n",
       "    </tr>\n",
       "    <tr>\n",
       "      <th>2</th>\n",
       "      <td>236672</td>\n",
       "      <td>iPhone</td>\n",
       "      <td>1</td>\n",
       "      <td>700.00</td>\n",
       "      <td>700.00</td>\n",
       "      <td>08/06/19</td>\n",
       "      <td>14</td>\n",
       "      <td>6</td>\n",
       "      <td>8</td>\n",
       "      <td>2019</td>\n",
       "      <td>Tue</td>\n",
       "      <td>149 7th St</td>\n",
       "      <td>Portland</td>\n",
       "      <td>OR</td>\n",
       "      <td>97035</td>\n",
       "      <td>PM</td>\n",
       "    </tr>\n",
       "    <tr>\n",
       "      <th>3</th>\n",
       "      <td>236673</td>\n",
       "      <td>AA Batteries (4-pack)</td>\n",
       "      <td>2</td>\n",
       "      <td>3.84</td>\n",
       "      <td>7.68</td>\n",
       "      <td>08/29/19</td>\n",
       "      <td>20</td>\n",
       "      <td>29</td>\n",
       "      <td>8</td>\n",
       "      <td>2019</td>\n",
       "      <td>Thu</td>\n",
       "      <td>631 2nd St</td>\n",
       "      <td>Los Angeles</td>\n",
       "      <td>CA</td>\n",
       "      <td>90001</td>\n",
       "      <td>PM</td>\n",
       "    </tr>\n",
       "    <tr>\n",
       "      <th>4</th>\n",
       "      <td>236674</td>\n",
       "      <td>AA Batteries (4-pack)</td>\n",
       "      <td>2</td>\n",
       "      <td>3.84</td>\n",
       "      <td>7.68</td>\n",
       "      <td>08/15/19</td>\n",
       "      <td>19</td>\n",
       "      <td>15</td>\n",
       "      <td>8</td>\n",
       "      <td>2019</td>\n",
       "      <td>Thu</td>\n",
       "      <td>736 14th St</td>\n",
       "      <td>New York City</td>\n",
       "      <td>NY</td>\n",
       "      <td>10001</td>\n",
       "      <td>PM</td>\n",
       "    </tr>\n",
       "  </tbody>\n",
       "</table>\n",
       "</div>"
      ],
      "text/plain": [
       "   order_id                     product  quantity   price   total full_date  \\\n",
       "0    236670            Wired Headphones         2   11.99   23.98  08/31/19   \n",
       "1    236671  Bose SoundSport Headphones         1   99.99   99.99  08/15/19   \n",
       "2    236672                      iPhone         1  700.00  700.00  08/06/19   \n",
       "3    236673       AA Batteries (4-pack)         2    3.84    7.68  08/29/19   \n",
       "4    236674       AA Batteries (4-pack)         2    3.84    7.68  08/15/19   \n",
       "\n",
       "   hour  date  month  year  day        address           city state  pincode  \\\n",
       "0    22    31      8  2019  Sat  359 Spruce St        Seattle    WA    98101   \n",
       "1    15    15      8  2019  Thu   492 Ridge St         Dallas    TX    75001   \n",
       "2    14     6      8  2019  Tue     149 7th St       Portland    OR    97035   \n",
       "3    20    29      8  2019  Thu     631 2nd St    Los Angeles    CA    90001   \n",
       "4    19    15      8  2019  Thu    736 14th St  New York City    NY    10001   \n",
       "\n",
       "  timezone  \n",
       "0       PM  \n",
       "1       PM  \n",
       "2       PM  \n",
       "3       PM  \n",
       "4       PM  "
      ]
     },
     "execution_count": 1,
     "metadata": {},
     "output_type": "execute_result"
    }
   ],
   "source": [
    "import pandas as pd\n",
    "import matplotlib.pyplot as plt\n",
    "\n",
    "df = pd.read_csv('data.csv')\n",
    "df.head()"
   ]
  },
  {
   "cell_type": "markdown",
   "id": "9a545c23",
   "metadata": {},
   "source": [
    "#### 1.1) Total sale amount collected based on TimeZone (AM,PM)"
   ]
  },
  {
   "cell_type": "code",
   "execution_count": 24,
   "id": "18f717fd",
   "metadata": {},
   "outputs": [
    {
     "name": "stdout",
     "output_type": "stream",
     "text": [
      "timezone\n",
      "AM    12534603.33\n",
      "PM    21957432.64\n",
      "Name: total, dtype: float64\n"
     ]
    },
    {
     "data": {
      "image/png": "[encoded data removed]",
      "text/plain": [
       "<Figure size 432x288 with 1 Axes>"
      ]
     },
     "metadata": {},
     "output_type": "display_data"
    }
   ],
   "source": [
    "x1 = int(df[df['timezone'] == 'AM']['total'].sum())\n",
    "x2 = int(df[df['timezone'] == 'PM']['total'].sum())\n",
    "\n",
    "\n",
    "plt.pie([x1,x2], labels = ['AM','PM'], explode = [0.1,0], autopct = '%1.0f%%', shadow = True)\n",
    "plt.title('Sales Distribution in Timezone')\n",
    "plt.plot()\n",
    "\n",
    "print(df.groupby('timezone').sum()['total'])"
   ]
  },
  {
   "cell_type": "markdown",
   "id": "c3cb2c55",
   "metadata": {},
   "source": [
    "#### 1.2) How many iPhones are Sold so far?"
   ]
  },
  {
   "cell_type": "code",
   "execution_count": 32,
   "id": "42513cf2",
   "metadata": {},
   "outputs": [
    {
     "data": {
      "text/plain": [
       "6849"
      ]
     },
     "execution_count": 32,
     "metadata": {},
     "output_type": "execute_result"
    }
   ],
   "source": [
    "df[df['product'] == 'iPhone']['quantity'].sum()"
   ]
  },
  {
   "cell_type": "markdown",
   "id": "954d8ee8",
   "metadata": {},
   "source": [
    "#### 1.3) How much money is collected by selling iPhones"
   ]
  },
  {
   "cell_type": "code",
   "execution_count": 39,
   "id": "1faa6f27",
   "metadata": {},
   "outputs": [
    {
     "data": {
      "text/plain": [
       "4794300"
      ]
     },
     "execution_count": 39,
     "metadata": {},
     "output_type": "execute_result"
    }
   ],
   "source": [
    "int(df[df['product'] == 'iPhone']['total'].sum())"
   ]
  },
  {
   "cell_type": "markdown",
   "id": "1fdec83a",
   "metadata": {},
   "source": [
    "#### 1.4) MacBook Pro Selling(Quantity) based on Timezone"
   ]
  },
  {
   "cell_type": "code",
   "execution_count": 54,
   "id": "9401c393",
   "metadata": {},
   "outputs": [
    {
     "name": "stdout",
     "output_type": "stream",
     "text": [
      "timezone\n",
      "AM    12534603.33\n",
      "PM    21957432.64\n",
      "Name: total, dtype: float64\n"
     ]
    },
    {
     "data": {
      "image/png": "[encoded data removed]",
      "text/plain": [
       "<Figure size 432x288 with 1 Axes>"
      ]
     },
     "metadata": {},
     "output_type": "display_data"
    }
   ],
   "source": [
    "df_pr = df[df['product'] == 'Macbook Pro Laptop']\n",
    "\n",
    "x1 = df_pr[df_pr['timezone'] == 'AM']['quantity'].sum()\n",
    "x2 = df_pr[df_pr['timezone'] == 'PM']['quantity'].sum()\n",
    "\n",
    "plt.pie([x1,x2], labels = ['AM','PM'], explode = [0.1,0], autopct = '%1.0f%%', shadow = True)\n",
    "plt.title('Macbook Pro Sales Distribution in Timezone')\n",
    "plt.plot()\n",
    "\n",
    "print(df.groupby('timezone').sum()['total'])"
   ]
  },
  {
   "cell_type": "markdown",
   "id": "d17a9a4f",
   "metadata": {},
   "source": [
    "#### 1.5) MacBook Selling(Quantity) based on hour"
   ]
  },
  {
   "cell_type": "code",
   "execution_count": 65,
   "id": "f45780f2",
   "metadata": {},
   "outputs": [
    {
     "data": {
      "text/plain": [
       "<AxesSubplot:xlabel='hour'>"
      ]
     },
     "execution_count": 65,
     "metadata": {},
     "output_type": "execute_result"
    },
    {
     "data": {
      "image/png": "[encoded data removed]",
      "text/plain": [
       "<Figure size 432x288 with 1 Axes>"
      ]
     },
     "metadata": {
      "needs_background": "light"
     },
     "output_type": "display_data"
    }
   ],
   "source": [
    "df_pr = df[df['product'] == 'Macbook Pro Laptop']\n",
    "\n",
    "df_pr.groupby('hour').sum()['quantity'].plot(kind = 'bar')"
   ]
  },
  {
   "cell_type": "markdown",
   "id": "5e17e5ce",
   "metadata": {},
   "source": [
    "#### 1.6) Total Collection(total column) from each State of iPhone"
   ]
  },
  {
   "cell_type": "code",
   "execution_count": 71,
   "id": "b8018d2f",
   "metadata": {},
   "outputs": [
    {
     "data": {
      "image/png": "[encoded data removed]",
      "text/plain": [
       "<Figure size 432x288 with 1 Axes>"
      ]
     },
     "metadata": {
      "needs_background": "light"
     },
     "output_type": "display_data"
    }
   ],
   "source": [
    "df_pr = df[df['product'] == 'iPhone']\n",
    "\n",
    "df_pr.groupby('state').sum()['total'].sort_values().plot(kind = 'bar')\n",
    "\n",
    "plt.show()"
   ]
  },
  {
   "cell_type": "markdown",
   "id": "091bfa11",
   "metadata": {},
   "source": [
    "#### 1.7) Total Colelction(total column) from each city of iPhone"
   ]
  },
  {
   "cell_type": "code",
   "execution_count": 73,
   "id": "acf3588b",
   "metadata": {},
   "outputs": [
    {
     "data": {
      "image/png": "[encoded data removed]",
      "text/plain": [
       "<Figure size 432x288 with 1 Axes>"
      ]
     },
     "metadata": {
      "needs_background": "light"
     },
     "output_type": "display_data"
    }
   ],
   "source": [
    "df_pr = df[df['product'] == 'iPhone']\n",
    "\n",
    "df_pr.groupby('city').sum()['total'].sort_values().plot(kind = 'bar')\n",
    "\n",
    "plt.show()"
   ]
  },
  {
   "cell_type": "markdown",
   "id": "18fd85b5",
   "metadata": {},
   "source": [
    "#### 1.8) Total Colelction(total column) from each PinCode of iPhone"
   ]
  },
  {
   "cell_type": "code",
   "execution_count": 79,
   "id": "7e2c694e",
   "metadata": {},
   "outputs": [
    {
     "data": {
      "image/png": "[encoded data removed]",
      "text/plain": [
       "<Figure size 432x288 with 1 Axes>"
      ]
     },
     "metadata": {
      "needs_background": "light"
     },
     "output_type": "display_data"
    }
   ],
   "source": [
    "df_pr = df[df['product'] == 'iPhone']\n",
    "\n",
    "df_pr.groupby('pincode').sum()['total'].sort_values().plot(kind = 'bar')\n",
    "\n",
    "plt.show()"
   ]
  }
 ],
 "metadata": {
  "kernelspec": {
   "display_name": "Python 3 (ipykernel)",
   "language": "python",
   "name": "python3"
  },
  "language_info": {
   "codemirror_mode": {
    "name": "ipython",
    "version": 3
   },
   "file_extension": ".py",
   "mimetype": "text/x-python",
   "name": "python",
   "nbconvert_exporter": "python",
   "pygments_lexer": "ipython3",
   "version": "3.9.7"
  }
 },
 "nbformat": 4,
 "nbformat_minor": 5
}
