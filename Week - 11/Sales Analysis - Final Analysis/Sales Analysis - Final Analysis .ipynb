{
 "cells": [
  {
   "cell_type": "code",
   "execution_count": 63,
   "id": "0a467261",
   "metadata": {},
   "outputs": [
    {
     "data": {
      "text/html": [
       "<div>\n",
       "<style scoped>\n",
       "    .dataframe tbody tr th:only-of-type {\n",
       "        vertical-align: middle;\n",
       "    }\n",
       "\n",
       "    .dataframe tbody tr th {\n",
       "        vertical-align: top;\n",
       "    }\n",
       "\n",
       "    .dataframe thead th {\n",
       "        text-align: right;\n",
       "    }\n",
       "</style>\n",
       "<table border=\"1\" class=\"dataframe\">\n",
       "  <thead>\n",
       "    <tr style=\"text-align: right;\">\n",
       "      <th></th>\n",
       "      <th>City</th>\n",
       "      <th>Orders</th>\n",
       "      <th>Quantity</th>\n",
       "      <th>Amount</th>\n",
       "    </tr>\n",
       "  </thead>\n",
       "  <tbody>\n",
       "    <tr>\n",
       "      <th>0</th>\n",
       "      <td>Seattle</td>\n",
       "      <td>14732</td>\n",
       "      <td>16553</td>\n",
       "      <td>2747755</td>\n",
       "    </tr>\n",
       "    <tr>\n",
       "      <th>1</th>\n",
       "      <td>Dallas</td>\n",
       "      <td>14820</td>\n",
       "      <td>16730</td>\n",
       "      <td>2767975</td>\n",
       "    </tr>\n",
       "    <tr>\n",
       "      <th>2</th>\n",
       "      <td>Portland</td>\n",
       "      <td>12465</td>\n",
       "      <td>14053</td>\n",
       "      <td>2320490</td>\n",
       "    </tr>\n",
       "    <tr>\n",
       "      <th>3</th>\n",
       "      <td>Los Angeles</td>\n",
       "      <td>29605</td>\n",
       "      <td>33289</td>\n",
       "      <td>5452570</td>\n",
       "    </tr>\n",
       "    <tr>\n",
       "      <th>4</th>\n",
       "      <td>New York City</td>\n",
       "      <td>24876</td>\n",
       "      <td>27932</td>\n",
       "      <td>4664317</td>\n",
       "    </tr>\n",
       "  </tbody>\n",
       "</table>\n",
       "</div>"
      ],
      "text/plain": [
       "            City  Orders  Quantity   Amount\n",
       "0        Seattle   14732     16553  2747755\n",
       "1         Dallas   14820     16730  2767975\n",
       "2       Portland   12465     14053  2320490\n",
       "3    Los Angeles   29605     33289  5452570\n",
       "4  New York City   24876     27932  4664317"
      ]
     },
     "execution_count": 63,
     "metadata": {},
     "output_type": "execute_result"
    }
   ],
   "source": [
    "import pandas as pd\n",
    "\n",
    "import matplotlib.pyplot as plt\n",
    "\n",
    "df = pd.read_csv('City.csv')\n",
    "df.head()"
   ]
  },
  {
   "cell_type": "markdown",
   "id": "65111a33",
   "metadata": {},
   "source": [
    "### 1) City\n",
    "\n",
    "##### 1.1) Average Price per product in each City"
   ]
  },
  {
   "cell_type": "code",
   "execution_count": 64,
   "id": "b1d33043",
   "metadata": {},
   "outputs": [
    {
     "data": {
      "text/html": [
       "<div>\n",
       "<style scoped>\n",
       "    .dataframe tbody tr th:only-of-type {\n",
       "        vertical-align: middle;\n",
       "    }\n",
       "\n",
       "    .dataframe tbody tr th {\n",
       "        vertical-align: top;\n",
       "    }\n",
       "\n",
       "    .dataframe thead th {\n",
       "        text-align: right;\n",
       "    }\n",
       "</style>\n",
       "<table border=\"1\" class=\"dataframe\">\n",
       "  <thead>\n",
       "    <tr style=\"text-align: right;\">\n",
       "      <th></th>\n",
       "      <th>City</th>\n",
       "      <th>Orders</th>\n",
       "      <th>Quantity</th>\n",
       "      <th>Amount</th>\n",
       "      <th>avgPricePerProduct</th>\n",
       "    </tr>\n",
       "  </thead>\n",
       "  <tbody>\n",
       "    <tr>\n",
       "      <th>0</th>\n",
       "      <td>Seattle</td>\n",
       "      <td>14732</td>\n",
       "      <td>16553</td>\n",
       "      <td>2747755</td>\n",
       "      <td>166.00</td>\n",
       "    </tr>\n",
       "    <tr>\n",
       "      <th>1</th>\n",
       "      <td>Dallas</td>\n",
       "      <td>14820</td>\n",
       "      <td>16730</td>\n",
       "      <td>2767975</td>\n",
       "      <td>165.45</td>\n",
       "    </tr>\n",
       "    <tr>\n",
       "      <th>2</th>\n",
       "      <td>Portland</td>\n",
       "      <td>12465</td>\n",
       "      <td>14053</td>\n",
       "      <td>2320490</td>\n",
       "      <td>165.12</td>\n",
       "    </tr>\n",
       "    <tr>\n",
       "      <th>3</th>\n",
       "      <td>Los Angeles</td>\n",
       "      <td>29605</td>\n",
       "      <td>33289</td>\n",
       "      <td>5452570</td>\n",
       "      <td>163.79</td>\n",
       "    </tr>\n",
       "    <tr>\n",
       "      <th>4</th>\n",
       "      <td>New York City</td>\n",
       "      <td>24876</td>\n",
       "      <td>27932</td>\n",
       "      <td>4664317</td>\n",
       "      <td>166.99</td>\n",
       "    </tr>\n",
       "  </tbody>\n",
       "</table>\n",
       "</div>"
      ],
      "text/plain": [
       "            City  Orders  Quantity   Amount  avgPricePerProduct\n",
       "0        Seattle   14732     16553  2747755              166.00\n",
       "1         Dallas   14820     16730  2767975              165.45\n",
       "2       Portland   12465     14053  2320490              165.12\n",
       "3    Los Angeles   29605     33289  5452570              163.79\n",
       "4  New York City   24876     27932  4664317              166.99"
      ]
     },
     "execution_count": 64,
     "metadata": {},
     "output_type": "execute_result"
    }
   ],
   "source": [
    "temp = []\n",
    "\n",
    "for i in df['Amount'] / df['Quantity']:\n",
    "    temp.append(round(i,2))\n",
    "df['avgPricePerProduct'] = temp\n",
    "\n",
    "df.head()"
   ]
  },
  {
   "cell_type": "markdown",
   "id": "2d1b18ca",
   "metadata": {},
   "source": [
    "#### 1.2) Average Price per Order in each City"
   ]
  },
  {
   "cell_type": "code",
   "execution_count": 65,
   "id": "8e5fe3c9",
   "metadata": {},
   "outputs": [
    {
     "data": {
      "text/html": [
       "<div>\n",
       "<style scoped>\n",
       "    .dataframe tbody tr th:only-of-type {\n",
       "        vertical-align: middle;\n",
       "    }\n",
       "\n",
       "    .dataframe tbody tr th {\n",
       "        vertical-align: top;\n",
       "    }\n",
       "\n",
       "    .dataframe thead th {\n",
       "        text-align: right;\n",
       "    }\n",
       "</style>\n",
       "<table border=\"1\" class=\"dataframe\">\n",
       "  <thead>\n",
       "    <tr style=\"text-align: right;\">\n",
       "      <th></th>\n",
       "      <th>City</th>\n",
       "      <th>Orders</th>\n",
       "      <th>Quantity</th>\n",
       "      <th>Amount</th>\n",
       "      <th>avgPricePerProduct</th>\n",
       "      <th>avgPricePerOrder</th>\n",
       "    </tr>\n",
       "  </thead>\n",
       "  <tbody>\n",
       "    <tr>\n",
       "      <th>0</th>\n",
       "      <td>Seattle</td>\n",
       "      <td>14732</td>\n",
       "      <td>16553</td>\n",
       "      <td>2747755</td>\n",
       "      <td>166.00</td>\n",
       "      <td>186.52</td>\n",
       "    </tr>\n",
       "    <tr>\n",
       "      <th>1</th>\n",
       "      <td>Dallas</td>\n",
       "      <td>14820</td>\n",
       "      <td>16730</td>\n",
       "      <td>2767975</td>\n",
       "      <td>165.45</td>\n",
       "      <td>186.77</td>\n",
       "    </tr>\n",
       "    <tr>\n",
       "      <th>2</th>\n",
       "      <td>Portland</td>\n",
       "      <td>12465</td>\n",
       "      <td>14053</td>\n",
       "      <td>2320490</td>\n",
       "      <td>165.12</td>\n",
       "      <td>186.16</td>\n",
       "    </tr>\n",
       "    <tr>\n",
       "      <th>3</th>\n",
       "      <td>Los Angeles</td>\n",
       "      <td>29605</td>\n",
       "      <td>33289</td>\n",
       "      <td>5452570</td>\n",
       "      <td>163.79</td>\n",
       "      <td>184.18</td>\n",
       "    </tr>\n",
       "    <tr>\n",
       "      <th>4</th>\n",
       "      <td>New York City</td>\n",
       "      <td>24876</td>\n",
       "      <td>27932</td>\n",
       "      <td>4664317</td>\n",
       "      <td>166.99</td>\n",
       "      <td>187.50</td>\n",
       "    </tr>\n",
       "  </tbody>\n",
       "</table>\n",
       "</div>"
      ],
      "text/plain": [
       "            City  Orders  Quantity   Amount  avgPricePerProduct  \\\n",
       "0        Seattle   14732     16553  2747755              166.00   \n",
       "1         Dallas   14820     16730  2767975              165.45   \n",
       "2       Portland   12465     14053  2320490              165.12   \n",
       "3    Los Angeles   29605     33289  5452570              163.79   \n",
       "4  New York City   24876     27932  4664317              166.99   \n",
       "\n",
       "   avgPricePerOrder  \n",
       "0            186.52  \n",
       "1            186.77  \n",
       "2            186.16  \n",
       "3            184.18  \n",
       "4            187.50  "
      ]
     },
     "execution_count": 65,
     "metadata": {},
     "output_type": "execute_result"
    }
   ],
   "source": [
    "temp = []\n",
    "\n",
    "for i in df['Amount'] / df['Orders']:\n",
    "    temp.append(round(i,2))\n",
    "df['avgPricePerOrder'] = temp\n",
    "\n",
    "df.head()"
   ]
  },
  {
   "cell_type": "markdown",
   "id": "bc50ac0d",
   "metadata": {},
   "source": [
    "##### 1.3) Analyse Number of Orders"
   ]
  },
  {
   "cell_type": "code",
   "execution_count": 66,
   "id": "26d88ef7",
   "metadata": {},
   "outputs": [],
   "source": [
    "def data_frame(df, x1, x2):\n",
    "    \n",
    "    x = list(df[x1])\n",
    "    y = list(df[x2])\n",
    "\n",
    "    data = []\n",
    "    \n",
    "    for i in range(len(x)):\n",
    "        data.append([x[i],y[i]])\n",
    "\n",
    "    df_ = pd.DataFrame(data, columns = [x1,x2])\n",
    "\n",
    "    return df_"
   ]
  },
  {
   "cell_type": "code",
   "execution_count": 72,
   "id": "a4bf3d6f",
   "metadata": {},
   "outputs": [
    {
     "data": {
      "image/png": "[encoded data removed]",
      "text/plain": [
       "<Figure size 1080x288 with 1 Axes>"
      ]
     },
     "metadata": {
      "needs_background": "light"
     },
     "output_type": "display_data"
    }
   ],
   "source": [
    "df_ = data_frame(df, 'City','Orders')\n",
    "\n",
    "x = list(df_.sort_values(by = 'Orders', ascending = False)['City'])\n",
    "y = list(df_.sort_values(by = 'Orders', ascending = False)['Orders'])\n",
    "\n",
    "fig, axs = plt.subplots(figsize = (15,4))\n",
    "\n",
    "axs.bar(x,y)\n",
    "\n",
    "plt.title('Number of Orders from Each City')\n",
    "plt.xlabel('Cities')\n",
    "plt.ylabel('Orders')\n",
    "\n",
    "plt.show()"
   ]
  },
  {
   "cell_type": "markdown",
   "id": "ab2e9330",
   "metadata": {},
   "source": [
    "##### 1.4) Analyse Number of Quantities"
   ]
  },
  {
   "cell_type": "code",
   "execution_count": 77,
   "id": "939b3398",
   "metadata": {
    "scrolled": true
   },
   "outputs": [
    {
     "data": {
      "image/png": "[encoded data removed]",
      "text/plain": [
       "<Figure size 1080x288 with 1 Axes>"
      ]
     },
     "metadata": {
      "needs_background": "light"
     },
     "output_type": "display_data"
    }
   ],
   "source": [
    "df_ = data_frame(df, 'City','Quantity')\n",
    "\n",
    "x = list(df_.sort_values(by = 'Quantity', ascending = False)['City'])\n",
    "y = list(df_.sort_values(by = 'Quantity', ascending = False)['Quantity'])\n",
    "\n",
    "fig, axs = plt.subplots(figsize = (15,4))\n",
    "\n",
    "axs.bar(x,y)\n",
    "\n",
    "plt.title('Number of Quantity from Each City')\n",
    "plt.xlabel('City')\n",
    "plt.ylabel('Quantity')\n",
    "\n",
    "plt.show()"
   ]
  },
  {
   "cell_type": "markdown",
   "id": "5575978a",
   "metadata": {},
   "source": [
    "##### 1.5) Analyse the Amount"
   ]
  },
  {
   "cell_type": "code",
   "execution_count": 78,
   "id": "c4af33b7",
   "metadata": {},
   "outputs": [
    {
     "data": {
      "image/png": "[encoded data removed]",
      "text/plain": [
       "<Figure size 1080x288 with 1 Axes>"
      ]
     },
     "metadata": {
      "needs_background": "light"
     },
     "output_type": "display_data"
    }
   ],
   "source": [
    "df_ = data_frame(df, 'City','Amount')\n",
    "\n",
    "x = list(df_.sort_values(by = 'Amount', ascending = False)['City'])\n",
    "y = list(df_.sort_values(by = 'Amount', ascending = False)['Amount'])\n",
    "\n",
    "fig, axs = plt.subplots(figsize = (15,4))\n",
    "\n",
    "axs.bar(x,y)\n",
    "\n",
    "plt.title('Number of Amount from Each City')\n",
    "plt.xlabel('City')\n",
    "plt.ylabel('Amount')\n",
    "\n",
    "plt.show()"
   ]
  },
  {
   "cell_type": "markdown",
   "id": "5dc58b71",
   "metadata": {},
   "source": [
    "#### 1.6) Anlaysing Average Price per Product"
   ]
  },
  {
   "cell_type": "code",
   "execution_count": 95,
   "id": "2bac85a9",
   "metadata": {
    "scrolled": true
   },
   "outputs": [
    {
     "data": {
      "image/png": "[encoded data removed]",
      "text/plain": [
       "<Figure size 1080x288 with 1 Axes>"
      ]
     },
     "metadata": {
      "needs_background": "light"
     },
     "output_type": "display_data"
    }
   ],
   "source": [
    "df_ = data_frame(df, 'City','avgPricePerProduct')\n",
    "\n",
    "x = list(df_.sort_values(by = 'avgPricePerProduct', ascending = False)['City'])\n",
    "y = list(df_.sort_values(by = 'avgPricePerProduct', ascending = False)['avgPricePerProduct'])\n",
    "\n",
    "y_ = []\n",
    "\n",
    "for i in y:                               # Defined Minimum as 160\n",
    "    y_.append(round(i - 160,2))    \n",
    "\n",
    "fig, axs = plt.subplots(figsize = (15,4))\n",
    "\n",
    "axs.bar(x,y_)\n",
    "\n",
    "plt.title('Number of avgPricePerProduct from Each City')\n",
    "plt.xlabel('City')\n",
    "plt.ylabel('avgPricePerProduct')\n",
    "\n",
    "plt.show()"
   ]
  },
  {
   "cell_type": "markdown",
   "id": "9daffbe8",
   "metadata": {},
   "source": [
    "#### 1.7) Anlaysing Average Price per Order"
   ]
  },
  {
   "cell_type": "code",
   "execution_count": 100,
   "id": "b3dc3a62",
   "metadata": {},
   "outputs": [
    {
     "data": {
      "image/png": "[encoded data removed]",
      "text/plain": [
       "<Figure size 1080x288 with 1 Axes>"
      ]
     },
     "metadata": {
      "needs_background": "light"
     },
     "output_type": "display_data"
    }
   ],
   "source": [
    "df_ = data_frame(df, 'City','avgPricePerOrder')\n",
    "\n",
    "x = list(df_.sort_values(by = 'avgPricePerOrder', ascending = False)['City'])\n",
    "y = list(df_.sort_values(by = 'avgPricePerOrder', ascending = False)['avgPricePerOrder'])\n",
    "\n",
    "\n",
    "y_ = []\n",
    "\n",
    "for i in y:                               # Defined Minimum as 182\n",
    "    y_.append(round(i - 182,2))\n",
    "\n",
    "fig, axs = plt.subplots(figsize = (15,4))\n",
    "\n",
    "axs.bar(x,y_)\n",
    "\n",
    "plt.title('Number of avgPricePerOrder from Each City')\n",
    "plt.xlabel('City')\n",
    "plt.ylabel('avgPricePerOrder')\n",
    "\n",
    "plt.show()"
   ]
  },
  {
   "cell_type": "code",
   "execution_count": 102,
   "id": "34673c76",
   "metadata": {},
   "outputs": [],
   "source": [
    "df.to_csv('City-v2.csv', index = False)"
   ]
  },
  {
   "cell_type": "markdown",
   "id": "a794bb4e",
   "metadata": {},
   "source": [
    "## 2) Products"
   ]
  },
  {
   "cell_type": "code",
   "execution_count": 104,
   "id": "e7ad6d23",
   "metadata": {
    "scrolled": true
   },
   "outputs": [
    {
     "data": {
      "text/html": [
       "<div>\n",
       "<style scoped>\n",
       "    .dataframe tbody tr th:only-of-type {\n",
       "        vertical-align: middle;\n",
       "    }\n",
       "\n",
       "    .dataframe tbody tr th {\n",
       "        vertical-align: top;\n",
       "    }\n",
       "\n",
       "    .dataframe thead th {\n",
       "        text-align: right;\n",
       "    }\n",
       "</style>\n",
       "<table border=\"1\" class=\"dataframe\">\n",
       "  <thead>\n",
       "    <tr style=\"text-align: right;\">\n",
       "      <th></th>\n",
       "      <th>Name</th>\n",
       "      <th>Price</th>\n",
       "      <th>Orders</th>\n",
       "      <th>Quanitity</th>\n",
       "      <th>Max_quantity_per_user</th>\n",
       "      <th>Amount</th>\n",
       "    </tr>\n",
       "  </thead>\n",
       "  <tbody>\n",
       "    <tr>\n",
       "      <th>0</th>\n",
       "      <td>Wired Headphones</td>\n",
       "      <td>11.99</td>\n",
       "      <td>18882</td>\n",
       "      <td>20557</td>\n",
       "      <td>4</td>\n",
       "      <td>246478</td>\n",
       "    </tr>\n",
       "    <tr>\n",
       "      <th>1</th>\n",
       "      <td>Bose SoundSport Headphones</td>\n",
       "      <td>99.99</td>\n",
       "      <td>13325</td>\n",
       "      <td>13457</td>\n",
       "      <td>3</td>\n",
       "      <td>1345565</td>\n",
       "    </tr>\n",
       "    <tr>\n",
       "      <th>2</th>\n",
       "      <td>iPhone</td>\n",
       "      <td>700.00</td>\n",
       "      <td>6842</td>\n",
       "      <td>6849</td>\n",
       "      <td>2</td>\n",
       "      <td>4794300</td>\n",
       "    </tr>\n",
       "    <tr>\n",
       "      <th>3</th>\n",
       "      <td>AA Batteries (4-pack)</td>\n",
       "      <td>3.84</td>\n",
       "      <td>20577</td>\n",
       "      <td>27635</td>\n",
       "      <td>7</td>\n",
       "      <td>106118</td>\n",
       "    </tr>\n",
       "    <tr>\n",
       "      <th>4</th>\n",
       "      <td>34in Ultrawide Monitor</td>\n",
       "      <td>379.99</td>\n",
       "      <td>6181</td>\n",
       "      <td>6199</td>\n",
       "      <td>2</td>\n",
       "      <td>2355558</td>\n",
       "    </tr>\n",
       "  </tbody>\n",
       "</table>\n",
       "</div>"
      ],
      "text/plain": [
       "                         Name   Price  Orders  Quanitity  \\\n",
       "0            Wired Headphones   11.99   18882      20557   \n",
       "1  Bose SoundSport Headphones   99.99   13325      13457   \n",
       "2                      iPhone  700.00    6842       6849   \n",
       "3       AA Batteries (4-pack)    3.84   20577      27635   \n",
       "4      34in Ultrawide Monitor  379.99    6181       6199   \n",
       "\n",
       "   Max_quantity_per_user   Amount  \n",
       "0                      4   246478  \n",
       "1                      3  1345565  \n",
       "2                      2  4794300  \n",
       "3                      7   106118  \n",
       "4                      2  2355558  "
      ]
     },
     "execution_count": 104,
     "metadata": {},
     "output_type": "execute_result"
    }
   ],
   "source": [
    "df = pd.read_csv('Product.csv')\n",
    "df.head()"
   ]
  },
  {
   "cell_type": "markdown",
   "id": "6d0495fa",
   "metadata": {},
   "source": [
    "##### 2.1) Product Price Analysis"
   ]
  },
  {
   "cell_type": "code",
   "execution_count": 114,
   "id": "c772cbf5",
   "metadata": {},
   "outputs": [
    {
     "data": {
      "image/png": "[encoded data removed]",
      "text/plain": [
       "<Figure size 2880x288 with 1 Axes>"
      ]
     },
     "metadata": {
      "needs_background": "light"
     },
     "output_type": "display_data"
    }
   ],
   "source": [
    "df_ = data_frame(df, 'Name','Price')\n",
    "\n",
    "x = list(df_.sort_values(by = 'Price', ascending = True)['Name'])\n",
    "y = list(df_.sort_values(by = 'Price', ascending = True)['Price'])\n",
    "\n",
    "fig, axs = plt.subplots(figsize = (40,4))\n",
    "\n",
    "axs.bar(x,y)\n",
    "\n",
    "plt.title('Number of avgPricePerOrder from Each City')\n",
    "plt.xlabel('City')\n",
    "plt.ylabel('avgPricePerOrder')\n",
    "\n",
    "plt.show()"
   ]
  },
  {
   "cell_type": "code",
   "execution_count": null,
   "id": "f6feb99c",
   "metadata": {},
   "outputs": [],
   "source": []
  }
 ],
 "metadata": {
  "kernelspec": {
   "display_name": "Python 3 (ipykernel)",
   "language": "python",
   "name": "python3"
  },
  "language_info": {
   "codemirror_mode": {
    "name": "ipython",
    "version": 3
   },
   "file_extension": ".py",
   "mimetype": "text/x-python",
   "name": "python",
   "nbconvert_exporter": "python",
   "pygments_lexer": "ipython3",
   "version": "3.9.7"
  }
 },
 "nbformat": 4,
 "nbformat_minor": 5
}
