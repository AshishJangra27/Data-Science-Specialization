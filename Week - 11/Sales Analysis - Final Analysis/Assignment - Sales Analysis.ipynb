{
 "cells": [
  {
   "cell_type": "code",
   "execution_count": 1,
   "id": "b8d7cdf4",
   "metadata": {},
   "outputs": [
    {
     "data": {
      "text/html": [
       "<div>\n",
       "<style scoped>\n",
       "    .dataframe tbody tr th:only-of-type {\n",
       "        vertical-align: middle;\n",
       "    }\n",
       "\n",
       "    .dataframe tbody tr th {\n",
       "        vertical-align: top;\n",
       "    }\n",
       "\n",
       "    .dataframe thead th {\n",
       "        text-align: right;\n",
       "    }\n",
       "</style>\n",
       "<table border=\"1\" class=\"dataframe\">\n",
       "  <thead>\n",
       "    <tr style=\"text-align: right;\">\n",
       "      <th></th>\n",
       "      <th>Name</th>\n",
       "      <th>Price</th>\n",
       "      <th>Orders</th>\n",
       "      <th>Quanitity</th>\n",
       "      <th>Max_quantity_per_user</th>\n",
       "      <th>Amount</th>\n",
       "    </tr>\n",
       "  </thead>\n",
       "  <tbody>\n",
       "    <tr>\n",
       "      <th>0</th>\n",
       "      <td>Wired Headphones</td>\n",
       "      <td>11.99</td>\n",
       "      <td>18882</td>\n",
       "      <td>20557</td>\n",
       "      <td>4</td>\n",
       "      <td>246478</td>\n",
       "    </tr>\n",
       "    <tr>\n",
       "      <th>1</th>\n",
       "      <td>Bose SoundSport Headphones</td>\n",
       "      <td>99.99</td>\n",
       "      <td>13325</td>\n",
       "      <td>13457</td>\n",
       "      <td>3</td>\n",
       "      <td>1345565</td>\n",
       "    </tr>\n",
       "    <tr>\n",
       "      <th>2</th>\n",
       "      <td>iPhone</td>\n",
       "      <td>700.00</td>\n",
       "      <td>6842</td>\n",
       "      <td>6849</td>\n",
       "      <td>2</td>\n",
       "      <td>4794300</td>\n",
       "    </tr>\n",
       "    <tr>\n",
       "      <th>3</th>\n",
       "      <td>AA Batteries (4-pack)</td>\n",
       "      <td>3.84</td>\n",
       "      <td>20577</td>\n",
       "      <td>27635</td>\n",
       "      <td>7</td>\n",
       "      <td>106118</td>\n",
       "    </tr>\n",
       "    <tr>\n",
       "      <th>4</th>\n",
       "      <td>34in Ultrawide Monitor</td>\n",
       "      <td>379.99</td>\n",
       "      <td>6181</td>\n",
       "      <td>6199</td>\n",
       "      <td>2</td>\n",
       "      <td>2355558</td>\n",
       "    </tr>\n",
       "  </tbody>\n",
       "</table>\n",
       "</div>"
      ],
      "text/plain": [
       "                         Name   Price  Orders  Quanitity  \\\n",
       "0            Wired Headphones   11.99   18882      20557   \n",
       "1  Bose SoundSport Headphones   99.99   13325      13457   \n",
       "2                      iPhone  700.00    6842       6849   \n",
       "3       AA Batteries (4-pack)    3.84   20577      27635   \n",
       "4      34in Ultrawide Monitor  379.99    6181       6199   \n",
       "\n",
       "   Max_quantity_per_user   Amount  \n",
       "0                      4   246478  \n",
       "1                      3  1345565  \n",
       "2                      2  4794300  \n",
       "3                      7   106118  \n",
       "4                      2  2355558  "
      ]
     },
     "execution_count": 1,
     "metadata": {},
     "output_type": "execute_result"
    }
   ],
   "source": [
    "import pandas as pd\n",
    "\n",
    "import matplotlib.pyplot as plt\n",
    "\n",
    "df = pd.read_csv('Product.csv')\n",
    "df.head()"
   ]
  },
  {
   "cell_type": "code",
   "execution_count": 2,
   "id": "3c28c319",
   "metadata": {},
   "outputs": [],
   "source": [
    "def data_frame(df, x1, x2):\n",
    "    \n",
    "    x = list(df[x1])\n",
    "    y = list(df[x2])\n",
    "\n",
    "    data = []\n",
    "    \n",
    "    for i in range(len(x)):\n",
    "        data.append([x[i],y[i]])\n",
    "\n",
    "    df_ = pd.DataFrame(data, columns = [x1,x2])\n",
    "\n",
    "    return df_"
   ]
  },
  {
   "cell_type": "markdown",
   "id": "9a333d21",
   "metadata": {},
   "source": [
    "### 1.1) Name and Order Analysis"
   ]
  },
  {
   "cell_type": "code",
   "execution_count": null,
   "id": "04b972c7",
   "metadata": {},
   "outputs": [],
   "source": []
  },
  {
   "cell_type": "markdown",
   "id": "d7ef99ad",
   "metadata": {},
   "source": [
    "### 1.2) Name and Max Quantity Per User(Column) Analysis"
   ]
  },
  {
   "cell_type": "code",
   "execution_count": null,
   "id": "598c682f",
   "metadata": {},
   "outputs": [],
   "source": []
  },
  {
   "cell_type": "markdown",
   "id": "6e81f1c0",
   "metadata": {},
   "source": [
    "### 1.3) Name and Amount Analysis"
   ]
  },
  {
   "cell_type": "code",
   "execution_count": null,
   "id": "4329edf6",
   "metadata": {},
   "outputs": [],
   "source": []
  },
  {
   "cell_type": "markdown",
   "id": "b3be7a3b",
   "metadata": {},
   "source": [
    "### 1.4) Create V2 of Product.csv with Additional Information (Optional)"
   ]
  },
  {
   "cell_type": "code",
   "execution_count": null,
   "id": "40086846",
   "metadata": {},
   "outputs": [],
   "source": []
  }
 ],
 "metadata": {
  "kernelspec": {
   "display_name": "Python 3 (ipykernel)",
   "language": "python",
   "name": "python3"
  },
  "language_info": {
   "codemirror_mode": {
    "name": "ipython",
    "version": 3
   },
   "file_extension": ".py",
   "mimetype": "text/x-python",
   "name": "python",
   "nbconvert_exporter": "python",
   "pygments_lexer": "ipython3",
   "version": "3.9.7"
  }
 },
 "nbformat": 4,
 "nbformat_minor": 5
}
