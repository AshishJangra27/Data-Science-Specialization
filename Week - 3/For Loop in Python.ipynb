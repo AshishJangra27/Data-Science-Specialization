{
 "cells": [
  {
   "cell_type": "code",
   "execution_count": 6,
   "id": "54b26b81",
   "metadata": {},
   "outputs": [
    {
     "name": "stdout",
     "output_type": "stream",
     "text": [
      "Enter a number: 5\n",
      "---------------\n",
      "5 x 1 = 5\n",
      "5 x 2 = 10\n",
      "5 x 3 = 15\n",
      "5 x 4 = 20\n",
      "5 x 5 = 25\n",
      "5 x 6 = 30\n",
      "5 x 7 = 35\n",
      "5 x 8 = 40\n",
      "5 x 9 = 45\n",
      "5 x 10 = 50\n",
      "--------------------\n"
     ]
    }
   ],
   "source": [
    "num = int(input('Enter a number: '))\n",
    "\n",
    "print(\"-\"*15)\n",
    "print(num,\"x\", 1 ,\"=\", num*1)\n",
    "print(num,\"x\", 2 ,\"=\", num*2)\n",
    "print(num,\"x\", 3 ,\"=\", num*3)\n",
    "print(num,\"x\", 4 ,\"=\", num*4)\n",
    "print(num,\"x\", 5 ,\"=\", num*5)\n",
    "print(num,\"x\", 6 ,\"=\", num*6)\n",
    "print(num,\"x\", 7 ,\"=\", num*7)\n",
    "print(num,\"x\", 8 ,\"=\", num*8)\n",
    "print(num,\"x\", 9 ,\"=\", num*9)\n",
    "print(num,\"x\", 10,\"=\", num*10)\n",
    "print(\"-\"*20)"
   ]
  },
  {
   "cell_type": "code",
   "execution_count": 13,
   "id": "b3630cb8",
   "metadata": {},
   "outputs": [
    {
     "name": "stdout",
     "output_type": "stream",
     "text": [
      "Enter a number: 64\n",
      "--------------------\n",
      "64 x 1 = 64\n",
      "64 x 2 = 128\n",
      "64 x 3 = 192\n",
      "64 x 4 = 256\n",
      "64 x 5 = 320\n",
      "64 x 6 = 384\n",
      "64 x 7 = 448\n",
      "64 x 8 = 512\n",
      "64 x 9 = 576\n",
      "64 x 10 = 640\n",
      "--------------------\n"
     ]
    }
   ],
   "source": [
    "num = int(input(\"Enter a number: \"))\n",
    "\n",
    "print(\"-\"*20)\n",
    "for i in range(1,11):\n",
    "    print(num, \"x\", i ,\"=\", i*num)\n",
    "print(\"-\"*20)"
   ]
  },
  {
   "cell_type": "code",
   "execution_count": 19,
   "id": "77030592",
   "metadata": {},
   "outputs": [
    {
     "name": "stdout",
     "output_type": "stream",
     "text": [
      "Enter a number: 19\n",
      "--------------------\n",
      "19 x 1 = 19\n",
      "19 x 2 = 38\n",
      "19 x 3 = 57\n",
      "19 x 4 = 76\n",
      "19 x 5 = 95\n",
      "19 x 6 = 114\n",
      "19 x 7 = 133\n",
      "19 x 8 = 152\n",
      "19 x 9 = 171\n",
      "19 x 10 = 190\n",
      "--------------------\n"
     ]
    }
   ],
   "source": [
    "num = int(input(\"Enter a number: \"))\n",
    "\n",
    "print(\"-\"*20)\n",
    "for i in range(1,11):\n",
    "    print(num, \"x\", i ,\"=\", i*num)\n",
    "    \n",
    "print(\"-\"*20)"
   ]
  }
 ],
 "metadata": {
  "kernelspec": {
   "display_name": "Python 3 (ipykernel)",
   "language": "python",
   "name": "python3"
  },
  "language_info": {
   "codemirror_mode": {
    "name": "ipython",
    "version": 3
   },
   "file_extension": ".py",
   "mimetype": "text/x-python",
   "name": "python",
   "nbconvert_exporter": "python",
   "pygments_lexer": "ipython3",
   "version": "3.9.7"
  }
 },
 "nbformat": 4,
 "nbformat_minor": 5
}
