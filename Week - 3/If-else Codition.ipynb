{
 "cells": [
  {
   "cell_type": "markdown",
   "id": "5928c385",
   "metadata": {},
   "source": [
    "## 1. Checking Voting Eligibility"
   ]
  },
  {
   "cell_type": "code",
   "execution_count": 2,
   "id": "59b7d9f2",
   "metadata": {
    "scrolled": true
   },
   "outputs": [
    {
     "name": "stdout",
     "output_type": "stream",
     "text": [
      "You can vote!\n"
     ]
    }
   ],
   "source": [
    "age = 18\n",
    "\n",
    "if(age >= 18):\n",
    "    print('You can vote!')\n",
    "else:\n",
    "    print(\"You can't vote!\")"
   ]
  },
  {
   "cell_type": "markdown",
   "id": "8515be47",
   "metadata": {},
   "source": [
    "## 2. Odd/Even"
   ]
  },
  {
   "cell_type": "code",
   "execution_count": 3,
   "id": "58027760",
   "metadata": {},
   "outputs": [
    {
     "name": "stdout",
     "output_type": "stream",
     "text": [
      "Even\n"
     ]
    }
   ],
   "source": [
    "num = 20\n",
    "\n",
    "if(num%2 == 0):\n",
    "    print(\"Even\")\n",
    "else:\n",
    "    print(\"ODD\")"
   ]
  },
  {
   "cell_type": "markdown",
   "id": "c9e20629",
   "metadata": {},
   "source": [
    "## 3. Age is in range 18-25"
   ]
  },
  {
   "cell_type": "code",
   "execution_count": 6,
   "id": "c31261bc",
   "metadata": {},
   "outputs": [
    {
     "name": "stdout",
     "output_type": "stream",
     "text": [
      "Enter a number: 22\n",
      "Age is in the given range!\n"
     ]
    }
   ],
   "source": [
    "age = int(input(\"Enter a number: \"))\n",
    "\n",
    "if ((age >= 18) and (age <= 25)):\n",
    "    print('Age is in the given range!')\n",
    "else:\n",
    "    print('Age is not in the given range!')"
   ]
  },
  {
   "cell_type": "markdown",
   "id": "a2b56077",
   "metadata": {},
   "source": [
    "## 4. Grading System based on Marks"
   ]
  },
  {
   "cell_type": "code",
   "execution_count": 13,
   "id": "22501336",
   "metadata": {},
   "outputs": [
    {
     "name": "stdout",
     "output_type": "stream",
     "text": [
      "Enter your marks: 98\n",
      "A+\n"
     ]
    }
   ],
   "source": [
    "marks = int(input(\"Enter your marks: \"))\n",
    "\n",
    "if (marks > 95):\n",
    "    print(\"A+\")\n",
    "if (marks >= 90 and marks <= 95):\n",
    "    print(\"A\")\n",
    "if (marks >= 80 and marks <= 89):\n",
    "    print(\"B+\")\n",
    "if (marks >= 70 and marks <= 79):\n",
    "    print(\"B\")\n",
    "if (marks >= 60 and marks <= 69):\n",
    "    print(\"C\")\n",
    "if (marks >= 50 and marks <= 59):\n",
    "    print(\"D\")\n",
    "if (marks < 50):\n",
    "    print(\"F\")"
   ]
  }
 ],
 "metadata": {
  "kernelspec": {
   "display_name": "Python 3 (ipykernel)",
   "language": "python",
   "name": "python3"
  },
  "language_info": {
   "codemirror_mode": {
    "name": "ipython",
    "version": 3
   },
   "file_extension": ".py",
   "mimetype": "text/x-python",
   "name": "python",
   "nbconvert_exporter": "python",
   "pygments_lexer": "ipython3",
   "version": "3.9.7"
  }
 },
 "nbformat": 4,
 "nbformat_minor": 5
}
