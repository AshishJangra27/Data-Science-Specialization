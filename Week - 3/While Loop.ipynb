{
 "cells": [
  {
   "cell_type": "markdown",
   "id": "e42169fc",
   "metadata": {},
   "source": [
    "## Diff Bet For While"
   ]
  },
  {
   "cell_type": "code",
   "execution_count": 6,
   "id": "0f47fb86",
   "metadata": {},
   "outputs": [
    {
     "name": "stdout",
     "output_type": "stream",
     "text": [
      "85948438\n"
     ]
    }
   ],
   "source": [
    "password = 85948438\n",
    "\n",
    "guess = 0\n",
    "\n",
    "while(guess != password):\n",
    "    guess += 1\n",
    "    \n",
    "print(guess)"
   ]
  },
  {
   "cell_type": "code",
   "execution_count": 9,
   "id": "4796886e",
   "metadata": {},
   "outputs": [
    {
     "name": "stdout",
     "output_type": "stream",
     "text": [
      "85948438\n",
      "85948438\n"
     ]
    }
   ],
   "source": [
    "password = 85948438\n",
    "\n",
    "for i in range(9999999999):\n",
    "    if(password == i):\n",
    "        print(i)\n",
    "        break\n",
    "    \n",
    "print(guess)"
   ]
  },
  {
   "cell_type": "code",
   "execution_count": 10,
   "id": "070eb00b",
   "metadata": {},
   "outputs": [
    {
     "name": "stdout",
     "output_type": "stream",
     "text": [
      "79345\n"
     ]
    }
   ],
   "source": [
    "password = 79345\n",
    "\n",
    "guess = 0\n",
    "\n",
    "while (guess < password):\n",
    "    guess += 1\n",
    "    \n",
    "print(guess)"
   ]
  },
  {
   "cell_type": "code",
   "execution_count": null,
   "id": "4d72918c",
   "metadata": {},
   "outputs": [],
   "source": []
  }
 ],
 "metadata": {
  "kernelspec": {
   "display_name": "Python 3 (ipykernel)",
   "language": "python",
   "name": "python3"
  },
  "language_info": {
   "codemirror_mode": {
    "name": "ipython",
    "version": 3
   },
   "file_extension": ".py",
   "mimetype": "text/x-python",
   "name": "python",
   "nbconvert_exporter": "python",
   "pygments_lexer": "ipython3",
   "version": "3.9.7"
  }
 },
 "nbformat": 4,
 "nbformat_minor": 5
}
