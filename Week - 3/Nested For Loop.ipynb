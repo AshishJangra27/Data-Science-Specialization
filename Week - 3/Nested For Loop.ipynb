{
 "cells": [
  {
   "cell_type": "markdown",
   "id": "ad8ce62e",
   "metadata": {},
   "source": [
    "## Rolling 2 Dices"
   ]
  },
  {
   "cell_type": "code",
   "execution_count": 19,
   "id": "7cb222c5",
   "metadata": {},
   "outputs": [
    {
     "name": "stdout",
     "output_type": "stream",
     "text": [
      "--------------\n",
      "( 2 , 2 , 2 )\n",
      "( 2 , 2 , 4 )\n",
      "( 2 , 2 , 6 )\n",
      "( 2 , 4 , 2 )\n",
      "( 2 , 4 , 4 )\n",
      "( 2 , 4 , 6 )\n",
      "( 2 , 6 , 2 )\n",
      "( 2 , 6 , 4 )\n",
      "( 2 , 6 , 6 )\n",
      "--------------\n",
      "--------------\n",
      "( 4 , 2 , 2 )\n",
      "( 4 , 2 , 4 )\n",
      "( 4 , 2 , 6 )\n",
      "( 4 , 4 , 2 )\n",
      "( 4 , 4 , 4 )\n",
      "( 4 , 4 , 6 )\n",
      "( 4 , 6 , 2 )\n",
      "( 4 , 6 , 4 )\n",
      "( 4 , 6 , 6 )\n",
      "--------------\n",
      "--------------\n",
      "( 6 , 2 , 2 )\n",
      "( 6 , 2 , 4 )\n",
      "( 6 , 2 , 6 )\n",
      "( 6 , 4 , 2 )\n",
      "( 6 , 4 , 4 )\n",
      "( 6 , 4 , 6 )\n",
      "( 6 , 6 , 2 )\n",
      "( 6 , 6 , 4 )\n",
      "( 6 , 6 , 6 )\n",
      "--------------\n",
      "27\n"
     ]
    }
   ],
   "source": [
    "# (1,1) ... (1,6)\n",
    "# (2,1) ... (2,6)\n",
    "# (3,1) ... (3,6)\n",
    "# (4,1) ... (4,6)\n",
    "# (5,1) ... (5,6)\n",
    "# (6,1) ... (6,6)\n",
    "\n",
    "c = 0\n",
    "\n",
    "for dice_1 in range(1,7):\n",
    "    if (dice_1%2 == 0):    \n",
    "        for dice_2 in range(1,7):\n",
    "            if (dice_2%2 == 0): \n",
    "                for dice_3 in range(1,7):\n",
    "                    if (dice_3%2 == 0): \n",
    "                        print('(',dice_1,',',dice_2,',',dice_3,')')\n",
    "                        c = c + 1\n",
    "    print(\"--------------\")\n",
    "    \n",
    "print(c)"
   ]
  },
  {
   "cell_type": "code",
   "execution_count": 20,
   "id": "246af437",
   "metadata": {},
   "outputs": [
    {
     "data": {
      "text/plain": [
       "27"
      ]
     },
     "execution_count": 20,
     "metadata": {},
     "output_type": "execute_result"
    }
   ],
   "source": [
    "c/"
   ]
  },
  {
   "cell_type": "code",
   "execution_count": 21,
   "id": "33619a69",
   "metadata": {},
   "outputs": [
    {
     "data": {
      "text/plain": [
       "216"
      ]
     },
     "execution_count": 21,
     "metadata": {},
     "output_type": "execute_result"
    }
   ],
   "source": [
    "6*6*6"
   ]
  },
  {
   "cell_type": "code",
   "execution_count": 22,
   "id": "3d722be1",
   "metadata": {},
   "outputs": [
    {
     "data": {
      "text/plain": [
       "0.125"
      ]
     },
     "execution_count": 22,
     "metadata": {},
     "output_type": "execute_result"
    }
   ],
   "source": [
    "27/216"
   ]
  },
  {
   "cell_type": "code",
   "execution_count": 24,
   "id": "483d20f8",
   "metadata": {},
   "outputs": [
    {
     "data": {
      "text/plain": [
       "0.125"
      ]
     },
     "execution_count": 24,
     "metadata": {},
     "output_type": "execute_result"
    }
   ],
   "source": [
    "1/8"
   ]
  },
  {
   "cell_type": "code",
   "execution_count": null,
   "id": "6b7253c7",
   "metadata": {},
   "outputs": [],
   "source": []
  }
 ],
 "metadata": {
  "kernelspec": {
   "display_name": "Python 3 (ipykernel)",
   "language": "python",
   "name": "python3"
  },
  "language_info": {
   "codemirror_mode": {
    "name": "ipython",
    "version": 3
   },
   "file_extension": ".py",
   "mimetype": "text/x-python",
   "name": "python",
   "nbconvert_exporter": "python",
   "pygments_lexer": "ipython3",
   "version": "3.9.7"
  }
 },
 "nbformat": 4,
 "nbformat_minor": 5
}
