{
 "cells": [
  {
   "cell_type": "markdown",
   "id": "6c108634",
   "metadata": {},
   "source": [
    "## 1) Int"
   ]
  },
  {
   "cell_type": "code",
   "execution_count": 29,
   "id": "4612bbed",
   "metadata": {
    "scrolled": true
   },
   "outputs": [
    {
     "name": "stdout",
     "output_type": "stream",
     "text": [
      "1\n",
      "-1\n",
      "0\n",
      "6849312\n"
     ]
    }
   ],
   "source": [
    "print(1)\n",
    "print(-1)\n",
    "print(0)\n",
    "print(6849312)"
   ]
  },
  {
   "cell_type": "markdown",
   "id": "7ea5fc48",
   "metadata": {},
   "source": [
    "## 2) Float"
   ]
  },
  {
   "cell_type": "code",
   "execution_count": 31,
   "id": "feb94723",
   "metadata": {
    "scrolled": true
   },
   "outputs": [
    {
     "name": "stdout",
     "output_type": "stream",
     "text": [
      "3.14\n",
      "0.01\n",
      "1.0\n",
      "-1.4357834\n"
     ]
    }
   ],
   "source": [
    "print(3.14)\n",
    "print(0.01)\n",
    "print(1.0)\n",
    "print(-1.4357834)"
   ]
  },
  {
   "cell_type": "markdown",
   "id": "21e1139e",
   "metadata": {},
   "source": [
    "## 3) String"
   ]
  },
  {
   "cell_type": "code",
   "execution_count": 44,
   "id": "7a958d99",
   "metadata": {},
   "outputs": [
    {
     "name": "stdout",
     "output_type": "stream",
     "text": [
      "Ashish\n",
      "Ashish\n",
      "Ashish fds f sdf sd fs adf jha shf sdhjb fgjd\n"
     ]
    }
   ],
   "source": [
    "print('Ashish')\n",
    "print(\"Ashish\")\n",
    "print(\"Ashish fds f sdf sd fs adf jha shf sdhjb fgjd\")"
   ]
  },
  {
   "cell_type": "markdown",
   "id": "d8cea2cc",
   "metadata": {},
   "source": [
    "## 4) Boolean"
   ]
  },
  {
   "cell_type": "code",
   "execution_count": 45,
   "id": "cb584a20",
   "metadata": {},
   "outputs": [
    {
     "data": {
      "text/plain": [
       "True"
      ]
     },
     "execution_count": 45,
     "metadata": {},
     "output_type": "execute_result"
    }
   ],
   "source": [
    "print(True)\n",
    "print(False)"
   ]
  }
 ],
 "metadata": {
  "kernelspec": {
   "display_name": "Python 3 (ipykernel)",
   "language": "python",
   "name": "python3"
  },
  "language_info": {
   "codemirror_mode": {
    "name": "ipython",
    "version": 3
   },
   "file_extension": ".py",
   "mimetype": "text/x-python",
   "name": "python",
   "nbconvert_exporter": "python",
   "pygments_lexer": "ipython3",
   "version": "3.9.7"
  }
 },
 "nbformat": 4,
 "nbformat_minor": 5
}
