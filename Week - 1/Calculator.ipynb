{
 "cells": [
  {
   "cell_type": "code",
   "execution_count": 60,
   "id": "b128f580",
   "metadata": {},
   "outputs": [],
   "source": [
    "x1 = 2\n",
    "x2 = 5"
   ]
  },
  {
   "cell_type": "code",
   "execution_count": 55,
   "id": "d2498654",
   "metadata": {},
   "outputs": [
    {
     "name": "stdout",
     "output_type": "stream",
     "text": [
      "2 + 5 = 7\n",
      "2 - 5 = -3\n",
      "2 * 5 = 10\n",
      "2 / 5 = 0.4\n",
      "2 // 5 = 0\n",
      "2 % 5 = 2\n",
      "2 ** 5 = 32\n"
     ]
    }
   ],
   "source": [
    "print(x1, '+'  ,x2 , \"=\" ,x1+x2 )\n",
    "print(x1, '-'  ,x2 , \"=\" ,x1-x2 )\n",
    "print(x1, '*'  ,x2 , \"=\" ,x1*x2 )\n",
    "print(x1, '/'  ,x2 , \"=\" ,x1/x2 )\n",
    "print(x1, '//' ,x2 , \"=\" ,x1//x2)\n",
    "print(x1, '%'  ,x2 , \"=\" ,x1%x2 )\n",
    "print(x1, '**' ,x2 , \"=\" ,x1**x2)"
   ]
  },
  {
   "cell_type": "code",
   "execution_count": 62,
   "id": "e40ae42b",
   "metadata": {},
   "outputs": [
    {
     "data": {
      "text/plain": [
       "2"
      ]
     },
     "execution_count": 62,
     "metadata": {},
     "output_type": "execute_result"
    }
   ],
   "source": [
    "x1"
   ]
  },
  {
   "cell_type": "code",
   "execution_count": 57,
   "id": "c0e48d80",
   "metadata": {},
   "outputs": [
    {
     "data": {
      "text/plain": [
       "5"
      ]
     },
     "execution_count": 57,
     "metadata": {},
     "output_type": "execute_result"
    }
   ],
   "source": [
    "x2"
   ]
  },
  {
   "cell_type": "code",
   "execution_count": 58,
   "id": "19bba7ec",
   "metadata": {},
   "outputs": [],
   "source": [
    "x1 = 50"
   ]
  },
  {
   "cell_type": "code",
   "execution_count": null,
   "id": "105248f4",
   "metadata": {},
   "outputs": [],
   "source": []
  }
 ],
 "metadata": {
  "kernelspec": {
   "display_name": "Python 3 (ipykernel)",
   "language": "python",
   "name": "python3"
  },
  "language_info": {
   "codemirror_mode": {
    "name": "ipython",
    "version": 3
   },
   "file_extension": ".py",
   "mimetype": "text/x-python",
   "name": "python",
   "nbconvert_exporter": "python",
   "pygments_lexer": "ipython3",
   "version": "3.9.7"
  }
 },
 "nbformat": 4,
 "nbformat_minor": 5
}
