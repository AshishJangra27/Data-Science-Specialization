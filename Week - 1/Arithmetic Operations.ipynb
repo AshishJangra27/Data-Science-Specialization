{
 "cells": [
  {
   "cell_type": "code",
   "execution_count": 1,
   "id": "3739e751",
   "metadata": {},
   "outputs": [
    {
     "data": {
      "text/plain": [
       "70"
      ]
     },
     "execution_count": 1,
     "metadata": {},
     "output_type": "execute_result"
    }
   ],
   "source": [
    "70"
   ]
  },
  {
   "cell_type": "code",
   "execution_count": 2,
   "id": "86b8f57b",
   "metadata": {},
   "outputs": [
    {
     "data": {
      "text/plain": [
       "30"
      ]
     },
     "execution_count": 2,
     "metadata": {},
     "output_type": "execute_result"
    }
   ],
   "source": [
    "30"
   ]
  },
  {
   "cell_type": "markdown",
   "id": "89f7ab1b",
   "metadata": {},
   "source": [
    "## Sum(+)"
   ]
  },
  {
   "cell_type": "code",
   "execution_count": 3,
   "id": "6d68f4a2",
   "metadata": {},
   "outputs": [
    {
     "data": {
      "text/plain": [
       "100"
      ]
     },
     "execution_count": 3,
     "metadata": {},
     "output_type": "execute_result"
    }
   ],
   "source": [
    "70 + 30"
   ]
  },
  {
   "cell_type": "code",
   "execution_count": 38,
   "id": "a2196c35",
   "metadata": {},
   "outputs": [
    {
     "data": {
      "text/plain": [
       "7.91"
      ]
     },
     "execution_count": 38,
     "metadata": {},
     "output_type": "execute_result"
    }
   ],
   "source": [
    "round(3.565544 + 4.345356, 2)"
   ]
  },
  {
   "cell_type": "markdown",
   "id": "9f4a717a",
   "metadata": {},
   "source": [
    "## Sub(-)"
   ]
  },
  {
   "cell_type": "code",
   "execution_count": 4,
   "id": "d5e6bdb4",
   "metadata": {},
   "outputs": [
    {
     "data": {
      "text/plain": [
       "40"
      ]
     },
     "execution_count": 4,
     "metadata": {},
     "output_type": "execute_result"
    }
   ],
   "source": [
    "70 - 30"
   ]
  },
  {
   "cell_type": "code",
   "execution_count": 40,
   "id": "baa06520",
   "metadata": {},
   "outputs": [
    {
     "data": {
      "text/plain": [
       "1.22"
      ]
     },
     "execution_count": 40,
     "metadata": {},
     "output_type": "execute_result"
    }
   ],
   "source": [
    "round(5.565544 - 4.345356, 2)"
   ]
  },
  {
   "cell_type": "markdown",
   "id": "ef897fb8",
   "metadata": {},
   "source": [
    "## Mul(*)"
   ]
  },
  {
   "cell_type": "code",
   "execution_count": 5,
   "id": "7cc863d3",
   "metadata": {},
   "outputs": [
    {
     "data": {
      "text/plain": [
       "2100"
      ]
     },
     "execution_count": 5,
     "metadata": {},
     "output_type": "execute_result"
    }
   ],
   "source": [
    "70 * 30"
   ]
  },
  {
   "cell_type": "code",
   "execution_count": 41,
   "id": "23ab9583",
   "metadata": {},
   "outputs": [
    {
     "data": {
      "text/plain": [
       "15.493558013664"
      ]
     },
     "execution_count": 41,
     "metadata": {},
     "output_type": "execute_result"
    }
   ],
   "source": [
    "3.565544 * 4.345356"
   ]
  },
  {
   "cell_type": "markdown",
   "id": "3c2afd3a",
   "metadata": {},
   "source": [
    "## Div(/)"
   ]
  },
  {
   "cell_type": "code",
   "execution_count": 21,
   "id": "aaf68bba",
   "metadata": {},
   "outputs": [
    {
     "data": {
      "text/plain": [
       "1.5"
      ]
     },
     "execution_count": 21,
     "metadata": {},
     "output_type": "execute_result"
    }
   ],
   "source": [
    "45/30"
   ]
  },
  {
   "cell_type": "code",
   "execution_count": 44,
   "id": "1cf3c40d",
   "metadata": {},
   "outputs": [
    {
     "data": {
      "text/plain": [
       "2.25"
      ]
     },
     "execution_count": 44,
     "metadata": {},
     "output_type": "execute_result"
    }
   ],
   "source": [
    "4.5/2.0"
   ]
  },
  {
   "cell_type": "markdown",
   "id": "cb780b69",
   "metadata": {},
   "source": [
    "## Div(//) | Coeff"
   ]
  },
  {
   "cell_type": "code",
   "execution_count": 22,
   "id": "88593e24",
   "metadata": {},
   "outputs": [
    {
     "data": {
      "text/plain": [
       "1"
      ]
     },
     "execution_count": 22,
     "metadata": {},
     "output_type": "execute_result"
    }
   ],
   "source": [
    "45//30"
   ]
  },
  {
   "cell_type": "code",
   "execution_count": 46,
   "id": "ff9156ef",
   "metadata": {},
   "outputs": [
    {
     "data": {
      "text/plain": [
       "1.0"
      ]
     },
     "execution_count": 46,
     "metadata": {},
     "output_type": "execute_result"
    }
   ],
   "source": [
    "4.5//2.5"
   ]
  },
  {
   "cell_type": "markdown",
   "id": "485d232b",
   "metadata": {},
   "source": [
    "## Mod(%)"
   ]
  },
  {
   "cell_type": "code",
   "execution_count": 23,
   "id": "68401470",
   "metadata": {
    "scrolled": true
   },
   "outputs": [
    {
     "data": {
      "text/plain": [
       "15"
      ]
     },
     "execution_count": 23,
     "metadata": {},
     "output_type": "execute_result"
    }
   ],
   "source": [
    "45%30"
   ]
  },
  {
   "cell_type": "code",
   "execution_count": 48,
   "id": "cb948627",
   "metadata": {},
   "outputs": [
    {
     "data": {
      "text/plain": [
       "0.5"
      ]
     },
     "execution_count": 48,
     "metadata": {},
     "output_type": "execute_result"
    }
   ],
   "source": [
    "4.5 % 2"
   ]
  },
  {
   "cell_type": "markdown",
   "id": "21291bc9",
   "metadata": {},
   "source": [
    "## Pow(**)"
   ]
  },
  {
   "cell_type": "code",
   "execution_count": 29,
   "id": "5b92128d",
   "metadata": {},
   "outputs": [
    {
     "data": {
      "text/plain": [
       "3125"
      ]
     },
     "execution_count": 29,
     "metadata": {},
     "output_type": "execute_result"
    }
   ],
   "source": [
    "5**5"
   ]
  },
  {
   "cell_type": "code",
   "execution_count": 51,
   "id": "b2cb510b",
   "metadata": {
    "scrolled": true
   },
   "outputs": [
    {
     "data": {
      "text/plain": [
       "40.84101000000001"
      ]
     },
     "execution_count": 51,
     "metadata": {},
     "output_type": "execute_result"
    }
   ],
   "source": [
    "2.1**5"
   ]
  },
  {
   "cell_type": "code",
   "execution_count": 50,
   "id": "3086a7f3",
   "metadata": {},
   "outputs": [
    {
     "data": {
      "text/plain": [
       "32"
      ]
     },
     "execution_count": 50,
     "metadata": {},
     "output_type": "execute_result"
    }
   ],
   "source": [
    "2**5"
   ]
  },
  {
   "cell_type": "code",
   "execution_count": 58,
   "id": "4e6c33f7",
   "metadata": {},
   "outputs": [
    {
     "data": {
      "text/plain": [
       "37.78343433288728"
      ]
     },
     "execution_count": 58,
     "metadata": {},
     "output_type": "execute_result"
    }
   ],
   "source": [
    "1.01**365"
   ]
  },
  {
   "cell_type": "code",
   "execution_count": 57,
   "id": "d4f31936",
   "metadata": {},
   "outputs": [
    {
     "data": {
      "text/plain": [
       "1"
      ]
     },
     "execution_count": 57,
     "metadata": {},
     "output_type": "execute_result"
    }
   ],
   "source": [
    "1**3650"
   ]
  },
  {
   "cell_type": "code",
   "execution_count": null,
   "id": "c196726f",
   "metadata": {},
   "outputs": [],
   "source": []
  }
 ],
 "metadata": {
  "kernelspec": {
   "display_name": "Python 3 (ipykernel)",
   "language": "python",
   "name": "python3"
  },
  "language_info": {
   "codemirror_mode": {
    "name": "ipython",
    "version": 3
   },
   "file_extension": ".py",
   "mimetype": "text/x-python",
   "name": "python",
   "nbconvert_exporter": "python",
   "pygments_lexer": "ipython3",
   "version": "3.9.7"
  }
 },
 "nbformat": 4,
 "nbformat_minor": 5
}
