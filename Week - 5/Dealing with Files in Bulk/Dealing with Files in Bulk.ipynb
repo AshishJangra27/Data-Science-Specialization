{
 "cells": [
  {
   "cell_type": "markdown",
   "id": "5945492b",
   "metadata": {},
   "source": [
    "## 1. Creating Bulk Files"
   ]
  },
  {
   "cell_type": "code",
   "execution_count": 15,
   "id": "8bce7b5e",
   "metadata": {},
   "outputs": [],
   "source": [
    "for i in range(1,101):\n",
    "    \n",
    "    name = 'file/file_' + str(i) + '.txt'\n",
    "    \n",
    "    fd = open(name,'w')\n",
    "    fd.write('This is file_' + str(i))\n",
    "    fd.close()"
   ]
  },
  {
   "cell_type": "markdown",
   "id": "bbdb834d",
   "metadata": {},
   "source": [
    "## 2. Reading data from a file"
   ]
  },
  {
   "cell_type": "code",
   "execution_count": 17,
   "id": "c01172a4",
   "metadata": {},
   "outputs": [
    {
     "name": "stdout",
     "output_type": "stream",
     "text": [
      "This is file_10\n"
     ]
    }
   ],
   "source": [
    "fd = open('file/file_10.txt','r')\n",
    "\n",
    "print(fd.read())\n",
    "\n",
    "fd.close()"
   ]
  },
  {
   "cell_type": "markdown",
   "id": "11969baf",
   "metadata": {},
   "source": [
    "## 3. Reading data from bulk files - Using FileNames Loop"
   ]
  },
  {
   "cell_type": "code",
   "execution_count": 26,
   "id": "f848cbf5",
   "metadata": {},
   "outputs": [],
   "source": [
    "data = []\n",
    "\n",
    "for i in range(1,101):\n",
    "    \n",
    "    name = 'file/file_' + str(i) +'.txt'\n",
    "    \n",
    "    fd = open(name, 'r')\n",
    "    data.append([name,fd.read()])\n",
    "    fd.close()"
   ]
  },
  {
   "cell_type": "markdown",
   "id": "64d38ada",
   "metadata": {},
   "source": [
    "## 4. Reading data from bulk files - Using OS"
   ]
  },
  {
   "cell_type": "code",
   "execution_count": 37,
   "id": "6f35e073",
   "metadata": {},
   "outputs": [],
   "source": [
    "import os\n",
    "\n",
    "data = []\n",
    "\n",
    "files = os.listdir('file')\n",
    "\n",
    "for file in files:\n",
    "    name = 'file/' + file  \n",
    "    fd = open(name , 'r')\n",
    "    data.append([name, fd.read()])\n",
    "    fd.close()"
   ]
  },
  {
   "cell_type": "markdown",
   "id": "e4517ba3",
   "metadata": {},
   "source": [
    "## 5. Writing data of all files in Single File - (Writing Directly in TextFile)"
   ]
  },
  {
   "cell_type": "code",
   "execution_count": 47,
   "id": "819c3224",
   "metadata": {},
   "outputs": [],
   "source": [
    "fd_ = open('main.txt','a')\n",
    "\n",
    "for i in range(1,101):\n",
    "    \n",
    "    name = 'file/file_' + str(i) +'.txt'\n",
    "    \n",
    "    fd = open(name, 'r')\n",
    "    fd_.write(fd.read())\n",
    "    fd_.write('\\n')\n",
    "    fd.close()\n",
    "    \n",
    "fd_.close()"
   ]
  },
  {
   "cell_type": "markdown",
   "id": "7f6a3d85",
   "metadata": {},
   "source": [
    "## 6. Writing data of all files in Single File - (Writing through String)"
   ]
  },
  {
   "cell_type": "code",
   "execution_count": 51,
   "id": "b0c15182",
   "metadata": {},
   "outputs": [],
   "source": [
    "text = ''\n",
    "\n",
    "for i in range(1,101):\n",
    "    \n",
    "    name = 'file/file_' + str(i) +'.txt'\n",
    "    \n",
    "    fd = open(name, 'r')\n",
    "    text += fd.read()\n",
    "    text += '\\n'\n",
    "    fd.close()"
   ]
  },
  {
   "cell_type": "code",
   "execution_count": 54,
   "id": "8f93cac9",
   "metadata": {},
   "outputs": [],
   "source": [
    "fd = open('main.txt','w')\n",
    "\n",
    "fd.write(text)\n",
    "\n",
    "fd.close()"
   ]
  },
  {
   "cell_type": "code",
   "execution_count": null,
   "id": "1f67129d",
   "metadata": {},
   "outputs": [],
   "source": []
  }
 ],
 "metadata": {
  "kernelspec": {
   "display_name": "Python 3 (ipykernel)",
   "language": "python",
   "name": "python3"
  },
  "language_info": {
   "codemirror_mode": {
    "name": "ipython",
    "version": 3
   },
   "file_extension": ".py",
   "mimetype": "text/x-python",
   "name": "python",
   "nbconvert_exporter": "python",
   "pygments_lexer": "ipython3",
   "version": "3.9.7"
  }
 },
 "nbformat": 4,
 "nbformat_minor": 5
}
