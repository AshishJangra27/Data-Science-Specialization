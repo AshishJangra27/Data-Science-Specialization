{
 "cells": [
  {
   "cell_type": "code",
   "execution_count": 1,
   "id": "357aebee",
   "metadata": {},
   "outputs": [],
   "source": [
    "import support"
   ]
  },
  {
   "cell_type": "code",
   "execution_count": 8,
   "id": "2bd6863a",
   "metadata": {},
   "outputs": [
    {
     "data": {
      "text/plain": [
       "'Ashish jangra'"
      ]
     },
     "execution_count": 8,
     "metadata": {},
     "output_type": "execute_result"
    }
   ],
   "source": [
    "txt = 'ashish jangra'\n",
    "\n",
    "support.capitalize_(txt)"
   ]
  },
  {
   "cell_type": "code",
   "execution_count": 11,
   "id": "3506e7e1",
   "metadata": {},
   "outputs": [
    {
     "data": {
      "text/plain": [
       "False"
      ]
     },
     "execution_count": 11,
     "metadata": {},
     "output_type": "execute_result"
    }
   ],
   "source": [
    "support.isalnum_('#')"
   ]
  },
  {
   "cell_type": "code",
   "execution_count": 14,
   "id": "df9b8adc",
   "metadata": {},
   "outputs": [
    {
     "data": {
      "text/plain": [
       "True"
      ]
     },
     "execution_count": 14,
     "metadata": {},
     "output_type": "execute_result"
    }
   ],
   "source": [
    "support.isdigit_('4')"
   ]
  },
  {
   "cell_type": "code",
   "execution_count": 15,
   "id": "8d20252b",
   "metadata": {},
   "outputs": [
    {
     "data": {
      "text/plain": [
       "'ashish jangra'"
      ]
     },
     "execution_count": 15,
     "metadata": {},
     "output_type": "execute_result"
    }
   ],
   "source": [
    "support.lower_(txt)"
   ]
  },
  {
   "cell_type": "code",
   "execution_count": 16,
   "id": "04004f31",
   "metadata": {},
   "outputs": [
    {
     "data": {
      "text/plain": [
       "'Ashish Jangra'"
      ]
     },
     "execution_count": 16,
     "metadata": {},
     "output_type": "execute_result"
    }
   ],
   "source": [
    "support.title_(txt)"
   ]
  },
  {
   "cell_type": "code",
   "execution_count": 17,
   "id": "7229b7bf",
   "metadata": {},
   "outputs": [
    {
     "data": {
      "text/plain": [
       "'ASHISH JANGRA'"
      ]
     },
     "execution_count": 17,
     "metadata": {},
     "output_type": "execute_result"
    }
   ],
   "source": [
    "support.upper_(txt)"
   ]
  },
  {
   "cell_type": "code",
   "execution_count": null,
   "id": "352d8b6e",
   "metadata": {},
   "outputs": [],
   "source": []
  }
 ],
 "metadata": {
  "kernelspec": {
   "display_name": "Python 3 (ipykernel)",
   "language": "python",
   "name": "python3"
  },
  "language_info": {
   "codemirror_mode": {
    "name": "ipython",
    "version": 3
   },
   "file_extension": ".py",
   "mimetype": "text/x-python",
   "name": "python",
   "nbconvert_exporter": "python",
   "pygments_lexer": "ipython3",
   "version": "3.9.7"
  }
 },
 "nbformat": 4,
 "nbformat_minor": 5
}
