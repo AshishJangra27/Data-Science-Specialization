{
 "cells": [
  {
   "cell_type": "markdown",
   "id": "5945492b",
   "metadata": {},
   "source": [
    "## 1. Capitalize"
   ]
  },
  {
   "cell_type": "code",
   "execution_count": 1,
   "id": "d11de3be",
   "metadata": {},
   "outputs": [
    {
     "data": {
      "text/plain": [
       "'Ashish jangra'"
      ]
     },
     "execution_count": 1,
     "metadata": {},
     "output_type": "execute_result"
    }
   ],
   "source": [
    "'ashish jangra'.capitalize()"
   ]
  },
  {
   "cell_type": "code",
   "execution_count": 2,
   "id": "2db49d7a",
   "metadata": {},
   "outputs": [
    {
     "data": {
      "text/plain": [
       "'Ashish jangra'"
      ]
     },
     "execution_count": 2,
     "metadata": {},
     "output_type": "execute_result"
    }
   ],
   "source": [
    "def capitalize_(txt):    \n",
    "    t = ''   \n",
    "    if (ord(txt[0]) >= 97 and ord(txt[0]) <= 122):         # It first character is not uppercase\n",
    "        t = chr(ord(txt[0]) - 32)                          # Converting lowercase to uppercase\n",
    "    else:\n",
    "        t = txt[0]                                         # If first character is already uppercase\n",
    "      \n",
    "    for i in txt[1:]:                                      # Characters after first character\n",
    "        if (ord(i) >= 65 and ord(i) <= 90):                # If character is uppercase\n",
    "            t += chr(ord(i) + 32)                          # Converting uppercase to lowercase           \n",
    "        else: \n",
    "            t += i                                         # Taking it as it is        \n",
    "    return t                                               # Returning the text\n",
    "\n",
    "capitalize_('ashish jangra')"
   ]
  },
  {
   "cell_type": "markdown",
   "id": "55eaee69",
   "metadata": {},
   "source": [
    "## 2. Lower"
   ]
  },
  {
   "cell_type": "code",
   "execution_count": 3,
   "id": "913b12c8",
   "metadata": {},
   "outputs": [
    {
     "data": {
      "text/plain": [
       "'ashish jangra'"
      ]
     },
     "execution_count": 3,
     "metadata": {},
     "output_type": "execute_result"
    }
   ],
   "source": [
    "'ashish Jangra'.lower()"
   ]
  },
  {
   "cell_type": "code",
   "execution_count": 4,
   "id": "d521e60a",
   "metadata": {},
   "outputs": [
    {
     "data": {
      "text/plain": [
       "'ashish jangra'"
      ]
     },
     "execution_count": 4,
     "metadata": {},
     "output_type": "execute_result"
    }
   ],
   "source": [
    "def lower_(txt):\n",
    "    \n",
    "    t = ''\n",
    "    for i in txt:\n",
    "        if (ord(i) >= 65 and ord(i) <= 90):\n",
    "            t += chr(ord(i) + 32)\n",
    "        else:\n",
    "            t += i\n",
    "    return t\n",
    "\n",
    "lower_('ashish Jangra')"
   ]
  },
  {
   "cell_type": "markdown",
   "id": "5b9175be",
   "metadata": {},
   "source": [
    "## 3. Upper"
   ]
  },
  {
   "cell_type": "code",
   "execution_count": 5,
   "id": "32a4127e",
   "metadata": {},
   "outputs": [
    {
     "data": {
      "text/plain": [
       "'ASHISH JANGRA'"
      ]
     },
     "execution_count": 5,
     "metadata": {},
     "output_type": "execute_result"
    }
   ],
   "source": [
    "'ashish Jangra'.upper()"
   ]
  },
  {
   "cell_type": "code",
   "execution_count": 6,
   "id": "69fc9154",
   "metadata": {},
   "outputs": [
    {
     "data": {
      "text/plain": [
       "'ashish jangra'"
      ]
     },
     "execution_count": 6,
     "metadata": {},
     "output_type": "execute_result"
    }
   ],
   "source": [
    "def upper_(txt):\n",
    "    \n",
    "    t = ''\n",
    "    for i in txt:\n",
    "        if (ord(i) >= 97 and ord(i) <= 122):\n",
    "            t += chr(ord(i) - 32)\n",
    "        else:\n",
    "            t += i\n",
    "    return t\n",
    "\n",
    "lower_('ashish Jangra')"
   ]
  },
  {
   "cell_type": "markdown",
   "id": "c6ddfb7d",
   "metadata": {},
   "source": [
    "## 4. isdigit"
   ]
  },
  {
   "cell_type": "code",
   "execution_count": 7,
   "id": "d125f7e6",
   "metadata": {},
   "outputs": [
    {
     "data": {
      "text/plain": [
       "True"
      ]
     },
     "execution_count": 7,
     "metadata": {},
     "output_type": "execute_result"
    }
   ],
   "source": [
    "'2'.isdigit()"
   ]
  },
  {
   "cell_type": "code",
   "execution_count": 8,
   "id": "77d67e11",
   "metadata": {},
   "outputs": [],
   "source": [
    "def isdigit_(ch):\n",
    "    \n",
    "    if (ord(ch) >= 48  and  ord(ch) <= 57):\n",
    "        return True\n",
    "    else:\n",
    "        return False"
   ]
  },
  {
   "cell_type": "markdown",
   "id": "0b87eab7",
   "metadata": {},
   "source": [
    "## 5. isalnum (If Alpha-Numeric)"
   ]
  },
  {
   "cell_type": "code",
   "execution_count": 9,
   "id": "8a7993fb",
   "metadata": {},
   "outputs": [
    {
     "data": {
      "text/plain": [
       "True"
      ]
     },
     "execution_count": 9,
     "metadata": {},
     "output_type": "execute_result"
    }
   ],
   "source": [
    "'A'.isalnum()"
   ]
  },
  {
   "cell_type": "code",
   "execution_count": 10,
   "id": "97974a3e",
   "metadata": {},
   "outputs": [
    {
     "data": {
      "text/plain": [
       "False"
      ]
     },
     "execution_count": 10,
     "metadata": {},
     "output_type": "execute_result"
    }
   ],
   "source": [
    "def isalnum_(ch):\n",
    "                    # Numeric                            Lowercase                           Uppercase\n",
    "    if (ord(ch) >= 48 and ord(ch) <= 57) or (ord(ch) >= 97 and ord(ch) <= 122) or (ord(ch) >= 65 and ord(ch) <= 90):\n",
    "        return True\n",
    "    else:\n",
    "        return False\n",
    "    \n",
    "isalnum_('@')"
   ]
  },
  {
   "cell_type": "markdown",
   "id": "9e349132",
   "metadata": {},
   "source": [
    "## 6. title"
   ]
  },
  {
   "cell_type": "code",
   "execution_count": 11,
   "id": "0a4b8ad3",
   "metadata": {},
   "outputs": [
    {
     "data": {
      "text/plain": [
       "'Ashish Jangra Is A'"
      ]
     },
     "execution_count": 11,
     "metadata": {},
     "output_type": "execute_result"
    }
   ],
   "source": [
    "'ASHish Jangra is a'.title()"
   ]
  },
  {
   "cell_type": "code",
   "execution_count": 12,
   "id": "c481671b",
   "metadata": {},
   "outputs": [
    {
     "data": {
      "text/plain": [
       "'Ashish Jangra Is A Mentor'"
      ]
     },
     "execution_count": 12,
     "metadata": {},
     "output_type": "execute_result"
    }
   ],
   "source": [
    "def title_(txt):\n",
    "    \n",
    "    t = ''\n",
    "    \n",
    "    for word in txt.split(' '):\n",
    "        \n",
    "        if (len(word) == 1):\n",
    "            t += upper_(word) + ' '\n",
    "            \n",
    "        else:\n",
    "            temp = upper_(word[0]) + word[1:] + ' '\n",
    "            t += temp\n",
    "            \n",
    "    return t[:-1]\n",
    "\n",
    "title_('Ashish Jangra is a mentor')"
   ]
  }
 ],
 "metadata": {
  "kernelspec": {
   "display_name": "Python 3 (ipykernel)",
   "language": "python",
   "name": "python3"
  },
  "language_info": {
   "codemirror_mode": {
    "name": "ipython",
    "version": 3
   },
   "file_extension": ".py",
   "mimetype": "text/x-python",
   "name": "python",
   "nbconvert_exporter": "python",
   "pygments_lexer": "ipython3",
   "version": "3.9.7"
  }
 },
 "nbformat": 4,
 "nbformat_minor": 5
}
