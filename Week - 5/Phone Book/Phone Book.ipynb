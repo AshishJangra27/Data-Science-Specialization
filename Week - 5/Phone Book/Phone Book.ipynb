{
 "cells": [
  {
   "cell_type": "markdown",
   "id": "5945492b",
   "metadata": {},
   "source": [
    "## 1. Personal Details in a file"
   ]
  },
  {
   "cell_type": "code",
   "execution_count": 294,
   "id": "763ac1a1",
   "metadata": {},
   "outputs": [
    {
     "name": "stdout",
     "output_type": "stream",
     "text": [
      "Enter your name: Ashish Jangra\n",
      "Enter your mail: ashish@gmail.com\n",
      "Enter your phone: 438593452\n",
      "Enter your age: 23\n"
     ]
    }
   ],
   "source": [
    "name  = str(input('Enter your name: '))\n",
    "email = str(input('Enter your mail: '))\n",
    "phone = int(input('Enter your phone: '))\n",
    "age   = int(input('Enter your age: '))\n",
    "\n",
    "\n",
    "fd = open(name.split(' ')[0] + '.txt','w')\n",
    "\n",
    "fd.write(name)\n",
    "fd.write('\\n')\n",
    "fd.write(email)\n",
    "fd.write('\\n')\n",
    "fd.write(str(phone))\n",
    "fd.write('\\n')\n",
    "fd.write(str(age))\n",
    "\n",
    "fd.close()"
   ]
  },
  {
   "cell_type": "markdown",
   "id": "611d9738",
   "metadata": {},
   "source": [
    "## 2. Phonebook (Adding User Details)"
   ]
  },
  {
   "cell_type": "code",
   "execution_count": 26,
   "id": "43bc92cd",
   "metadata": {},
   "outputs": [],
   "source": [
    "def check_mail(mail):\n",
    "    \n",
    "    valid = False\n",
    "    \n",
    "    if len(mail.split('@')) == 2:                                   # If @ is present\n",
    "        if(len(mail.split('@')[0]) != 0):                           # If username is there before @\n",
    "            if (len(mail.split('@')[1].split('.')) == 2):           # If . is present      \n",
    "                temp = mail.split('@')[1].split('.')             \n",
    "                if(len(temp[0]) >= 1 and len(temp[1]) >= 1):        # If prefix and postfix is present for .\n",
    "                    valid = True\n",
    "                    \n",
    "    return valid"
   ]
  },
  {
   "cell_type": "code",
   "execution_count": 27,
   "id": "8f60656e",
   "metadata": {},
   "outputs": [],
   "source": [
    "def check_phone(phone):\n",
    "    \n",
    "    phone = str(phone)    \n",
    "    c = 0\n",
    "    for i in phone:\n",
    "        if (ord(i) >= 48 and ord(i) <= 57):                        # Checking if character is a number\n",
    "            c += 1   \n",
    "    if (c == 10 and len(phone) == 10):                             # Checking if number of integres are 10\n",
    "        return True\n",
    "    else:\n",
    "        return False"
   ]
  },
  {
   "cell_type": "code",
   "execution_count": 29,
   "id": "bd1ea2dd",
   "metadata": {},
   "outputs": [
    {
     "name": "stdout",
     "output_type": "stream",
     "text": [
      "--------------------\n",
      "Enter your name: Prakash\n",
      "Enter your mail: prakash@gmail.com\n",
      "Enter your phone: 7586848586\n",
      "------------------------------\n",
      "Data saved!\n",
      "------------------------------\n"
     ]
    }
   ],
   "source": [
    "print('-'*20)\n",
    "name  = str(input('Enter your name: '))\n",
    "email = str(input('Enter your mail: '))\n",
    "phone = str(input('Enter your phone: '))\n",
    "\n",
    "\n",
    "if ((check_mail(email) == True) and (check_phone(phone) == True)):\n",
    "    \n",
    "    fd = open('Phonebook.txt','a')\n",
    "    fd.write(name)\n",
    "    fd.write(',')\n",
    "    fd.write(email)\n",
    "    fd.write(',')\n",
    "    fd.write(phone)\n",
    "    fd.write('\\n')\n",
    "    fd.close()\n",
    "    print('-'*30)\n",
    "    print('Data saved!')\n",
    "    print('-'*30)\n",
    "    \n",
    "else:\n",
    "    print('-'*30)\n",
    "    print('Please enter valid details')\n",
    "    print('Program Terminated')\n",
    "    print('-'*30)"
   ]
  },
  {
   "cell_type": "markdown",
   "id": "14642894",
   "metadata": {},
   "source": [
    "## 3. Reading Data from PhoneBook"
   ]
  },
  {
   "cell_type": "code",
   "execution_count": 35,
   "id": "5f6b326a",
   "metadata": {},
   "outputs": [
    {
     "name": "stdout",
     "output_type": "stream",
     "text": [
      "Ashish ashish@gmail.com 5673428573\n",
      "Rajat rajat@gmail.com 8365834234\n",
      "Harshit harshit@gmail.com 7849574854\n",
      "Jagdish jagdish@gmail.com 7584758495\n",
      "Prakash prakash@gmail.com 7586848586\n"
     ]
    }
   ],
   "source": [
    "fd = open('Phonebook.txt','r')\n",
    "text = fd.read()\n",
    "fd.close()\n",
    "\n",
    "users = text.split('\\n')[:-1]\n",
    "\n",
    "for user in users:\n",
    "    name = user.split(',')[0]\n",
    "    mail = user.split(',')[1]\n",
    "    cell = user.split(',')[2]\n",
    "    print(name,mail,cell)"
   ]
  },
  {
   "cell_type": "markdown",
   "id": "736267ab",
   "metadata": {},
   "source": [
    "## 4. Search Data based on Full-Name"
   ]
  },
  {
   "cell_type": "code",
   "execution_count": 41,
   "id": "e14ef737",
   "metadata": {},
   "outputs": [
    {
     "name": "stdout",
     "output_type": "stream",
     "text": [
      "Enter the name: Ashish\n",
      "--------------------\n",
      "Name     : Ashish\n",
      "Mail     : ashish@gmail.com\n",
      "Phone    : 5673428573\n",
      "--------------------\n"
     ]
    }
   ],
   "source": [
    "n = str(input('Enter the name: '))\n",
    "\n",
    "for user in users:\n",
    "    \n",
    "    name = user.split(',')[0]\n",
    "    mail = user.split(',')[1]\n",
    "    cell = user.split(',')[2]\n",
    "    \n",
    "    if (name.lower() == n.lower()):\n",
    "        print('-'*20)\n",
    "        print('Name     :', name)\n",
    "        print('Mail     :', mail)\n",
    "        print('Phone    :', cell)\n",
    "        print('-'*20)"
   ]
  },
  {
   "cell_type": "markdown",
   "id": "6687ad97",
   "metadata": {},
   "source": [
    "## 5. Search Data based on Mail-ID"
   ]
  },
  {
   "cell_type": "code",
   "execution_count": 42,
   "id": "df7291b2",
   "metadata": {},
   "outputs": [
    {
     "name": "stdout",
     "output_type": "stream",
     "text": [
      "Enter the mail: ashish@gmail.com\n",
      "--------------------\n",
      "Name     : Ashish\n",
      "Mail     : ashish@gmail.com\n",
      "Phone    : 5673428573\n",
      "--------------------\n"
     ]
    }
   ],
   "source": [
    "m = str(input('Enter the mail: '))\n",
    "\n",
    "for user in users:\n",
    "    \n",
    "    name = user.split(',')[0]\n",
    "    mail = user.split(',')[1]\n",
    "    cell = user.split(',')[2]\n",
    "    \n",
    "    if (mail.lower() == m.lower()):\n",
    "        print('-'*20)\n",
    "        print('Name     :', name)\n",
    "        print('Mail     :', mail)\n",
    "        print('Phone    :', cell)\n",
    "        print('-'*20)"
   ]
  },
  {
   "cell_type": "markdown",
   "id": "5ea38e77",
   "metadata": {},
   "source": [
    "## 6. Search data with insufficient Information (Name)"
   ]
  },
  {
   "cell_type": "code",
   "execution_count": 46,
   "id": "e6b0782b",
   "metadata": {},
   "outputs": [
    {
     "name": "stdout",
     "output_type": "stream",
     "text": [
      "Enter the mail: Ash\n",
      "--------------------\n",
      "Name     : Ashish\n",
      "Mail     : ashish@gmail.com\n",
      "Phone    : 5673428573\n",
      "--------------------\n",
      "--------------------\n",
      "Name     : Prakash\n",
      "Mail     : prakash@gmail.com\n",
      "Phone    : 7586848586\n",
      "--------------------\n"
     ]
    }
   ],
   "source": [
    "n = str(input('Enter the name: '))\n",
    "\n",
    "\n",
    "for user in users:\n",
    "    \n",
    "    name = user.split(',')[0]\n",
    "    mail = user.split(',')[1]\n",
    "    cell = user.split(',')[2]\n",
    "    \n",
    "    if (n.lower() in name.lower()):\n",
    "        print('-'*20)\n",
    "        print('Name     :', name)\n",
    "        print('Mail     :', mail)\n",
    "        print('Phone    :', cell)\n",
    "        print('-'*20)"
   ]
  },
  {
   "cell_type": "markdown",
   "id": "309cc9eb",
   "metadata": {},
   "source": [
    "## 7. Search data with insufficient Information (Phone)"
   ]
  },
  {
   "cell_type": "code",
   "execution_count": 52,
   "id": "8972b524",
   "metadata": {
    "scrolled": true
   },
   "outputs": [
    {
     "name": "stdout",
     "output_type": "stream",
     "text": [
      "Enter the phone: 95\n",
      "--------------------\n",
      "Name     : Harshit\n",
      "Mail     : harshit@gmail.com\n",
      "Phone    : 7849574854\n",
      "--------------------\n",
      "--------------------\n",
      "Name     : Jagdish\n",
      "Mail     : jagdish@gmail.com\n",
      "Phone    : 7584758495\n",
      "--------------------\n"
     ]
    }
   ],
   "source": [
    "c = str(input('Enter the phone: '))\n",
    "\n",
    "for user in users:\n",
    "    \n",
    "    name = user.split(',')[0]\n",
    "    mail = user.split(',')[1]\n",
    "    cell = user.split(',')[2]\n",
    "    \n",
    "    if (c in cell):\n",
    "        print('-'*20)\n",
    "        print('Name     :', name)\n",
    "        print('Mail     :', mail)\n",
    "        print('Phone    :', cell)\n",
    "        print('-'*20)"
   ]
  },
  {
   "cell_type": "markdown",
   "id": "33b605dd",
   "metadata": {},
   "source": [
    "## 8. Adding New User (Function)"
   ]
  },
  {
   "cell_type": "code",
   "execution_count": 53,
   "id": "069b5ebd",
   "metadata": {},
   "outputs": [],
   "source": [
    "def add_user():\n",
    "    \n",
    "    print('-'*20)\n",
    "    name  = str(input('Enter your name: '))\n",
    "    email = str(input('Enter your mail: '))\n",
    "    phone = str(input('Enter your phone: '))\n",
    "\n",
    "\n",
    "    if ((check_mail(email) == True) and (check_phone(phone) == True)):\n",
    "\n",
    "        fd = open('Phonebook.txt','a')\n",
    "        fd.write(name)\n",
    "        fd.write(',')\n",
    "        fd.write(email)\n",
    "        fd.write(',')\n",
    "        fd.write(phone)\n",
    "        fd.write('\\n')\n",
    "        fd.close()\n",
    "        print('-'*30)\n",
    "        print('Data saved!')\n",
    "        print('-'*30)\n",
    "\n",
    "    else:\n",
    "        print('-'*30)\n",
    "        print('Please enter valid details')\n",
    "        print('Program Terminated')\n",
    "        print('-'*30)"
   ]
  },
  {
   "cell_type": "code",
   "execution_count": 54,
   "id": "2e6f8500",
   "metadata": {
    "scrolled": true
   },
   "outputs": [
    {
     "name": "stdout",
     "output_type": "stream",
     "text": [
      "--------------------\n",
      "Enter your name: Ria\n",
      "Enter your mail: ria@gmail.com\n",
      "Enter your phone: 7546352435\n",
      "------------------------------\n",
      "Data saved!\n",
      "------------------------------\n"
     ]
    }
   ],
   "source": [
    "add_user()"
   ]
  },
  {
   "cell_type": "markdown",
   "id": "99b7eea1",
   "metadata": {},
   "source": [
    "## 9. Searching User based on Name"
   ]
  },
  {
   "cell_type": "code",
   "execution_count": 59,
   "id": "65129c9e",
   "metadata": {},
   "outputs": [],
   "source": [
    "def search_name(n):\n",
    "\n",
    "    \n",
    "    fd = open('Phonebook.txt','r')\n",
    "    text = fd.read()\n",
    "    fd.close()\n",
    "    users = text.split('\\n')[:-1]\n",
    "\n",
    "\n",
    "    for user in users:\n",
    "\n",
    "        name = user.split(',')[0]\n",
    "        mail = user.split(',')[1]\n",
    "        cell = user.split(',')[2]\n",
    "\n",
    "        if (n.lower() in name.lower()):\n",
    "            print('-'*20)\n",
    "            print('Name     :', name)\n",
    "            print('Mail     :', mail)\n",
    "            print('Phone    :', cell)\n",
    "            print('-'*20)"
   ]
  },
  {
   "cell_type": "code",
   "execution_count": 61,
   "id": "70c24bb4",
   "metadata": {
    "scrolled": true
   },
   "outputs": [
    {
     "name": "stdout",
     "output_type": "stream",
     "text": [
      "--------------------\n",
      "Name     : Ria\n",
      "Mail     : ria@gmail.com\n",
      "Phone    : 7546352435\n",
      "--------------------\n"
     ]
    }
   ],
   "source": [
    "search_name('Ria')"
   ]
  },
  {
   "cell_type": "code",
   "execution_count": null,
   "id": "8bce7b5e",
   "metadata": {},
   "outputs": [],
   "source": []
  }
 ],
 "metadata": {
  "kernelspec": {
   "display_name": "Python 3 (ipykernel)",
   "language": "python",
   "name": "python3"
  },
  "language_info": {
   "codemirror_mode": {
    "name": "ipython",
    "version": 3
   },
   "file_extension": ".py",
   "mimetype": "text/x-python",
   "name": "python",
   "nbconvert_exporter": "python",
   "pygments_lexer": "ipython3",
   "version": "3.9.7"
  }
 },
 "nbformat": 4,
 "nbformat_minor": 5
}
