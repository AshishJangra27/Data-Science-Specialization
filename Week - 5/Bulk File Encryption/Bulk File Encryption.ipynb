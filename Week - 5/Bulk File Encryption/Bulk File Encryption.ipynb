{
 "cells": [
  {
   "cell_type": "markdown",
   "id": "5945492b",
   "metadata": {},
   "source": [
    "## 1. Creating Bulk Files"
   ]
  },
  {
   "cell_type": "code",
   "execution_count": 55,
   "id": "8bce7b5e",
   "metadata": {},
   "outputs": [],
   "source": [
    "for i in range(1,101):\n",
    "    \n",
    "    name = 'file/file_' + str(i) + '.txt'\n",
    "    \n",
    "    fd = open(name,'w')\n",
    "    fd.write('This is file_' + str(i))\n",
    "    fd.close()"
   ]
  },
  {
   "cell_type": "markdown",
   "id": "510727ab",
   "metadata": {},
   "source": [
    "## 2. Reading data form a file"
   ]
  },
  {
   "cell_type": "code",
   "execution_count": 57,
   "id": "ad8bbd7c",
   "metadata": {},
   "outputs": [
    {
     "name": "stdout",
     "output_type": "stream",
     "text": [
      "This is file_1\n"
     ]
    }
   ],
   "source": [
    "fd = open('file/file_1.txt','r')\n",
    "\n",
    "print(fd.read())\n",
    "\n",
    "fd.close()"
   ]
  },
  {
   "cell_type": "markdown",
   "id": "02251977",
   "metadata": {},
   "source": [
    "## 3. Text Encryption"
   ]
  },
  {
   "cell_type": "code",
   "execution_count": 66,
   "id": "4492d894",
   "metadata": {},
   "outputs": [],
   "source": [
    "def encryption(txt):\n",
    "    \n",
    "    t = ''   \n",
    "    for i in txt:\n",
    "        t += chr(ord(i) + 3)\n",
    "    return t"
   ]
  },
  {
   "cell_type": "markdown",
   "id": "cb78fdb1",
   "metadata": {},
   "source": [
    "## 4. Reading and Encrypting data from bulk files"
   ]
  },
  {
   "cell_type": "code",
   "execution_count": 76,
   "id": "ea1326a6",
   "metadata": {},
   "outputs": [],
   "source": [
    "for i in range(1,101):\n",
    "    name = 'file/file_' + str(i) + '.txt'\n",
    "    \n",
    "    fd = open(name, 'r')\n",
    "    text = fd.read()\n",
    "    fd.close()\n",
    "    encryption(text)"
   ]
  },
  {
   "cell_type": "markdown",
   "id": "a6a6e578",
   "metadata": {},
   "source": [
    "## 5. Writing Encrypted data in text-files"
   ]
  },
  {
   "cell_type": "code",
   "execution_count": 77,
   "id": "ee3e86c0",
   "metadata": {},
   "outputs": [],
   "source": [
    "for i in range(1,101):\n",
    "    \n",
    "    name = 'file/file_' + str(i) + '.txt'\n",
    "    \n",
    "    fd = open(name, 'r')\n",
    "    text = fd.read()\n",
    "    fd.close()\n",
    "    \n",
    "    fd = open(name,'w')\n",
    "    fd.write(encryption(text))\n",
    "    fd.close()"
   ]
  },
  {
   "cell_type": "markdown",
   "id": "476b3c0f",
   "metadata": {},
   "source": [
    "## 6. Text Decryption"
   ]
  },
  {
   "cell_type": "code",
   "execution_count": 78,
   "id": "5c2402c2",
   "metadata": {},
   "outputs": [],
   "source": [
    "def decryption(txt):\n",
    "    \n",
    "    t = ''   \n",
    "    for i in txt:\n",
    "        t += chr(ord(i) - 3)\n",
    "    return t"
   ]
  },
  {
   "cell_type": "markdown",
   "id": "62626943",
   "metadata": {},
   "source": [
    "## 7. Decrypting the data in text-files"
   ]
  },
  {
   "cell_type": "code",
   "execution_count": 80,
   "id": "b3360b29",
   "metadata": {},
   "outputs": [],
   "source": [
    "for i in range(1,101):\n",
    "    \n",
    "    name = 'file/file_' + str(i) + '.txt'\n",
    "    \n",
    "    fd = open(name, 'r')\n",
    "    text = fd.read()\n",
    "    fd.close()\n",
    "    \n",
    "    fd = open(name, 'w')\n",
    "    fd.write(decryption(text))\n",
    "    fd.close()"
   ]
  },
  {
   "cell_type": "code",
   "execution_count": null,
   "id": "06fe7f0e",
   "metadata": {},
   "outputs": [],
   "source": []
  }
 ],
 "metadata": {
  "kernelspec": {
   "display_name": "Python 3 (ipykernel)",
   "language": "python",
   "name": "python3"
  },
  "language_info": {
   "codemirror_mode": {
    "name": "ipython",
    "version": 3
   },
   "file_extension": ".py",
   "mimetype": "text/x-python",
   "name": "python",
   "nbconvert_exporter": "python",
   "pygments_lexer": "ipython3",
   "version": "3.9.7"
  }
 },
 "nbformat": 4,
 "nbformat_minor": 5
}
