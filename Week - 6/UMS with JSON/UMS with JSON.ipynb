{
 "cells": [
  {
   "cell_type": "markdown",
   "id": "aa54dabc",
   "metadata": {},
   "source": [
    "## 1. Adding Student Details "
   ]
  },
  {
   "cell_type": "code",
   "execution_count": 7,
   "id": "fe797026",
   "metadata": {},
   "outputs": [],
   "source": [
    "import time\n",
    "import numpy as np\n",
    "from json import loads, dumps\n",
    "\n",
    "data = {}\n",
    "history = {}"
   ]
  },
  {
   "cell_type": "code",
   "execution_count": 9,
   "id": "134394ec",
   "metadata": {},
   "outputs": [
    {
     "name": "stdout",
     "output_type": "stream",
     "text": [
      "Enter your registraion no: 11602257\n",
      "Name      : Saksham\n",
      "Mail-ID   : saksham@gmail.com\n",
      "Phone No  : 7643853423\n",
      "Section   : K1632\n"
     ]
    }
   ],
   "source": [
    "reg_no = str(input('Enter your registraion no: '))\n",
    "\n",
    "name    = str(input('Name      : '))\n",
    "mail    = str(input('Mail-ID   : '))\n",
    "phone   = str(input('Phone No  : '))\n",
    "section = str(input('Section   : '))\n",
    "\n",
    "\n",
    "dct = {}\n",
    "dct['name']    = name\n",
    "dct['mail']    = mail\n",
    "dct['phone']   = phone\n",
    "dct['section'] = section\n",
    "data[reg_no] = dct"
   ]
  },
  {
   "cell_type": "code",
   "execution_count": 10,
   "id": "ab2fa229",
   "metadata": {
    "scrolled": true
   },
   "outputs": [
    {
     "data": {
      "text/plain": [
       "{'11602259': {'name': 'Ashish',\n",
       "  'mail': 'ashish@gmail.com',\n",
       "  'phone': '8457694375',\n",
       "  'section': 'K1632'},\n",
       " '11602260': {'name': 'Shivani',\n",
       "  'mail': 'shivani@gmail.com',\n",
       "  'phone': '8573495345',\n",
       "  'section': 'K1632'},\n",
       " '11602258': {'name': 'Shivam',\n",
       "  'mail': 'shivam@gmail.com',\n",
       "  'phone': '8735497534',\n",
       "  'section': 'K1632'},\n",
       " '11602257': {'name': 'Saksham',\n",
       "  'mail': 'saksham@gmail.com',\n",
       "  'phone': '7643853423',\n",
       "  'section': 'K1632'}}"
      ]
     },
     "execution_count": 10,
     "metadata": {},
     "output_type": "execute_result"
    }
   ],
   "source": [
    "data"
   ]
  },
  {
   "cell_type": "markdown",
   "id": "c4e4d1d7",
   "metadata": {},
   "source": [
    "## Saving student details in JSON file"
   ]
  },
  {
   "cell_type": "code",
   "execution_count": 15,
   "id": "24d5af1c",
   "metadata": {},
   "outputs": [],
   "source": [
    "from json import loads, dumps"
   ]
  },
  {
   "cell_type": "code",
   "execution_count": 16,
   "id": "1024c480",
   "metadata": {},
   "outputs": [
    {
     "data": {
      "text/plain": [
       "dict"
      ]
     },
     "execution_count": 16,
     "metadata": {},
     "output_type": "execute_result"
    }
   ],
   "source": [
    "type(data)"
   ]
  },
  {
   "cell_type": "code",
   "execution_count": 18,
   "id": "dc125cba",
   "metadata": {},
   "outputs": [],
   "source": [
    "txt = dumps(data)"
   ]
  },
  {
   "cell_type": "code",
   "execution_count": 21,
   "id": "bfb35034",
   "metadata": {},
   "outputs": [
    {
     "data": {
      "text/plain": [
       "'{\"11602259\": {\"name\": \"Ashish\", \"mail\": \"ashish@gmail.com\", \"phone\": \"8457694375\", \"section\": \"K1632\"}, \"11602260\": {\"name\": \"Shivani\", \"mail\": \"shivani@gmail.com\", \"phone\": \"8573495345\", \"section\": \"K1632\"}, \"11602258\": {\"name\": \"Shivam\", \"mail\": \"shivam@gmail.com\", \"phone\": \"8735497534\", \"section\": \"K1632\"}, \"11602257\": {\"name\": \"Saksham\", \"mail\": \"saksham@gmail.com\", \"phone\": \"7643853423\", \"section\": \"K1632\"}}'"
      ]
     },
     "execution_count": 21,
     "metadata": {},
     "output_type": "execute_result"
    }
   ],
   "source": [
    "txt"
   ]
  },
  {
   "cell_type": "code",
   "execution_count": 22,
   "id": "1b05c445",
   "metadata": {},
   "outputs": [],
   "source": [
    "fd = open('data.json','w')\n",
    "\n",
    "fd.write(txt)\n",
    "\n",
    "fd.close()"
   ]
  },
  {
   "cell_type": "markdown",
   "id": "ff44d497",
   "metadata": {},
   "source": [
    "## Loading the data from JSON"
   ]
  },
  {
   "cell_type": "code",
   "execution_count": 24,
   "id": "9d0dda7f",
   "metadata": {},
   "outputs": [],
   "source": [
    "fd = open('data.json','r')\n",
    "\n",
    "txt = fd.read()\n",
    "\n",
    "fd.close()"
   ]
  },
  {
   "cell_type": "markdown",
   "id": "c63434c9",
   "metadata": {},
   "source": [
    "## Adding user details in JSON Directly"
   ]
  },
  {
   "cell_type": "code",
   "execution_count": 38,
   "id": "f3d1a027",
   "metadata": {},
   "outputs": [
    {
     "name": "stdout",
     "output_type": "stream",
     "text": [
      "Enter your registraion no: 11602256\n",
      "Name      : Sahil\n",
      "Mail-ID   : sahil@gmail.com\n",
      "Phone No  : 857346957834\n",
      "Section   : K1632\n"
     ]
    }
   ],
   "source": [
    "fd = open('data.json','r')\n",
    "txt = fd.read()\n",
    "fd.close()\n",
    "data = loads(txt)\n",
    "\n",
    "\n",
    "reg_no = str(input('Enter your registraion no: '))\n",
    "name    = str(input('Name      : '))\n",
    "mail    = str(input('Mail-ID   : '))\n",
    "phone   = str(input('Phone No  : '))\n",
    "section = str(input('Section   : '))\n",
    "\n",
    "\n",
    "dct = {}\n",
    "dct['name']    = name\n",
    "dct['mail']    = mail\n",
    "dct['phone']   = phone\n",
    "dct['section'] = section\n",
    "data[reg_no] = dct\n",
    "\n",
    "\n",
    "txt = dumps(data)\n",
    "fd = open('data.json','w')\n",
    "fd.write(txt)\n",
    "fd.close()"
   ]
  },
  {
   "cell_type": "markdown",
   "id": "e5f68202",
   "metadata": {},
   "source": [
    "## Get User Details based on Reg No"
   ]
  },
  {
   "cell_type": "code",
   "execution_count": 44,
   "id": "76b582d3",
   "metadata": {
    "scrolled": true
   },
   "outputs": [
    {
     "name": "stdout",
     "output_type": "stream",
     "text": [
      "Enter the registration no: 11602258\n",
      "-----------------------------------\n",
      "Name    :  Shivam\n",
      "Mail    :  shivam@gmail.com\n",
      "Phone   :  8735497534\n",
      "Section :  K1632\n",
      "-----------------------------------\n"
     ]
    }
   ],
   "source": [
    "fd = open('data.json','r')\n",
    "txt = fd.read()\n",
    "fd.close()\n",
    "data = loads(txt)\n",
    "\n",
    "user_reg = str(input('Enter the registration no: '))\n",
    "\n",
    "print('-'*35)\n",
    "print('Name    : ', data[user_reg]['name'])\n",
    "print('Mail    : ', data[user_reg]['mail'])\n",
    "print('Phone   : ', data[user_reg]['phone'])\n",
    "print('Section : ', data[user_reg]['section'])\n",
    "print('-'*35)"
   ]
  },
  {
   "cell_type": "markdown",
   "id": "8274941f",
   "metadata": {},
   "source": [
    "## Get User Details based on Name"
   ]
  },
  {
   "cell_type": "code",
   "execution_count": 34,
   "id": "fbce6a61",
   "metadata": {},
   "outputs": [],
   "source": [
    "fd = open('data.json','r')\n",
    "txt = fd.read()\n",
    "fd.close()\n",
    "\n",
    "data = loads(txt)"
   ]
  },
  {
   "cell_type": "code",
   "execution_count": 57,
   "id": "b7b9d52c",
   "metadata": {},
   "outputs": [
    {
     "name": "stdout",
     "output_type": "stream",
     "text": [
      "Enter the name: rohit\n",
      "-----------------------------------\n",
      "Registration No :  11602255\n",
      "Name            :  Rohit\n",
      "Mail            :  rohit@gmail.com\n",
      "Phone           :  85739465343\n",
      "Section         :  K1632\n",
      "-----------------------------------\n"
     ]
    }
   ],
   "source": [
    "name = input('Enter the name: ')\n",
    "\n",
    "for key in data.keys():\n",
    "    if(name.lower() == data[key]['name'].lower()):\n",
    "        \n",
    "        print('-'*35)\n",
    "        print(\"Registration No : \", key)\n",
    "        print('Name            : ', data[key]['name'])\n",
    "        print('Mail            : ', data[key]['mail'])\n",
    "        print('Phone           : ', data[key]['phone'])\n",
    "        print('Section         : ', data[key]['section'])\n",
    "        print('-'*35)"
   ]
  },
  {
   "cell_type": "markdown",
   "id": "e25988c5",
   "metadata": {},
   "source": [
    "## Saving Search History in JSON"
   ]
  },
  {
   "cell_type": "code",
   "execution_count": 22,
   "id": "6bc52bad",
   "metadata": {},
   "outputs": [
    {
     "name": "stdout",
     "output_type": "stream",
     "text": [
      "Enter the name: Ashish\n",
      "-----------------------------------\n",
      "Registration No :  11602259\n",
      "Name            :  Ashish\n",
      "Mail            :  ashish@gmail.com\n",
      "Phone           :  8457694375\n",
      "Section         :  K1632\n",
      "-----------------------------------\n"
     ]
    }
   ],
   "source": [
    "fd = open('data.json','r')\n",
    "txt = fd.read()\n",
    "fd.close()\n",
    "data = loads(txt)\n",
    "\n",
    "name = input('Enter the name: ')\n",
    "for key in data.keys():\n",
    "    if(name.lower() == data[key]['name'].lower()):       \n",
    "        print('-'*35)\n",
    "        print(\"Registration No : \", key)\n",
    "        print('Name            : ', data[key]['name'])\n",
    "        print('Mail            : ', data[key]['mail'])\n",
    "        print('Phone           : ', data[key]['phone'])\n",
    "        print('Section         : ', data[key]['section'])\n",
    "        print('-'*35)\n",
    "\n",
    "if (name in history.keys()):      \n",
    "    history[name]['frequency'] += 1\n",
    "    history[name]['time'] = time.ctime()\n",
    "else:    \n",
    "    log = {}\n",
    "    log['time']   = time.ctime()\n",
    "    log['frequency'] = 1\n",
    "    \n",
    "history[name] = log"
   ]
  },
  {
   "cell_type": "code",
   "execution_count": 26,
   "id": "906a5dda",
   "metadata": {},
   "outputs": [],
   "source": [
    "txt = dumps(history)\n",
    "\n",
    "fd = open('History.json','w')\n",
    "fd.write(txt)\n",
    "fd.close()"
   ]
  },
  {
   "cell_type": "code",
   "execution_count": null,
   "id": "7fc68c79",
   "metadata": {},
   "outputs": [],
   "source": []
  }
 ],
 "metadata": {
  "kernelspec": {
   "display_name": "Python 3 (ipykernel)",
   "language": "python",
   "name": "python3"
  },
  "language_info": {
   "codemirror_mode": {
    "name": "ipython",
    "version": 3
   },
   "file_extension": ".py",
   "mimetype": "text/x-python",
   "name": "python",
   "nbconvert_exporter": "python",
   "pygments_lexer": "ipython3",
   "version": "3.9.7"
  }
 },
 "nbformat": 4,
 "nbformat_minor": 5
}
