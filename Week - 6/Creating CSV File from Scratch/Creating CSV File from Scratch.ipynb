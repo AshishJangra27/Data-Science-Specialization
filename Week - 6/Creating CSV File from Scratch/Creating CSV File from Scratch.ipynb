{
 "cells": [
  {
   "cell_type": "code",
   "execution_count": 15,
   "id": "f7902c56",
   "metadata": {},
   "outputs": [
    {
     "name": "stdout",
     "output_type": "stream",
     "text": [
      "Name     : Rajesh\n",
      "English  : 88\n",
      "Hindi    : 77\n",
      "Maths    : 87\n",
      "Science  : 89\n"
     ]
    }
   ],
   "source": [
    "name = str(input(\"Name     : \"))\n",
    "eng  = str(input(\"English  : \"))\n",
    "hin  = str(input(\"Hindi    : \"))\n",
    "math = str(input(\"Maths    : \"))\n",
    "sci  = str(input(\"Science  : \"))\n",
    "\n",
    "data = name +','+ eng +','+ hin +','+ math +','+ sci + '\\n'\n",
    "\n",
    "fd = open('Data.txt','a')\n",
    "fd.write(data)\n",
    "fd.close()"
   ]
  },
  {
   "cell_type": "markdown",
   "id": "79523baa",
   "metadata": {},
   "source": [
    "# 1. Converting Text file to CSV"
   ]
  },
  {
   "cell_type": "markdown",
   "id": "e2a69615",
   "metadata": {},
   "source": [
    "## 1.1) Using Terminal Command"
   ]
  },
  {
   "cell_type": "code",
   "execution_count": 21,
   "id": "385e40b2",
   "metadata": {},
   "outputs": [],
   "source": [
    "!cp Data.txt Data.csv"
   ]
  },
  {
   "cell_type": "markdown",
   "id": "40e0a581",
   "metadata": {},
   "source": [
    "## 1.2) Using OS Library"
   ]
  },
  {
   "cell_type": "code",
   "execution_count": 22,
   "id": "f825d7c4",
   "metadata": {},
   "outputs": [],
   "source": [
    "import os\n",
    "\n",
    "os.rename('Data.txt','Data.csv')"
   ]
  },
  {
   "cell_type": "markdown",
   "id": "021cfb16",
   "metadata": {},
   "source": [
    "# 2. Creating a CSV File directly"
   ]
  },
  {
   "cell_type": "code",
   "execution_count": 30,
   "id": "6a18b59e",
   "metadata": {},
   "outputs": [
    {
     "name": "stdout",
     "output_type": "stream",
     "text": [
      "Name     : \n",
      "English  : 22\n",
      "Hindi    : 23\n",
      "Maths    : 34\n",
      "Science  : 32\n"
     ]
    }
   ],
   "source": [
    "name = str(input(\"Name     : \"))\n",
    "eng  = str(input(\"English  : \"))\n",
    "hin  = str(input(\"Hindi    : \"))\n",
    "math = str(input(\"Maths    : \"))\n",
    "sci  = str(input(\"Science  : \"))\n",
    "\n",
    "data = name +','+ eng +','+ hin +','+ math +','+ sci + '\\n'\n",
    "\n",
    "fd = open('Data.csv','a')\n",
    "fd.write(data)\n",
    "fd.close()"
   ]
  },
  {
   "cell_type": "code",
   "execution_count": null,
   "id": "90c0d072",
   "metadata": {},
   "outputs": [],
   "source": []
  }
 ],
 "metadata": {
  "kernelspec": {
   "display_name": "Python 3 (ipykernel)",
   "language": "python",
   "name": "python3"
  },
  "language_info": {
   "codemirror_mode": {
    "name": "ipython",
    "version": 3
   },
   "file_extension": ".py",
   "mimetype": "text/x-python",
   "name": "python",
   "nbconvert_exporter": "python",
   "pygments_lexer": "ipython3",
   "version": "3.9.7"
  }
 },
 "nbformat": 4,
 "nbformat_minor": 5
}
