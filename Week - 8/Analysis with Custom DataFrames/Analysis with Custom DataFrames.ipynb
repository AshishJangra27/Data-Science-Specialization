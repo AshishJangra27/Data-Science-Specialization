{
 "cells": [
  {
   "cell_type": "code",
   "execution_count": 1,
   "id": "169fcc9f",
   "metadata": {},
   "outputs": [],
   "source": [
    "import numpy as np\n",
    "import pandas as pd"
   ]
  },
  {
   "cell_type": "code",
   "execution_count": 2,
   "id": "b31c62e0",
   "metadata": {},
   "outputs": [],
   "source": [
    "df = pd.read_csv('playstore.csv')"
   ]
  },
  {
   "cell_type": "code",
   "execution_count": 3,
   "id": "d9fcd6c0",
   "metadata": {
    "scrolled": false
   },
   "outputs": [
    {
     "data": {
      "text/html": [
       "<div>\n",
       "<style scoped>\n",
       "    .dataframe tbody tr th:only-of-type {\n",
       "        vertical-align: middle;\n",
       "    }\n",
       "\n",
       "    .dataframe tbody tr th {\n",
       "        vertical-align: top;\n",
       "    }\n",
       "\n",
       "    .dataframe thead th {\n",
       "        text-align: right;\n",
       "    }\n",
       "</style>\n",
       "<table border=\"1\" class=\"dataframe\">\n",
       "  <thead>\n",
       "    <tr style=\"text-align: right;\">\n",
       "      <th></th>\n",
       "      <th>app</th>\n",
       "      <th>category</th>\n",
       "      <th>rating</th>\n",
       "      <th>review</th>\n",
       "      <th>size</th>\n",
       "      <th>type</th>\n",
       "      <th>installs</th>\n",
       "      <th>price</th>\n",
       "      <th>content_rating</th>\n",
       "    </tr>\n",
       "  </thead>\n",
       "  <tbody>\n",
       "    <tr>\n",
       "      <th>0</th>\n",
       "      <td>Photo Editor &amp; Candy Camera &amp; Grid &amp; ScrapBook</td>\n",
       "      <td>ART_AND_DESIGN</td>\n",
       "      <td>4.1</td>\n",
       "      <td>159</td>\n",
       "      <td>19</td>\n",
       "      <td>Free</td>\n",
       "      <td>10000</td>\n",
       "      <td>0</td>\n",
       "      <td>Everyone</td>\n",
       "    </tr>\n",
       "    <tr>\n",
       "      <th>1</th>\n",
       "      <td>Coloring book moana</td>\n",
       "      <td>FAMILY</td>\n",
       "      <td>3.9</td>\n",
       "      <td>974</td>\n",
       "      <td>14</td>\n",
       "      <td>Free</td>\n",
       "      <td>500000</td>\n",
       "      <td>0</td>\n",
       "      <td>Everyone</td>\n",
       "    </tr>\n",
       "    <tr>\n",
       "      <th>2</th>\n",
       "      <td>U Launcher Lite – FREE Live Cool Themes, Hide ...</td>\n",
       "      <td>ART_AND_DESIGN</td>\n",
       "      <td>4.7</td>\n",
       "      <td>87510</td>\n",
       "      <td>8</td>\n",
       "      <td>Free</td>\n",
       "      <td>5000000</td>\n",
       "      <td>0</td>\n",
       "      <td>Everyone</td>\n",
       "    </tr>\n",
       "    <tr>\n",
       "      <th>3</th>\n",
       "      <td>Sketch - Draw &amp; Paint</td>\n",
       "      <td>ART_AND_DESIGN</td>\n",
       "      <td>4.5</td>\n",
       "      <td>215644</td>\n",
       "      <td>25</td>\n",
       "      <td>Free</td>\n",
       "      <td>50000000</td>\n",
       "      <td>0</td>\n",
       "      <td>Teen</td>\n",
       "    </tr>\n",
       "    <tr>\n",
       "      <th>4</th>\n",
       "      <td>Pixel Draw - Number Art Coloring Book</td>\n",
       "      <td>ART_AND_DESIGN</td>\n",
       "      <td>4.3</td>\n",
       "      <td>967</td>\n",
       "      <td>2</td>\n",
       "      <td>Free</td>\n",
       "      <td>100000</td>\n",
       "      <td>0</td>\n",
       "      <td>Everyone</td>\n",
       "    </tr>\n",
       "  </tbody>\n",
       "</table>\n",
       "</div>"
      ],
      "text/plain": [
       "                                                 app        category  rating  \\\n",
       "0     Photo Editor & Candy Camera & Grid & ScrapBook  ART_AND_DESIGN     4.1   \n",
       "1                                Coloring book moana          FAMILY     3.9   \n",
       "2  U Launcher Lite – FREE Live Cool Themes, Hide ...  ART_AND_DESIGN     4.7   \n",
       "3                              Sketch - Draw & Paint  ART_AND_DESIGN     4.5   \n",
       "4              Pixel Draw - Number Art Coloring Book  ART_AND_DESIGN     4.3   \n",
       "\n",
       "   review  size  type  installs  price content_rating  \n",
       "0     159    19  Free     10000      0       Everyone  \n",
       "1     974    14  Free    500000      0       Everyone  \n",
       "2   87510     8  Free   5000000      0       Everyone  \n",
       "3  215644    25  Free  50000000      0           Teen  \n",
       "4     967     2  Free    100000      0       Everyone  "
      ]
     },
     "execution_count": 3,
     "metadata": {},
     "output_type": "execute_result"
    }
   ],
   "source": [
    "df.head()"
   ]
  },
  {
   "cell_type": "markdown",
   "id": "778abaea",
   "metadata": {},
   "source": [
    "### 1) List top 10 apps based on their reviews with category FAMILY"
   ]
  },
  {
   "cell_type": "code",
   "execution_count": 17,
   "id": "24bb277d",
   "metadata": {},
   "outputs": [
    {
     "data": {
      "text/html": [
       "<div>\n",
       "<style scoped>\n",
       "    .dataframe tbody tr th:only-of-type {\n",
       "        vertical-align: middle;\n",
       "    }\n",
       "\n",
       "    .dataframe tbody tr th {\n",
       "        vertical-align: top;\n",
       "    }\n",
       "\n",
       "    .dataframe thead th {\n",
       "        text-align: right;\n",
       "    }\n",
       "</style>\n",
       "<table border=\"1\" class=\"dataframe\">\n",
       "  <thead>\n",
       "    <tr style=\"text-align: right;\">\n",
       "      <th></th>\n",
       "      <th>category</th>\n",
       "      <th>review</th>\n",
       "    </tr>\n",
       "  </thead>\n",
       "  <tbody>\n",
       "    <tr>\n",
       "      <th>50</th>\n",
       "      <td>Clash of Clans</td>\n",
       "      <td>44881447</td>\n",
       "    </tr>\n",
       "    <tr>\n",
       "      <th>47</th>\n",
       "      <td>Clash Royale</td>\n",
       "      <td>23125280</td>\n",
       "    </tr>\n",
       "    <tr>\n",
       "      <th>44</th>\n",
       "      <td>Candy Crush Saga</td>\n",
       "      <td>22419455</td>\n",
       "    </tr>\n",
       "    <tr>\n",
       "      <th>57</th>\n",
       "      <td>My Talking Tom</td>\n",
       "      <td>14885236</td>\n",
       "    </tr>\n",
       "    <tr>\n",
       "      <th>48</th>\n",
       "      <td>Pou</td>\n",
       "      <td>10483141</td>\n",
       "    </tr>\n",
       "    <tr>\n",
       "      <th>53</th>\n",
       "      <td>Minion Rush: Despicable Me Official Game</td>\n",
       "      <td>10214862</td>\n",
       "    </tr>\n",
       "    <tr>\n",
       "      <th>266</th>\n",
       "      <td>Hay Day</td>\n",
       "      <td>10053186</td>\n",
       "    </tr>\n",
       "    <tr>\n",
       "      <th>55</th>\n",
       "      <td>My Talking Angela</td>\n",
       "      <td>9876369</td>\n",
       "    </tr>\n",
       "    <tr>\n",
       "      <th>54</th>\n",
       "      <td>Farm Heroes Saga</td>\n",
       "      <td>7615646</td>\n",
       "    </tr>\n",
       "    <tr>\n",
       "      <th>22</th>\n",
       "      <td>Google Play Games</td>\n",
       "      <td>7168735</td>\n",
       "    </tr>\n",
       "  </tbody>\n",
       "</table>\n",
       "</div>"
      ],
      "text/plain": [
       "                                     category    review\n",
       "50                             Clash of Clans  44881447\n",
       "47                               Clash Royale  23125280\n",
       "44                           Candy Crush Saga  22419455\n",
       "57                             My Talking Tom  14885236\n",
       "48                                        Pou  10483141\n",
       "53   Minion Rush: Despicable Me Official Game  10214862\n",
       "266                                   Hay Day  10053186\n",
       "55                          My Talking Angela   9876369\n",
       "54                           Farm Heroes Saga   7615646\n",
       "22                          Google Play Games   7168735"
      ]
     },
     "execution_count": 17,
     "metadata": {},
     "output_type": "execute_result"
    }
   ],
   "source": [
    "lst = []\n",
    "\n",
    "for i in df.values:\n",
    "    if(i[1] == 'FAMILY'):\n",
    "        lst.append([i[0],i[3]])\n",
    "        \n",
    "df_pr = pd.DataFrame(lst, columns = ['category','review'])\n",
    "\n",
    "df_pr.sort_values(by = 'review', ascending = False).head(10)"
   ]
  },
  {
   "cell_type": "markdown",
   "id": "43aaadea",
   "metadata": {},
   "source": [
    "### 2) List top 5 most expensive apps in ART_AND_DESIGN"
   ]
  },
  {
   "cell_type": "code",
   "execution_count": 21,
   "id": "b6bacf70",
   "metadata": {},
   "outputs": [
    {
     "data": {
      "text/html": [
       "<div>\n",
       "<style scoped>\n",
       "    .dataframe tbody tr th:only-of-type {\n",
       "        vertical-align: middle;\n",
       "    }\n",
       "\n",
       "    .dataframe tbody tr th {\n",
       "        vertical-align: top;\n",
       "    }\n",
       "\n",
       "    .dataframe thead th {\n",
       "        text-align: right;\n",
       "    }\n",
       "</style>\n",
       "<table border=\"1\" class=\"dataframe\">\n",
       "  <thead>\n",
       "    <tr style=\"text-align: right;\">\n",
       "      <th></th>\n",
       "      <th>category</th>\n",
       "      <th>price</th>\n",
       "    </tr>\n",
       "  </thead>\n",
       "  <tbody>\n",
       "    <tr>\n",
       "      <th>50</th>\n",
       "      <td>X Launcher Prime: With OS Style Theme &amp; No Ads</td>\n",
       "      <td>149</td>\n",
       "    </tr>\n",
       "    <tr>\n",
       "      <th>49</th>\n",
       "      <td>X Launcher Pro - IOS Style Theme &amp; Control Center</td>\n",
       "      <td>149</td>\n",
       "    </tr>\n",
       "    <tr>\n",
       "      <th>48</th>\n",
       "      <td>X Launcher Pro: PhoneX Theme, OS11 Control Center</td>\n",
       "      <td>149</td>\n",
       "    </tr>\n",
       "    <tr>\n",
       "      <th>0</th>\n",
       "      <td>Photo Editor &amp; Candy Camera &amp; Grid &amp; ScrapBook</td>\n",
       "      <td>0</td>\n",
       "    </tr>\n",
       "    <tr>\n",
       "      <th>43</th>\n",
       "      <td>Little Teddy Bear Colouring Book Game</td>\n",
       "      <td>0</td>\n",
       "    </tr>\n",
       "  </tbody>\n",
       "</table>\n",
       "</div>"
      ],
      "text/plain": [
       "                                             category  price\n",
       "50     X Launcher Prime: With OS Style Theme & No Ads    149\n",
       "49  X Launcher Pro - IOS Style Theme & Control Center    149\n",
       "48  X Launcher Pro: PhoneX Theme, OS11 Control Center    149\n",
       "0      Photo Editor & Candy Camera & Grid & ScrapBook      0\n",
       "43              Little Teddy Bear Colouring Book Game      0"
      ]
     },
     "execution_count": 21,
     "metadata": {},
     "output_type": "execute_result"
    }
   ],
   "source": [
    "lst = []\n",
    "\n",
    "for i in df.values:\n",
    "    if(i[1] == 'ART_AND_DESIGN'):\n",
    "        lst.append([i[0],i[7]])\n",
    "        \n",
    "df_pr = pd.DataFrame(lst, columns = ['category','price'])\n",
    "\n",
    "df_pr.sort_values(by = 'price', ascending = False).head()"
   ]
  },
  {
   "cell_type": "markdown",
   "id": "e991742a",
   "metadata": {},
   "source": [
    "### 3) Average Price of an Application in ART_AND_DESIGN"
   ]
  },
  {
   "cell_type": "code",
   "execution_count": 24,
   "id": "26abe78f",
   "metadata": {},
   "outputs": [
    {
     "data": {
      "text/plain": [
       "7.45"
      ]
     },
     "execution_count": 24,
     "metadata": {},
     "output_type": "execute_result"
    }
   ],
   "source": [
    "lst = []\n",
    "\n",
    "for i in df.values:\n",
    "    if(i[1] == 'ART_AND_DESIGN'):\n",
    "        lst.append([i[0],i[7]])\n",
    "        \n",
    "df_pr = pd.DataFrame(lst, columns = ['category','price'])\n",
    "\n",
    "df_pr['price'].mean()"
   ]
  },
  {
   "cell_type": "markdown",
   "id": "1bf5b438",
   "metadata": {},
   "source": [
    "### 4) Average Price of application in every content_rating"
   ]
  },
  {
   "cell_type": "code",
   "execution_count": 25,
   "id": "2872e238",
   "metadata": {},
   "outputs": [
    {
     "data": {
      "text/html": [
       "<div>\n",
       "<style scoped>\n",
       "    .dataframe tbody tr th:only-of-type {\n",
       "        vertical-align: middle;\n",
       "    }\n",
       "\n",
       "    .dataframe tbody tr th {\n",
       "        vertical-align: top;\n",
       "    }\n",
       "\n",
       "    .dataframe thead th {\n",
       "        text-align: right;\n",
       "    }\n",
       "</style>\n",
       "<table border=\"1\" class=\"dataframe\">\n",
       "  <thead>\n",
       "    <tr style=\"text-align: right;\">\n",
       "      <th></th>\n",
       "      <th>app</th>\n",
       "      <th>category</th>\n",
       "      <th>rating</th>\n",
       "      <th>review</th>\n",
       "      <th>size</th>\n",
       "      <th>type</th>\n",
       "      <th>installs</th>\n",
       "      <th>price</th>\n",
       "      <th>content_rating</th>\n",
       "    </tr>\n",
       "  </thead>\n",
       "  <tbody>\n",
       "    <tr>\n",
       "      <th>0</th>\n",
       "      <td>Photo Editor &amp; Candy Camera &amp; Grid &amp; ScrapBook</td>\n",
       "      <td>ART_AND_DESIGN</td>\n",
       "      <td>4.1</td>\n",
       "      <td>159</td>\n",
       "      <td>19</td>\n",
       "      <td>Free</td>\n",
       "      <td>10000</td>\n",
       "      <td>0</td>\n",
       "      <td>Everyone</td>\n",
       "    </tr>\n",
       "    <tr>\n",
       "      <th>1</th>\n",
       "      <td>Coloring book moana</td>\n",
       "      <td>FAMILY</td>\n",
       "      <td>3.9</td>\n",
       "      <td>974</td>\n",
       "      <td>14</td>\n",
       "      <td>Free</td>\n",
       "      <td>500000</td>\n",
       "      <td>0</td>\n",
       "      <td>Everyone</td>\n",
       "    </tr>\n",
       "    <tr>\n",
       "      <th>2</th>\n",
       "      <td>U Launcher Lite – FREE Live Cool Themes, Hide ...</td>\n",
       "      <td>ART_AND_DESIGN</td>\n",
       "      <td>4.7</td>\n",
       "      <td>87510</td>\n",
       "      <td>8</td>\n",
       "      <td>Free</td>\n",
       "      <td>5000000</td>\n",
       "      <td>0</td>\n",
       "      <td>Everyone</td>\n",
       "    </tr>\n",
       "    <tr>\n",
       "      <th>3</th>\n",
       "      <td>Sketch - Draw &amp; Paint</td>\n",
       "      <td>ART_AND_DESIGN</td>\n",
       "      <td>4.5</td>\n",
       "      <td>215644</td>\n",
       "      <td>25</td>\n",
       "      <td>Free</td>\n",
       "      <td>50000000</td>\n",
       "      <td>0</td>\n",
       "      <td>Teen</td>\n",
       "    </tr>\n",
       "    <tr>\n",
       "      <th>4</th>\n",
       "      <td>Pixel Draw - Number Art Coloring Book</td>\n",
       "      <td>ART_AND_DESIGN</td>\n",
       "      <td>4.3</td>\n",
       "      <td>967</td>\n",
       "      <td>2</td>\n",
       "      <td>Free</td>\n",
       "      <td>100000</td>\n",
       "      <td>0</td>\n",
       "      <td>Everyone</td>\n",
       "    </tr>\n",
       "  </tbody>\n",
       "</table>\n",
       "</div>"
      ],
      "text/plain": [
       "                                                 app        category  rating  \\\n",
       "0     Photo Editor & Candy Camera & Grid & ScrapBook  ART_AND_DESIGN     4.1   \n",
       "1                                Coloring book moana          FAMILY     3.9   \n",
       "2  U Launcher Lite – FREE Live Cool Themes, Hide ...  ART_AND_DESIGN     4.7   \n",
       "3                              Sketch - Draw & Paint  ART_AND_DESIGN     4.5   \n",
       "4              Pixel Draw - Number Art Coloring Book  ART_AND_DESIGN     4.3   \n",
       "\n",
       "   review  size  type  installs  price content_rating  \n",
       "0     159    19  Free     10000      0       Everyone  \n",
       "1     974    14  Free    500000      0       Everyone  \n",
       "2   87510     8  Free   5000000      0       Everyone  \n",
       "3  215644    25  Free  50000000      0           Teen  \n",
       "4     967     2  Free    100000      0       Everyone  "
      ]
     },
     "execution_count": 25,
     "metadata": {},
     "output_type": "execute_result"
    }
   ],
   "source": [
    "df.head()"
   ]
  },
  {
   "cell_type": "code",
   "execution_count": 32,
   "id": "41ed67ca",
   "metadata": {},
   "outputs": [
    {
     "name": "stdout",
     "output_type": "stream",
     "text": [
      "Everyone\n",
      "Teen\n",
      "Everyone 10+\n",
      "Mature 17+\n",
      "Adults only 18+\n",
      "Unrated\n"
     ]
    }
   ],
   "source": [
    "for name in df['content_rating'].unique():\n",
    "    print(name)"
   ]
  },
  {
   "cell_type": "code",
   "execution_count": 35,
   "id": "2b5a3a4c",
   "metadata": {
    "scrolled": true
   },
   "outputs": [
    {
     "name": "stdout",
     "output_type": "stream",
     "text": [
      "Everyone  :  92\n",
      "Teen  :  47\n",
      "Everyone 10+  :  32\n",
      "Mature 17+  :  19\n",
      "Adults only 18+  :  0\n",
      "Unrated  :  0\n"
     ]
    }
   ],
   "source": [
    "for name in df['content_rating'].unique():\n",
    "    lst = []\n",
    "    for i in df.values:\n",
    "        if(i[8] == name):\n",
    "            lst.append([i[0],i[7]])\n",
    "\n",
    "    df_pr = pd.DataFrame(lst, columns = ['content_rating','price'])\n",
    "    print(name, \" : \",int(df_pr['price'].mean()))"
   ]
  },
  {
   "cell_type": "markdown",
   "id": "f6a0d0eb",
   "metadata": {},
   "source": [
    "### 5) Average Price of applicaiton in each Category"
   ]
  },
  {
   "cell_type": "code",
   "execution_count": 38,
   "id": "368753de",
   "metadata": {
    "scrolled": true
   },
   "outputs": [
    {
     "name": "stdout",
     "output_type": "stream",
     "text": [
      "ART_AND_DESIGN  :  7\n",
      "FAMILY  :  94\n",
      "AUTO_AND_VEHICLES  :  11\n",
      "BEAUTY  :  0\n",
      "BOOKS_AND_REFERENCE  :  40\n",
      "BUSINESS  :  31\n",
      "COMMUNICATION  :  19\n",
      "COMICS  :  0\n",
      "DATING  :  9\n",
      "TOOLS  :  24\n",
      "EDUCATION  :  5\n",
      "ENTERTAINMENT  :  7\n",
      "EVENTS  :  128\n",
      "FINANCE  :  630\n",
      "FOOD_AND_DRINK  :  5\n",
      "HEALTH_AND_FITNESS  :  16\n",
      "MEDICAL  :  186\n",
      "HOUSE_AND_HOME  :  0\n",
      "LIBRARIES_AND_DEMO  :  0\n",
      "LIFESTYLE  :  479\n",
      "GAME  :  23\n",
      "SPORTS  :  22\n",
      "VIDEO_PLAYERS  :  4\n",
      "SOCIAL  :  5\n",
      "SHOPPING  :  2\n",
      "PHOTOGRAPHY  :  31\n",
      "TRAVEL_AND_LOCAL  :  17\n",
      "PERSONALIZATION  :  29\n",
      "PRODUCTIVITY  :  50\n",
      "PARENTING  :  11\n",
      "WEATHER  :  30\n",
      "NEWS_AND_MAGAZINES  :  1\n",
      "MAPS_AND_NAVIGATION  :  15\n"
     ]
    }
   ],
   "source": [
    "for name in df['category'].unique():\n",
    "    lst = []\n",
    "    for i in df.values:\n",
    "        if(i[1] == name):\n",
    "            lst.append([i[0],i[7]])\n",
    "\n",
    "    df_pr = pd.DataFrame(lst, columns = ['category','price'])\n",
    "    print(name, \" : \",int(df_pr['price'].mean()))"
   ]
  },
  {
   "cell_type": "markdown",
   "id": "5fe70e90",
   "metadata": {},
   "source": [
    "### 6) Sort the Categories based on the average price of application (Top 10)"
   ]
  },
  {
   "cell_type": "code",
   "execution_count": 44,
   "id": "2e14fe3c",
   "metadata": {},
   "outputs": [],
   "source": [
    "data = []\n",
    "\n",
    "for name in df['category'].unique():\n",
    "    lst = []\n",
    "    for i in df.values:\n",
    "        if(i[1] == name):\n",
    "            lst.append([i[0],i[7]])\n",
    "\n",
    "    df_pr = pd.DataFrame(lst, columns = ['category','price'])\n",
    "    data.append([name,int(df_pr['price'].mean())])\n",
    "    \n",
    "df_pr = pd.DataFrame(data, columns= ['name','price'])"
   ]
  },
  {
   "cell_type": "code",
   "execution_count": 49,
   "id": "bca2df24",
   "metadata": {},
   "outputs": [
    {
     "data": {
      "text/html": [
       "<div>\n",
       "<style scoped>\n",
       "    .dataframe tbody tr th:only-of-type {\n",
       "        vertical-align: middle;\n",
       "    }\n",
       "\n",
       "    .dataframe tbody tr th {\n",
       "        vertical-align: top;\n",
       "    }\n",
       "\n",
       "    .dataframe thead th {\n",
       "        text-align: right;\n",
       "    }\n",
       "</style>\n",
       "<table border=\"1\" class=\"dataframe\">\n",
       "  <thead>\n",
       "    <tr style=\"text-align: right;\">\n",
       "      <th></th>\n",
       "      <th>name</th>\n",
       "      <th>price</th>\n",
       "    </tr>\n",
       "  </thead>\n",
       "  <tbody>\n",
       "    <tr>\n",
       "      <th>13</th>\n",
       "      <td>FINANCE</td>\n",
       "      <td>630</td>\n",
       "    </tr>\n",
       "    <tr>\n",
       "      <th>19</th>\n",
       "      <td>LIFESTYLE</td>\n",
       "      <td>479</td>\n",
       "    </tr>\n",
       "    <tr>\n",
       "      <th>16</th>\n",
       "      <td>MEDICAL</td>\n",
       "      <td>186</td>\n",
       "    </tr>\n",
       "    <tr>\n",
       "      <th>12</th>\n",
       "      <td>EVENTS</td>\n",
       "      <td>128</td>\n",
       "    </tr>\n",
       "    <tr>\n",
       "      <th>1</th>\n",
       "      <td>FAMILY</td>\n",
       "      <td>94</td>\n",
       "    </tr>\n",
       "    <tr>\n",
       "      <th>28</th>\n",
       "      <td>PRODUCTIVITY</td>\n",
       "      <td>50</td>\n",
       "    </tr>\n",
       "    <tr>\n",
       "      <th>4</th>\n",
       "      <td>BOOKS_AND_REFERENCE</td>\n",
       "      <td>40</td>\n",
       "    </tr>\n",
       "    <tr>\n",
       "      <th>5</th>\n",
       "      <td>BUSINESS</td>\n",
       "      <td>31</td>\n",
       "    </tr>\n",
       "    <tr>\n",
       "      <th>25</th>\n",
       "      <td>PHOTOGRAPHY</td>\n",
       "      <td>31</td>\n",
       "    </tr>\n",
       "    <tr>\n",
       "      <th>30</th>\n",
       "      <td>WEATHER</td>\n",
       "      <td>30</td>\n",
       "    </tr>\n",
       "  </tbody>\n",
       "</table>\n",
       "</div>"
      ],
      "text/plain": [
       "                   name  price\n",
       "13              FINANCE    630\n",
       "19            LIFESTYLE    479\n",
       "16              MEDICAL    186\n",
       "12               EVENTS    128\n",
       "1                FAMILY     94\n",
       "28         PRODUCTIVITY     50\n",
       "4   BOOKS_AND_REFERENCE     40\n",
       "5              BUSINESS     31\n",
       "25          PHOTOGRAPHY     31\n",
       "30              WEATHER     30"
      ]
     },
     "execution_count": 49,
     "metadata": {},
     "output_type": "execute_result"
    }
   ],
   "source": [
    "df_pr.sort_values( by = 'price', ascending = False).head(10)"
   ]
  },
  {
   "cell_type": "markdown",
   "id": "483ce14e",
   "metadata": {},
   "source": [
    "### 7) Ratio of Free vs Paid apps in Each Content Rating"
   ]
  },
  {
   "cell_type": "code",
   "execution_count": 66,
   "id": "18ebdd74",
   "metadata": {},
   "outputs": [
    {
     "name": "stdout",
     "output_type": "stream",
     "text": [
      "Everyone  :  91\n",
      "Teen  :  94\n",
      "Everyone 10+  :  90\n",
      "Mature 17+  :  95\n",
      "Adults only 18+  :  100\n",
      "Unrated  :  100\n"
     ]
    }
   ],
   "source": [
    "for name in df['content_rating'].unique():\n",
    "    \n",
    "    f = 0\n",
    "    p = 0\n",
    "\n",
    "    for i in df.values:\n",
    "        if (i[8] == name):\n",
    "            if(i[5] == 'Free'):\n",
    "                f += 1\n",
    "            else:\n",
    "                p += 1\n",
    "\n",
    "    print(name ,\" : \", int(f/(f + p) * 100))"
   ]
  },
  {
   "cell_type": "markdown",
   "id": "36e93484",
   "metadata": {},
   "source": [
    "### 8) Ratio of Free vs Paid apps in Each Category"
   ]
  },
  {
   "cell_type": "code",
   "execution_count": 75,
   "id": "923e98e2",
   "metadata": {
    "scrolled": true
   },
   "outputs": [
    {
     "name": "stdout",
     "output_type": "stream",
     "text": [
      "ART_AND_DESIGN  :  95\n",
      "FAMILY  :  90\n",
      "AUTO_AND_VEHICLES  :  96\n",
      "BEAUTY  :  100\n",
      "BOOKS_AND_REFERENCE  :  87\n",
      "BUSINESS  :  97\n",
      "COMMUNICATION  :  91\n",
      "COMICS  :  100\n",
      "DATING  :  97\n",
      "TOOLS  :  90\n",
      "EDUCATION  :  98\n",
      "ENTERTAINMENT  :  97\n",
      "EVENTS  :  98\n",
      "FINANCE  :  95\n",
      "FOOD_AND_DRINK  :  98\n",
      "HEALTH_AND_FITNESS  :  94\n",
      "MEDICAL  :  79\n",
      "HOUSE_AND_HOME  :  100\n",
      "LIBRARIES_AND_DEMO  :  98\n",
      "LIFESTYLE  :  94\n",
      "GAME  :  91\n",
      "SPORTS  :  92\n",
      "VIDEO_PLAYERS  :  97\n",
      "SOCIAL  :  98\n",
      "SHOPPING  :  99\n",
      "PHOTOGRAPHY  :  93\n",
      "TRAVEL_AND_LOCAL  :  94\n",
      "PERSONALIZATION  :  78\n",
      "PRODUCTIVITY  :  92\n",
      "PARENTING  :  96\n",
      "WEATHER  :  89\n",
      "NEWS_AND_MAGAZINES  :  99\n",
      "MAPS_AND_NAVIGATION  :  96\n"
     ]
    }
   ],
   "source": [
    "for name in df['category'].unique():\n",
    "    \n",
    "    f = 0\n",
    "    p = 0\n",
    "\n",
    "    for i in df.values:\n",
    "        if (i[1] == name):\n",
    "            if(i[5] == 'Free'):\n",
    "                f += 1\n",
    "            else:\n",
    "                p += 1\n",
    "                \n",
    "    print(name ,\" : \", int(f/(f + p) * 100))"
   ]
  },
  {
   "cell_type": "markdown",
   "id": "b6f3e4db",
   "metadata": {},
   "source": [
    "### 9) Top 5 Categories in terms of free vs paid app ratio"
   ]
  },
  {
   "cell_type": "code",
   "execution_count": 90,
   "id": "5504a9d4",
   "metadata": {},
   "outputs": [],
   "source": [
    "lst = []\n",
    "\n",
    "for name in df['category'].unique():\n",
    "    \n",
    "    f = 0\n",
    "    p = 0\n",
    "\n",
    "    for i in df.values:\n",
    "        if (i[1] == name):\n",
    "            if(i[5] == 'Free'):\n",
    "                f += 1\n",
    "            else:\n",
    "                p += 1\n",
    "                \n",
    "    lst.append([name , int(f/(f + p) * 100)])\n",
    "    \n",
    "df_pr = pd.DataFrame(lst , columns = ['category', 'ratio'])"
   ]
  },
  {
   "cell_type": "code",
   "execution_count": 94,
   "id": "7ebac310",
   "metadata": {},
   "outputs": [
    {
     "data": {
      "text/html": [
       "<div>\n",
       "<style scoped>\n",
       "    .dataframe tbody tr th:only-of-type {\n",
       "        vertical-align: middle;\n",
       "    }\n",
       "\n",
       "    .dataframe tbody tr th {\n",
       "        vertical-align: top;\n",
       "    }\n",
       "\n",
       "    .dataframe thead th {\n",
       "        text-align: right;\n",
       "    }\n",
       "</style>\n",
       "<table border=\"1\" class=\"dataframe\">\n",
       "  <thead>\n",
       "    <tr style=\"text-align: right;\">\n",
       "      <th></th>\n",
       "      <th>category</th>\n",
       "      <th>ratio</th>\n",
       "    </tr>\n",
       "  </thead>\n",
       "  <tbody>\n",
       "    <tr>\n",
       "      <th>3</th>\n",
       "      <td>BEAUTY</td>\n",
       "      <td>100</td>\n",
       "    </tr>\n",
       "    <tr>\n",
       "      <th>7</th>\n",
       "      <td>COMICS</td>\n",
       "      <td>100</td>\n",
       "    </tr>\n",
       "    <tr>\n",
       "      <th>17</th>\n",
       "      <td>HOUSE_AND_HOME</td>\n",
       "      <td>100</td>\n",
       "    </tr>\n",
       "    <tr>\n",
       "      <th>31</th>\n",
       "      <td>NEWS_AND_MAGAZINES</td>\n",
       "      <td>99</td>\n",
       "    </tr>\n",
       "    <tr>\n",
       "      <th>24</th>\n",
       "      <td>SHOPPING</td>\n",
       "      <td>99</td>\n",
       "    </tr>\n",
       "  </tbody>\n",
       "</table>\n",
       "</div>"
      ],
      "text/plain": [
       "              category  ratio\n",
       "3               BEAUTY    100\n",
       "7               COMICS    100\n",
       "17      HOUSE_AND_HOME    100\n",
       "31  NEWS_AND_MAGAZINES     99\n",
       "24            SHOPPING     99"
      ]
     },
     "execution_count": 94,
     "metadata": {},
     "output_type": "execute_result"
    }
   ],
   "source": [
    "df_pr.sort_values( by = 'ratio', ascending = False).head()"
   ]
  },
  {
   "cell_type": "markdown",
   "id": "587b15dd",
   "metadata": {},
   "source": [
    "### 10) Frequency of apps in each rating"
   ]
  },
  {
   "cell_type": "code",
   "execution_count": 95,
   "id": "458351c0",
   "metadata": {},
   "outputs": [
    {
     "data": {
      "text/html": [
       "<div>\n",
       "<style scoped>\n",
       "    .dataframe tbody tr th:only-of-type {\n",
       "        vertical-align: middle;\n",
       "    }\n",
       "\n",
       "    .dataframe tbody tr th {\n",
       "        vertical-align: top;\n",
       "    }\n",
       "\n",
       "    .dataframe thead th {\n",
       "        text-align: right;\n",
       "    }\n",
       "</style>\n",
       "<table border=\"1\" class=\"dataframe\">\n",
       "  <thead>\n",
       "    <tr style=\"text-align: right;\">\n",
       "      <th></th>\n",
       "      <th>app</th>\n",
       "      <th>category</th>\n",
       "      <th>rating</th>\n",
       "      <th>review</th>\n",
       "      <th>size</th>\n",
       "      <th>type</th>\n",
       "      <th>installs</th>\n",
       "      <th>price</th>\n",
       "      <th>content_rating</th>\n",
       "    </tr>\n",
       "  </thead>\n",
       "  <tbody>\n",
       "    <tr>\n",
       "      <th>0</th>\n",
       "      <td>Photo Editor &amp; Candy Camera &amp; Grid &amp; ScrapBook</td>\n",
       "      <td>ART_AND_DESIGN</td>\n",
       "      <td>4.1</td>\n",
       "      <td>159</td>\n",
       "      <td>19</td>\n",
       "      <td>Free</td>\n",
       "      <td>10000</td>\n",
       "      <td>0</td>\n",
       "      <td>Everyone</td>\n",
       "    </tr>\n",
       "    <tr>\n",
       "      <th>1</th>\n",
       "      <td>Coloring book moana</td>\n",
       "      <td>FAMILY</td>\n",
       "      <td>3.9</td>\n",
       "      <td>974</td>\n",
       "      <td>14</td>\n",
       "      <td>Free</td>\n",
       "      <td>500000</td>\n",
       "      <td>0</td>\n",
       "      <td>Everyone</td>\n",
       "    </tr>\n",
       "    <tr>\n",
       "      <th>2</th>\n",
       "      <td>U Launcher Lite – FREE Live Cool Themes, Hide ...</td>\n",
       "      <td>ART_AND_DESIGN</td>\n",
       "      <td>4.7</td>\n",
       "      <td>87510</td>\n",
       "      <td>8</td>\n",
       "      <td>Free</td>\n",
       "      <td>5000000</td>\n",
       "      <td>0</td>\n",
       "      <td>Everyone</td>\n",
       "    </tr>\n",
       "    <tr>\n",
       "      <th>3</th>\n",
       "      <td>Sketch - Draw &amp; Paint</td>\n",
       "      <td>ART_AND_DESIGN</td>\n",
       "      <td>4.5</td>\n",
       "      <td>215644</td>\n",
       "      <td>25</td>\n",
       "      <td>Free</td>\n",
       "      <td>50000000</td>\n",
       "      <td>0</td>\n",
       "      <td>Teen</td>\n",
       "    </tr>\n",
       "    <tr>\n",
       "      <th>4</th>\n",
       "      <td>Pixel Draw - Number Art Coloring Book</td>\n",
       "      <td>ART_AND_DESIGN</td>\n",
       "      <td>4.3</td>\n",
       "      <td>967</td>\n",
       "      <td>2</td>\n",
       "      <td>Free</td>\n",
       "      <td>100000</td>\n",
       "      <td>0</td>\n",
       "      <td>Everyone</td>\n",
       "    </tr>\n",
       "  </tbody>\n",
       "</table>\n",
       "</div>"
      ],
      "text/plain": [
       "                                                 app        category  rating  \\\n",
       "0     Photo Editor & Candy Camera & Grid & ScrapBook  ART_AND_DESIGN     4.1   \n",
       "1                                Coloring book moana          FAMILY     3.9   \n",
       "2  U Launcher Lite – FREE Live Cool Themes, Hide ...  ART_AND_DESIGN     4.7   \n",
       "3                              Sketch - Draw & Paint  ART_AND_DESIGN     4.5   \n",
       "4              Pixel Draw - Number Art Coloring Book  ART_AND_DESIGN     4.3   \n",
       "\n",
       "   review  size  type  installs  price content_rating  \n",
       "0     159    19  Free     10000      0       Everyone  \n",
       "1     974    14  Free    500000      0       Everyone  \n",
       "2   87510     8  Free   5000000      0       Everyone  \n",
       "3  215644    25  Free  50000000      0           Teen  \n",
       "4     967     2  Free    100000      0       Everyone  "
      ]
     },
     "execution_count": 95,
     "metadata": {},
     "output_type": "execute_result"
    }
   ],
   "source": [
    "df.head()"
   ]
  },
  {
   "cell_type": "code",
   "execution_count": 103,
   "id": "ac790943",
   "metadata": {},
   "outputs": [
    {
     "name": "stdout",
     "output_type": "stream",
     "text": [
      "4.1 622\n",
      "3.9 359\n",
      "4.7 438\n",
      "4.5 849\n",
      "4.3 896\n",
      "4.4 2352\n",
      "3.8 287\n",
      "4.2 811\n",
      "4.6 683\n",
      "4.0 511\n",
      "4.8 220\n",
      "4.9 86\n",
      "3.6 167\n",
      "3.7 224\n",
      "3.2 62\n",
      "3.3 100\n",
      "3.4 126\n",
      "3.5 156\n",
      "3.1 69\n",
      "5.0 271\n",
      "3.0 81\n",
      "1.9 11\n",
      "2.5 20\n",
      "2.8 40\n",
      "2.7 23\n",
      "1.0 16\n",
      "2.9 45\n",
      "2.6 23\n",
      "2.3 20\n",
      "2.2 14\n",
      "1.7 8\n",
      "2.0 12\n",
      "1.8 8\n",
      "2.4 19\n",
      "1.6 4\n",
      "2.1 8\n",
      "1.4 3\n",
      "1.5 3\n",
      "1.2 1\n"
     ]
    }
   ],
   "source": [
    "for rating in df['rating'].unique():\n",
    "    c = 0\n",
    "    for i in df.values:\n",
    "        if(i[2] == rating):\n",
    "            c += 1\n",
    "    print(rating , c)"
   ]
  },
  {
   "cell_type": "markdown",
   "id": "4135ebd1",
   "metadata": {},
   "source": [
    "### 11) Frequency of apps in each rating Sorted Order by Rating"
   ]
  },
  {
   "cell_type": "code",
   "execution_count": 106,
   "id": "63e19cc0",
   "metadata": {},
   "outputs": [],
   "source": [
    "lst = []\n",
    "\n",
    "for rating in df['rating'].unique():\n",
    "    c = 0\n",
    "    for i in df.values:\n",
    "        if(i[2] == rating):\n",
    "            c += 1\n",
    "    lst.append([rating , c])\n",
    "    \n",
    "df_pr = pd.DataFrame(lst, columns = ['rating','freq'])"
   ]
  },
  {
   "cell_type": "code",
   "execution_count": 113,
   "id": "d38ec3a8",
   "metadata": {},
   "outputs": [
    {
     "data": {
      "text/plain": [
       "<AxesSubplot:>"
      ]
     },
     "execution_count": 113,
     "metadata": {},
     "output_type": "execute_result"
    },
    {
     "data": {
      "image/png": "[encoded data removed]",
      "text/plain": [
       "<Figure size 432x288 with 1 Axes>"
      ]
     },
     "metadata": {
      "needs_background": "light"
     },
     "output_type": "display_data"
    }
   ],
   "source": [
    "df_pr.sort_values(by = 'rating', ascending = True).plot(kind= 'bar')"
   ]
  },
  {
   "cell_type": "code",
   "execution_count": null,
   "id": "4967a563",
   "metadata": {},
   "outputs": [],
   "source": []
  }
 ],
 "metadata": {
  "kernelspec": {
   "display_name": "Python 3 (ipykernel)",
   "language": "python",
   "name": "python3"
  },
  "language_info": {
   "codemirror_mode": {
    "name": "ipython",
    "version": 3
   },
   "file_extension": ".py",
   "mimetype": "text/x-python",
   "name": "python",
   "nbconvert_exporter": "python",
   "pygments_lexer": "ipython3",
   "version": "3.9.7"
  }
 },
 "nbformat": 4,
 "nbformat_minor": 5
}
